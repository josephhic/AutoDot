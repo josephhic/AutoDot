{
 "cells": [
  {
   "cell_type": "code",
   "execution_count": 7,
   "metadata": {},
   "outputs": [
    {
     "data": {
      "text/plain": [
       "['/home/joseph/PycharmProjects/AutoDot/notebooks',\n",
       " '/home/joseph/anaconda3/envs/array_env/lib/python38.zip',\n",
       " '/home/joseph/anaconda3/envs/array_env/lib/python3.8',\n",
       " '/home/joseph/anaconda3/envs/array_env/lib/python3.8/lib-dynload',\n",
       " '',\n",
       " '/home/joseph/anaconda3/envs/array_env/lib/python3.8/site-packages',\n",
       " '/home/joseph/anaconda3/envs/array_env/lib/python3.8/site-packages/IPython/extensions',\n",
       " '/home/joseph/.ipython',\n",
       " './../',\n",
       " './../',\n",
       " './../',\n",
       " './../',\n",
       " './../']"
      ]
     },
     "execution_count": 7,
     "metadata": {},
     "output_type": "execute_result"
    }
   ],
   "source": [
    "sys.path"
   ]
  },
  {
   "cell_type": "code",
   "execution_count": 8,
   "metadata": {},
   "outputs": [],
   "source": [
    "import sys\n",
    "sys.path.append(\"./../../\")\n",
    "import AutoDot"
   ]
  },
  {
   "cell_type": "code",
   "execution_count": null,
   "metadata": {},
   "outputs": [],
   "source": []
  },
  {
   "cell_type": "code",
   "execution_count": 3,
   "metadata": {},
   "outputs": [
    {
     "ename": "ModuleNotFoundError",
     "evalue": "No module named 'AutoDot'",
     "output_type": "error",
     "traceback": [
      "\u001b[0;31m---------------------------------------------------------------------------\u001b[0m",
      "\u001b[0;31mModuleNotFoundError\u001b[0m                       Traceback (most recent call last)",
      "\u001b[0;32m<ipython-input-3-a74135c76539>\u001b[0m in \u001b[0;36m<module>\u001b[0;34m\u001b[0m\n\u001b[0;32m----> 1\u001b[0;31m \u001b[0;32mfrom\u001b[0m \u001b[0mAutoDot\u001b[0m\u001b[0;34m.\u001b[0m\u001b[0mtune\u001b[0m \u001b[0;32mimport\u001b[0m \u001b[0mtune_with_playground_from_file\u001b[0m\u001b[0;34m\u001b[0m\u001b[0;34m\u001b[0m\u001b[0m\n\u001b[0m\u001b[1;32m      2\u001b[0m \u001b[0;32mfrom\u001b[0m \u001b[0mAutoDot\u001b[0m\u001b[0;34m.\u001b[0m\u001b[0mcs_comp_utils\u001b[0m \u001b[0;32mimport\u001b[0m \u001b[0mgenerate_cs_data_dict\u001b[0m \u001b[0;32mas\u001b[0m \u001b[0mcomper\u001b[0m\u001b[0;34m\u001b[0m\u001b[0;34m\u001b[0m\u001b[0m\n\u001b[1;32m      3\u001b[0m \u001b[0;32mfrom\u001b[0m \u001b[0mAutoDot\u001b[0m\u001b[0;34m.\u001b[0m\u001b[0mcs_comp_utils\u001b[0m \u001b[0;32mimport\u001b[0m \u001b[0mcreate_transform_dict\u001b[0m\u001b[0;34m,\u001b[0m \u001b[0mcreate_dense_cloud\u001b[0m\u001b[0;34m\u001b[0m\u001b[0;34m\u001b[0m\u001b[0m\n",
      "\u001b[0;31mModuleNotFoundError\u001b[0m: No module named 'AutoDot'"
     ]
    }
   ],
   "source": [
    "from AutoDot.tune import tune_with_playground_from_file \n",
    "from AutoDot.cs_comp_utils import generate_cs_data_dict as comper\n",
    "from AutoDot.cs_comp_utils import create_transform_dict, create_dense_cloud\n"
   ]
  },
  {
   "cell_type": "code",
   "execution_count": null,
   "metadata": {},
   "outputs": [],
   "source": [
    "data_dict = generate_cs_data_dict(config_file)"
   ]
  },
  {
   "cell_type": "code",
   "execution_count": null,
   "metadata": {},
   "outputs": [],
   "source": []
  },
  {
   "cell_type": "code",
   "execution_count": 1,
   "metadata": {},
   "outputs": [],
   "source": [
    "import sys\n",
    "sys.path.append('./../..')\n",
    "import pickle as pkl\n",
    "\n"
   ]
  },
  {
   "cell_type": "code",
   "execution_count": 2,
   "metadata": {
    "scrolled": true
   },
   "outputs": [],
   "source": [
    "from AutoDot.cs_comp_utils import generate_cs_data_dict as comper\n",
    "from AutoDot.cs_comp_utils import create_transform_dict, create_dense_cloud\n",
    "from AutoDot.tune import tune_with_playground_from_file as t\n"
   ]
  },
  {
   "cell_type": "code",
   "execution_count": 3,
   "metadata": {},
   "outputs": [],
   "source": [
    "#config_file = './../cs_comp_config.json'\n",
    "config_file = './../mock_device_demo_config.json'\n",
    "#config_file = './../test.json'"
   ]
  },
  {
   "cell_type": "code",
   "execution_count": null,
   "metadata": {
    "scrolled": false
   },
   "outputs": [
    {
     "name": "stderr",
     "output_type": "stream",
     "text": [
      "14:24:09.985  {indexable} [_add_to_index_operations] -- WARNING: reconstraining parameters basic.lengthscale\n",
      "14:24:09.986  {indexable} [_add_to_index_operations] -- WARNING: reconstraining parameters basic.lengthscale\n",
      "14:24:09.988  {indexable} [_add_to_index_operations] -- WARNING: reconstraining parameters basic.lengthscale\n",
      "14:24:09.995  {indexable} [_add_to_index_operations] -- WARNING: reconstraining parameters sum.basic.lengthscale\n",
      "14:24:09.997  {indexable} [_add_to_index_operations] -- WARNING: reconstraining parameters sum.basic.lengthscale\n",
      "14:24:09.998  {indexable} [_add_to_index_operations] -- WARNING: reconstraining parameters sum.basic.lengthscale\n",
      "14:24:09.999  {indexable} [_add_to_index_operations] -- WARNING: reconstraining parameters sum.basic.variance\n",
      "14:24:10.007  {indexable} [_add_to_index_operations] -- WARNING: reconstraining parameters sum.basic.lengthscale\n",
      "14:24:10.009  {indexable} [_add_to_index_operations] -- WARNING: reconstraining parameters sum.basic.lengthscale\n",
      "14:24:10.011  {indexable} [_add_to_index_operations] -- WARNING: reconstraining parameters sum.basic.lengthscale\n",
      "14:24:10.013  {indexable} [_add_to_index_operations] -- WARNING: reconstraining parameters sum.basic.variance\n"
     ]
    },
    {
     "name": "stdout",
     "output_type": "stream",
     "text": [
      "============### ITERATION 1 of 50 ###============\n",
      "GPR: False GPC: False prune: True GPR1: False GPC1: False Optim: False\n",
      "WARNING: no boundary point is sampled\n",
      "dvec pinches:  [ True False False]\n",
      "New origin:  [-56   0   0]\n",
      "conditional_idx: 0\n",
      "vols_pinchoff: [  -56.86026886  -428.42985734 -1993.69374959]\n",
      "detected: False\n",
      "r_vals: 2039.999999999996\n",
      "============### ITERATION 2 of 50 ###============\n",
      "GPR: False GPC: False prune: True GPR1: False GPC1: False Optim: False\n",
      "WARNING: no boundary point is sampled\n",
      "dvec pinches:  [ True False False]\n",
      "New origin:  [-321    0    0]\n",
      "conditional_idx: 0\n",
      "vols_pinchoff: [ -321.28323427 -1995.12338931 -1027.96277512]\n",
      "detected: False\n",
      "r_vals: 2259.999999999996\n",
      "============### ITERATION 3 of 50 ###============\n",
      "GPR: False GPC: False prune: True GPR1: False GPC1: False Optim: False\n",
      "WARNING: no boundary point is sampled\n",
      "idx:  [1, 2]\n",
      "[ -846.25920028 -1040.41188454 -1036.94063622]\n",
      "False\n",
      "dvec pinches:  [ True  True  True]\n",
      "conditional_idx: 1\n",
      "vols_pinchoff: [ -846.25920028 -1040.41188454 -1036.94063622]\n",
      "detected: True\n",
      "r_vals: 1559.9999999999984\n",
      "============### ITERATION 4 of 50 ###============\n",
      "GPR: False GPC: False prune: True GPR1: False GPC1: False Optim: False\n",
      "WARNING: no boundary point is sampled\n",
      "idx:  [1, 2]\n",
      "[ -607.31196843  -449.06090878 -1251.38713312]\n",
      "False\n",
      "dvec pinches:  [ True  True  True]\n",
      "conditional_idx: 1\n",
      "vols_pinchoff: [ -607.31196843  -449.06090878 -1251.38713312]\n",
      "detected: True\n",
      "r_vals: 1359.9999999999986\n",
      "============### ITERATION 5 of 50 ###============\n",
      "GPR: False GPC: False prune: True GPR1: False GPC1: False Optim: False\n",
      "WARNING: no boundary point is sampled\n",
      "idx:  [1, 2]\n",
      "[-1411.43538913  -105.18689198  -315.41461584]\n",
      "True\n",
      "0.2498778534586747\n",
      "Score thresh:  0.001\n",
      "dvec pinches:  [ True  True  True]\n",
      "conditional_idx: 3\n",
      "vols_pinchoff: [-1411.43538913  -105.18689198  -315.41461584]\n",
      "detected: True\n",
      "r_vals: 1139.9999999999984\n",
      "============### ITERATION 6 of 50 ###============\n",
      "GPR: False GPC: False prune: True GPR1: False GPC1: False Optim: False\n",
      "WARNING: no boundary point is sampled\n",
      "idx:  [1, 2]\n",
      "[ -742.14973764  -895.76416142 -1100.29062779]\n",
      "False\n",
      "dvec pinches:  [ True  True  True]\n",
      "conditional_idx: 1\n",
      "vols_pinchoff: [ -742.14973764  -895.76416142 -1100.29062779]\n",
      "detected: True\n",
      "r_vals: 1480.0000000000007\n",
      "============### ITERATION 7 of 50 ###============\n",
      "GPR: False GPC: False prune: True GPR1: False GPC1: False Optim: False\n",
      "WARNING: no boundary point is sampled\n",
      "idx:  [1, 2]\n",
      "[-1239.00873408  -755.3496072   -352.57188636]\n",
      "True\n",
      "0.36339758771449965\n",
      "Score thresh:  0.001\n",
      "dvec pinches:  [ True  True  True]\n",
      "conditional_idx: 3\n",
      "vols_pinchoff: [-1239.00873408  -755.3496072   -352.57188636]\n",
      "detected: True\n",
      "r_vals: 1239.9999999999998\n",
      "============### ITERATION 8 of 50 ###============\n",
      "GPR: False GPC: False prune: True GPR1: False GPC1: False Optim: False\n",
      "WARNING: no boundary point is sampled\n",
      "idx:  [1, 2]\n",
      "[-1180.73851627   -15.44075974 -1204.57929028]\n",
      "False\n",
      "dvec pinches:  [ True  True  True]\n",
      "conditional_idx: 1\n",
      "vols_pinchoff: [-1180.73851627   -15.44075974 -1204.57929028]\n",
      "detected: True\n",
      "r_vals: 1479.9999999999982\n",
      "============### ITERATION 9 of 50 ###============\n",
      "GPR: False GPC: False prune: True GPR1: False GPC1: False Optim: False\n",
      "WARNING: no boundary point is sampled\n",
      "idx:  [1, 2]\n",
      "[ -886.25089295  -670.17795661 -1117.02861847]\n",
      "False\n",
      "dvec pinches:  [ True  True  True]\n",
      "conditional_idx: 1\n",
      "vols_pinchoff: [ -886.25089295  -670.17795661 -1117.02861847]\n",
      "detected: True\n",
      "r_vals: 1419.9999999999998\n",
      "============### ITERATION 10 of 50 ###============\n",
      "GPR: False GPC: False prune: True GPR1: False GPC1: False Optim: False\n",
      "WARNING: no boundary point is sampled\n",
      "idx:  [1, 2]\n",
      "[-1187.47651635  -778.95406235  -479.63425166]\n",
      "True\n",
      "0.27676815718791453\n",
      "Score thresh:  0.001\n",
      "dvec pinches:  [ True  True  True]\n",
      "conditional_idx: 3\n",
      "vols_pinchoff: [-1187.47651635  -778.95406235  -479.63425166]\n",
      "detected: True\n",
      "r_vals: 1260.0000000000007\n",
      "============### ITERATION 11 of 50 ###============\n",
      "GPR: False GPC: False prune: True GPR1: False GPC1: False Optim: False\n",
      "WARNING: no boundary point is sampled\n",
      "idx:  [1, 2]\n",
      "[-1469.95109933  -158.89123278   -16.27720788]\n",
      "True\n",
      "0.24183847447296825\n",
      "Score thresh:  0.001\n",
      "dvec pinches:  [ True  True  True]\n",
      "conditional_idx: 3\n",
      "vols_pinchoff: [-1469.95109933  -158.89123278   -16.27720788]\n",
      "detected: True\n",
      "r_vals: 1159.9999999999989\n",
      "============### ITERATION 12 of 50 ###============\n",
      "GPR: True GPC: True prune: True GPR1: False GPC1: False Optim: True\n",
      "WARNING: no boundary point is sampled\n",
      "idx:  [1, 2]\n",
      "[ -973.00158011 -1259.98710492   -61.04453261]\n"
     ]
    },
    {
     "name": "stderr",
     "output_type": "stream",
     "text": [
      "14:24:23.524  {gp} [__init__] -- INFO: initializing Y\n",
      "14:24:23.524  {gp} [__init__] -- INFO: initializing inference method\n",
      "14:24:23.525  {gp} [__init__] -- INFO: adding kernel and likelihood as parameters\n",
      " /home/joseph/anaconda3/envs/array_env/lib/python3.8/site-packages/paramz/transformations.py:111: RuntimeWarning:overflow encountered in expm1\n",
      "14:24:23.580  {gp} [__init__] -- INFO: initializing Y\n",
      "14:24:23.581  {gp} [__init__] -- INFO: initializing inference method\n",
      "14:24:23.581  {gp} [__init__] -- INFO: adding kernel and likelihood as parameters\n",
      "14:24:23.587  {gp} [__init__] -- INFO: initializing Y\n",
      "14:24:23.588  {gp} [__init__] -- INFO: initializing inference method\n",
      "14:24:23.588  {gp} [__init__] -- INFO: adding kernel and likelihood as parameters\n"
     ]
    },
    {
     "name": "stdout",
     "output_type": "stream",
     "text": [
      "False\n",
      "dvec pinches:  [ True  True  True]\n",
      "Optimization restart 1/5, f = 71.83588781885294\n",
      "Optimization restart 2/5, f = 71.83588781884256\n",
      "Optimization restart 3/5, f = 71.8358878188836\n",
      "Optimization restart 4/5, f = 71.835887818841\n",
      "Optimization restart 5/5, f = 71.83588781884093\n",
      "  \u001b[1mbasic.     \u001b[0;0m  |              value  |  constraints  |    priors  \n",
      "  \u001b[1mvariance   \u001b[0;0m  |  749999.9999999999  |   +ve fixed   |            \n",
      "  \u001b[1mlengthscale\u001b[0;0m  |               (3,)  |      +ve      |  Ga(16, 40)\n",
      "  \u001b[1mindex\u001b[0;0m  |  GP_regression.basic.lengthscale  |  constraints  |    priors  \n",
      "  \u001b[1m[0]  \u001b[0;0m  |                       0.44476810  |      +ve      |  Ga(16, 40)\n",
      "  \u001b[1m[1]  \u001b[0;0m  |                       0.44703092  |      +ve      |  Ga(16, 40)\n",
      "  \u001b[1m[2]  \u001b[0;0m  |                       0.46610760  |      +ve      |  Ga(16, 40)\n",
      "  \u001b[1mindex\u001b[0;0m  |  GP_regression.basic.variance  |  constraints  |  priors\n",
      "  \u001b[1m[0]  \u001b[0;0m  |               750000.00000000  |   +ve fixed   |        \n",
      "There are 12 training examples for model 0 and 10 are positive\n",
      "There are 10 training examples for model 1 and 4 are positive\n",
      "  \u001b[1msum.             \u001b[0;0m  |                   value  |  constraints  |     priors    \n",
      "  \u001b[1mbasic.variance   \u001b[0;0m  |       42.04000807870056  |      +ve      |  Ga(6.2, 0.12)\n",
      "  \u001b[1mbasic.lengthscale\u001b[0;0m  |                    (3,)  |      +ve      |  Ga(25, 0.05) \n",
      "  \u001b[1mbias.variance    \u001b[0;0m  |  2.9143811189935115e-06  |      +ve      |               \n",
      "  \u001b[1mindex\u001b[0;0m  |  gp_classification.sum.basic.lengthscale  |  constraints  |     priors   \n",
      "  \u001b[1m[0]  \u001b[0;0m  |                             485.36503647  |      +ve      |  Ga(25, 0.05)\n",
      "  \u001b[1m[1]  \u001b[0;0m  |                             498.81951735  |      +ve      |  Ga(25, 0.05)\n",
      "  \u001b[1m[2]  \u001b[0;0m  |                             495.07458065  |      +ve      |  Ga(25, 0.05)\n",
      "  \u001b[1msum.             \u001b[0;0m  |                  value  |  constraints  |     priors    \n",
      "  \u001b[1mbasic.variance   \u001b[0;0m  |      42.21458620802809  |      +ve      |  Ga(6.2, 0.12)\n",
      "  \u001b[1mbasic.lengthscale\u001b[0;0m  |                   (3,)  |      +ve      |  Ga(25, 0.05) \n",
      "  \u001b[1mbias.variance    \u001b[0;0m  |  5.581132575807474e-05  |      +ve      |               \n",
      "  \u001b[1mindex\u001b[0;0m  |  gp_classification.sum.basic.lengthscale  |  constraints  |     priors   \n",
      "  \u001b[1m[0]  \u001b[0;0m  |                             481.26465412  |      +ve      |  Ga(25, 0.05)\n",
      "  \u001b[1m[1]  \u001b[0;0m  |                             493.23883385  |      +ve      |  Ga(25, 0.05)\n",
      "  \u001b[1m[2]  \u001b[0;0m  |                             472.35782422  |      +ve      |  Ga(25, 0.05)\n",
      "conditional_idx: 1\n",
      "vols_pinchoff: [ -973.00158011 -1259.98710492   -61.04453261]\n",
      "detected: True\n",
      "r_vals: 1420.0\n",
      "============### ITERATION 13 of 50 ###============\n",
      "GPR: True GPC: True prune: True GPR1: True GPC1: True Optim: False\n",
      "WARNING: no boundary point is sampled\n",
      "START\n",
      "idx:  [1, 2]\n",
      "[ -759.79553421 -1177.99600926  -569.37147919]\n",
      "False\n"
     ]
    }
   ],
   "source": [
    "t(config_file)"
   ]
  },
  {
   "cell_type": "code",
   "execution_count": 4,
   "metadata": {
    "scrolled": false
   },
   "outputs": [
    {
     "name": "stderr",
     "output_type": "stream",
     "text": [
      "14:30:13.333  {cs_comp_utils} [generate_cs_data_dict] -- INFO: Configs loaded.\n"
     ]
    },
    {
     "name": "stdout",
     "output_type": "stream",
     "text": [
      "/home/joseph/PycharmProjects/Pygor\n"
     ]
    },
    {
     "name": "stderr",
     "output_type": "stream",
     "text": [
      "14:30:13.647  {Pygor} [__init__] -- INFO: Creating mock server\n",
      "14:30:13.648  {cs_comp_utils} [generate_cs_data_dict] -- INFO: Pygor available to data generator\n"
     ]
    },
    {
     "name": "stdout",
     "output_type": "stream",
     "text": [
      "~~~~~~~~~~~~~~~~~~~~~~~~~~~~~~~~~~~~~~~~~~~~~~~~~~\n",
      "--------------------------------------------------\n",
      "~~~~~~~~~~~~~~~~~~~~~~~~~~~~~~~~~~~~~~~~~~~~~~~~~~\n",
      "\n",
      "Welcome to Pygor!\n",
      "--------------------------------------------------\n",
      "To start the server:  pygor = Pygor.Experiment()\n",
      "\n",
      "To take measurements use functions \n",
      "Pygor.do2d, Pygor.do1d and Pygor.do0d.\n",
      "To control use Pygor.setval and Pygor.getval.\n",
      "Function syntax is (almost) identical to Igor!\n",
      "--------------------------------------------------\n",
      "~~~~~~~~~~~~~~~~~~~~~~~~~~~~~~~~~~~~~~~~~~~~~~~~~~\n"
     ]
    },
    {
     "ename": "KeyError",
     "evalue": "'device_gates'",
     "output_type": "error",
     "traceback": [
      "\u001b[0;31m---------------------------------------------------------------------------\u001b[0m",
      "\u001b[0;31mKeyError\u001b[0m                                  Traceback (most recent call last)",
      "\u001b[0;32m<ipython-input-4-75764b9d635e>\u001b[0m in \u001b[0;36m<module>\u001b[0;34m\u001b[0m\n\u001b[0;32m----> 1\u001b[0;31m \u001b[0mdic\u001b[0m \u001b[0;34m=\u001b[0m \u001b[0mcomper\u001b[0m\u001b[0;34m(\u001b[0m\u001b[0mconfig_file\u001b[0m\u001b[0;34m)\u001b[0m\u001b[0;34m\u001b[0m\u001b[0;34m\u001b[0m\u001b[0m\n\u001b[0m",
      "\u001b[0;32m~/PycharmProjects/AutoDot/cs_comp_utils.py\u001b[0m in \u001b[0;36mgenerate_cs_data_dict\u001b[0;34m(config_file)\u001b[0m\n\u001b[1;32m     43\u001b[0m     \u001b[0mlog\u001b[0m\u001b[0;34m.\u001b[0m\u001b[0minfo\u001b[0m\u001b[0;34m(\u001b[0m\u001b[0;34m\"Pygor available to data generator\"\u001b[0m\u001b[0;34m)\u001b[0m\u001b[0;34m\u001b[0m\u001b[0;34m\u001b[0m\u001b[0m\n\u001b[1;32m     44\u001b[0m \u001b[0;34m\u001b[0m\u001b[0m\n\u001b[0;32m---> 45\u001b[0;31m     \u001b[0mdevice_gates\u001b[0m \u001b[0;34m=\u001b[0m \u001b[0mconfigs\u001b[0m\u001b[0;34m[\u001b[0m\u001b[0;34m\"device_gates\"\u001b[0m\u001b[0;34m]\u001b[0m\u001b[0;34m\u001b[0m\u001b[0;34m\u001b[0m\u001b[0m\n\u001b[0m\u001b[1;32m     46\u001b[0m     \u001b[0mcharacterisation_range\u001b[0m \u001b[0;34m=\u001b[0m \u001b[0mconfigs\u001b[0m\u001b[0;34m[\u001b[0m\u001b[0;34m\"characterisation_range\"\u001b[0m\u001b[0;34m]\u001b[0m\u001b[0;34m\u001b[0m\u001b[0;34m\u001b[0m\u001b[0m\n\u001b[1;32m     47\u001b[0m     \u001b[0mcharacterisation_points\u001b[0m \u001b[0;34m=\u001b[0m \u001b[0mconfigs\u001b[0m\u001b[0;34m[\u001b[0m\u001b[0;34m'characterisation_points'\u001b[0m\u001b[0;34m]\u001b[0m\u001b[0;34m\u001b[0m\u001b[0;34m\u001b[0m\u001b[0m\n",
      "\u001b[0;31mKeyError\u001b[0m: 'device_gates'"
     ]
    }
   ],
   "source": [
    "dic = comper(config_file)"
   ]
  },
  {
   "cell_type": "code",
   "execution_count": null,
   "metadata": {
    "scrolled": true
   },
   "outputs": [],
   "source": [
    "a = create_transform_dict(dic)"
   ]
  },
  {
   "cell_type": "code",
   "execution_count": 11,
   "metadata": {},
   "outputs": [
    {
     "name": "stdout",
     "output_type": "stream",
     "text": [
      "{'c8': {0.0: array([[ -110.78943729,  -553.09234558, -1981.26589782],\n",
      "       [ -547.16711494,  -143.57625873, -1345.9546821 ],\n",
      "       [ -517.96482088, -1250.66811723,  -546.93848364],\n",
      "       [-1144.77188239,  -538.17957518,  -912.94034971],\n",
      "       [ -412.07292532, -1990.79277468, -1385.11372547]]), 2000.0: array([[  -87.55951804, -1992.56107746, -1062.84226646],\n",
      "       [-1295.23204855,   -68.33736587,  -753.46130944],\n",
      "       [ -662.4682383 ,  -271.79160872, -1272.34631869],\n",
      "       [-1274.87135427,  -855.61168818,  -119.29655949],\n",
      "       [-1315.21586071,  -223.53350021,  -542.07011911]])}, 'c9': {0.0: array([[-1308.8332536 ,  -320.89840462,  -447.63794319],\n",
      "       [ -449.68236593, -1988.37062148, -1739.7034349 ],\n",
      "       [-1311.68402869,  -401.13372125,  -367.39181614],\n",
      "       [ -870.03440578,  -693.71683499, -1121.69384665],\n",
      "       [ -501.89342582, -1239.78666833, -1432.70094792]]), 2000.0: array([[ -188.76127779, -1991.751824  ,  -638.19577842],\n",
      "       [ -127.1746061 , -1986.38039383,  -937.08033303],\n",
      "       [ -933.69323934, -1171.3943841 ,  -435.49067924],\n",
      "       [-1165.54126358,  -254.91023769, -1154.1812395 ],\n",
      "       [ -831.47722202,  -680.30177664, -1131.12117917]])}}\n"
     ]
    }
   ],
   "source": [
    "print(dic)"
   ]
  },
  {
   "cell_type": "code",
   "execution_count": 16,
   "metadata": {},
   "outputs": [
    {
     "data": {
      "text/plain": [
       "(10, 3)"
      ]
     },
     "execution_count": 16,
     "metadata": {},
     "output_type": "execute_result"
    }
   ],
   "source": [
    "zero = create_dense_cloud(dic)\n",
    "\n",
    "zero.shape"
   ]
  },
  {
   "cell_type": "code",
   "execution_count": 15,
   "metadata": {},
   "outputs": [
    {
     "data": {
      "image/png": "[encoded data removed]",
      "text/plain": [
       "<Figure size 432x288 with 1 Axes>"
      ]
     },
     "metadata": {
      "needs_background": "light"
     },
     "output_type": "display_data"
    }
   ],
   "source": [
    "# This import registers the 3D projection, but is otherwise unused.\n",
    "from mpl_toolkits.mplot3d import Axes3D  # noqa: F401 unused import\n",
    "\n",
    "import matplotlib.pyplot as plt\n",
    "import numpy as np\n",
    "\n",
    "# Fixing random state for reproducibility\n",
    "np.random.seed(19680801)\n",
    "\n",
    "\n",
    "def randrange(n, vmin, vmax):\n",
    "    '''\n",
    "    Helper function to make an array of random numbers having shape (n, )\n",
    "    with each number distributed Uniform(vmin, vmax).\n",
    "    '''\n",
    "    return (vmax - vmin)*np.random.rand(n) + vmin\n",
    "\n",
    "fig = plt.figure()\n",
    "ax = fig.add_subplot(111, projection='3d')\n",
    "\n",
    "ax.scatter(*zero.T)\n",
    "plt.show()\n"
   ]
  },
  {
   "cell_type": "code",
   "execution_count": 9,
   "metadata": {},
   "outputs": [
    {
     "ename": "NameError",
     "evalue": "name 'a' is not defined",
     "output_type": "error",
     "traceback": [
      "\u001b[0;31m---------------------------------------------------------------------------\u001b[0m",
      "\u001b[0;31mNameError\u001b[0m                                 Traceback (most recent call last)",
      "\u001b[0;32m<ipython-input-9-3ab4bec79e79>\u001b[0m in \u001b[0;36m<module>\u001b[0;34m\u001b[0m\n\u001b[1;32m      3\u001b[0m \u001b[0;34m\u001b[0m\u001b[0m\n\u001b[1;32m      4\u001b[0m \u001b[0;34m\u001b[0m\u001b[0m\n\u001b[0;32m----> 5\u001b[0;31m \u001b[0;32mfor\u001b[0m \u001b[0mgate\u001b[0m \u001b[0;32min\u001b[0m \u001b[0ma\u001b[0m\u001b[0;34m:\u001b[0m\u001b[0;34m\u001b[0m\u001b[0;34m\u001b[0m\u001b[0m\n\u001b[0m\u001b[1;32m      6\u001b[0m \u001b[0;34m\u001b[0m\u001b[0m\n\u001b[1;32m      7\u001b[0m     \u001b[0mmodel_dict\u001b[0m\u001b[0;34m[\u001b[0m\u001b[0mgate\u001b[0m\u001b[0;34m]\u001b[0m \u001b[0;34m=\u001b[0m \u001b[0;34m{\u001b[0m\u001b[0;34m}\u001b[0m\u001b[0;34m\u001b[0m\u001b[0;34m\u001b[0m\u001b[0m\n",
      "\u001b[0;31mNameError\u001b[0m: name 'a' is not defined"
     ]
    }
   ],
   "source": [
    "import numpy as np\n",
    "model_dict = {}\n",
    "\n",
    "\n",
    "for gate in a: \n",
    "    \n",
    "    model_dict[gate] = {}\n",
    "    \n",
    "    for n, voltage in enumerate(a[gate].keys()): \n",
    "        for i, name in enumerate(np.array(a[gate][voltage])): \n",
    "            model_dict[gate][i] =  np.array(a[gate][voltage])\n",
    "        print(np.array(a[gate][voltage]))\n",
    "    \n",
    "    \n",
    "    x = list(a[gate].keys())\n",
    "    y = np.array(list(a[gate].values()))[:, 0, 0]\n",
    "    print(y)\n",
    "\n",
    "    print(model_dict)"
   ]
  },
  {
   "cell_type": "code",
   "execution_count": null,
   "metadata": {},
   "outputs": [],
   "source": []
  }
 ],
 "metadata": {
  "kernelspec": {
   "display_name": "Python 3",
   "language": "python",
   "name": "python3"
  },
  "language_info": {
   "codemirror_mode": {
    "name": "ipython",
    "version": 3
   },
   "file_extension": ".py",
   "mimetype": "text/x-python",
   "name": "python",
   "nbconvert_exporter": "python",
   "pygments_lexer": "ipython3",
   "version": "3.8.3"
  }
 },
 "nbformat": 4,
 "nbformat_minor": 4
}
