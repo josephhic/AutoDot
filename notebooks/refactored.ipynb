{
 "cells": [
  {
   "cell_type": "code",
   "execution_count": 4,
   "metadata": {},
   "outputs": [],
   "source": [
    "import sys\n",
    "sys.path.append('./..')\n",
    "import pickle as pkl\n"
   ]
  },
  {
   "cell_type": "code",
   "execution_count": 5,
   "metadata": {
    "scrolled": true
   },
   "outputs": [],
   "source": [
    "from cs_comp_utils import generate_cs_data_dict as comper\n",
    "from cs_comp_utils import generate_compensator\n",
    "from tune import tune_with_playground_from_file as t"
   ]
  },
  {
   "cell_type": "code",
   "execution_count": 6,
   "metadata": {},
   "outputs": [],
   "source": [
    "#config_file = './../cs_comp_config.json'\n",
    "#config_file = './../mock_device_demo_config.json'\n",
    "config_file = './../test.json'"
   ]
  },
  {
   "cell_type": "code",
   "execution_count": 7,
   "metadata": {
    "scrolled": true
   },
   "outputs": [
    {
     "name": "stderr",
     "output_type": "stream",
     "text": [
      "14:42:33.309  {Pygor} [__init__] -- INFO: Creating server\n",
      "14:42:33.316  {indexable} [_add_to_index_operations] -- WARNING: reconstraining parameters basic.lengthscale\n",
      "14:42:33.317  {indexable} [_add_to_index_operations] -- WARNING: reconstraining parameters basic.lengthscale\n",
      "14:42:33.318  {indexable} [_add_to_index_operations] -- WARNING: reconstraining parameters basic.lengthscale\n",
      "14:42:33.326  {indexable} [_add_to_index_operations] -- WARNING: reconstraining parameters sum.basic.lengthscale\n",
      "14:42:33.329  {indexable} [_add_to_index_operations] -- WARNING: reconstraining parameters sum.basic.lengthscale\n",
      "14:42:33.330  {indexable} [_add_to_index_operations] -- WARNING: reconstraining parameters sum.basic.lengthscale\n",
      "14:42:33.331  {indexable} [_add_to_index_operations] -- WARNING: reconstraining parameters sum.basic.variance\n",
      "14:42:33.341  {indexable} [_add_to_index_operations] -- WARNING: reconstraining parameters sum.basic.lengthscale\n",
      "14:42:33.342  {indexable} [_add_to_index_operations] -- WARNING: reconstraining parameters sum.basic.lengthscale\n",
      "14:42:33.343  {indexable} [_add_to_index_operations] -- WARNING: reconstraining parameters sum.basic.lengthscale\n",
      "14:42:33.345  {indexable} [_add_to_index_operations] -- WARNING: reconstraining parameters sum.basic.variance\n"
     ]
    },
    {
     "name": "stdout",
     "output_type": "stream",
     "text": [
      "~~~~~~~~~~~~~~~~~~~~~~~~~~~~~~~~~~~~~~~~~~~~~~~~~~\n",
      "--------------------------------------------------\n",
      "~~~~~~~~~~~~~~~~~~~~~~~~~~~~~~~~~~~~~~~~~~~~~~~~~~\n",
      "\n",
      "Welcome to Pygor!\n",
      "--------------------------------------------------\n",
      "To start the server:  Pygor = Pygor.Experiment()\n",
      "\n",
      "To take measurements use functions \n",
      "Pygor.do2d, Pygor.do1d and Pygor.do0d.\n",
      "To control use Pygor.setval and Pygor.getval.\n",
      "Function syntax is (almost) identical to Igor!\n",
      "--------------------------------------------------\n",
      "~~~~~~~~~~~~~~~~~~~~~~~~~~~~~~~~~~~~~~~~~~~~~~~~~~\n",
      "set:  ['c8', 'c9'] [0, 0]\n",
      "setting:  c8 0.0\n",
      "============### ITERATION 1 of 5 ###============\n",
      "GPR: False GPC: False prune: False GPR1: False GPC1: False Optim: False\n",
      "WARNING: no boundary point is sampled\n",
      "idx:  [1, 2]\n",
      "[ -803.58649379  -336.60134199 -1221.04393188]\n",
      "False\n",
      "conditional_idx: 1\n",
      "vols_pinchoff: [ -803.58649379  -336.60134199 -1221.04393188]\n",
      "detected: True\n",
      "r_vals: 1500.0000000000002\n",
      "============### ITERATION 2 of 5 ###============\n",
      "GPR: False GPC: False prune: False GPR1: False GPC1: False Optim: False\n",
      "WARNING: no boundary point is sampled\n",
      "idx:  [1, 2]\n",
      "[-1158.86363977  -176.04033131 -1175.43390549]\n",
      "False\n",
      "conditional_idx: 1\n",
      "vols_pinchoff: [-1158.86363977  -176.04033131 -1175.43390549]\n",
      "detected: True\n",
      "r_vals: 1659.9999999999995\n",
      "============### ITERATION 3 of 5 ###============\n",
      "GPR: False GPC: False prune: False GPR1: False GPC1: False Optim: False\n",
      "WARNING: no boundary point is sampled\n",
      "idx:  [1, 2]\n",
      "[-1117.28397763   -45.91704096 -1226.85294094]\n",
      "False\n",
      "conditional_idx: 1\n",
      "vols_pinchoff: [-1117.28397763   -45.91704096 -1226.85294094]\n",
      "detected: True\n",
      "r_vals: 1660.000000000001\n",
      "============### ITERATION 4 of 5 ###============\n",
      "GPR: False GPC: False prune: False GPR1: False GPC1: False Optim: False\n",
      "WARNING: no boundary point is sampled\n",
      "idx:  [1, 2]\n",
      "[ -501.99590962 -1348.15705117  -653.35493577]\n",
      "False\n",
      "conditional_idx: 1\n",
      "vols_pinchoff: [ -501.99590962 -1348.15705117  -653.35493577]\n",
      "detected: True\n",
      "r_vals: 1580.0000000000014\n",
      "============### ITERATION 5 of 5 ###============\n",
      "GPR: False GPC: False prune: False GPR1: False GPC1: False Optim: False\n",
      "WARNING: no boundary point is sampled\n",
      "idx:  [1, 2]\n",
      "[-1308.13926193  -107.56632722  -726.08619093]\n",
      "True\n",
      "0.16208024914062727\n",
      "Score thresh:  0.001\n"
     ]
    },
    {
     "name": "stderr",
     "output_type": "stream",
     "text": [
      "14:42:36.125  {indexable} [_add_to_index_operations] -- WARNING: reconstraining parameters basic.lengthscale\n",
      "14:42:36.127  {indexable} [_add_to_index_operations] -- WARNING: reconstraining parameters basic.lengthscale\n",
      "14:42:36.131  {indexable} [_add_to_index_operations] -- WARNING: reconstraining parameters basic.lengthscale\n",
      "14:42:36.150  {indexable} [_add_to_index_operations] -- WARNING: reconstraining parameters sum.basic.lengthscale\n",
      "14:42:36.153  {indexable} [_add_to_index_operations] -- WARNING: reconstraining parameters sum.basic.lengthscale\n",
      "14:42:36.156  {indexable} [_add_to_index_operations] -- WARNING: reconstraining parameters sum.basic.lengthscale\n",
      "14:42:36.158  {indexable} [_add_to_index_operations] -- WARNING: reconstraining parameters sum.basic.variance\n",
      "14:42:36.171  {indexable} [_add_to_index_operations] -- WARNING: reconstraining parameters sum.basic.lengthscale\n",
      "14:42:36.174  {indexable} [_add_to_index_operations] -- WARNING: reconstraining parameters sum.basic.lengthscale\n",
      "14:42:36.176  {indexable} [_add_to_index_operations] -- WARNING: reconstraining parameters sum.basic.lengthscale\n",
      "14:42:36.177  {indexable} [_add_to_index_operations] -- WARNING: reconstraining parameters sum.basic.variance\n"
     ]
    },
    {
     "name": "stdout",
     "output_type": "stream",
     "text": [
      "conditional_idx: 3\n",
      "vols_pinchoff: [-1308.13926193  -107.56632722  -726.08619093]\n",
      "detected: True\n",
      "r_vals: 1499.9999999999995\n",
      "run pygor.\n",
      "setting:  c8 2000.0\n",
      "============### ITERATION 1 of 5 ###============\n",
      "GPR: False GPC: False prune: False GPR1: False GPC1: False Optim: False\n",
      "WARNING: no boundary point is sampled\n",
      "idx:  [1, 2]\n",
      "[ -960.49137489  -306.91294388 -1190.31960567]\n",
      "False\n",
      "conditional_idx: 1\n",
      "vols_pinchoff: [ -960.49137489  -306.91294388 -1190.31960567]\n",
      "detected: True\n",
      "r_vals: 1559.9999999999982\n",
      "============### ITERATION 2 of 5 ###============\n",
      "GPR: False GPC: False prune: False GPR1: False GPC1: False Optim: False\n",
      "WARNING: no boundary point is sampled\n",
      "conditional_idx: 0\n",
      "vols_pinchoff: [ -209.93820885 -1992.37380281  -752.31149023]\n",
      "detected: False\n",
      "r_vals: 2140.0000000000023\n",
      "============### ITERATION 3 of 5 ###============\n",
      "GPR: False GPC: False prune: False GPR1: False GPC1: False Optim: False\n",
      "WARNING: no boundary point is sampled\n",
      "idx:  [1, 2]\n",
      "[ -717.32901675 -1228.19983776  -409.10174805]\n",
      "False\n",
      "conditional_idx: 1\n",
      "vols_pinchoff: [ -717.32901675 -1228.19983776  -409.10174805]\n",
      "detected: True\n",
      "r_vals: 1479.9999999999995\n",
      "============### ITERATION 4 of 5 ###============\n",
      "GPR: False GPC: False prune: False GPR1: False GPC1: False Optim: False\n",
      "WARNING: no boundary point is sampled\n",
      "idx:  [1, 2]\n",
      "[-1233.92527029  -464.71802364  -626.94942846]\n",
      "True\n",
      "0.26413310097170367\n",
      "Score thresh:  0.001\n"
     ]
    },
    {
     "name": "stderr",
     "output_type": "stream",
     "text": [
      "14:42:38.717  {indexable} [_add_to_index_operations] -- WARNING: reconstraining parameters basic.lengthscale\n",
      "14:42:38.718  {indexable} [_add_to_index_operations] -- WARNING: reconstraining parameters basic.lengthscale\n",
      "14:42:38.719  {indexable} [_add_to_index_operations] -- WARNING: reconstraining parameters basic.lengthscale\n",
      "14:42:38.729  {indexable} [_add_to_index_operations] -- WARNING: reconstraining parameters sum.basic.lengthscale\n",
      "14:42:38.731  {indexable} [_add_to_index_operations] -- WARNING: reconstraining parameters sum.basic.lengthscale\n",
      "14:42:38.733  {indexable} [_add_to_index_operations] -- WARNING: reconstraining parameters sum.basic.lengthscale\n",
      "14:42:38.734  {indexable} [_add_to_index_operations] -- WARNING: reconstraining parameters sum.basic.variance\n",
      "14:42:38.743  {indexable} [_add_to_index_operations] -- WARNING: reconstraining parameters sum.basic.lengthscale\n",
      "14:42:38.746  {indexable} [_add_to_index_operations] -- WARNING: reconstraining parameters sum.basic.lengthscale\n",
      "14:42:38.747  {indexable} [_add_to_index_operations] -- WARNING: reconstraining parameters sum.basic.lengthscale\n",
      "14:42:38.748  {indexable} [_add_to_index_operations] -- WARNING: reconstraining parameters sum.basic.variance\n"
     ]
    },
    {
     "name": "stdout",
     "output_type": "stream",
     "text": [
      "conditional_idx: 3\n",
      "vols_pinchoff: [-1233.92527029  -464.71802364  -626.94942846]\n",
      "detected: True\n",
      "r_vals: 1459.9999999999989\n",
      "============### ITERATION 5 of 5 ###============\n",
      "GPR: False GPC: False prune: False GPR1: False GPC1: False Optim: False\n",
      "WARNING: no boundary point is sampled\n",
      "conditional_idx: 0\n",
      "vols_pinchoff: [  -56.24839393 -1993.39888069  -429.88023987]\n",
      "detected: False\n",
      "r_vals: 2039.9999999999966\n",
      "run pygor.\n",
      "set:  ['c8', 'c9'] [0, 0]\n",
      "setting:  c9 0.0\n",
      "============### ITERATION 1 of 5 ###============\n",
      "GPR: False GPC: False prune: False GPR1: False GPC1: False Optim: False\n",
      "WARNING: no boundary point is sampled\n",
      "conditional_idx: 0\n",
      "vols_pinchoff: [  -15.59390669 -1982.05518062  -482.50812538]\n",
      "detected: False\n",
      "r_vals: 2040.0000000000032\n",
      "============### ITERATION 2 of 5 ###============\n",
      "GPR: False GPC: False prune: False GPR1: False GPC1: False Optim: False\n",
      "WARNING: no boundary point is sampled\n",
      "conditional_idx: 0\n",
      "vols_pinchoff: [ -241.89463721  -723.72249914 -1999.32806931]\n",
      "detected: False\n",
      "r_vals: 2140.0000000000023\n",
      "============### ITERATION 3 of 5 ###============\n",
      "GPR: False GPC: False prune: False GPR1: False GPC1: False Optim: False\n",
      "WARNING: no boundary point is sampled\n",
      "idx:  [1, 2]\n",
      "[-1276.02395184  -707.45968068  -248.32171582]\n",
      "True\n",
      "0.4820056007022398\n",
      "conditional_idx: 2\n",
      "vols_pinchoff: [-1276.02395184  -707.45968068  -248.32171582]\n",
      "detected: True\n",
      "r_vals: 1479.9999999999995\n",
      "============### ITERATION 4 of 5 ###============\n",
      "GPR: False GPC: False prune: False GPR1: False GPC1: False Optim: False\n",
      "WARNING: no boundary point is sampled\n",
      "idx:  [1, 2]\n",
      "[ -620.73882661 -1214.74701883  -573.99737751]\n",
      "False\n",
      "conditional_idx: 1\n",
      "vols_pinchoff: [ -620.73882661 -1214.74701883  -573.99737751]\n",
      "detected: True\n",
      "r_vals: 1479.9999999999984\n",
      "============### ITERATION 5 of 5 ###============\n",
      "GPR: False GPC: False prune: False GPR1: False GPC1: False Optim: False\n",
      "WARNING: no boundary point is sampled\n",
      "idx:  [1, 2]\n",
      "[-1205.38364357  -780.42369606  -433.5771286 ]\n",
      "True\n",
      "0.29835727642470206\n",
      "Score thresh:  0.001\n"
     ]
    },
    {
     "name": "stderr",
     "output_type": "stream",
     "text": [
      "14:42:42.212  {indexable} [_add_to_index_operations] -- WARNING: reconstraining parameters basic.lengthscale\n",
      "14:42:42.213  {indexable} [_add_to_index_operations] -- WARNING: reconstraining parameters basic.lengthscale\n",
      "14:42:42.214  {indexable} [_add_to_index_operations] -- WARNING: reconstraining parameters basic.lengthscale\n",
      "14:42:42.224  {indexable} [_add_to_index_operations] -- WARNING: reconstraining parameters sum.basic.lengthscale\n",
      "14:42:42.225  {indexable} [_add_to_index_operations] -- WARNING: reconstraining parameters sum.basic.lengthscale\n",
      "14:42:42.226  {indexable} [_add_to_index_operations] -- WARNING: reconstraining parameters sum.basic.lengthscale\n",
      "14:42:42.227  {indexable} [_add_to_index_operations] -- WARNING: reconstraining parameters sum.basic.variance\n",
      "14:42:42.235  {indexable} [_add_to_index_operations] -- WARNING: reconstraining parameters sum.basic.lengthscale\n",
      "14:42:42.237  {indexable} [_add_to_index_operations] -- WARNING: reconstraining parameters sum.basic.lengthscale\n",
      "14:42:42.238  {indexable} [_add_to_index_operations] -- WARNING: reconstraining parameters sum.basic.lengthscale\n",
      "14:42:42.239  {indexable} [_add_to_index_operations] -- WARNING: reconstraining parameters sum.basic.variance\n"
     ]
    },
    {
     "name": "stdout",
     "output_type": "stream",
     "text": [
      "conditional_idx: 3\n",
      "vols_pinchoff: [-1205.38364357  -780.42369606  -433.5771286 ]\n",
      "detected: True\n",
      "r_vals: 1500.0000000000011\n",
      "run pygor.\n",
      "setting:  c9 2000.0\n",
      "============### ITERATION 1 of 5 ###============\n",
      "GPR: False GPC: False prune: False GPR1: False GPC1: False Optim: False\n",
      "WARNING: no boundary point is sampled\n",
      "idx:  [1, 2]\n",
      "[ -970.1222184   -510.64419312 -1137.7633275 ]\n",
      "False\n",
      "conditional_idx: 1\n",
      "vols_pinchoff: [ -970.1222184   -510.64419312 -1137.7633275 ]\n",
      "detected: True\n",
      "r_vals: 1580.0\n",
      "============### ITERATION 2 of 5 ###============\n",
      "GPR: False GPC: False prune: False GPR1: False GPC1: False Optim: False\n",
      "WARNING: no boundary point is sampled\n",
      "idx:  [1, 2]\n",
      "[ -880.87628886 -1260.18888649   -87.06855967]\n",
      "False\n",
      "conditional_idx: 1\n",
      "vols_pinchoff: [ -880.87628886 -1260.18888649   -87.06855967]\n",
      "detected: True\n",
      "r_vals: 1539.9999999999998\n",
      "============### ITERATION 3 of 5 ###============\n",
      "GPR: False GPC: False prune: False GPR1: False GPC1: False Optim: False\n",
      "WARNING: no boundary point is sampled\n",
      "idx:  [1, 2]\n",
      "[-1378.19854121  -380.16907834  -172.1634482 ]\n",
      "True\n",
      "0.6998317280047737\n",
      "Score thresh:  0.001\n",
      "conditional_idx: 3\n",
      "vols_pinchoff: [-1378.19854121  -380.16907834  -172.1634482 ]\n",
      "detected: True\n",
      "r_vals: 1440.0000000000005\n",
      "============### ITERATION 4 of 5 ###============\n",
      "GPR: False GPC: False prune: False GPR1: False GPC1: False Optim: False\n",
      "WARNING: no boundary point is sampled\n",
      "conditional_idx: 0\n",
      "vols_pinchoff: [ -341.93149581  -634.10806558 -1993.83796065]\n",
      "detected: False\n",
      "r_vals: 2120.0000000000036\n",
      "============### ITERATION 5 of 5 ###============\n",
      "GPR: False GPC: False prune: False GPR1: False GPC1: False Optim: False\n",
      "WARNING: no boundary point is sampled\n",
      "idx:  [1, 2]\n",
      "[ -502.14632155 -1823.02069869  -185.59257503]\n",
      "False\n",
      "conditional_idx: 1\n",
      "vols_pinchoff: [ -502.14632155 -1823.02069869  -185.59257503]\n",
      "detected: True\n",
      "r_vals: 1899.9999999999955\n",
      "run pygor.\n",
      "experiment_name/c8_0.0_tuning.pkl\n",
      "experiment_name/c8_2000.0_tuning.pkl\n",
      "experiment_name/c9_0.0_tuning.pkl\n",
      "experiment_name/c9_2000.0_tuning.pkl\n"
     ]
    }
   ],
   "source": [
    "dic = comper(config_file)"
   ]
  },
  {
   "cell_type": "code",
   "execution_count": 25,
   "metadata": {},
   "outputs": [
    {
     "data": {
      "text/plain": [
       "{'c8': {0.0: [array([ -803.58649379,  -336.60134199, -1221.04393188]),\n",
       "   array([-1158.86363977,  -176.04033131, -1175.43390549]),\n",
       "   array([-1117.28397763,   -45.91704096, -1226.85294094]),\n",
       "   array([ -501.99590962, -1348.15705117,  -653.35493577]),\n",
       "   array([-1308.13926193,  -107.56632722,  -726.08619093])],\n",
       "  2000.0: [array([ -960.49137489,  -306.91294388, -1190.31960567]),\n",
       "   array([ -209.93820885, -1992.37380281,  -752.31149023]),\n",
       "   array([ -717.32901675, -1228.19983776,  -409.10174805]),\n",
       "   array([-1233.92527029,  -464.71802364,  -626.94942846]),\n",
       "   array([  -56.24839393, -1993.39888069,  -429.88023987])]},\n",
       " 'c9': {0.0: [array([  -15.59390669, -1982.05518062,  -482.50812538]),\n",
       "   array([ -241.89463721,  -723.72249914, -1999.32806931]),\n",
       "   array([-1276.02395184,  -707.45968068,  -248.32171582]),\n",
       "   array([ -620.73882661, -1214.74701883,  -573.99737751]),\n",
       "   array([-1205.38364357,  -780.42369606,  -433.5771286 ])],\n",
       "  2000.0: [array([ -970.1222184 ,  -510.64419312, -1137.7633275 ]),\n",
       "   array([ -880.87628886, -1260.18888649,   -87.06855967]),\n",
       "   array([-1378.19854121,  -380.16907834,  -172.1634482 ]),\n",
       "   array([ -341.93149581,  -634.10806558, -1993.83796065]),\n",
       "   array([ -502.14632155, -1823.02069869,  -185.59257503])]}}"
      ]
     },
     "execution_count": 25,
     "metadata": {},
     "output_type": "execute_result"
    }
   ],
   "source": [
    "dic\n",
    "\n"
   ]
  },
  {
   "cell_type": "code",
   "execution_count": 56,
   "metadata": {},
   "outputs": [],
   "source": [
    "import numpy as np\n",
    "out = []\n",
    "for a in dic: \n",
    "    out.extend(dic[a][0.0])\n",
    "    \n",
    "out = np.array(out)\n"
   ]
  },
  {
   "cell_type": "code",
   "execution_count": 64,
   "metadata": {},
   "outputs": [
    {
     "data": {
      "text/plain": [
       "array([[ -803.58649379, -1158.86363977, -1117.28397763,  -501.99590962,\n",
       "        -1308.13926193,   -15.59390669,  -241.89463721, -1276.02395184,\n",
       "         -620.73882661, -1205.38364357],\n",
       "       [ -336.60134199,  -176.04033131,   -45.91704096, -1348.15705117,\n",
       "         -107.56632722, -1982.05518062,  -723.72249914,  -707.45968068,\n",
       "        -1214.74701883,  -780.42369606],\n",
       "       [-1221.04393188, -1175.43390549, -1226.85294094,  -653.35493577,\n",
       "         -726.08619093,  -482.50812538, -1999.32806931,  -248.32171582,\n",
       "         -573.99737751,  -433.5771286 ]])"
      ]
     },
     "execution_count": 64,
     "metadata": {},
     "output_type": "execute_result"
    }
   ],
   "source": [
    "out.T"
   ]
  },
  {
   "cell_type": "code",
   "execution_count": 63,
   "metadata": {},
   "outputs": [
    {
     "data": {
      "image/png": "[encoded data removed]",
      "text/plain": [
       "<Figure size 432x288 with 1 Axes>"
      ]
     },
     "metadata": {
      "needs_background": "light"
     },
     "output_type": "display_data"
    }
   ],
   "source": [
    "# This import registers the 3D projection, but is otherwise unused.\n",
    "from mpl_toolkits.mplot3d import Axes3D  # noqa: F401 unused import\n",
    "\n",
    "import matplotlib.pyplot as plt\n",
    "import numpy as np\n",
    "\n",
    "# Fixing random state for reproducibility\n",
    "np.random.seed(19680801)\n",
    "\n",
    "\n",
    "def randrange(n, vmin, vmax):\n",
    "    '''\n",
    "    Helper function to make an array of random numbers having shape (n, )\n",
    "    with each number distributed Uniform(vmin, vmax).\n",
    "    '''\n",
    "    return (vmax - vmin)*np.random.rand(n) + vmin\n",
    "\n",
    "fig = plt.figure()\n",
    "ax = fig.add_subplot(111, projection='3d')\n",
    "\n",
    "ax.scatter(*out.T)\n",
    "plt.show()\n"
   ]
  },
  {
   "cell_type": "code",
   "execution_count": null,
   "metadata": {},
   "outputs": [],
   "source": []
  }
 ],
 "metadata": {
  "kernelspec": {
   "display_name": "Python 3",
   "language": "python",
   "name": "python3"
  },
  "language_info": {
   "codemirror_mode": {
    "name": "ipython",
    "version": 3
   },
   "file_extension": ".py",
   "mimetype": "text/x-python",
   "name": "python",
   "nbconvert_exporter": "python",
   "pygments_lexer": "ipython3",
   "version": "3.8.3"
  }
 },
 "nbformat": 4,
 "nbformat_minor": 4
}
