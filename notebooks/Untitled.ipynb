{
 "cells": [
  {
   "cell_type": "code",
   "execution_count": 17,
   "metadata": {},
   "outputs": [],
   "source": [
    "import sys\n",
    "\n",
    "sys.path.append('/home/joseph/PycharmProjects/')\n",
    "\n"
   ]
  },
  {
   "cell_type": "code",
   "execution_count": 10,
   "metadata": {},
   "outputs": [],
   "source": [
    "from AutoDot.tune import tune_with_playground_from_file as t"
   ]
  },
  {
   "cell_type": "code",
   "execution_count": 11,
   "metadata": {},
   "outputs": [],
   "source": [
    "config_file = '/home/joseph/PycharmProjects/AutoDot/example_cs_characterisation_config.json'"
   ]
  },
  {
   "cell_type": "code",
   "execution_count": 12,
   "metadata": {},
   "outputs": [
    {
     "name": "stderr",
     "output_type": "stream",
     "text": [
      "17:23:39.461  {indexable} [_add_to_index_operations] -- WARNING: reconstraining parameters basic.lengthscale\n",
      "17:23:39.464  {indexable} [_add_to_index_operations] -- WARNING: reconstraining parameters basic.lengthscale\n",
      "17:23:39.467  {indexable} [_add_to_index_operations] -- WARNING: reconstraining parameters basic.lengthscale\n",
      "17:23:39.480  {indexable} [_add_to_index_operations] -- WARNING: reconstraining parameters sum.basic.lengthscale\n",
      "17:23:39.482  {indexable} [_add_to_index_operations] -- WARNING: reconstraining parameters sum.basic.lengthscale\n",
      "17:23:39.484  {indexable} [_add_to_index_operations] -- WARNING: reconstraining parameters sum.basic.lengthscale\n",
      "17:23:39.485  {indexable} [_add_to_index_operations] -- WARNING: reconstraining parameters sum.basic.variance\n",
      "17:23:39.494  {indexable} [_add_to_index_operations] -- WARNING: reconstraining parameters sum.basic.lengthscale\n",
      "17:23:39.495  {indexable} [_add_to_index_operations] -- WARNING: reconstraining parameters sum.basic.lengthscale\n",
      "17:23:39.496  {indexable} [_add_to_index_operations] -- WARNING: reconstraining parameters sum.basic.lengthscale\n",
      "17:23:39.497  {indexable} [_add_to_index_operations] -- WARNING: reconstraining parameters sum.basic.variance\n"
     ]
    },
    {
     "name": "stdout",
     "output_type": "stream",
     "text": [
      "============### ITERATION 1 of 100 ###============\n",
      "GPR: False GPC: False prune: False GPR1: False GPC1: False Optim: False\n",
      "WARNING: no boundary point is sampled\n",
      "idx:  [1, 2]\n",
      "[-1275.42752793  -412.03876443  -526.41112983]\n",
      "True\n",
      "0.3447450137704396\n",
      "conditional_idx: 2\n",
      "vols_pinchoff: [-1275.42752793  -412.03876443  -526.41112983]\n",
      "detected: True\n",
      "r_vals: 1440.0000000000007\n",
      "============### ITERATION 2 of 100 ###============\n",
      "GPR: False GPC: False prune: False GPR1: False GPC1: False Optim: False\n",
      "WARNING: no boundary point is sampled\n",
      "idx:  [1, 2]\n",
      "[-1246.01335624  -579.65535855  -493.00140099]\n",
      "True\n",
      "0.3910469174729058\n",
      "Score thresh:  0.001\n",
      "conditional_idx: 3\n",
      "vols_pinchoff: [-1246.01335624  -579.65535855  -493.00140099]\n",
      "detected: True\n",
      "r_vals: 1460.0000000000014\n",
      "============### ITERATION 3 of 100 ###============\n",
      "GPR: False GPC: False prune: False GPR1: False GPC1: False Optim: False\n",
      "WARNING: no boundary point is sampled\n",
      "idx:  [1, 2]\n",
      "[-1008.21709926 -1091.22519342  -645.8528145 ]\n",
      "False\n",
      "conditional_idx: 1\n",
      "vols_pinchoff: [-1008.21709926 -1091.22519342  -645.8528145 ]\n",
      "detected: True\n",
      "r_vals: 1619.9999999999984\n",
      "============### ITERATION 4 of 100 ###============\n",
      "GPR: False GPC: False prune: False GPR1: False GPC1: False Optim: False\n",
      "WARNING: no boundary point is sampled\n",
      "idx:  [1, 2]\n",
      "[-1011.81789014 -1107.98701731  -610.72852125]\n",
      "False\n",
      "conditional_idx: 1\n",
      "vols_pinchoff: [-1011.81789014 -1107.98701731  -610.72852125]\n",
      "detected: True\n",
      "r_vals: 1620.0000000000016\n",
      "============### ITERATION 5 of 100 ###============\n",
      "GPR: False GPC: False prune: False GPR1: False GPC1: False Optim: False\n",
      "WARNING: no boundary point is sampled\n",
      "conditional_idx: 0\n",
      "vols_pinchoff: [ -281.69640105  -656.70097991 -1995.94362661]\n",
      "detected: False\n",
      "r_vals: 2119.9999999999973\n",
      "============### ITERATION 6 of 100 ###============\n",
      "GPR: False GPC: False prune: False GPR1: False GPC1: False Optim: False\n",
      "WARNING: no boundary point is sampled\n",
      "idx:  [1, 2]\n",
      "[ -505.44361743 -1373.22420755  -540.72361276]\n",
      "False\n",
      "conditional_idx: 1\n",
      "vols_pinchoff: [ -505.44361743 -1373.22420755  -540.72361276]\n",
      "detected: True\n",
      "r_vals: 1559.9999999999998\n",
      "============### ITERATION 7 of 100 ###============\n",
      "GPR: False GPC: False prune: False GPR1: False GPC1: False Optim: False\n",
      "WARNING: no boundary point is sampled\n",
      "idx:  [1, 2]\n",
      "[ -591.45894366 -1268.23202334  -416.36985115]\n",
      "False\n",
      "conditional_idx: 1\n",
      "vols_pinchoff: [ -591.45894366 -1268.23202334  -416.36985115]\n",
      "detected: True\n",
      "r_vals: 1460.0000000000007\n",
      "============### ITERATION 8 of 100 ###============\n",
      "GPR: False GPC: False prune: False GPR1: False GPC1: False Optim: False\n",
      "WARNING: no boundary point is sampled\n",
      "idx:  [1, 2]\n",
      "[-1291.94924793  -235.18739883  -638.08622317]\n",
      "True\n",
      "0.21284467811716382\n",
      "Score thresh:  0.001\n",
      "conditional_idx: 3\n",
      "vols_pinchoff: [-1291.94924793  -235.18739883  -638.08622317]\n",
      "detected: True\n",
      "r_vals: 1460.0000000000002\n",
      "============### ITERATION 9 of 100 ###============\n",
      "GPR: False GPC: False prune: False GPR1: False GPC1: False Optim: False\n",
      "WARNING: no boundary point is sampled\n",
      "idx:  [1, 2]\n",
      "[ -570.37808681 -1342.47901953   -63.39495412]\n",
      "False\n",
      "conditional_idx: 1\n",
      "vols_pinchoff: [ -570.37808681 -1342.47901953   -63.39495412]\n",
      "detected: True\n",
      "r_vals: 1459.9999999999998\n",
      "============### ITERATION 10 of 100 ###============\n",
      "GPR: False GPC: False prune: False GPR1: False GPC1: False Optim: False\n",
      "WARNING: no boundary point is sampled\n",
      "idx:  [1, 2]\n",
      "[ -501.44852304 -1697.1493997  -1561.3562354 ]\n",
      "False\n",
      "conditional_idx: 1\n",
      "vols_pinchoff: [ -501.44852304 -1697.1493997  -1561.3562354 ]\n",
      "detected: True\n",
      "r_vals: 2360.0000000000014\n",
      "============### ITERATION 11 of 100 ###============\n",
      "GPR: False GPC: False prune: False GPR1: False GPC1: False Optim: False\n",
      "WARNING: no boundary point is sampled\n",
      "idx:  [1, 2]\n",
      "[-1172.52792863  -721.00074324  -596.10081768]\n",
      "True\n",
      "0.24352093837462307\n",
      "Score thresh:  0.001\n"
     ]
    },
    {
     "name": "stderr",
     "output_type": "stream",
     "text": [
      "17:23:48.131  {gp} [__init__] -- INFO: initializing Y\n",
      "17:23:48.132  {gp} [__init__] -- INFO: initializing inference method\n",
      "17:23:48.133  {gp} [__init__] -- INFO: adding kernel and likelihood as parameters\n"
     ]
    },
    {
     "name": "stdout",
     "output_type": "stream",
     "text": [
      "conditional_idx: 3\n",
      "vols_pinchoff: [-1172.52792863  -721.00074324  -596.10081768]\n",
      "detected: True\n",
      "r_vals: 1500.0000000000002\n",
      "============### ITERATION 12 of 100 ###============\n",
      "GPR: True GPC: False prune: False GPR1: False GPC1: False Optim: True\n",
      "WARNING: no boundary point is sampled\n",
      "idx:  [1, 2]\n",
      "[ -565.77026903 -1134.50808763  -909.06292509]\n",
      "False\n",
      "Optimization restart 1/5, f = 75.41743949314242\n",
      "Optimization restart 2/5, f = 75.41743949313583\n",
      "Optimization restart 3/5, f = 75.41743949414314\n",
      "Optimization restart 4/5, f = 75.41743949313705\n",
      "Optimization restart 5/5, f = 75.41743949328868\n",
      "  \u001b[1mbasic.     \u001b[0;0m  |              value  |  constraints  |    priors  \n",
      "  \u001b[1mvariance   \u001b[0;0m  |  749999.9999999999  |   +ve fixed   |            \n",
      "  \u001b[1mlengthscale\u001b[0;0m  |               (3,)  |      +ve      |  Ga(16, 40)\n",
      "  \u001b[1mindex\u001b[0;0m  |  GP_regression.basic.lengthscale  |  constraints  |    priors  \n",
      "  \u001b[1m[0]  \u001b[0;0m  |                       0.38281263  |      +ve      |  Ga(16, 40)\n",
      "  \u001b[1m[1]  \u001b[0;0m  |                       0.47411656  |      +ve      |  Ga(16, 40)\n",
      "  \u001b[1m[2]  \u001b[0;0m  |                       0.46484966  |      +ve      |  Ga(16, 40)\n",
      "  \u001b[1mindex\u001b[0;0m  |  GP_regression.basic.variance  |  constraints  |  priors\n",
      "  \u001b[1m[0]  \u001b[0;0m  |               750000.00000000  |   +ve fixed   |        \n",
      "conditional_idx: 1\n",
      "vols_pinchoff: [ -565.77026903 -1134.50808763  -909.06292509]\n",
      "detected: True\n",
      "r_vals: 1560.0000000000007\n",
      "============### ITERATION 13 of 100 ###============\n",
      "GPR: True GPC: False prune: False GPR1: True GPC1: False Optim: False\n",
      "WARNING: no boundary point is sampled\n",
      "START\n"
     ]
    },
    {
     "name": "stderr",
     "output_type": "stream",
     "text": [
      " /home/joseph/.local/lib/python3.7/site-packages/paramz/transformations.py:111: RuntimeWarning:overflow encountered in expm1\n",
      "17:23:48.293  {gp} [__init__] -- INFO: initializing Y\n",
      "17:23:48.294  {gp} [__init__] -- INFO: initializing inference method\n",
      "17:23:48.294  {gp} [__init__] -- INFO: adding kernel and likelihood as parameters\n"
     ]
    },
    {
     "name": "stdout",
     "output_type": "stream",
     "text": [
      "STOP\n",
      "conditional_idx: 0\n",
      "vols_pinchoff: [ -272.16886044 -1999.96271866 -1911.66765819]\n",
      "detected: False\n",
      "r_vals: 2780.0000000000064\n",
      "============### ITERATION 14 of 100 ###============\n",
      "GPR: True GPC: False prune: False GPR1: True GPC1: False Optim: False\n",
      "START\n",
      "idx:  [1, 2]\n",
      "[ -565.5833924  -1287.43490075  -335.79642761]\n"
     ]
    },
    {
     "name": "stderr",
     "output_type": "stream",
     "text": [
      "17:23:48.445  {gp} [__init__] -- INFO: initializing Y\n",
      "17:23:48.447  {gp} [__init__] -- INFO: initializing inference method\n",
      "17:23:48.448  {gp} [__init__] -- INFO: adding kernel and likelihood as parameters\n"
     ]
    },
    {
     "name": "stdout",
     "output_type": "stream",
     "text": [
      "False\n",
      "STOP\n",
      "conditional_idx: 1\n",
      "vols_pinchoff: [ -565.5833924  -1287.43490075  -335.79642761]\n",
      "detected: True\n",
      "r_vals: 1445.7290334733996\n",
      "============### ITERATION 15 of 100 ###============\n",
      "GPR: True GPC: False prune: False GPR1: True GPC1: False Optim: False\n",
      "START\n",
      "idx:  [1, 2]\n",
      "[ -621.9583323  -1299.03218502  -203.5413571 ]\n"
     ]
    },
    {
     "name": "stderr",
     "output_type": "stream",
     "text": [
      "17:23:48.592  {gp} [__init__] -- INFO: initializing Y\n",
      "17:23:48.594  {gp} [__init__] -- INFO: initializing inference method\n",
      "17:23:48.596  {gp} [__init__] -- INFO: adding kernel and likelihood as parameters\n"
     ]
    },
    {
     "name": "stdout",
     "output_type": "stream",
     "text": [
      "False\n",
      "STOP\n",
      "conditional_idx: 1\n",
      "vols_pinchoff: [ -621.9583323  -1299.03218502  -203.5413571 ]\n",
      "detected: True\n",
      "r_vals: 1454.5603696272167\n",
      "============### ITERATION 16 of 100 ###============\n",
      "GPR: True GPC: False prune: False GPR1: True GPC1: False Optim: False\n",
      "START\n",
      "idx:  [1, 2]\n",
      "[ -500.69736329  -728.34076707 -1315.10229156]\n"
     ]
    },
    {
     "name": "stderr",
     "output_type": "stream",
     "text": [
      "17:23:48.742  {gp} [__init__] -- INFO: initializing Y\n",
      "17:23:48.745  {gp} [__init__] -- INFO: initializing inference method\n",
      "17:23:48.747  {gp} [__init__] -- INFO: adding kernel and likelihood as parameters\n"
     ]
    },
    {
     "name": "stdout",
     "output_type": "stream",
     "text": [
      "False\n",
      "STOP\n",
      "conditional_idx: 1\n",
      "vols_pinchoff: [ -500.69736329  -728.34076707 -1315.10229156]\n",
      "detected: True\n",
      "r_vals: 1584.5100693401864\n",
      "============### ITERATION 17 of 100 ###============\n",
      "GPR: True GPC: False prune: False GPR1: True GPC1: False Optim: False\n",
      "START\n",
      "idx:  [1, 2]\n",
      "[-1176.82123634  -311.23136209  -996.57911479]\n",
      "True\n",
      "0.12985764918832968\n",
      "Score thresh:  0.001\n"
     ]
    },
    {
     "name": "stderr",
     "output_type": "stream",
     "text": [
      "17:23:51.066  {gp} [__init__] -- INFO: initializing Y\n",
      "17:23:51.067  {gp} [__init__] -- INFO: initializing inference method\n",
      "17:23:51.067  {gp} [__init__] -- INFO: adding kernel and likelihood as parameters\n"
     ]
    },
    {
     "name": "stdout",
     "output_type": "stream",
     "text": [
      "STOP\n",
      "conditional_idx: 3\n",
      "vols_pinchoff: [-1176.82123634  -311.23136209  -996.57911479]\n",
      "detected: True\n",
      "r_vals: 1573.1951929373083\n",
      "============### ITERATION 18 of 100 ###============\n",
      "GPR: True GPC: False prune: False GPR1: True GPC1: False Optim: False\n",
      "START\n"
     ]
    },
    {
     "name": "stderr",
     "output_type": "stream",
     "text": [
      "17:23:51.121  {gp} [__init__] -- INFO: initializing Y\n",
      "17:23:51.121  {gp} [__init__] -- INFO: initializing inference method\n",
      "17:23:51.122  {gp} [__init__] -- INFO: adding kernel and likelihood as parameters\n"
     ]
    },
    {
     "name": "stdout",
     "output_type": "stream",
     "text": [
      "STOP\n",
      "conditional_idx: 0\n",
      "vols_pinchoff: [  -44.51601952  -205.58254857 -1989.34967834]\n",
      "detected: False\n",
      "r_vals: 2000.439452462319\n",
      "============### ITERATION 19 of 100 ###============\n",
      "GPR: True GPC: False prune: False GPR1: True GPC1: False Optim: False\n",
      "START\n"
     ]
    },
    {
     "name": "stderr",
     "output_type": "stream",
     "text": [
      "17:23:51.182  {gp} [__init__] -- INFO: initializing Y\n",
      "17:23:51.183  {gp} [__init__] -- INFO: initializing inference method\n",
      "17:23:51.184  {gp} [__init__] -- INFO: adding kernel and likelihood as parameters\n"
     ]
    },
    {
     "name": "stdout",
     "output_type": "stream",
     "text": [
      "STOP\n",
      "conditional_idx: 0\n",
      "vols_pinchoff: [ -379.48003557 -1983.29567053  -297.81783425]\n",
      "detected: False\n",
      "r_vals: 2041.1178987327326\n",
      "============### ITERATION 20 of 100 ###============\n",
      "GPR: True GPC: False prune: False GPR1: True GPC1: False Optim: False\n",
      "START\n"
     ]
    },
    {
     "name": "stderr",
     "output_type": "stream",
     "text": [
      "17:23:51.239  {gp} [__init__] -- INFO: initializing Y\n",
      "17:23:51.241  {gp} [__init__] -- INFO: initializing inference method\n",
      "17:23:51.243  {gp} [__init__] -- INFO: adding kernel and likelihood as parameters\n"
     ]
    },
    {
     "name": "stdout",
     "output_type": "stream",
     "text": [
      "STOP\n",
      "conditional_idx: 0\n",
      "vols_pinchoff: [ -499.45752548 -1990.33239449 -1346.58642962]\n",
      "detected: False\n",
      "r_vals: 2454.4196610856065\n",
      "============### ITERATION 21 of 100 ###============\n",
      "GPR: True GPC: False prune: False GPR1: True GPC1: False Optim: False\n",
      "START\n"
     ]
    },
    {
     "name": "stderr",
     "output_type": "stream",
     "text": [
      "17:23:51.300  {gp} [__init__] -- INFO: initializing Y\n",
      "17:23:51.308  {gp} [__init__] -- INFO: initializing inference method\n",
      "17:23:51.311  {gp} [__init__] -- INFO: adding kernel and likelihood as parameters\n"
     ]
    },
    {
     "name": "stdout",
     "output_type": "stream",
     "text": [
      "STOP\n",
      "conditional_idx: 0\n",
      "vols_pinchoff: [ -364.71857041  -848.57920769 -1996.34295111]\n",
      "detected: False\n",
      "r_vals: 2199.6571291384553\n",
      "============### ITERATION 22 of 100 ###============\n",
      "GPR: True GPC: True prune: False GPR1: True GPC1: False Optim: False\n",
      "WARNING: no boundary point is sampled\n",
      "START\n"
     ]
    },
    {
     "name": "stderr",
     "output_type": "stream",
     "text": [
      "17:23:51.370  {gp} [__init__] -- INFO: initializing Y\n",
      "17:23:51.371  {gp} [__init__] -- INFO: initializing inference method\n",
      "17:23:51.371  {gp} [__init__] -- INFO: adding kernel and likelihood as parameters\n",
      "17:23:51.378  {gp} [__init__] -- INFO: initializing Y\n",
      "17:23:51.380  {gp} [__init__] -- INFO: initializing inference method\n",
      "17:23:51.381  {gp} [__init__] -- INFO: adding kernel and likelihood as parameters\n"
     ]
    },
    {
     "name": "stdout",
     "output_type": "stream",
     "text": [
      "STOP\n",
      "There are 22 training examples for model 0 and 15 are positive\n"
     ]
    },
    {
     "name": "stderr",
     "output_type": "stream",
     "text": [
      "17:23:51.406  {gp} [__init__] -- INFO: initializing Y\n",
      "17:23:51.413  {gp} [__init__] -- INFO: initializing inference method\n",
      "17:23:51.414  {gp} [__init__] -- INFO: adding kernel and likelihood as parameters\n"
     ]
    },
    {
     "name": "stdout",
     "output_type": "stream",
     "text": [
      "There are 15 training examples for model 1 and 5 are positive\n",
      "conditional_idx: 0\n",
      "vols_pinchoff: [  -79.52332143 -1981.04192804  -628.92680075]\n",
      "detected: False\n",
      "r_vals: 2080.0000000000023\n",
      "============### ITERATION 23 of 100 ###============\n",
      "GPR: True GPC: True prune: False GPR1: True GPC1: True Optim: True\n",
      "(13, 3)\n",
      "(22, 3)\n",
      "START\n",
      "idx:  [1, 2]\n",
      "[ -501.66742331  -834.37201518 -1567.44124808]\n"
     ]
    },
    {
     "name": "stderr",
     "output_type": "stream",
     "text": [
      "17:23:51.565  {gp} [__init__] -- INFO: initializing Y\n"
     ]
    },
    {
     "name": "stdout",
     "output_type": "stream",
     "text": [
      "False\n",
      "STOP\n"
     ]
    },
    {
     "name": "stderr",
     "output_type": "stream",
     "text": [
      "17:23:51.573  {gp} [__init__] -- INFO: initializing inference method\n",
      "17:23:51.575  {gp} [__init__] -- INFO: adding kernel and likelihood as parameters\n"
     ]
    },
    {
     "name": "stdout",
     "output_type": "stream",
     "text": [
      "Optimization restart 1/5, f = 106.60503538984256\n",
      "Optimization restart 2/5, f = 106.60503538975613\n",
      "Optimization restart 3/5, f = 106.6050353897562\n",
      "Optimization restart 4/5, f = 106.60503539037556\n"
     ]
    },
    {
     "name": "stderr",
     "output_type": "stream",
     "text": [
      "17:23:51.659  {gp} [__init__] -- INFO: initializing Y\n",
      "17:23:51.660  {gp} [__init__] -- INFO: initializing inference method\n",
      "17:23:51.660  {gp} [__init__] -- INFO: adding kernel and likelihood as parameters\n",
      "17:23:51.673  {gp} [__init__] -- INFO: initializing Y\n",
      "17:23:51.673  {gp} [__init__] -- INFO: initializing inference method\n",
      "17:23:51.673  {gp} [__init__] -- INFO: adding kernel and likelihood as parameters\n"
     ]
    },
    {
     "name": "stdout",
     "output_type": "stream",
     "text": [
      "Optimization restart 5/5, f = 106.60503538978183\n",
      "  \u001b[1mbasic.     \u001b[0;0m  |              value  |  constraints  |    priors  \n",
      "  \u001b[1mvariance   \u001b[0;0m  |  749999.9999999999  |   +ve fixed   |            \n",
      "  \u001b[1mlengthscale\u001b[0;0m  |               (3,)  |      +ve      |  Ga(16, 40)\n",
      "  \u001b[1mindex\u001b[0;0m  |  GP_regression.basic.lengthscale  |  constraints  |    priors  \n",
      "  \u001b[1m[0]  \u001b[0;0m  |                       0.37210553  |      +ve      |  Ga(16, 40)\n",
      "  \u001b[1m[1]  \u001b[0;0m  |                       0.52009199  |      +ve      |  Ga(16, 40)\n",
      "  \u001b[1m[2]  \u001b[0;0m  |                       0.54562730  |      +ve      |  Ga(16, 40)\n",
      "  \u001b[1mindex\u001b[0;0m  |  GP_regression.basic.variance  |  constraints  |  priors\n",
      "  \u001b[1m[0]  \u001b[0;0m  |               750000.00000000  |   +ve fixed   |        \n",
      "There are 23 training examples for model 0 and 16 are positive\n",
      "There are 16 training examples for model 1 and 5 are positive\n",
      "  \u001b[1msum.             \u001b[0;0m  |                   value  |  constraints  |     priors    \n",
      "  \u001b[1mbasic.variance   \u001b[0;0m  |         40.818609188154  |      +ve      |  Ga(6.2, 0.12)\n",
      "  \u001b[1mbasic.lengthscale\u001b[0;0m  |                    (3,)  |      +ve      |  Ga(25, 0.05) \n",
      "  \u001b[1mbias.variance    \u001b[0;0m  |  1.1414843856506044e-10  |      +ve      |               \n",
      "  \u001b[1mindex\u001b[0;0m  |  gp_classification.sum.basic.lengthscale  |  constraints  |     priors   \n",
      "  \u001b[1m[0]  \u001b[0;0m  |                             492.09251485  |      +ve      |  Ga(25, 0.05)\n",
      "  \u001b[1m[1]  \u001b[0;0m  |                             481.38138846  |      +ve      |  Ga(25, 0.05)\n",
      "  \u001b[1m[2]  \u001b[0;0m  |                             509.34269795  |      +ve      |  Ga(25, 0.05)\n",
      "  \u001b[1msum.             \u001b[0;0m  |                  value  |  constraints  |     priors    \n",
      "  \u001b[1mbasic.variance   \u001b[0;0m  |     42.349087018311835  |      +ve      |  Ga(6.2, 0.12)\n",
      "  \u001b[1mbasic.lengthscale\u001b[0;0m  |                   (3,)  |      +ve      |  Ga(25, 0.05) \n",
      "  \u001b[1mbias.variance    \u001b[0;0m  |  3.114047901096705e-08  |      +ve      |               \n",
      "  \u001b[1mindex\u001b[0;0m  |  gp_classification.sum.basic.lengthscale  |  constraints  |     priors   \n",
      "  \u001b[1m[0]  \u001b[0;0m  |                             480.08707536  |      +ve      |  Ga(25, 0.05)\n",
      "  \u001b[1m[1]  \u001b[0;0m  |                             483.90595979  |      +ve      |  Ga(25, 0.05)\n",
      "  \u001b[1m[2]  \u001b[0;0m  |                             510.77444539  |      +ve      |  Ga(25, 0.05)\n",
      "conditional_idx: 1\n",
      "vols_pinchoff: [ -501.66742331  -834.37201518 -1567.44124808]\n",
      "detected: True\n",
      "r_vals: 1845.1880471933657\n",
      "============### ITERATION 24 of 100 ###============\n",
      "GPR: True GPC: True prune: False GPR1: True GPC1: True Optim: False\n",
      "(521, 3)\n",
      "(23, 3)\n",
      "START\n",
      "idx:  [1, 2]\n",
      "[-1179.5254611   -976.11408757  -363.55323666]\n",
      "True\n",
      "0.20430343123124023\n",
      "Score thresh:  0.001\n"
     ]
    },
    {
     "name": "stderr",
     "output_type": "stream",
     "text": [
      "17:23:54.312  {gp} [__init__] -- INFO: initializing Y\n",
      "17:23:54.312  {gp} [__init__] -- INFO: initializing inference method\n",
      "17:23:54.313  {gp} [__init__] -- INFO: adding kernel and likelihood as parameters\n",
      "17:23:54.317  {gp} [__init__] -- INFO: initializing Y\n",
      "17:23:54.318  {gp} [__init__] -- INFO: initializing inference method\n",
      "17:23:54.318  {gp} [__init__] -- INFO: adding kernel and likelihood as parameters\n",
      "17:23:54.330  {gp} [__init__] -- INFO: initializing Y\n",
      "17:23:54.331  {gp} [__init__] -- INFO: initializing inference method\n",
      "17:23:54.331  {gp} [__init__] -- INFO: adding kernel and likelihood as parameters\n"
     ]
    },
    {
     "name": "stdout",
     "output_type": "stream",
     "text": [
      "STOP\n",
      "There are 24 training examples for model 0 and 17 are positive\n",
      "There are 17 training examples for model 1 and 6 are positive\n",
      "conditional_idx: 3\n",
      "vols_pinchoff: [-1179.5254611   -976.11408757  -363.55323666]\n",
      "detected: True\n",
      "r_vals: 1573.6104922247714\n",
      "============### ITERATION 25 of 100 ###============\n",
      "GPR: True GPC: True prune: False GPR1: True GPC1: True Optim: False\n",
      "(10000, 3)\n",
      "(24, 3)\n",
      "START\n",
      "idx:  [1, 2]\n",
      "[ -992.49649381  -822.65125052 -1060.43036036]\n",
      "False\n"
     ]
    },
    {
     "name": "stderr",
     "output_type": "stream",
     "text": [
      "17:23:54.524  {gp} [__init__] -- INFO: initializing Y\n",
      "17:23:54.527  {gp} [__init__] -- INFO: initializing inference method\n",
      "17:23:54.528  {gp} [__init__] -- INFO: adding kernel and likelihood as parameters\n",
      "17:23:54.534  {gp} [__init__] -- INFO: initializing Y\n",
      "17:23:54.536  {gp} [__init__] -- INFO: initializing inference method\n",
      "17:23:54.537  {gp} [__init__] -- INFO: adding kernel and likelihood as parameters\n",
      "17:23:54.550  {gp} [__init__] -- INFO: initializing Y\n",
      "17:23:54.552  {gp} [__init__] -- INFO: initializing inference method\n",
      "17:23:54.554  {gp} [__init__] -- INFO: adding kernel and likelihood as parameters\n"
     ]
    },
    {
     "name": "stdout",
     "output_type": "stream",
     "text": [
      "STOP\n",
      "There are 25 training examples for model 0 and 18 are positive\n",
      "There are 18 training examples for model 1 and 6 are positive\n",
      "conditional_idx: 1\n",
      "vols_pinchoff: [ -992.49649381  -822.65125052 -1060.43036036]\n",
      "detected: True\n",
      "r_vals: 1669.2264434119747\n",
      "============### ITERATION 26 of 100 ###============\n",
      "GPR: True GPC: True prune: False GPR1: True GPC1: True Optim: False\n",
      "(182, 3)\n",
      "(25, 3)\n",
      "START\n",
      "idx:  [1, 2]\n",
      "[-1179.30173296  -632.2481777   -671.15589326]\n",
      "True\n",
      "0.22653565710557544\n",
      "Score thresh:  0.001\n"
     ]
    },
    {
     "name": "stderr",
     "output_type": "stream",
     "text": [
      "17:23:56.811  {gp} [__init__] -- INFO: initializing Y\n",
      "17:23:56.812  {gp} [__init__] -- INFO: initializing inference method\n",
      "17:23:56.812  {gp} [__init__] -- INFO: adding kernel and likelihood as parameters\n",
      "17:23:56.817  {gp} [__init__] -- INFO: initializing Y\n",
      "17:23:56.818  {gp} [__init__] -- INFO: initializing inference method\n",
      "17:23:56.818  {gp} [__init__] -- INFO: adding kernel and likelihood as parameters\n",
      "17:23:56.831  {gp} [__init__] -- INFO: initializing Y\n",
      "17:23:56.831  {gp} [__init__] -- INFO: initializing inference method\n",
      "17:23:56.831  {gp} [__init__] -- INFO: adding kernel and likelihood as parameters\n"
     ]
    },
    {
     "name": "stdout",
     "output_type": "stream",
     "text": [
      "STOP\n",
      "There are 26 training examples for model 0 and 19 are positive\n",
      "There are 19 training examples for model 1 and 7 are positive\n",
      "conditional_idx: 3\n",
      "vols_pinchoff: [-1179.30173296  -632.2481777   -671.15589326]\n",
      "detected: True\n",
      "r_vals: 1496.9771436593192\n",
      "============### ITERATION 27 of 100 ###============\n",
      "GPR: True GPC: True prune: False GPR1: True GPC1: True Optim: False\n",
      "(10000, 3)\n",
      "(26, 3)\n",
      "START\n",
      "idx:  [1, 2]\n",
      "[-1314.41077986  -261.05753667  -549.03133804]\n",
      "True\n",
      "0.2612531652655301\n",
      "Score thresh:  0.001\n"
     ]
    },
    {
     "name": "stderr",
     "output_type": "stream",
     "text": [
      "17:23:59.154  {gp} [__init__] -- INFO: initializing Y\n",
      "17:23:59.154  {gp} [__init__] -- INFO: initializing inference method\n",
      "17:23:59.155  {gp} [__init__] -- INFO: adding kernel and likelihood as parameters\n",
      "17:23:59.160  {gp} [__init__] -- INFO: initializing Y\n",
      "17:23:59.161  {gp} [__init__] -- INFO: initializing inference method\n",
      "17:23:59.161  {gp} [__init__] -- INFO: adding kernel and likelihood as parameters\n",
      "17:23:59.173  {gp} [__init__] -- INFO: initializing Y\n",
      "17:23:59.173  {gp} [__init__] -- INFO: initializing inference method\n",
      "17:23:59.173  {gp} [__init__] -- INFO: adding kernel and likelihood as parameters\n"
     ]
    },
    {
     "name": "stdout",
     "output_type": "stream",
     "text": [
      "STOP\n",
      "There are 27 training examples for model 0 and 20 are positive\n",
      "There are 20 training examples for model 1 and 8 are positive\n",
      "conditional_idx: 3\n",
      "vols_pinchoff: [-1314.41077986  -261.05753667  -549.03133804]\n",
      "detected: True\n",
      "r_vals: 1448.1927170823171\n",
      "============### ITERATION 28 of 100 ###============\n",
      "GPR: True GPC: True prune: False GPR1: True GPC1: True Optim: False\n",
      "(10000, 3)\n",
      "(27, 3)\n",
      "START\n",
      "idx:  [1, 2]\n",
      "[-1217.86665761  -517.45039335  -691.25057848]\n",
      "True\n",
      "0.22645158085301795\n",
      "Score thresh:  0.001\n"
     ]
    },
    {
     "name": "stderr",
     "output_type": "stream",
     "text": [
      "17:24:01.506  {gp} [__init__] -- INFO: initializing Y\n",
      "17:24:01.508  {gp} [__init__] -- INFO: initializing inference method\n",
      "17:24:01.509  {gp} [__init__] -- INFO: adding kernel and likelihood as parameters\n",
      "17:24:01.515  {gp} [__init__] -- INFO: initializing Y\n",
      "17:24:01.516  {gp} [__init__] -- INFO: initializing inference method\n",
      "17:24:01.516  {gp} [__init__] -- INFO: adding kernel and likelihood as parameters\n",
      "17:24:01.529  {gp} [__init__] -- INFO: initializing Y\n",
      "17:24:01.530  {gp} [__init__] -- INFO: initializing inference method\n",
      "17:24:01.530  {gp} [__init__] -- INFO: adding kernel and likelihood as parameters\n"
     ]
    },
    {
     "name": "stdout",
     "output_type": "stream",
     "text": [
      "STOP\n",
      "There are 28 training examples for model 0 and 21 are positive\n",
      "There are 21 training examples for model 1 and 9 are positive\n",
      "conditional_idx: 3\n",
      "vols_pinchoff: [-1217.86665761  -517.45039335  -691.25057848]\n",
      "detected: True\n",
      "r_vals: 1492.9104017105133\n",
      "============### ITERATION 29 of 100 ###============\n",
      "GPR: True GPC: True prune: False GPR1: True GPC1: True Optim: False\n",
      "(9112, 3)\n",
      "(28, 3)\n",
      "START\n",
      "idx:  [1, 2]\n",
      "[-1225.54624839  -519.47322203  -625.33782719]\n",
      "True\n",
      "0.2660687986271369\n",
      "Score thresh:  0.001\n"
     ]
    },
    {
     "name": "stderr",
     "output_type": "stream",
     "text": [
      "17:24:03.834  {gp} [__init__] -- INFO: initializing Y\n",
      "17:24:03.835  {gp} [__init__] -- INFO: initializing inference method\n",
      "17:24:03.836  {gp} [__init__] -- INFO: adding kernel and likelihood as parameters\n",
      "17:24:03.842  {gp} [__init__] -- INFO: initializing Y\n",
      "17:24:03.843  {gp} [__init__] -- INFO: initializing inference method\n",
      "17:24:03.844  {gp} [__init__] -- INFO: adding kernel and likelihood as parameters\n",
      "17:24:03.860  {gp} [__init__] -- INFO: initializing Y\n",
      "17:24:03.860  {gp} [__init__] -- INFO: initializing inference method\n",
      "17:24:03.861  {gp} [__init__] -- INFO: adding kernel and likelihood as parameters\n"
     ]
    },
    {
     "name": "stdout",
     "output_type": "stream",
     "text": [
      "STOP\n",
      "There are 29 training examples for model 0 and 22 are positive\n",
      "There are 22 training examples for model 1 and 10 are positive\n",
      "conditional_idx: 3\n",
      "vols_pinchoff: [-1225.54624839  -519.47322203  -625.33782719]\n",
      "detected: True\n",
      "r_vals: 1470.6676828830784\n",
      "============### ITERATION 30 of 100 ###============\n",
      "GPR: True GPC: True prune: False GPR1: True GPC1: True Optim: False\n",
      "(10000, 3)\n",
      "(29, 3)\n",
      "START\n",
      "idx:  [1, 2]\n",
      "[-1449.95631447   -91.82628427  -148.06770557]\n",
      "True\n",
      "0.23769404697451285\n",
      "Score thresh:  0.001\n"
     ]
    },
    {
     "name": "stderr",
     "output_type": "stream",
     "text": [
      "17:24:06.171  {gp} [__init__] -- INFO: initializing Y\n",
      "17:24:06.172  {gp} [__init__] -- INFO: initializing inference method\n",
      "17:24:06.173  {gp} [__init__] -- INFO: adding kernel and likelihood as parameters\n",
      "17:24:06.179  {gp} [__init__] -- INFO: initializing Y\n",
      "17:24:06.179  {gp} [__init__] -- INFO: initializing inference method\n",
      "17:24:06.180  {gp} [__init__] -- INFO: adding kernel and likelihood as parameters\n",
      "17:24:06.193  {gp} [__init__] -- INFO: initializing Y\n",
      "17:24:06.193  {gp} [__init__] -- INFO: initializing inference method\n",
      "17:24:06.193  {gp} [__init__] -- INFO: adding kernel and likelihood as parameters\n"
     ]
    },
    {
     "name": "stdout",
     "output_type": "stream",
     "text": [
      "STOP\n",
      "There are 30 training examples for model 0 and 23 are positive\n",
      "There are 23 training examples for model 1 and 11 are positive\n",
      "conditional_idx: 3\n",
      "vols_pinchoff: [-1449.95631447   -91.82628427  -148.06770557]\n",
      "detected: True\n",
      "r_vals: 1460.386738429943\n",
      "============### ITERATION 31 of 100 ###============\n",
      "GPR: True GPC: True prune: False GPR1: True GPC1: True Optim: False\n",
      "(9693, 3)\n",
      "(30, 3)\n",
      "START\n",
      "idx:  [1, 2]\n",
      "[-1264.80218989  -645.51859571  -358.32179902]\n",
      "True\n",
      "0.5512401602054475\n",
      "Score thresh:  0.30540690619878824\n"
     ]
    },
    {
     "name": "stderr",
     "output_type": "stream",
     "text": [
      "17:24:08.565  {gp} [__init__] -- INFO: initializing Y\n",
      "17:24:08.566  {gp} [__init__] -- INFO: initializing inference method\n",
      "17:24:08.566  {gp} [__init__] -- INFO: adding kernel and likelihood as parameters\n",
      "17:24:08.574  {gp} [__init__] -- INFO: initializing Y\n",
      "17:24:08.575  {gp} [__init__] -- INFO: initializing inference method\n",
      "17:24:08.575  {gp} [__init__] -- INFO: adding kernel and likelihood as parameters\n",
      "17:24:08.588  {gp} [__init__] -- INFO: initializing Y\n",
      "17:24:08.589  {gp} [__init__] -- INFO: initializing inference method\n",
      "17:24:08.589  {gp} [__init__] -- INFO: adding kernel and likelihood as parameters\n"
     ]
    },
    {
     "name": "stdout",
     "output_type": "stream",
     "text": [
      "STOP\n",
      "There are 31 training examples for model 0 and 24 are positive\n",
      "There are 24 training examples for model 1 and 12 are positive\n",
      "conditional_idx: 3\n",
      "vols_pinchoff: [-1264.80218989  -645.51859571  -358.32179902]\n",
      "detected: True\n",
      "r_vals: 1464.5181284649818\n",
      "============### ITERATION 32 of 100 ###============\n",
      "GPR: True GPC: True prune: False GPR1: True GPC1: True Optim: False\n",
      "(7011, 3)\n",
      "(31, 3)\n",
      "START\n",
      "idx:  [1, 2]\n",
      "[-1195.98762631  -983.1735109   -270.88328043]\n",
      "True\n"
     ]
    },
    {
     "name": "stderr",
     "output_type": "stream",
     "text": [
      "17:24:09.864  {gp} [__init__] -- INFO: initializing Y\n",
      "17:24:09.865  {gp} [__init__] -- INFO: initializing inference method\n",
      "17:24:09.865  {gp} [__init__] -- INFO: adding kernel and likelihood as parameters\n",
      "17:24:09.871  {gp} [__init__] -- INFO: initializing Y\n",
      "17:24:09.871  {gp} [__init__] -- INFO: initializing inference method\n",
      "17:24:09.871  {gp} [__init__] -- INFO: adding kernel and likelihood as parameters\n",
      "17:24:09.891  {gp} [__init__] -- INFO: initializing Y\n",
      "17:24:09.891  {gp} [__init__] -- INFO: initializing inference method\n",
      "17:24:09.891  {gp} [__init__] -- INFO: adding kernel and likelihood as parameters\n"
     ]
    },
    {
     "name": "stdout",
     "output_type": "stream",
     "text": [
      "0.20677194697394385\n",
      "Score thresh:  0.3609506800663027\n",
      "STOP\n",
      "There are 32 training examples for model 0 and 25 are positive\n",
      "There are 25 training examples for model 1 and 13 are positive\n",
      "conditional_idx: 2\n",
      "vols_pinchoff: [-1195.98762631  -983.1735109   -270.88328043]\n",
      "detected: True\n",
      "r_vals: 1571.7488051321538\n",
      "============### ITERATION 33 of 100 ###============\n",
      "GPR: True GPC: True prune: False GPR1: True GPC1: True Optim: False\n",
      "(4013, 3)\n",
      "(32, 3)\n",
      "START\n",
      "idx:  [1, 2]\n",
      "[ -890.69772207  -504.56880801 -1155.00876077]\n"
     ]
    },
    {
     "name": "stderr",
     "output_type": "stream",
     "text": [
      "17:24:10.096  {gp} [__init__] -- INFO: initializing Y\n",
      "17:24:10.097  {gp} [__init__] -- INFO: initializing inference method\n",
      "17:24:10.097  {gp} [__init__] -- INFO: adding kernel and likelihood as parameters\n",
      "17:24:10.102  {gp} [__init__] -- INFO: initializing Y\n",
      "17:24:10.106  {gp} [__init__] -- INFO: initializing inference method\n",
      "17:24:10.110  {gp} [__init__] -- INFO: adding kernel and likelihood as parameters\n",
      "17:24:10.130  {gp} [__init__] -- INFO: initializing Y\n",
      "17:24:10.132  {gp} [__init__] -- INFO: initializing inference method\n",
      "17:24:10.133  {gp} [__init__] -- INFO: adding kernel and likelihood as parameters\n"
     ]
    },
    {
     "name": "stdout",
     "output_type": "stream",
     "text": [
      "False\n",
      "STOP\n",
      "There are 33 training examples for model 0 and 26 are positive\n",
      "There are 26 training examples for model 1 and 13 are positive\n",
      "conditional_idx: 1\n",
      "vols_pinchoff: [ -890.69772207  -504.56880801 -1155.00876077]\n",
      "detected: True\n",
      "r_vals: 1543.365592327685\n",
      "============### ITERATION 34 of 100 ###============\n",
      "GPR: True GPC: True prune: False GPR1: True GPC1: True Optim: True\n",
      "(336, 3)\n",
      "(33, 3)\n",
      "START\n",
      "idx:  [1, 2]\n",
      "[-1146.80751374  -431.90306668 -1003.53826836]\n"
     ]
    },
    {
     "name": "stderr",
     "output_type": "stream",
     "text": [
      "17:24:10.324  {gp} [__init__] -- INFO: initializing Y\n",
      "17:24:10.328  {gp} [__init__] -- INFO: initializing inference method\n",
      "17:24:10.333  {gp} [__init__] -- INFO: adding kernel and likelihood as parameters\n"
     ]
    },
    {
     "name": "stdout",
     "output_type": "stream",
     "text": [
      "False\n",
      "STOP\n",
      "Optimization restart 1/5, f = 166.24256271083107\n",
      "Optimization restart 2/5, f = 166.2425627147979\n",
      "Optimization restart 3/5, f = 166.24256271273512\n"
     ]
    },
    {
     "name": "stderr",
     "output_type": "stream",
     "text": [
      "17:24:10.428  {gp} [__init__] -- INFO: initializing Y\n",
      "17:24:10.428  {gp} [__init__] -- INFO: initializing inference method\n",
      "17:24:10.429  {gp} [__init__] -- INFO: adding kernel and likelihood as parameters\n",
      "17:24:10.444  {gp} [__init__] -- INFO: initializing Y\n",
      "17:24:10.444  {gp} [__init__] -- INFO: initializing inference method\n",
      "17:24:10.446  {gp} [__init__] -- INFO: adding kernel and likelihood as parameters\n"
     ]
    },
    {
     "name": "stdout",
     "output_type": "stream",
     "text": [
      "Optimization restart 4/5, f = 166.24256272017388\n",
      "Optimization restart 5/5, f = 166.24256271084957\n",
      "  \u001b[1mbasic.     \u001b[0;0m  |              value  |  constraints  |    priors  \n",
      "  \u001b[1mvariance   \u001b[0;0m  |  749999.9999999999  |   +ve fixed   |            \n",
      "  \u001b[1mlengthscale\u001b[0;0m  |               (3,)  |      +ve      |  Ga(16, 40)\n",
      "  \u001b[1mindex\u001b[0;0m  |  GP_regression.basic.lengthscale  |  constraints  |    priors  \n",
      "  \u001b[1m[0]  \u001b[0;0m  |                       0.38596845  |      +ve      |  Ga(16, 40)\n",
      "  \u001b[1m[1]  \u001b[0;0m  |                       0.64796283  |      +ve      |  Ga(16, 40)\n",
      "  \u001b[1m[2]  \u001b[0;0m  |                       0.69078249  |      +ve      |  Ga(16, 40)\n",
      "  \u001b[1mindex\u001b[0;0m  |  GP_regression.basic.variance  |  constraints  |  priors\n",
      "  \u001b[1m[0]  \u001b[0;0m  |               750000.00000000  |   +ve fixed   |        \n",
      "There are 34 training examples for model 0 and 27 are positive\n",
      "There are 27 training examples for model 1 and 13 are positive\n",
      "  \u001b[1msum.             \u001b[0;0m  |                   value  |  constraints  |     priors    \n",
      "  \u001b[1mbasic.variance   \u001b[0;0m  |        42.7382344914692  |      +ve      |  Ga(6.2, 0.12)\n",
      "  \u001b[1mbasic.lengthscale\u001b[0;0m  |                    (3,)  |      +ve      |  Ga(25, 0.05) \n",
      "  \u001b[1mbias.variance    \u001b[0;0m  |  1.1414839799347428e-10  |      +ve      |               \n",
      "  \u001b[1mindex\u001b[0;0m  |  gp_classification.sum.basic.lengthscale  |  constraints  |     priors   \n",
      "  \u001b[1m[0]  \u001b[0;0m  |                             498.53617730  |      +ve      |  Ga(25, 0.05)\n",
      "  \u001b[1m[1]  \u001b[0;0m  |                             489.33820113  |      +ve      |  Ga(25, 0.05)\n",
      "  \u001b[1m[2]  \u001b[0;0m  |                             518.67308706  |      +ve      |  Ga(25, 0.05)\n",
      "  \u001b[1msum.             \u001b[0;0m  |                  value  |  constraints  |     priors    \n",
      "  \u001b[1mbasic.variance   \u001b[0;0m  |     42.645332226833744  |      +ve      |  Ga(6.2, 0.12)\n",
      "  \u001b[1mbasic.lengthscale\u001b[0;0m  |                   (3,)  |      +ve      |  Ga(25, 0.05) \n",
      "  \u001b[1mbias.variance    \u001b[0;0m  |  3.113988047490389e-08  |      +ve      |               \n",
      "  \u001b[1mindex\u001b[0;0m  |  gp_classification.sum.basic.lengthscale  |  constraints  |     priors   \n",
      "  \u001b[1m[0]  \u001b[0;0m  |                             480.06813695  |      +ve      |  Ga(25, 0.05)\n",
      "  \u001b[1m[1]  \u001b[0;0m  |                             505.72006597  |      +ve      |  Ga(25, 0.05)\n",
      "  \u001b[1m[2]  \u001b[0;0m  |                             506.19504561  |      +ve      |  Ga(25, 0.05)\n",
      "conditional_idx: 1\n",
      "vols_pinchoff: [-1146.80751374  -431.90306668 -1003.53826836]\n",
      "detected: True\n",
      "r_vals: 1583.9181761162763\n",
      "============### ITERATION 35 of 100 ###============\n",
      "GPR: True GPC: True prune: False GPR1: True GPC1: True Optim: False\n",
      "(126, 3)\n",
      "(34, 3)\n",
      "START\n",
      "idx:  [1, 2]\n",
      "[-1231.31298577  -527.56646509  -555.87320957]\n",
      "True\n"
     ]
    },
    {
     "name": "stderr",
     "output_type": "stream",
     "text": [
      "17:24:11.863  {gp} [__init__] -- INFO: initializing Y\n",
      "17:24:11.864  {gp} [__init__] -- INFO: initializing inference method\n",
      "17:24:11.864  {gp} [__init__] -- INFO: adding kernel and likelihood as parameters\n",
      "17:24:11.870  {gp} [__init__] -- INFO: initializing Y\n",
      "17:24:11.870  {gp} [__init__] -- INFO: initializing inference method\n",
      "17:24:11.870  {gp} [__init__] -- INFO: adding kernel and likelihood as parameters\n",
      "17:24:11.887  {gp} [__init__] -- INFO: initializing Y\n",
      "17:24:11.888  {gp} [__init__] -- INFO: initializing inference method\n",
      "17:24:11.888  {gp} [__init__] -- INFO: adding kernel and likelihood as parameters\n"
     ]
    },
    {
     "name": "stdout",
     "output_type": "stream",
     "text": [
      "0.3256131591915786\n",
      "Score thresh:  0.3540053945109328\n",
      "STOP\n",
      "There are 35 training examples for model 0 and 28 are positive\n",
      "There are 28 training examples for model 1 and 14 are positive\n",
      "conditional_idx: 2\n",
      "vols_pinchoff: [-1231.31298577  -527.56646509  -555.87320957]\n",
      "detected: True\n",
      "r_vals: 1450.3286072952005\n",
      "============### ITERATION 36 of 100 ###============\n",
      "GPR: True GPC: True prune: False GPR1: True GPC1: True Optim: False\n",
      "(5885, 3)\n",
      "(35, 3)\n",
      "START\n",
      "idx:  [1, 2]\n",
      "[-1384.61281914  -248.85154848  -253.78228037]\n",
      "True\n",
      "0.3981257349393282\n",
      "Score thresh:  0.34706010895556283\n"
     ]
    },
    {
     "name": "stderr",
     "output_type": "stream",
     "text": [
      "17:24:14.169  {gp} [__init__] -- INFO: initializing Y\n",
      "17:24:14.169  {gp} [__init__] -- INFO: initializing inference method\n",
      "17:24:14.170  {gp} [__init__] -- INFO: adding kernel and likelihood as parameters\n",
      "17:24:14.175  {gp} [__init__] -- INFO: initializing Y\n",
      "17:24:14.176  {gp} [__init__] -- INFO: initializing inference method\n",
      "17:24:14.176  {gp} [__init__] -- INFO: adding kernel and likelihood as parameters\n",
      "17:24:14.192  {gp} [__init__] -- INFO: initializing Y\n",
      "17:24:14.193  {gp} [__init__] -- INFO: initializing inference method\n",
      "17:24:14.193  {gp} [__init__] -- INFO: adding kernel and likelihood as parameters\n"
     ]
    },
    {
     "name": "stdout",
     "output_type": "stream",
     "text": [
      "STOP\n",
      "There are 36 training examples for model 0 and 29 are positive\n",
      "There are 29 training examples for model 1 and 15 are positive\n",
      "conditional_idx: 3\n",
      "vols_pinchoff: [-1384.61281914  -248.85154848  -253.78228037]\n",
      "detected: True\n",
      "r_vals: 1429.5052283744942\n",
      "============### ITERATION 37 of 100 ###============\n",
      "GPR: True GPC: True prune: False GPR1: True GPC1: True Optim: False\n",
      "(10000, 3)\n",
      "(36, 3)\n",
      "START\n",
      "idx:  [1, 2]\n",
      "[ -503.60924826  -403.30143934 -1305.62389146]\n"
     ]
    },
    {
     "name": "stderr",
     "output_type": "stream",
     "text": [
      "17:24:14.401  {gp} [__init__] -- INFO: initializing Y\n",
      "17:24:14.403  {gp} [__init__] -- INFO: initializing inference method\n",
      "17:24:14.405  {gp} [__init__] -- INFO: adding kernel and likelihood as parameters\n",
      "17:24:14.410  {gp} [__init__] -- INFO: initializing Y\n",
      "17:24:14.413  {gp} [__init__] -- INFO: initializing inference method\n",
      "17:24:14.415  {gp} [__init__] -- INFO: adding kernel and likelihood as parameters\n",
      "17:24:14.432  {gp} [__init__] -- INFO: initializing Y\n",
      "17:24:14.433  {gp} [__init__] -- INFO: initializing inference method\n",
      "17:24:14.435  {gp} [__init__] -- INFO: adding kernel and likelihood as parameters\n"
     ]
    },
    {
     "name": "stdout",
     "output_type": "stream",
     "text": [
      "False\n",
      "STOP\n",
      "There are 37 training examples for model 0 and 30 are positive\n",
      "There are 30 training examples for model 1 and 15 are positive\n",
      "conditional_idx: 1\n",
      "vols_pinchoff: [ -503.60924826  -403.30143934 -1305.62389146]\n",
      "detected: True\n",
      "r_vals: 1456.3406441635182\n",
      "============### ITERATION 38 of 100 ###============\n",
      "GPR: True GPC: True prune: False GPR1: True GPC1: True Optim: False\n",
      "(395, 3)\n",
      "(37, 3)\n",
      "START\n",
      "idx:  [1, 2]\n",
      "[ -501.86728175 -1013.92526288 -1823.69481704]\n"
     ]
    },
    {
     "name": "stderr",
     "output_type": "stream",
     "text": [
      "17:24:14.604  {gp} [__init__] -- INFO: initializing Y\n",
      "17:24:14.606  {gp} [__init__] -- INFO: initializing inference method\n",
      "17:24:14.608  {gp} [__init__] -- INFO: adding kernel and likelihood as parameters\n",
      "17:24:14.616  {gp} [__init__] -- INFO: initializing Y\n",
      "17:24:14.622  {gp} [__init__] -- INFO: initializing inference method\n",
      "17:24:14.624  {gp} [__init__] -- INFO: adding kernel and likelihood as parameters\n",
      "17:24:14.644  {gp} [__init__] -- INFO: initializing Y\n",
      "17:24:14.647  {gp} [__init__] -- INFO: initializing inference method\n",
      "17:24:14.650  {gp} [__init__] -- INFO: adding kernel and likelihood as parameters\n"
     ]
    },
    {
     "name": "stdout",
     "output_type": "stream",
     "text": [
      "False\n",
      "STOP\n",
      "There are 38 training examples for model 0 and 31 are positive\n",
      "There are 31 training examples for model 1 and 15 are positive\n",
      "conditional_idx: 1\n",
      "vols_pinchoff: [ -501.86728175 -1013.92526288 -1823.69481704]\n",
      "detected: True\n",
      "r_vals: 2146.1076377714307\n",
      "============### ITERATION 39 of 100 ###============\n",
      "GPR: True GPC: True prune: False GPR1: True GPC1: True Optim: False\n",
      "(154, 3)\n",
      "(38, 3)\n",
      "START\n",
      "idx:  [1, 2]\n",
      "[-1335.54101753  -570.15321624  -139.32856121]\n",
      "True\n",
      "0.7631666634060326\n",
      "Score thresh:  0.38641672710265923\n"
     ]
    },
    {
     "name": "stderr",
     "output_type": "stream",
     "text": [
      "17:24:17.040  {gp} [__init__] -- INFO: initializing Y\n",
      "17:24:17.041  {gp} [__init__] -- INFO: initializing inference method\n",
      "17:24:17.042  {gp} [__init__] -- INFO: adding kernel and likelihood as parameters\n",
      "17:24:17.052  {gp} [__init__] -- INFO: initializing Y\n",
      "17:24:17.054  {gp} [__init__] -- INFO: initializing inference method\n",
      "17:24:17.055  {gp} [__init__] -- INFO: adding kernel and likelihood as parameters\n",
      "17:24:17.078  {gp} [__init__] -- INFO: initializing Y\n",
      "17:24:17.079  {gp} [__init__] -- INFO: initializing inference method\n",
      "17:24:17.079  {gp} [__init__] -- INFO: adding kernel and likelihood as parameters\n"
     ]
    },
    {
     "name": "stdout",
     "output_type": "stream",
     "text": [
      "STOP\n",
      "There are 39 training examples for model 0 and 32 are positive\n",
      "There are 32 training examples for model 1 and 16 are positive\n",
      "conditional_idx: 3\n",
      "vols_pinchoff: [-1335.54101753  -570.15321624  -139.32856121]\n",
      "detected: True\n",
      "r_vals: 1458.820395888034\n",
      "============### ITERATION 40 of 100 ###============\n",
      "GPR: True GPC: True prune: False GPR1: True GPC1: True Optim: False\n",
      "(10000, 3)\n",
      "(39, 3)\n",
      "START\n",
      "idx:  [1, 2]\n",
      "[-1330.53262034  -182.42587447  -500.90504558]\n",
      "True\n"
     ]
    },
    {
     "name": "stderr",
     "output_type": "stream",
     "text": [
      "17:24:18.360  {gp} [__init__] -- INFO: initializing Y\n",
      "17:24:18.361  {gp} [__init__] -- INFO: initializing inference method\n",
      "17:24:18.361  {gp} [__init__] -- INFO: adding kernel and likelihood as parameters\n",
      "17:24:18.377  {gp} [__init__] -- INFO: initializing Y\n",
      "17:24:18.378  {gp} [__init__] -- INFO: initializing inference method\n",
      "17:24:18.378  {gp} [__init__] -- INFO: adding kernel and likelihood as parameters\n",
      "17:24:18.394  {gp} [__init__] -- INFO: initializing Y\n",
      "17:24:18.395  {gp} [__init__] -- INFO: initializing inference method\n",
      "17:24:18.395  {gp} [__init__] -- INFO: adding kernel and likelihood as parameters\n"
     ]
    },
    {
     "name": "stdout",
     "output_type": "stream",
     "text": [
      "0.24707807722873903\n",
      "Score thresh:  0.3963560305727226\n",
      "STOP\n",
      "There are 40 training examples for model 0 and 33 are positive\n",
      "There are 33 training examples for model 1 and 17 are positive\n",
      "conditional_idx: 2\n",
      "vols_pinchoff: [-1330.53262034  -182.42587447  -500.90504558]\n",
      "detected: True\n",
      "r_vals: 1433.3534519291147\n",
      "============### ITERATION 41 of 100 ###============\n",
      "GPR: True GPC: True prune: False GPR1: True GPC1: True Optim: False\n",
      "(5812, 3)\n",
      "(40, 3)\n",
      "START\n",
      "idx:  [1, 2]\n",
      "[-1224.3432137   -521.37680504  -586.11670253]\n",
      "True\n"
     ]
    },
    {
     "name": "stderr",
     "output_type": "stream",
     "text": [
      "17:24:19.619  {gp} [__init__] -- INFO: initializing Y\n",
      "17:24:19.620  {gp} [__init__] -- INFO: initializing inference method\n",
      "17:24:19.620  {gp} [__init__] -- INFO: adding kernel and likelihood as parameters\n",
      "17:24:19.625  {gp} [__init__] -- INFO: initializing Y\n",
      "17:24:19.626  {gp} [__init__] -- INFO: initializing inference method\n",
      "17:24:19.626  {gp} [__init__] -- INFO: adding kernel and likelihood as parameters\n",
      "17:24:19.643  {gp} [__init__] -- INFO: initializing Y\n",
      "17:24:19.643  {gp} [__init__] -- INFO: initializing inference method\n",
      "17:24:19.644  {gp} [__init__] -- INFO: adding kernel and likelihood as parameters\n"
     ]
    },
    {
     "name": "stdout",
     "output_type": "stream",
     "text": [
      "0.2969158236931681\n",
      "Score thresh:  0.39529420795275927\n",
      "STOP\n",
      "There are 41 training examples for model 0 and 34 are positive\n",
      "There are 34 training examples for model 1 and 18 are positive\n",
      "conditional_idx: 2\n",
      "vols_pinchoff: [-1224.3432137   -521.37680504  -586.11670253]\n",
      "detected: True\n",
      "r_vals: 1454.0917669629498\n",
      "============### ITERATION 42 of 100 ###============\n",
      "GPR: True GPC: True prune: False GPR1: True GPC1: True Optim: False\n",
      "(5284, 3)\n",
      "(41, 3)\n",
      "START\n",
      "idx:  [1, 2]\n",
      "[-1139.06005316  -920.96817818  -526.82509768]\n",
      "True\n"
     ]
    },
    {
     "name": "stderr",
     "output_type": "stream",
     "text": [
      "17:24:20.873  {gp} [__init__] -- INFO: initializing Y\n",
      "17:24:20.874  {gp} [__init__] -- INFO: initializing inference method\n",
      "17:24:20.874  {gp} [__init__] -- INFO: adding kernel and likelihood as parameters\n",
      "17:24:20.880  {gp} [__init__] -- INFO: initializing Y\n",
      "17:24:20.880  {gp} [__init__] -- INFO: initializing inference method\n",
      "17:24:20.881  {gp} [__init__] -- INFO: adding kernel and likelihood as parameters\n",
      "17:24:20.899  {gp} [__init__] -- INFO: initializing Y\n",
      "17:24:20.900  {gp} [__init__] -- INFO: initializing inference method\n",
      "17:24:20.900  {gp} [__init__] -- INFO: adding kernel and likelihood as parameters\n"
     ]
    },
    {
     "name": "stdout",
     "output_type": "stream",
     "text": [
      "0.19847899191912685\n",
      "Score thresh:  0.3942323853327959\n",
      "STOP\n",
      "There are 42 training examples for model 0 and 35 are positive\n",
      "There are 35 training examples for model 1 and 19 are positive\n",
      "conditional_idx: 2\n",
      "vols_pinchoff: [-1139.06005316  -920.96817818  -526.82509768]\n",
      "detected: True\n",
      "r_vals: 1556.6582391406641\n",
      "============### ITERATION 43 of 100 ###============\n",
      "GPR: True GPC: True prune: False GPR1: True GPC1: True Optim: False\n",
      "(5688, 3)\n",
      "(42, 3)\n",
      "START\n",
      "idx:  [1, 2]\n",
      "[-1334.22525555  -377.63200162  -293.45200256]\n",
      "True\n",
      "0.7700969648699003\n",
      "Score thresh:  0.3931705627128325\n"
     ]
    },
    {
     "name": "stderr",
     "output_type": "stream",
     "text": [
      "17:24:23.193  {gp} [__init__] -- INFO: initializing Y\n",
      "17:24:23.194  {gp} [__init__] -- INFO: initializing inference method\n",
      "17:24:23.194  {gp} [__init__] -- INFO: adding kernel and likelihood as parameters\n",
      "17:24:23.200  {gp} [__init__] -- INFO: initializing Y\n",
      "17:24:23.201  {gp} [__init__] -- INFO: initializing inference method\n",
      "17:24:23.201  {gp} [__init__] -- INFO: adding kernel and likelihood as parameters\n",
      "17:24:23.219  {gp} [__init__] -- INFO: initializing Y\n",
      "17:24:23.220  {gp} [__init__] -- INFO: initializing inference method\n",
      "17:24:23.220  {gp} [__init__] -- INFO: adding kernel and likelihood as parameters\n"
     ]
    },
    {
     "name": "stdout",
     "output_type": "stream",
     "text": [
      "STOP\n",
      "There are 43 training examples for model 0 and 36 are positive\n",
      "There are 36 training examples for model 1 and 20 are positive\n",
      "conditional_idx: 3\n",
      "vols_pinchoff: [-1334.22525555  -377.63200162  -293.45200256]\n",
      "detected: True\n",
      "r_vals: 1417.3485947405504\n",
      "============### ITERATION 44 of 100 ###============\n",
      "GPR: True GPC: True prune: False GPR1: True GPC1: True Optim: False\n",
      "(10000, 3)\n",
      "(43, 3)\n",
      "START\n",
      "idx:  [1, 2]\n",
      "[-1317.74241664  -560.2452804   -219.24371589]\n",
      "True\n",
      "1.4783709965614567\n",
      "Score thresh:  0.4210928987292458\n"
     ]
    },
    {
     "name": "stderr",
     "output_type": "stream",
     "text": [
      "17:24:25.517  {gp} [__init__] -- INFO: initializing Y\n",
      "17:24:25.518  {gp} [__init__] -- INFO: initializing inference method\n",
      "17:24:25.518  {gp} [__init__] -- INFO: adding kernel and likelihood as parameters\n",
      "17:24:25.525  {gp} [__init__] -- INFO: initializing Y\n",
      "17:24:25.525  {gp} [__init__] -- INFO: initializing inference method\n",
      "17:24:25.526  {gp} [__init__] -- INFO: adding kernel and likelihood as parameters\n",
      "17:24:25.543  {gp} [__init__] -- INFO: initializing Y\n",
      "17:24:25.544  {gp} [__init__] -- INFO: initializing inference method\n",
      "17:24:25.544  {gp} [__init__] -- INFO: adding kernel and likelihood as parameters\n"
     ]
    },
    {
     "name": "stdout",
     "output_type": "stream",
     "text": [
      "STOP\n",
      "There are 44 training examples for model 0 and 37 are positive\n",
      "There are 37 training examples for model 1 and 21 are positive\n",
      "conditional_idx: 3\n",
      "vols_pinchoff: [-1317.74241664  -560.2452804   -219.24371589]\n",
      "detected: True\n",
      "r_vals: 1448.581256877362\n",
      "============### ITERATION 45 of 100 ###============\n",
      "GPR: True GPC: True prune: False GPR1: True GPC1: True Optim: True\n",
      "(10000, 3)\n",
      "(44, 3)\n",
      "START\n",
      "idx:  [1, 2]\n",
      "[-1443.18389254  -240.04088831   -25.32428398]\n",
      "True\n"
     ]
    },
    {
     "name": "stderr",
     "output_type": "stream",
     "text": [
      "17:24:26.781  {gp} [__init__] -- INFO: initializing Y\n",
      "17:24:26.781  {gp} [__init__] -- INFO: initializing inference method\n",
      "17:24:26.782  {gp} [__init__] -- INFO: adding kernel and likelihood as parameters\n",
      "17:24:26.855  {gp} [__init__] -- INFO: initializing Y\n",
      "17:24:26.856  {gp} [__init__] -- INFO: initializing inference method\n",
      "17:24:26.856  {gp} [__init__] -- INFO: adding kernel and likelihood as parameters\n",
      "17:24:26.873  {gp} [__init__] -- INFO: initializing Y\n",
      "17:24:26.874  {gp} [__init__] -- INFO: initializing inference method\n",
      "17:24:26.874  {gp} [__init__] -- INFO: adding kernel and likelihood as parameters\n"
     ]
    },
    {
     "name": "stdout",
     "output_type": "stream",
     "text": [
      "0.2910398390988998\n",
      "Score thresh:  0.5512401602054475\n",
      "STOP\n",
      "Optimization restart 1/5, f = 218.06450090585022\n",
      "Optimization restart 2/5, f = 218.0645009058901\n",
      "Optimization restart 3/5, f = 218.06450090610593\n",
      "Optimization restart 4/5, f = 218.0645009058735\n",
      "Optimization restart 5/5, f = 218.0645009059441\n",
      "  \u001b[1mbasic.     \u001b[0;0m  |              value  |  constraints  |    priors  \n",
      "  \u001b[1mvariance   \u001b[0;0m  |  749999.9999999999  |   +ve fixed   |            \n",
      "  \u001b[1mlengthscale\u001b[0;0m  |               (3,)  |      +ve      |  Ga(16, 40)\n",
      "  \u001b[1mindex\u001b[0;0m  |  GP_regression.basic.lengthscale  |  constraints  |    priors  \n",
      "  \u001b[1m[0]  \u001b[0;0m  |                       0.40891203  |      +ve      |  Ga(16, 40)\n",
      "  \u001b[1m[1]  \u001b[0;0m  |                       0.73844396  |      +ve      |  Ga(16, 40)\n",
      "  \u001b[1m[2]  \u001b[0;0m  |                       0.77736502  |      +ve      |  Ga(16, 40)\n",
      "  \u001b[1mindex\u001b[0;0m  |  GP_regression.basic.variance  |  constraints  |  priors\n",
      "  \u001b[1m[0]  \u001b[0;0m  |               750000.00000000  |   +ve fixed   |        \n",
      "There are 45 training examples for model 0 and 38 are positive\n",
      "There are 38 training examples for model 1 and 22 are positive\n",
      "  \u001b[1msum.             \u001b[0;0m  |                   value  |  constraints  |     priors    \n",
      "  \u001b[1mbasic.variance   \u001b[0;0m  |       43.00847047980297  |      +ve      |  Ga(6.2, 0.12)\n",
      "  \u001b[1mbasic.lengthscale\u001b[0;0m  |                    (3,)  |      +ve      |  Ga(25, 0.05) \n",
      "  \u001b[1mbias.variance    \u001b[0;0m  |  1.1414837660001392e-10  |      +ve      |               \n",
      "  \u001b[1mindex\u001b[0;0m  |  gp_classification.sum.basic.lengthscale  |  constraints  |     priors   \n",
      "  \u001b[1m[0]  \u001b[0;0m  |                             498.21215432  |      +ve      |  Ga(25, 0.05)\n",
      "  \u001b[1m[1]  \u001b[0;0m  |                             498.64554086  |      +ve      |  Ga(25, 0.05)\n",
      "  \u001b[1m[2]  \u001b[0;0m  |                             525.79315560  |      +ve      |  Ga(25, 0.05)\n",
      "  \u001b[1msum.             \u001b[0;0m  |                  value  |  constraints  |     priors    \n",
      "  \u001b[1mbasic.variance   \u001b[0;0m  |      42.93327958423162  |      +ve      |  Ga(6.2, 0.12)\n",
      "  \u001b[1mbasic.lengthscale\u001b[0;0m  |                   (3,)  |      +ve      |  Ga(25, 0.05) \n",
      "  \u001b[1mbias.variance    \u001b[0;0m  |  3.113943229745372e-08  |      +ve      |               \n",
      "  \u001b[1mindex\u001b[0;0m  |  gp_classification.sum.basic.lengthscale  |  constraints  |     priors   \n",
      "  \u001b[1m[0]  \u001b[0;0m  |                             480.25696529  |      +ve      |  Ga(25, 0.05)\n",
      "  \u001b[1m[1]  \u001b[0;0m  |                             515.34335853  |      +ve      |  Ga(25, 0.05)\n",
      "  \u001b[1m[2]  \u001b[0;0m  |                             514.30782739  |      +ve      |  Ga(25, 0.05)\n",
      "conditional_idx: 2\n",
      "vols_pinchoff: [-1443.18389254  -240.04088831   -25.32428398]\n",
      "detected: True\n",
      "r_vals: 1463.2295428592563\n",
      "============### ITERATION 46 of 100 ###============\n",
      "GPR: True GPC: True prune: False GPR1: True GPC1: True Optim: False\n",
      "(4817, 3)\n",
      "(45, 3)\n",
      "START\n",
      "idx:  [1, 2]\n",
      "[ -939.51469344 -1106.85394209  -643.43750521]\n",
      "False\n"
     ]
    },
    {
     "name": "stderr",
     "output_type": "stream",
     "text": [
      "17:24:27.175  {gp} [__init__] -- INFO: initializing Y\n",
      "17:24:27.177  {gp} [__init__] -- INFO: initializing inference method\n",
      "17:24:27.179  {gp} [__init__] -- INFO: adding kernel and likelihood as parameters\n",
      "17:24:27.185  {gp} [__init__] -- INFO: initializing Y\n",
      "17:24:27.186  {gp} [__init__] -- INFO: initializing inference method\n",
      "17:24:27.188  {gp} [__init__] -- INFO: adding kernel and likelihood as parameters\n",
      "17:24:27.207  {gp} [__init__] -- INFO: initializing Y\n",
      "17:24:27.208  {gp} [__init__] -- INFO: initializing inference method\n",
      "17:24:27.210  {gp} [__init__] -- INFO: adding kernel and likelihood as parameters\n"
     ]
    },
    {
     "name": "stdout",
     "output_type": "stream",
     "text": [
      "STOP\n",
      "There are 46 training examples for model 0 and 39 are positive\n",
      "There are 39 training examples for model 1 and 22 are positive\n",
      "conditional_idx: 1\n",
      "vols_pinchoff: [ -939.51469344 -1106.85394209  -643.43750521]\n",
      "detected: True\n",
      "r_vals: 1588.0256079236372\n",
      "============### ITERATION 47 of 100 ###============\n",
      "GPR: True GPC: True prune: False GPR1: True GPC1: True Optim: False\n",
      "(132, 3)\n",
      "(46, 3)\n",
      "START\n",
      "idx:  [1, 2]\n",
      "[-1358.03416408  -158.64010269  -427.12346526]\n",
      "True\n"
     ]
    },
    {
     "name": "stderr",
     "output_type": "stream",
     "text": [
      "17:24:28.428  {gp} [__init__] -- INFO: initializing Y\n",
      "17:24:28.429  {gp} [__init__] -- INFO: initializing inference method\n",
      "17:24:28.429  {gp} [__init__] -- INFO: adding kernel and likelihood as parameters\n",
      "17:24:28.434  {gp} [__init__] -- INFO: initializing Y\n",
      "17:24:28.435  {gp} [__init__] -- INFO: initializing inference method\n",
      "17:24:28.435  {gp} [__init__] -- INFO: adding kernel and likelihood as parameters\n",
      "17:24:28.470  {gp} [__init__] -- INFO: initializing Y\n",
      "17:24:28.471  {gp} [__init__] -- INFO: initializing inference method\n",
      "17:24:28.472  {gp} [__init__] -- INFO: adding kernel and likelihood as parameters\n"
     ]
    },
    {
     "name": "stdout",
     "output_type": "stream",
     "text": [
      "0.2600260978259827\n",
      "Score thresh:  0.5282729964155293\n",
      "STOP\n",
      "There are 47 training examples for model 0 and 40 are positive\n",
      "There are 40 training examples for model 1 and 23 are positive\n",
      "conditional_idx: 2\n",
      "vols_pinchoff: [-1358.03416408  -158.64010269  -427.12346526]\n",
      "detected: True\n",
      "r_vals: 1432.4307758358716\n",
      "============### ITERATION 48 of 100 ###============\n",
      "GPR: True GPC: True prune: False GPR1: True GPC1: True Optim: False\n",
      "(5813, 3)\n",
      "(47, 3)\n",
      "START\n",
      "idx:  [1, 2]\n",
      "[-1204.81711963  -912.27539988  -330.48822805]\n",
      "True\n"
     ]
    },
    {
     "name": "stderr",
     "output_type": "stream",
     "text": [
      "17:24:29.714  {gp} [__init__] -- INFO: initializing Y\n",
      "17:24:29.715  {gp} [__init__] -- INFO: initializing inference method\n",
      "17:24:29.715  {gp} [__init__] -- INFO: adding kernel and likelihood as parameters\n",
      "17:24:29.721  {gp} [__init__] -- INFO: initializing Y\n",
      "17:24:29.722  {gp} [__init__] -- INFO: initializing inference method\n",
      "17:24:29.722  {gp} [__init__] -- INFO: adding kernel and likelihood as parameters\n",
      "17:24:29.740  {gp} [__init__] -- INFO: initializing Y\n",
      "17:24:29.741  {gp} [__init__] -- INFO: initializing inference method\n",
      "17:24:29.741  {gp} [__init__] -- INFO: adding kernel and likelihood as parameters\n"
     ]
    },
    {
     "name": "stdout",
     "output_type": "stream",
     "text": [
      "0.23806193320937705\n",
      "Score thresh:  0.5053058326256117\n",
      "STOP\n",
      "There are 48 training examples for model 0 and 41 are positive\n",
      "There are 41 training examples for model 1 and 24 are positive\n",
      "conditional_idx: 2\n",
      "vols_pinchoff: [-1204.81711963  -912.27539988  -330.48822805]\n",
      "detected: True\n",
      "r_vals: 1546.94963262265\n",
      "============### ITERATION 49 of 100 ###============\n",
      "GPR: True GPC: True prune: False GPR1: True GPC1: True Optim: False\n",
      "(5569, 3)\n",
      "(48, 3)\n",
      "START\n",
      "idx:  [1, 2]\n",
      "[ -504.32984567  -284.57231228 -1458.34806427]\n"
     ]
    },
    {
     "name": "stderr",
     "output_type": "stream",
     "text": [
      "17:24:29.916  {gp} [__init__] -- INFO: initializing Y\n",
      "17:24:29.918  {gp} [__init__] -- INFO: initializing inference method\n",
      "17:24:29.919  {gp} [__init__] -- INFO: adding kernel and likelihood as parameters\n",
      "17:24:29.926  {gp} [__init__] -- INFO: initializing Y\n",
      "17:24:29.927  {gp} [__init__] -- INFO: initializing inference method\n",
      "17:24:29.929  {gp} [__init__] -- INFO: adding kernel and likelihood as parameters\n",
      "17:24:29.948  {gp} [__init__] -- INFO: initializing Y\n",
      "17:24:29.950  {gp} [__init__] -- INFO: initializing inference method\n",
      "17:24:29.952  {gp} [__init__] -- INFO: adding kernel and likelihood as parameters\n"
     ]
    },
    {
     "name": "stdout",
     "output_type": "stream",
     "text": [
      "False\n",
      "STOP\n",
      "There are 49 training examples for model 0 and 42 are positive\n",
      "There are 42 training examples for model 1 and 24 are positive\n",
      "conditional_idx: 1\n",
      "vols_pinchoff: [ -504.32984567  -284.57231228 -1458.34806427]\n",
      "detected: True\n",
      "r_vals: 1569.1109172772638\n",
      "============### ITERATION 50 of 100 ###============\n",
      "GPR: True GPC: True prune: False GPR1: True GPC1: True Optim: False\n",
      "(119, 3)\n",
      "(49, 3)\n",
      "START\n",
      "idx:  [1, 2]\n",
      "[-1233.82622604  -772.29855106  -371.0661182 ]\n",
      "True\n"
     ]
    },
    {
     "name": "stderr",
     "output_type": "stream",
     "text": [
      "17:24:31.165  {gp} [__init__] -- INFO: initializing Y\n",
      "17:24:31.166  {gp} [__init__] -- INFO: initializing inference method\n",
      "17:24:31.166  {gp} [__init__] -- INFO: adding kernel and likelihood as parameters\n",
      "17:24:31.172  {gp} [__init__] -- INFO: initializing Y\n",
      "17:24:31.172  {gp} [__init__] -- INFO: initializing inference method\n",
      "17:24:31.173  {gp} [__init__] -- INFO: adding kernel and likelihood as parameters\n",
      "17:24:31.190  {gp} [__init__] -- INFO: initializing Y\n",
      "17:24:31.191  {gp} [__init__] -- INFO: initializing inference method\n",
      "17:24:31.191  {gp} [__init__] -- INFO: adding kernel and likelihood as parameters\n"
     ]
    },
    {
     "name": "stdout",
     "output_type": "stream",
     "text": [
      "0.33557140337179314\n",
      "Score thresh:  0.48233866883569393\n",
      "STOP\n",
      "There are 50 training examples for model 0 and 43 are positive\n",
      "There are 43 training examples for model 1 and 25 are positive\n",
      "conditional_idx: 2\n",
      "vols_pinchoff: [-1233.82622604  -772.29855106  -371.0661182 ]\n",
      "detected: True\n",
      "r_vals: 1502.1525462240986\n",
      "============### ITERATION 51 of 100 ###============\n",
      "GPR: True GPC: True prune: False GPR1: True GPC1: True Optim: False\n",
      "(5777, 3)\n",
      "(50, 3)\n",
      "START\n",
      "idx:  [1, 2]\n",
      "[-1389.42006392  -461.64030665   -52.54135282]\n",
      "True\n",
      "0.4971410624892273\n",
      "Score thresh:  0.45937150504577573\n"
     ]
    },
    {
     "name": "stderr",
     "output_type": "stream",
     "text": [
      "17:24:33.478  {gp} [__init__] -- INFO: initializing Y\n",
      "17:24:33.478  {gp} [__init__] -- INFO: initializing inference method\n",
      "17:24:33.479  {gp} [__init__] -- INFO: adding kernel and likelihood as parameters\n",
      "17:24:33.484  {gp} [__init__] -- INFO: initializing Y\n",
      "17:24:33.485  {gp} [__init__] -- INFO: initializing inference method\n",
      "17:24:33.485  {gp} [__init__] -- INFO: adding kernel and likelihood as parameters\n",
      "17:24:33.504  {gp} [__init__] -- INFO: initializing Y\n",
      "17:24:33.505  {gp} [__init__] -- INFO: initializing inference method\n",
      "17:24:33.505  {gp} [__init__] -- INFO: adding kernel and likelihood as parameters\n"
     ]
    },
    {
     "name": "stdout",
     "output_type": "stream",
     "text": [
      "STOP\n",
      "There are 51 training examples for model 0 and 44 are positive\n",
      "There are 44 training examples for model 1 and 26 are positive\n",
      "conditional_idx: 3\n",
      "vols_pinchoff: [-1389.42006392  -461.64030665   -52.54135282]\n",
      "detected: True\n",
      "r_vals: 1465.046238353301\n",
      "============### ITERATION 52 of 100 ###============\n",
      "GPR: True GPC: True prune: False GPR1: True GPC1: True Optim: False\n",
      "(10000, 3)\n",
      "(51, 3)\n",
      "START\n",
      "idx:  [1, 2]\n",
      "[-1306.24895828  -664.52176194  -168.01210762]\n",
      "True\n",
      "0.5440134053981338\n",
      "Score thresh:  0.5106658369182824\n"
     ]
    },
    {
     "name": "stderr",
     "output_type": "stream",
     "text": [
      "17:24:35.829  {gp} [__init__] -- INFO: initializing Y\n",
      "17:24:35.829  {gp} [__init__] -- INFO: initializing inference method\n",
      "17:24:35.830  {gp} [__init__] -- INFO: adding kernel and likelihood as parameters\n",
      "17:24:35.835  {gp} [__init__] -- INFO: initializing Y\n",
      "17:24:35.835  {gp} [__init__] -- INFO: initializing inference method\n",
      "17:24:35.836  {gp} [__init__] -- INFO: adding kernel and likelihood as parameters\n",
      "17:24:35.856  {gp} [__init__] -- INFO: initializing Y\n",
      "17:24:35.857  {gp} [__init__] -- INFO: initializing inference method\n",
      "17:24:35.857  {gp} [__init__] -- INFO: adding kernel and likelihood as parameters\n"
     ]
    },
    {
     "name": "stdout",
     "output_type": "stream",
     "text": [
      "STOP\n",
      "There are 52 training examples for model 0 and 45 are positive\n",
      "There are 45 training examples for model 1 and 27 are positive\n",
      "conditional_idx: 3\n",
      "vols_pinchoff: [-1306.24895828  -664.52176194  -168.01210762]\n",
      "detected: True\n",
      "r_vals: 1475.16222205786\n",
      "============### ITERATION 53 of 100 ###============\n",
      "GPR: True GPC: True prune: False GPR1: True GPC1: True Optim: False\n",
      "(10000, 3)\n",
      "(52, 3)\n",
      "START\n",
      "idx:  [1, 2]\n",
      "[ -934.81108313 -1250.23317561  -140.00306043]\n"
     ]
    },
    {
     "name": "stderr",
     "output_type": "stream",
     "text": [
      "17:24:36.056  {gp} [__init__] -- INFO: initializing Y\n",
      "17:24:36.058  {gp} [__init__] -- INFO: initializing inference method\n",
      "17:24:36.059  {gp} [__init__] -- INFO: adding kernel and likelihood as parameters\n",
      "17:24:36.065  {gp} [__init__] -- INFO: initializing Y\n",
      "17:24:36.067  {gp} [__init__] -- INFO: initializing inference method\n",
      "17:24:36.068  {gp} [__init__] -- INFO: adding kernel and likelihood as parameters\n",
      "17:24:36.089  {gp} [__init__] -- INFO: initializing Y\n",
      "17:24:36.091  {gp} [__init__] -- INFO: initializing inference method\n",
      "17:24:36.092  {gp} [__init__] -- INFO: adding kernel and likelihood as parameters\n"
     ]
    },
    {
     "name": "stdout",
     "output_type": "stream",
     "text": [
      "False\n",
      "STOP\n",
      "There are 53 training examples for model 0 and 46 are positive\n",
      "There are 46 training examples for model 1 and 27 are positive\n",
      "conditional_idx: 1\n",
      "vols_pinchoff: [ -934.81108313 -1250.23317561  -140.00306043]\n",
      "detected: True\n",
      "r_vals: 1567.3402985547255\n",
      "============### ITERATION 54 of 100 ###============\n",
      "GPR: True GPC: True prune: False GPR1: True GPC1: True Optim: False\n",
      "(257, 3)\n",
      "(53, 3)\n",
      "START\n",
      "idx:  [1, 2]\n",
      "[-1243.95141528  -357.4919031   -679.65939121]\n",
      "True\n"
     ]
    },
    {
     "name": "stderr",
     "output_type": "stream",
     "text": [
      "17:24:37.309  {gp} [__init__] -- INFO: initializing Y\n",
      "17:24:37.309  {gp} [__init__] -- INFO: initializing inference method\n",
      "17:24:37.309  {gp} [__init__] -- INFO: adding kernel and likelihood as parameters\n",
      "17:24:37.315  {gp} [__init__] -- INFO: initializing Y\n",
      "17:24:37.316  {gp} [__init__] -- INFO: initializing inference method\n",
      "17:24:37.316  {gp} [__init__] -- INFO: adding kernel and likelihood as parameters\n",
      "17:24:37.338  {gp} [__init__] -- INFO: initializing Y\n",
      "17:24:37.338  {gp} [__init__] -- INFO: initializing inference method\n",
      "17:24:37.338  {gp} [__init__] -- INFO: adding kernel and likelihood as parameters\n"
     ]
    },
    {
     "name": "stdout",
     "output_type": "stream",
     "text": [
      "0.22090845073223908\n",
      "Score thresh:  0.5447360808788652\n",
      "STOP\n",
      "There are 54 training examples for model 0 and 47 are positive\n",
      "There are 47 training examples for model 1 and 28 are positive\n",
      "conditional_idx: 2\n",
      "vols_pinchoff: [-1243.95141528  -357.4919031   -679.65939121]\n",
      "detected: True\n",
      "r_vals: 1461.9002949687988\n",
      "============### ITERATION 55 of 100 ###============\n",
      "GPR: True GPC: True prune: False GPR1: True GPC1: True Optim: False\n",
      "(5725, 3)\n",
      "(54, 3)\n",
      "START\n",
      "idx:  [1, 2]\n",
      "[-1266.3734654   -654.65702043  -312.04295315]\n",
      "True\n",
      "0.600104309543352\n",
      "Score thresh:  0.5416697882526885\n"
     ]
    },
    {
     "name": "stderr",
     "output_type": "stream",
     "text": [
      "17:24:39.628  {gp} [__init__] -- INFO: initializing Y\n",
      "17:24:39.628  {gp} [__init__] -- INFO: initializing inference method\n",
      "17:24:39.629  {gp} [__init__] -- INFO: adding kernel and likelihood as parameters\n",
      "17:24:39.634  {gp} [__init__] -- INFO: initializing Y\n",
      "17:24:39.635  {gp} [__init__] -- INFO: initializing inference method\n",
      "17:24:39.635  {gp} [__init__] -- INFO: adding kernel and likelihood as parameters\n",
      "17:24:39.655  {gp} [__init__] -- INFO: initializing Y\n",
      "17:24:39.655  {gp} [__init__] -- INFO: initializing inference method\n",
      "17:24:39.656  {gp} [__init__] -- INFO: adding kernel and likelihood as parameters\n"
     ]
    },
    {
     "name": "stdout",
     "output_type": "stream",
     "text": [
      "STOP\n",
      "There are 55 training examples for model 0 and 48 are positive\n",
      "There are 48 training examples for model 1 and 29 are positive\n",
      "conditional_idx: 3\n",
      "vols_pinchoff: [-1266.3734654   -654.65702043  -312.04295315]\n",
      "detected: True\n",
      "r_vals: 1459.3314814971325\n",
      "============### ITERATION 56 of 100 ###============\n",
      "GPR: True GPC: True prune: False GPR1: True GPC1: True Optim: True\n",
      "(10000, 3)\n",
      "(55, 3)\n",
      "START\n",
      "idx:  [1, 2]\n",
      "[-1288.72930822  -495.98809107  -409.41339659]\n",
      "True\n",
      "0.6271012916062361\n",
      "Score thresh:  0.5497948092439848\n"
     ]
    },
    {
     "name": "stderr",
     "output_type": "stream",
     "text": [
      "17:24:41.963  {gp} [__init__] -- INFO: initializing Y\n",
      "17:24:41.964  {gp} [__init__] -- INFO: initializing inference method\n",
      "17:24:41.964  {gp} [__init__] -- INFO: adding kernel and likelihood as parameters\n",
      "17:24:42.035  {gp} [__init__] -- INFO: initializing Y\n",
      "17:24:42.035  {gp} [__init__] -- INFO: initializing inference method\n",
      "17:24:42.036  {gp} [__init__] -- INFO: adding kernel and likelihood as parameters\n",
      "17:24:42.059  {gp} [__init__] -- INFO: initializing Y\n",
      "17:24:42.060  {gp} [__init__] -- INFO: initializing inference method\n",
      "17:24:42.060  {gp} [__init__] -- INFO: adding kernel and likelihood as parameters\n"
     ]
    },
    {
     "name": "stdout",
     "output_type": "stream",
     "text": [
      "STOP\n",
      "Optimization restart 1/5, f = 265.75039477301345\n",
      "Optimization restart 2/5, f = 265.7503947860333\n",
      "Optimization restart 3/5, f = 265.75039477245195\n",
      "Optimization restart 4/5, f = 265.75039477246423\n",
      "Optimization restart 5/5, f = 265.7503947724437\n",
      "  \u001b[1mbasic.     \u001b[0;0m  |              value  |  constraints  |    priors  \n",
      "  \u001b[1mvariance   \u001b[0;0m  |  749999.9999999999  |   +ve fixed   |            \n",
      "  \u001b[1mlengthscale\u001b[0;0m  |               (3,)  |      +ve      |  Ga(16, 40)\n",
      "  \u001b[1mindex\u001b[0;0m  |  GP_regression.basic.lengthscale  |  constraints  |    priors  \n",
      "  \u001b[1m[0]  \u001b[0;0m  |                       0.43052512  |      +ve      |  Ga(16, 40)\n",
      "  \u001b[1m[1]  \u001b[0;0m  |                       0.80445134  |      +ve      |  Ga(16, 40)\n",
      "  \u001b[1m[2]  \u001b[0;0m  |                       0.81732885  |      +ve      |  Ga(16, 40)\n",
      "  \u001b[1mindex\u001b[0;0m  |  GP_regression.basic.variance  |  constraints  |  priors\n",
      "  \u001b[1m[0]  \u001b[0;0m  |               750000.00000000  |   +ve fixed   |        \n",
      "There are 56 training examples for model 0 and 49 are positive\n",
      "There are 49 training examples for model 1 and 30 are positive\n",
      "  \u001b[1msum.             \u001b[0;0m  |                   value  |  constraints  |     priors    \n",
      "  \u001b[1mbasic.variance   \u001b[0;0m  |       43.13060548612121  |      +ve      |  Ga(6.2, 0.12)\n",
      "  \u001b[1mbasic.lengthscale\u001b[0;0m  |                    (3,)  |      +ve      |  Ga(25, 0.05) \n",
      "  \u001b[1mbias.variance    \u001b[0;0m  |  1.1414837122064296e-10  |      +ve      |               \n",
      "  \u001b[1mindex\u001b[0;0m  |  gp_classification.sum.basic.lengthscale  |  constraints  |     priors   \n",
      "  \u001b[1m[0]  \u001b[0;0m  |                             499.31010140  |      +ve      |  Ga(25, 0.05)\n",
      "  \u001b[1m[1]  \u001b[0;0m  |                             504.40028093  |      +ve      |  Ga(25, 0.05)\n",
      "  \u001b[1m[2]  \u001b[0;0m  |                             526.36968341  |      +ve      |  Ga(25, 0.05)\n",
      "  \u001b[1msum.             \u001b[0;0m  |                   value  |  constraints  |     priors    \n",
      "  \u001b[1mbasic.variance   \u001b[0;0m  |       43.19835112247274  |      +ve      |  Ga(6.2, 0.12)\n",
      "  \u001b[1mbasic.lengthscale\u001b[0;0m  |                    (3,)  |      +ve      |  Ga(25, 0.05) \n",
      "  \u001b[1mbias.variance    \u001b[0;0m  |  3.1139311888752584e-08  |      +ve      |               \n",
      "  \u001b[1mindex\u001b[0;0m  |  gp_classification.sum.basic.lengthscale  |  constraints  |     priors   \n",
      "  \u001b[1m[0]  \u001b[0;0m  |                             481.85199658  |      +ve      |  Ga(25, 0.05)\n",
      "  \u001b[1m[1]  \u001b[0;0m  |                             515.21393381  |      +ve      |  Ga(25, 0.05)\n",
      "  \u001b[1m[2]  \u001b[0;0m  |                             519.98589290  |      +ve      |  Ga(25, 0.05)\n",
      "conditional_idx: 3\n",
      "vols_pinchoff: [-1288.72930822  -495.98809107  -409.41339659]\n",
      "detected: True\n",
      "r_vals: 1440.2939789001557\n",
      "============### ITERATION 57 of 100 ###============\n",
      "GPR: True GPC: True prune: False GPR1: True GPC1: True Optim: False\n",
      "(10000, 3)\n",
      "(56, 3)\n",
      "START\n",
      "idx:  [1, 2]\n",
      "[-1286.36421341  -610.34925296  -262.18511807]\n",
      "True\n",
      "0.9007388128352974\n",
      "Score thresh:  0.5830018572750854\n"
     ]
    },
    {
     "name": "stderr",
     "output_type": "stream",
     "text": [
      "17:24:44.540  {gp} [__init__] -- INFO: initializing Y\n",
      "17:24:44.541  {gp} [__init__] -- INFO: initializing inference method\n",
      "17:24:44.541  {gp} [__init__] -- INFO: adding kernel and likelihood as parameters\n",
      "17:24:44.547  {gp} [__init__] -- INFO: initializing Y\n",
      "17:24:44.548  {gp} [__init__] -- INFO: initializing inference method\n",
      "17:24:44.548  {gp} [__init__] -- INFO: adding kernel and likelihood as parameters\n",
      "17:24:44.568  {gp} [__init__] -- INFO: initializing Y\n",
      "17:24:44.568  {gp} [__init__] -- INFO: initializing inference method\n",
      "17:24:44.568  {gp} [__init__] -- INFO: adding kernel and likelihood as parameters\n"
     ]
    },
    {
     "name": "stdout",
     "output_type": "stream",
     "text": [
      "STOP\n",
      "There are 57 training examples for model 0 and 50 are positive\n",
      "There are 50 training examples for model 1 and 31 are positive\n",
      "conditional_idx: 3\n",
      "vols_pinchoff: [-1286.36421341  -610.34925296  -262.18511807]\n",
      "detected: True\n",
      "r_vals: 1447.7569327257795\n",
      "============### ITERATION 58 of 100 ###============\n",
      "GPR: True GPC: True prune: False GPR1: True GPC1: True Optim: False\n",
      "(10000, 3)\n",
      "(57, 3)\n",
      "START\n",
      "idx:  [1, 2]\n",
      "[-1276.65991985  -793.25688184  -128.32962035]\n",
      "True\n"
     ]
    },
    {
     "name": "stderr",
     "output_type": "stream",
     "text": [
      "17:24:45.845  {gp} [__init__] -- INFO: initializing Y\n",
      "17:24:45.845  {gp} [__init__] -- INFO: initializing inference method\n",
      "17:24:45.846  {gp} [__init__] -- INFO: adding kernel and likelihood as parameters\n",
      "17:24:45.851  {gp} [__init__] -- INFO: initializing Y\n",
      "17:24:45.852  {gp} [__init__] -- INFO: initializing inference method\n",
      "17:24:45.852  {gp} [__init__] -- INFO: adding kernel and likelihood as parameters\n",
      "17:24:45.873  {gp} [__init__] -- INFO: initializing Y\n",
      "17:24:45.874  {gp} [__init__] -- INFO: initializing inference method\n",
      "17:24:45.874  {gp} [__init__] -- INFO: adding kernel and likelihood as parameters\n"
     ]
    },
    {
     "name": "stdout",
     "output_type": "stream",
     "text": [
      "0.3149652697292946\n",
      "Score thresh:  0.613602800574794\n",
      "STOP\n",
      "There are 58 training examples for model 0 and 51 are positive\n",
      "There are 51 training examples for model 1 and 32 are positive\n",
      "conditional_idx: 2\n",
      "vols_pinchoff: [-1276.65991985  -793.25688184  -128.32962035]\n",
      "detected: True\n",
      "r_vals: 1508.504399396372\n",
      "============### ITERATION 59 of 100 ###============\n",
      "GPR: True GPC: True prune: False GPR1: True GPC1: True Optim: False\n",
      "(5324, 3)\n",
      "(58, 3)\n",
      "START\n",
      "idx:  [1, 2]\n",
      "[-1027.65238913  -954.64799534 -1002.60518863]\n"
     ]
    },
    {
     "name": "stderr",
     "output_type": "stream",
     "text": [
      "17:24:46.054  {gp} [__init__] -- INFO: initializing Y\n",
      "17:24:46.056  {gp} [__init__] -- INFO: initializing inference method\n",
      "17:24:46.058  {gp} [__init__] -- INFO: adding kernel and likelihood as parameters\n",
      "17:24:46.066  {gp} [__init__] -- INFO: initializing Y\n",
      "17:24:46.068  {gp} [__init__] -- INFO: initializing inference method\n",
      "17:24:46.070  {gp} [__init__] -- INFO: adding kernel and likelihood as parameters\n",
      "17:24:46.101  {gp} [__init__] -- INFO: initializing Y\n",
      "17:24:46.105  {gp} [__init__] -- INFO: initializing inference method\n",
      "17:24:46.108  {gp} [__init__] -- INFO: adding kernel and likelihood as parameters\n"
     ]
    },
    {
     "name": "stdout",
     "output_type": "stream",
     "text": [
      "False\n",
      "STOP\n",
      "There are 59 training examples for model 0 and 52 are positive\n",
      "There are 52 training examples for model 1 and 32 are positive\n",
      "conditional_idx: 1\n",
      "vols_pinchoff: [-1027.65238913  -954.64799534 -1002.60518863]\n",
      "detected: True\n",
      "r_vals: 1724.1343892423745\n",
      "============### ITERATION 60 of 100 ###============\n",
      "GPR: True GPC: True prune: False GPR1: True GPC1: True Optim: False\n",
      "(267, 3)\n",
      "(59, 3)\n",
      "START\n",
      "idx:  [1, 2]\n",
      "[-1335.0181011   -326.7824348   -399.44848279]\n",
      "True\n"
     ]
    },
    {
     "name": "stderr",
     "output_type": "stream",
     "text": [
      "17:24:47.349  {gp} [__init__] -- INFO: initializing Y\n",
      "17:24:47.349  {gp} [__init__] -- INFO: initializing inference method\n",
      "17:24:47.350  {gp} [__init__] -- INFO: adding kernel and likelihood as parameters\n",
      "17:24:47.356  {gp} [__init__] -- INFO: initializing Y\n",
      "17:24:47.356  {gp} [__init__] -- INFO: initializing inference method\n",
      "17:24:47.356  {gp} [__init__] -- INFO: adding kernel and likelihood as parameters\n",
      "17:24:47.378  {gp} [__init__] -- INFO: initializing Y\n",
      "17:24:47.378  {gp} [__init__] -- INFO: initializing inference method\n",
      "17:24:47.378  {gp} [__init__] -- INFO: adding kernel and likelihood as parameters\n"
     ]
    },
    {
     "name": "stdout",
     "output_type": "stream",
     "text": [
      "0.4371057989392591\n",
      "Score thresh:  0.6095532532653614\n",
      "STOP\n",
      "There are 60 training examples for model 0 and 53 are positive\n",
      "There are 53 training examples for model 1 and 33 are positive\n",
      "conditional_idx: 2\n",
      "vols_pinchoff: [-1335.0181011   -326.7824348   -399.44848279]\n",
      "detected: True\n",
      "r_vals: 1431.2998219668732\n",
      "============### ITERATION 61 of 100 ###============\n",
      "GPR: True GPC: True prune: False GPR1: True GPC1: True Optim: False\n",
      "(5682, 3)\n",
      "(60, 3)\n",
      "START\n",
      "idx:  [1, 2]\n",
      "[-1207.90022357  -554.61398485  -619.981548  ]\n",
      "True\n"
     ]
    },
    {
     "name": "stderr",
     "output_type": "stream",
     "text": [
      "17:24:48.609  {gp} [__init__] -- INFO: initializing Y\n",
      "17:24:48.610  {gp} [__init__] -- INFO: initializing inference method\n",
      "17:24:48.610  {gp} [__init__] -- INFO: adding kernel and likelihood as parameters\n",
      "17:24:48.616  {gp} [__init__] -- INFO: initializing Y\n",
      "17:24:48.617  {gp} [__init__] -- INFO: initializing inference method\n",
      "17:24:48.617  {gp} [__init__] -- INFO: adding kernel and likelihood as parameters\n",
      "17:24:48.640  {gp} [__init__] -- INFO: initializing Y\n",
      "17:24:48.641  {gp} [__init__] -- INFO: initializing inference method\n",
      "17:24:48.642  {gp} [__init__] -- INFO: adding kernel and likelihood as parameters\n"
     ]
    },
    {
     "name": "stdout",
     "output_type": "stream",
     "text": [
      "0.2673863380777264\n",
      "Score thresh:  0.6055037059559287\n",
      "STOP\n",
      "There are 61 training examples for model 0 and 54 are positive\n",
      "There are 54 training examples for model 1 and 34 are positive\n",
      "conditional_idx: 2\n",
      "vols_pinchoff: [-1207.90022357  -554.61398485  -619.981548  ]\n",
      "detected: True\n",
      "r_vals: 1466.6276767296515\n",
      "============### ITERATION 62 of 100 ###============\n",
      "GPR: True GPC: True prune: False GPR1: True GPC1: True Optim: False\n",
      "(4435, 3)\n",
      "(61, 3)\n",
      "START\n",
      "idx:  [1, 2]\n",
      "[-1341.01183306  -497.86790271  -148.18932284]\n",
      "True\n",
      "0.9819999442571568\n",
      "Score thresh:  0.6014541586464962\n"
     ]
    },
    {
     "name": "stderr",
     "output_type": "stream",
     "text": [
      "17:24:50.935  {gp} [__init__] -- INFO: initializing Y\n",
      "17:24:50.936  {gp} [__init__] -- INFO: initializing inference method\n",
      "17:24:50.936  {gp} [__init__] -- INFO: adding kernel and likelihood as parameters\n",
      "17:24:50.942  {gp} [__init__] -- INFO: initializing Y\n",
      "17:24:50.942  {gp} [__init__] -- INFO: initializing inference method\n",
      "17:24:50.942  {gp} [__init__] -- INFO: adding kernel and likelihood as parameters\n",
      "17:24:50.966  {gp} [__init__] -- INFO: initializing Y\n",
      "17:24:50.967  {gp} [__init__] -- INFO: initializing inference method\n",
      "17:24:50.967  {gp} [__init__] -- INFO: adding kernel and likelihood as parameters\n"
     ]
    },
    {
     "name": "stdout",
     "output_type": "stream",
     "text": [
      "STOP\n",
      "There are 62 training examples for model 0 and 55 are positive\n",
      "There are 55 training examples for model 1 and 35 are positive\n",
      "conditional_idx: 3\n",
      "vols_pinchoff: [-1341.01183306  -497.86790271  -148.18932284]\n",
      "detected: True\n",
      "r_vals: 1438.1047459612719\n",
      "============### ITERATION 63 of 100 ###============\n",
      "GPR: True GPC: True prune: False GPR1: True GPC1: True Optim: False\n",
      "(10000, 3)\n",
      "(62, 3)\n",
      "START\n",
      "idx:  [1, 2]\n",
      "[-1170.03203403  -812.2463344   -556.33613502]\n",
      "True\n"
     ]
    },
    {
     "name": "stderr",
     "output_type": "stream",
     "text": [
      "17:24:52.248  {gp} [__init__] -- INFO: initializing Y\n",
      "17:24:52.249  {gp} [__init__] -- INFO: initializing inference method\n",
      "17:24:52.249  {gp} [__init__] -- INFO: adding kernel and likelihood as parameters\n",
      "17:24:52.255  {gp} [__init__] -- INFO: initializing Y\n",
      "17:24:52.255  {gp} [__init__] -- INFO: initializing inference method\n",
      "17:24:52.256  {gp} [__init__] -- INFO: adding kernel and likelihood as parameters\n",
      "17:24:52.277  {gp} [__init__] -- INFO: initializing Y\n",
      "17:24:52.278  {gp} [__init__] -- INFO: initializing inference method\n",
      "17:24:52.278  {gp} [__init__] -- INFO: adding kernel and likelihood as parameters\n"
     ]
    },
    {
     "name": "stdout",
     "output_type": "stream",
     "text": [
      "0.22861123407739917\n",
      "Score thresh:  0.6244015933999476\n",
      "STOP\n",
      "There are 63 training examples for model 0 and 56 are positive\n",
      "There are 56 training examples for model 1 and 36 are positive\n",
      "conditional_idx: 2\n",
      "vols_pinchoff: [-1170.03203403  -812.2463344   -556.33613502]\n",
      "detected: True\n",
      "r_vals: 1529.1268631243584\n",
      "============### ITERATION 64 of 100 ###============\n",
      "GPR: True GPC: True prune: False GPR1: True GPC1: True Optim: False\n",
      "(6293, 3)\n",
      "(63, 3)\n",
      "START\n",
      "idx:  [1, 2]\n",
      "[-1264.48809279  -215.71306644  -795.53816364]\n",
      "True\n"
     ]
    },
    {
     "name": "stderr",
     "output_type": "stream",
     "text": [
      "17:24:53.535  {gp} [__init__] -- INFO: initializing Y\n",
      "17:24:53.536  {gp} [__init__] -- INFO: initializing inference method\n",
      "17:24:53.536  {gp} [__init__] -- INFO: adding kernel and likelihood as parameters\n",
      "17:24:53.542  {gp} [__init__] -- INFO: initializing Y\n",
      "17:24:53.543  {gp} [__init__] -- INFO: initializing inference method\n",
      "17:24:53.543  {gp} [__init__] -- INFO: adding kernel and likelihood as parameters\n",
      "17:24:53.566  {gp} [__init__] -- INFO: initializing Y\n",
      "17:24:53.567  {gp} [__init__] -- INFO: initializing inference method\n",
      "17:24:53.567  {gp} [__init__] -- INFO: adding kernel and likelihood as parameters\n"
     ]
    },
    {
     "name": "stdout",
     "output_type": "stream",
     "text": [
      "0.16255737470522838\n",
      "Score thresh:  0.620352046090515\n",
      "STOP\n",
      "There are 64 training examples for model 0 and 57 are positive\n",
      "There are 57 training examples for model 1 and 37 are positive\n",
      "conditional_idx: 2\n",
      "vols_pinchoff: [-1264.48809279  -215.71306644  -795.53816364]\n",
      "detected: True\n",
      "r_vals: 1509.4181771920862\n",
      "============### ITERATION 65 of 100 ###============\n",
      "GPR: True GPC: True prune: False GPR1: True GPC1: True Optim: False\n",
      "(5925, 3)\n",
      "(64, 3)\n",
      "START\n",
      "idx:  [1, 2]\n",
      "[-1148.79909754  -910.67053608  -568.1463276 ]\n",
      "True\n"
     ]
    },
    {
     "name": "stderr",
     "output_type": "stream",
     "text": [
      "17:24:54.816  {gp} [__init__] -- INFO: initializing Y\n",
      "17:24:54.817  {gp} [__init__] -- INFO: initializing inference method\n",
      "17:24:54.818  {gp} [__init__] -- INFO: adding kernel and likelihood as parameters\n",
      "17:24:54.823  {gp} [__init__] -- INFO: initializing Y\n",
      "17:24:54.824  {gp} [__init__] -- INFO: initializing inference method\n",
      "17:24:54.824  {gp} [__init__] -- INFO: adding kernel and likelihood as parameters\n",
      "17:24:54.848  {gp} [__init__] -- INFO: initializing Y\n",
      "17:24:54.848  {gp} [__init__] -- INFO: initializing inference method\n",
      "17:24:54.849  {gp} [__init__] -- INFO: adding kernel and likelihood as parameters\n"
     ]
    },
    {
     "name": "stdout",
     "output_type": "stream",
     "text": [
      "0.19249737325919694\n",
      "Score thresh:  0.6163024987810825\n",
      "STOP\n",
      "There are 65 training examples for model 0 and 58 are positive\n",
      "There are 58 training examples for model 1 and 38 are positive\n",
      "conditional_idx: 2\n",
      "vols_pinchoff: [-1148.79909754  -910.67053608  -568.1463276 ]\n",
      "detected: True\n",
      "r_vals: 1572.2119581506827\n",
      "============### ITERATION 66 of 100 ###============\n",
      "GPR: True GPC: True prune: False GPR1: True GPC1: True Optim: False\n",
      "(5454, 3)\n",
      "(65, 3)\n",
      "START\n",
      "idx:  [1, 2]\n",
      "[-1253.03163397  -204.81322231  -806.28099292]\n",
      "True\n"
     ]
    },
    {
     "name": "stderr",
     "output_type": "stream",
     "text": [
      "17:24:56.111  {gp} [__init__] -- INFO: initializing Y\n",
      "17:24:56.112  {gp} [__init__] -- INFO: initializing inference method\n",
      "17:24:56.112  {gp} [__init__] -- INFO: adding kernel and likelihood as parameters\n",
      "17:24:56.118  {gp} [__init__] -- INFO: initializing Y\n",
      "17:24:56.119  {gp} [__init__] -- INFO: initializing inference method\n",
      "17:24:56.119  {gp} [__init__] -- INFO: adding kernel and likelihood as parameters\n",
      "17:24:56.144  {gp} [__init__] -- INFO: initializing Y\n",
      "17:24:56.144  {gp} [__init__] -- INFO: initializing inference method\n",
      "17:24:56.144  {gp} [__init__] -- INFO: adding kernel and likelihood as parameters\n"
     ]
    },
    {
     "name": "stdout",
     "output_type": "stream",
     "text": [
      "0.15879342929151974\n",
      "Score thresh:  0.6122529514716498\n",
      "STOP\n",
      "There are 66 training examples for model 0 and 59 are positive\n",
      "There are 59 training examples for model 1 and 39 are positive\n",
      "conditional_idx: 2\n",
      "vols_pinchoff: [-1253.03163397  -204.81322231  -806.28099292]\n",
      "detected: True\n",
      "r_vals: 1504.0364926761058\n",
      "============### ITERATION 67 of 100 ###============\n",
      "GPR: True GPC: True prune: False GPR1: True GPC1: True Optim: True\n",
      "(6087, 3)\n",
      "(66, 3)\n",
      "START\n",
      "idx:  [1, 2]\n",
      "[-1415.76846422  -328.57080279   -78.43190626]\n",
      "True\n"
     ]
    },
    {
     "name": "stderr",
     "output_type": "stream",
     "text": [
      "17:24:57.485  {gp} [__init__] -- INFO: initializing Y\n",
      "17:24:57.486  {gp} [__init__] -- INFO: initializing inference method\n",
      "17:24:57.486  {gp} [__init__] -- INFO: adding kernel and likelihood as parameters\n"
     ]
    },
    {
     "name": "stdout",
     "output_type": "stream",
     "text": [
      "0.4123103837083465\n",
      "Score thresh:  0.6082034041622172\n",
      "STOP\n",
      "Optimization restart 1/5, f = 311.1614831608764\n",
      "Optimization restart 2/5, f = 311.16148328607846\n",
      "Optimization restart 3/5, f = 311.16148315988676\n"
     ]
    },
    {
     "name": "stderr",
     "output_type": "stream",
     "text": [
      "17:24:57.564  {gp} [__init__] -- INFO: initializing Y\n",
      "17:24:57.564  {gp} [__init__] -- INFO: initializing inference method\n",
      "17:24:57.565  {gp} [__init__] -- INFO: adding kernel and likelihood as parameters\n",
      "17:24:57.590  {gp} [__init__] -- INFO: initializing Y\n",
      "17:24:57.590  {gp} [__init__] -- INFO: initializing inference method\n",
      "17:24:57.592  {gp} [__init__] -- INFO: adding kernel and likelihood as parameters\n"
     ]
    },
    {
     "name": "stdout",
     "output_type": "stream",
     "text": [
      "Optimization restart 4/5, f = 311.16148315988113\n",
      "Optimization restart 5/5, f = 311.1614831598112\n",
      "  \u001b[1mbasic.     \u001b[0;0m  |              value  |  constraints  |    priors  \n",
      "  \u001b[1mvariance   \u001b[0;0m  |  749999.9999999999  |   +ve fixed   |            \n",
      "  \u001b[1mlengthscale\u001b[0;0m  |               (3,)  |      +ve      |  Ga(16, 40)\n",
      "  \u001b[1mindex\u001b[0;0m  |  GP_regression.basic.lengthscale  |  constraints  |    priors  \n",
      "  \u001b[1m[0]  \u001b[0;0m  |                       0.43621965  |      +ve      |  Ga(16, 40)\n",
      "  \u001b[1m[1]  \u001b[0;0m  |                       0.80581710  |      +ve      |  Ga(16, 40)\n",
      "  \u001b[1m[2]  \u001b[0;0m  |                       0.80587014  |      +ve      |  Ga(16, 40)\n",
      "  \u001b[1mindex\u001b[0;0m  |  GP_regression.basic.variance  |  constraints  |  priors\n",
      "  \u001b[1m[0]  \u001b[0;0m  |               750000.00000000  |   +ve fixed   |        \n",
      "There are 67 training examples for model 0 and 60 are positive\n",
      "There are 60 training examples for model 1 and 40 are positive\n",
      "  \u001b[1msum.             \u001b[0;0m  |                   value  |  constraints  |     priors    \n",
      "  \u001b[1mbasic.variance   \u001b[0;0m  |       43.20893864227469  |      +ve      |  Ga(6.2, 0.12)\n",
      "  \u001b[1mbasic.lengthscale\u001b[0;0m  |                    (3,)  |      +ve      |  Ga(25, 0.05) \n",
      "  \u001b[1mbias.variance    \u001b[0;0m  |  1.1414836690519918e-10  |      +ve      |               \n",
      "  \u001b[1mindex\u001b[0;0m  |  gp_classification.sum.basic.lengthscale  |  constraints  |     priors   \n",
      "  \u001b[1m[0]  \u001b[0;0m  |                             500.20122893  |      +ve      |  Ga(25, 0.05)\n",
      "  \u001b[1m[1]  \u001b[0;0m  |                             506.56353074  |      +ve      |  Ga(25, 0.05)\n",
      "  \u001b[1m[2]  \u001b[0;0m  |                             528.91628137  |      +ve      |  Ga(25, 0.05)\n",
      "  \u001b[1msum.             \u001b[0;0m  |                 value  |  constraints  |     priors    \n",
      "  \u001b[1mbasic.variance   \u001b[0;0m  |     43.71321768106405  |      +ve      |  Ga(6.2, 0.12)\n",
      "  \u001b[1mbasic.lengthscale\u001b[0;0m  |                  (3,)  |      +ve      |  Ga(25, 0.05) \n",
      "  \u001b[1mbias.variance    \u001b[0;0m  |  3.11391242423556e-08  |      +ve      |               \n",
      "  \u001b[1mindex\u001b[0;0m  |  gp_classification.sum.basic.lengthscale  |  constraints  |     priors   \n",
      "  \u001b[1m[0]  \u001b[0;0m  |                             481.62995212  |      +ve      |  Ga(25, 0.05)\n",
      "  \u001b[1m[1]  \u001b[0;0m  |                             517.68918934  |      +ve      |  Ga(25, 0.05)\n",
      "  \u001b[1m[2]  \u001b[0;0m  |                             521.91463337  |      +ve      |  Ga(25, 0.05)\n",
      "conditional_idx: 2\n",
      "vols_pinchoff: [-1415.76846422  -328.57080279   -78.43190626]\n",
      "detected: True\n",
      "r_vals: 1455.5104536344247\n",
      "============### ITERATION 68 of 100 ###============\n",
      "GPR: True GPC: True prune: False GPR1: True GPC1: True Optim: False\n",
      "(6051, 3)\n",
      "(67, 3)\n",
      "START\n"
     ]
    },
    {
     "name": "stderr",
     "output_type": "stream",
     "text": [
      "17:24:57.957  {gp} [__init__] -- INFO: initializing Y\n",
      "17:24:57.960  {gp} [__init__] -- INFO: initializing inference method\n",
      "17:24:57.962  {gp} [__init__] -- INFO: adding kernel and likelihood as parameters\n",
      "17:24:57.969  {gp} [__init__] -- INFO: initializing Y\n",
      "17:24:57.971  {gp} [__init__] -- INFO: initializing inference method\n",
      "17:24:57.975  {gp} [__init__] -- INFO: adding kernel and likelihood as parameters\n"
     ]
    },
    {
     "name": "stdout",
     "output_type": "stream",
     "text": [
      "idx:  [1, 2]\n",
      "[ -922.01490748 -1260.74817334   -71.07787017]\n",
      "False\n",
      "STOP\n",
      "There are 68 training examples for model 0 and 61 are positive\n"
     ]
    },
    {
     "name": "stderr",
     "output_type": "stream",
     "text": [
      "17:24:58.011  {gp} [__init__] -- INFO: initializing Y\n",
      "17:24:58.013  {gp} [__init__] -- INFO: initializing inference method\n",
      "17:24:58.015  {gp} [__init__] -- INFO: adding kernel and likelihood as parameters\n"
     ]
    },
    {
     "name": "stdout",
     "output_type": "stream",
     "text": [
      "There are 61 training examples for model 1 and 40 are positive\n",
      "conditional_idx: 1\n",
      "vols_pinchoff: [ -922.01490748 -1260.74817334   -71.07787017]\n",
      "detected: True\n",
      "r_vals: 1563.5374986935044\n",
      "============### ITERATION 69 of 100 ###============\n",
      "GPR: True GPC: True prune: False GPR1: True GPC1: True Optim: False\n",
      "(327, 3)\n",
      "(68, 3)\n",
      "START\n",
      "idx:  [1, 2]\n",
      "[-1318.99264455  -511.07841454  -289.76637211]\n",
      "True\n",
      "2.422439949028768\n",
      "Score thresh:  0.6041538568527846\n"
     ]
    },
    {
     "name": "stderr",
     "output_type": "stream",
     "text": [
      "17:25:00.340  {gp} [__init__] -- INFO: initializing Y\n",
      "17:25:00.341  {gp} [__init__] -- INFO: initializing inference method\n",
      "17:25:00.341  {gp} [__init__] -- INFO: adding kernel and likelihood as parameters\n",
      "17:25:00.347  {gp} [__init__] -- INFO: initializing Y\n",
      "17:25:00.348  {gp} [__init__] -- INFO: initializing inference method\n",
      "17:25:00.348  {gp} [__init__] -- INFO: adding kernel and likelihood as parameters\n",
      "17:25:00.387  {gp} [__init__] -- INFO: initializing Y\n",
      "17:25:00.387  {gp} [__init__] -- INFO: initializing inference method\n",
      "17:25:00.388  {gp} [__init__] -- INFO: adding kernel and likelihood as parameters\n"
     ]
    },
    {
     "name": "stdout",
     "output_type": "stream",
     "text": [
      "STOP\n",
      "There are 69 training examples for model 0 and 62 are positive\n",
      "There are 62 training examples for model 1 and 41 are positive\n",
      "conditional_idx: 3\n",
      "vols_pinchoff: [-1318.99264455  -511.07841454  -289.76637211]\n",
      "detected: True\n",
      "r_vals: 1443.9208055089462\n",
      "============### ITERATION 70 of 100 ###============\n",
      "GPR: True GPC: True prune: False GPR1: True GPC1: True Optim: False\n",
      "(10000, 3)\n",
      "(69, 3)\n",
      "START\n",
      "idx:  [1, 2]\n",
      "[-1307.77912471  -439.66293705  -352.49675727]\n",
      "True\n",
      "0.840777199004121\n",
      "Score thresh:  0.6271012916062361\n"
     ]
    },
    {
     "name": "stderr",
     "output_type": "stream",
     "text": [
      "17:25:02.715  {gp} [__init__] -- INFO: initializing Y\n",
      "17:25:02.716  {gp} [__init__] -- INFO: initializing inference method\n",
      "17:25:02.717  {gp} [__init__] -- INFO: adding kernel and likelihood as parameters\n",
      "17:25:02.722  {gp} [__init__] -- INFO: initializing Y\n",
      "17:25:02.723  {gp} [__init__] -- INFO: initializing inference method\n",
      "17:25:02.723  {gp} [__init__] -- INFO: adding kernel and likelihood as parameters\n",
      "17:25:02.748  {gp} [__init__] -- INFO: initializing Y\n",
      "17:25:02.749  {gp} [__init__] -- INFO: initializing inference method\n",
      "17:25:02.749  {gp} [__init__] -- INFO: adding kernel and likelihood as parameters\n"
     ]
    },
    {
     "name": "stdout",
     "output_type": "stream",
     "text": [
      "STOP\n",
      "There are 70 training examples for model 0 and 63 are positive\n",
      "There are 63 training examples for model 1 and 42 are positive\n",
      "conditional_idx: 3\n",
      "vols_pinchoff: [-1307.77912471  -439.66293705  -352.49675727]\n",
      "detected: True\n",
      "r_vals: 1424.023771263677\n",
      "============### ITERATION 71 of 100 ###============\n",
      "GPR: True GPC: True prune: False GPR1: True GPC1: True Optim: False\n",
      "(10000, 3)\n",
      "(70, 3)\n",
      "START\n",
      "idx:  [1, 2]\n",
      "[-1414.48559422  -247.70597364  -107.16548019]\n",
      "True\n"
     ]
    },
    {
     "name": "stderr",
     "output_type": "stream",
     "text": [
      "17:25:04.027  {gp} [__init__] -- INFO: initializing Y\n",
      "17:25:04.028  {gp} [__init__] -- INFO: initializing inference method\n",
      "17:25:04.028  {gp} [__init__] -- INFO: adding kernel and likelihood as parameters\n",
      "17:25:04.034  {gp} [__init__] -- INFO: initializing Y\n",
      "17:25:04.035  {gp} [__init__] -- INFO: initializing inference method\n",
      "17:25:04.035  {gp} [__init__] -- INFO: adding kernel and likelihood as parameters\n",
      "17:25:04.061  {gp} [__init__] -- INFO: initializing Y\n",
      "17:25:04.061  {gp} [__init__] -- INFO: initializing inference method\n",
      "17:25:04.061  {gp} [__init__] -- INFO: adding kernel and likelihood as parameters\n"
     ]
    },
    {
     "name": "stdout",
     "output_type": "stream",
     "text": [
      "0.34492197940731395\n",
      "Score thresh:  0.7427568576360633\n",
      "STOP\n",
      "There are 71 training examples for model 0 and 64 are positive\n",
      "There are 64 training examples for model 1 and 43 are positive\n",
      "conditional_idx: 2\n",
      "vols_pinchoff: [-1414.48559422  -247.70597364  -107.16548019]\n",
      "detected: True\n",
      "r_vals: 1440.0042311685893\n",
      "============### ITERATION 72 of 100 ###============\n",
      "GPR: True GPC: True prune: False GPR1: True GPC1: True Optim: False\n",
      "(5682, 3)\n",
      "(71, 3)\n",
      "START\n",
      "idx:  [1, 2]\n",
      "[-1416.578059    -281.23506619   -69.75273058]\n",
      "True\n"
     ]
    },
    {
     "name": "stderr",
     "output_type": "stream",
     "text": [
      "17:25:05.318  {gp} [__init__] -- INFO: initializing Y\n",
      "17:25:05.319  {gp} [__init__] -- INFO: initializing inference method\n",
      "17:25:05.319  {gp} [__init__] -- INFO: adding kernel and likelihood as parameters\n",
      "17:25:05.333  {gp} [__init__] -- INFO: initializing Y\n",
      "17:25:05.334  {gp} [__init__] -- INFO: initializing inference method\n",
      "17:25:05.334  {gp} [__init__] -- INFO: adding kernel and likelihood as parameters\n",
      "17:25:05.361  {gp} [__init__] -- INFO: initializing Y\n",
      "17:25:05.361  {gp} [__init__] -- INFO: initializing inference method\n",
      "17:25:05.362  {gp} [__init__] -- INFO: adding kernel and likelihood as parameters\n"
     ]
    },
    {
     "name": "stdout",
     "output_type": "stream",
     "text": [
      "0.35278872421589313\n",
      "Score thresh:  0.722347051866093\n",
      "STOP\n",
      "There are 72 training examples for model 0 and 65 are positive\n",
      "There are 65 training examples for model 1 and 44 are positive\n",
      "conditional_idx: 2\n",
      "vols_pinchoff: [-1416.578059    -281.23506619   -69.75273058]\n",
      "detected: True\n",
      "r_vals: 1445.9087118937912\n",
      "============### ITERATION 73 of 100 ###============\n",
      "GPR: True GPC: True prune: False GPR1: True GPC1: True Optim: False\n",
      "(5309, 3)\n",
      "(72, 3)\n",
      "START\n",
      "idx:  [1, 2]\n",
      "[-1179.7510315   -811.6627613   -475.33094988]\n",
      "True\n"
     ]
    },
    {
     "name": "stderr",
     "output_type": "stream",
     "text": [
      "17:25:06.615  {gp} [__init__] -- INFO: initializing Y\n",
      "17:25:06.616  {gp} [__init__] -- INFO: initializing inference method\n",
      "17:25:06.616  {gp} [__init__] -- INFO: adding kernel and likelihood as parameters\n",
      "17:25:06.630  {gp} [__init__] -- INFO: initializing Y\n",
      "17:25:06.631  {gp} [__init__] -- INFO: initializing inference method\n",
      "17:25:06.631  {gp} [__init__] -- INFO: adding kernel and likelihood as parameters\n",
      "17:25:06.657  {gp} [__init__] -- INFO: initializing Y\n",
      "17:25:06.657  {gp} [__init__] -- INFO: initializing inference method\n",
      "17:25:06.658  {gp} [__init__] -- INFO: adding kernel and likelihood as parameters\n"
     ]
    },
    {
     "name": "stdout",
     "output_type": "stream",
     "text": [
      "0.260018703171191\n",
      "Score thresh:  0.7019372460961237\n",
      "STOP\n",
      "There are 73 training examples for model 0 and 66 are positive\n",
      "There are 66 training examples for model 1 and 45 are positive\n",
      "conditional_idx: 2\n",
      "vols_pinchoff: [-1179.7510315   -811.6627613   -475.33094988]\n",
      "detected: True\n",
      "r_vals: 1508.8235305441103\n",
      "============### ITERATION 74 of 100 ###============\n",
      "GPR: True GPC: True prune: False GPR1: True GPC1: True Optim: False\n",
      "(5799, 3)\n",
      "(73, 3)\n",
      "START\n",
      "idx:  [1, 2]\n",
      "[-1053.87931271 -1062.95944415  -729.42225749]\n"
     ]
    },
    {
     "name": "stderr",
     "output_type": "stream",
     "text": [
      "17:25:06.848  {gp} [__init__] -- INFO: initializing Y\n",
      "17:25:06.849  {gp} [__init__] -- INFO: initializing inference method\n",
      "17:25:06.851  {gp} [__init__] -- INFO: adding kernel and likelihood as parameters\n",
      "17:25:06.857  {gp} [__init__] -- INFO: initializing Y\n",
      "17:25:06.858  {gp} [__init__] -- INFO: initializing inference method\n",
      "17:25:06.860  {gp} [__init__] -- INFO: adding kernel and likelihood as parameters\n",
      "17:25:06.885  {gp} [__init__] -- INFO: initializing Y\n",
      "17:25:06.886  {gp} [__init__] -- INFO: initializing inference method\n",
      "17:25:06.888  {gp} [__init__] -- INFO: adding kernel and likelihood as parameters\n"
     ]
    },
    {
     "name": "stdout",
     "output_type": "stream",
     "text": [
      "False\n",
      "STOP\n",
      "There are 74 training examples for model 0 and 67 are positive\n",
      "There are 67 training examples for model 1 and 45 are positive\n",
      "conditional_idx: 1\n",
      "vols_pinchoff: [-1053.87931271 -1062.95944415  -729.42225749]\n",
      "detected: True\n",
      "r_vals: 1665.112973761595\n",
      "============### ITERATION 75 of 100 ###============\n",
      "GPR: True GPC: True prune: False GPR1: True GPC1: True Optim: False\n",
      "(152, 3)\n",
      "(74, 3)\n",
      "START\n",
      "idx:  [1, 2]\n",
      "[-1.29147323e+03 -8.75053323e+02 -4.08498328e-01]\n",
      "True\n"
     ]
    },
    {
     "name": "stderr",
     "output_type": "stream",
     "text": [
      "17:25:08.100  {gp} [__init__] -- INFO: initializing Y\n",
      "17:25:08.101  {gp} [__init__] -- INFO: initializing inference method\n",
      "17:25:08.101  {gp} [__init__] -- INFO: adding kernel and likelihood as parameters\n",
      "17:25:08.107  {gp} [__init__] -- INFO: initializing Y\n",
      "17:25:08.107  {gp} [__init__] -- INFO: initializing inference method\n",
      "17:25:08.108  {gp} [__init__] -- INFO: adding kernel and likelihood as parameters\n",
      "17:25:08.134  {gp} [__init__] -- INFO: initializing Y\n",
      "17:25:08.134  {gp} [__init__] -- INFO: initializing inference method\n",
      "17:25:08.134  {gp} [__init__] -- INFO: adding kernel and likelihood as parameters\n"
     ]
    },
    {
     "name": "stdout",
     "output_type": "stream",
     "text": [
      "0.22196975166389935\n",
      "Score thresh:  0.6815274403261544\n",
      "STOP\n",
      "There are 75 training examples for model 0 and 68 are positive\n",
      "There are 68 training examples for model 1 and 46 are positive\n",
      "conditional_idx: 2\n",
      "vols_pinchoff: [-1.29147323e+03 -8.75053323e+02 -4.08498328e-01]\n",
      "detected: True\n",
      "r_vals: 1560.006923232634\n",
      "============### ITERATION 76 of 100 ###============\n",
      "GPR: True GPC: True prune: False GPR1: True GPC1: True Optim: False\n",
      "(4982, 3)\n",
      "(75, 3)\n",
      "START\n",
      "idx:  [1, 2]\n",
      "[-1408.45377862  -104.46126247  -302.44119969]\n",
      "True\n"
     ]
    },
    {
     "name": "stderr",
     "output_type": "stream",
     "text": [
      "17:25:09.394  {gp} [__init__] -- INFO: initializing Y\n",
      "17:25:09.394  {gp} [__init__] -- INFO: initializing inference method\n",
      "17:25:09.395  {gp} [__init__] -- INFO: adding kernel and likelihood as parameters\n",
      "17:25:09.401  {gp} [__init__] -- INFO: initializing Y\n",
      "17:25:09.402  {gp} [__init__] -- INFO: initializing inference method\n",
      "17:25:09.402  {gp} [__init__] -- INFO: adding kernel and likelihood as parameters\n",
      "17:25:09.428  {gp} [__init__] -- INFO: initializing Y\n",
      "17:25:09.428  {gp} [__init__] -- INFO: initializing inference method\n",
      "17:25:09.429  {gp} [__init__] -- INFO: adding kernel and likelihood as parameters\n"
     ]
    },
    {
     "name": "stdout",
     "output_type": "stream",
     "text": [
      "0.25062658821085765\n",
      "Score thresh:  0.6611176345561851\n",
      "STOP\n",
      "There are 76 training examples for model 0 and 69 are positive\n",
      "There are 69 training examples for model 1 and 47 are positive\n",
      "conditional_idx: 2\n",
      "vols_pinchoff: [-1408.45377862  -104.46126247  -302.44119969]\n",
      "detected: True\n",
      "r_vals: 1444.3423697808107\n",
      "============### ITERATION 77 of 100 ###============\n",
      "GPR: True GPC: True prune: False GPR1: True GPC1: True Optim: False\n",
      "(5811, 3)\n",
      "(76, 3)\n",
      "START\n",
      "idx:  [1, 2]\n",
      "[-1118.31420629  -867.20755497  -672.01536019]\n",
      "True\n"
     ]
    },
    {
     "name": "stderr",
     "output_type": "stream",
     "text": [
      "17:25:10.688  {gp} [__init__] -- INFO: initializing Y\n",
      "17:25:10.689  {gp} [__init__] -- INFO: initializing inference method\n",
      "17:25:10.690  {gp} [__init__] -- INFO: adding kernel and likelihood as parameters\n",
      "17:25:10.695  {gp} [__init__] -- INFO: initializing Y\n",
      "17:25:10.696  {gp} [__init__] -- INFO: initializing inference method\n",
      "17:25:10.696  {gp} [__init__] -- INFO: adding kernel and likelihood as parameters\n",
      "17:25:10.723  {gp} [__init__] -- INFO: initializing Y\n",
      "17:25:10.723  {gp} [__init__] -- INFO: initializing inference method\n",
      "17:25:10.724  {gp} [__init__] -- INFO: adding kernel and likelihood as parameters\n"
     ]
    },
    {
     "name": "stdout",
     "output_type": "stream",
     "text": [
      "0.1787601061865487\n",
      "Score thresh:  0.6407078287862159\n",
      "STOP\n",
      "There are 77 training examples for model 0 and 70 are positive\n",
      "There are 70 training examples for model 1 and 48 are positive\n",
      "conditional_idx: 2\n",
      "vols_pinchoff: [-1118.31420629  -867.20755497  -672.01536019]\n",
      "detected: True\n",
      "r_vals: 1566.6142638532162\n",
      "============### ITERATION 78 of 100 ###============\n",
      "GPR: True GPC: True prune: False GPR1: True GPC1: True Optim: True\n",
      "(5224, 3)\n",
      "(77, 3)\n",
      "START\n",
      "idx:  [1, 2]\n",
      "[-1225.88486746  -130.15863648 -1020.25699019]\n"
     ]
    },
    {
     "name": "stderr",
     "output_type": "stream",
     "text": [
      "17:25:10.918  {gp} [__init__] -- INFO: initializing Y\n",
      "17:25:10.921  {gp} [__init__] -- INFO: initializing inference method\n",
      "17:25:10.923  {gp} [__init__] -- INFO: adding kernel and likelihood as parameters\n"
     ]
    },
    {
     "name": "stdout",
     "output_type": "stream",
     "text": [
      "False\n",
      "STOP\n",
      "Optimization restart 1/5, f = 357.1712495772535\n",
      "Optimization restart 2/5, f = 357.1712496637129\n",
      "Optimization restart 3/5, f = 357.1712495782288\n",
      "Optimization restart 4/5, f = 357.17124957725525\n"
     ]
    },
    {
     "name": "stderr",
     "output_type": "stream",
     "text": [
      "17:25:11.014  {gp} [__init__] -- INFO: initializing Y\n",
      "17:25:11.014  {gp} [__init__] -- INFO: initializing inference method\n",
      "17:25:11.014  {gp} [__init__] -- INFO: adding kernel and likelihood as parameters\n",
      "17:25:11.041  {gp} [__init__] -- INFO: initializing Y\n",
      "17:25:11.041  {gp} [__init__] -- INFO: initializing inference method\n",
      "17:25:11.043  {gp} [__init__] -- INFO: adding kernel and likelihood as parameters\n"
     ]
    },
    {
     "name": "stdout",
     "output_type": "stream",
     "text": [
      "Optimization restart 5/5, f = 357.17124957731374\n",
      "  \u001b[1mbasic.     \u001b[0;0m  |              value  |  constraints  |    priors  \n",
      "  \u001b[1mvariance   \u001b[0;0m  |  749999.9999999999  |   +ve fixed   |            \n",
      "  \u001b[1mlengthscale\u001b[0;0m  |               (3,)  |      +ve      |  Ga(16, 40)\n",
      "  \u001b[1mindex\u001b[0;0m  |  GP_regression.basic.lengthscale  |  constraints  |    priors  \n",
      "  \u001b[1m[0]  \u001b[0;0m  |                       0.43249272  |      +ve      |  Ga(16, 40)\n",
      "  \u001b[1m[1]  \u001b[0;0m  |                       0.81836026  |      +ve      |  Ga(16, 40)\n",
      "  \u001b[1m[2]  \u001b[0;0m  |                       0.86691972  |      +ve      |  Ga(16, 40)\n",
      "  \u001b[1mindex\u001b[0;0m  |  GP_regression.basic.variance  |  constraints  |  priors\n",
      "  \u001b[1m[0]  \u001b[0;0m  |               750000.00000000  |   +ve fixed   |        \n",
      "There are 78 training examples for model 0 and 71 are positive\n",
      "There are 71 training examples for model 1 and 48 are positive\n",
      "  \u001b[1msum.             \u001b[0;0m  |                   value  |  constraints  |     priors    \n",
      "  \u001b[1mbasic.variance   \u001b[0;0m  |       43.29357819671283  |      +ve      |  Ga(6.2, 0.12)\n",
      "  \u001b[1mbasic.lengthscale\u001b[0;0m  |                    (3,)  |      +ve      |  Ga(25, 0.05) \n",
      "  \u001b[1mbias.variance    \u001b[0;0m  |  1.1414835835385038e-10  |      +ve      |               \n",
      "  \u001b[1mindex\u001b[0;0m  |  gp_classification.sum.basic.lengthscale  |  constraints  |     priors   \n",
      "  \u001b[1m[0]  \u001b[0;0m  |                             501.85632962  |      +ve      |  Ga(25, 0.05)\n",
      "  \u001b[1m[1]  \u001b[0;0m  |                             509.43363767  |      +ve      |  Ga(25, 0.05)\n",
      "  \u001b[1m[2]  \u001b[0;0m  |                             532.22443943  |      +ve      |  Ga(25, 0.05)\n",
      "  \u001b[1msum.             \u001b[0;0m  |                  value  |  constraints  |     priors    \n",
      "  \u001b[1mbasic.variance   \u001b[0;0m  |     41.929244482732926  |      +ve      |  Ga(6.2, 0.12)\n",
      "  \u001b[1mbasic.lengthscale\u001b[0;0m  |                   (3,)  |      +ve      |  Ga(25, 0.05) \n",
      "  \u001b[1mbias.variance    \u001b[0;0m  |  3.113972927700953e-08  |      +ve      |               \n",
      "  \u001b[1mindex\u001b[0;0m  |  gp_classification.sum.basic.lengthscale  |  constraints  |     priors   \n",
      "  \u001b[1m[0]  \u001b[0;0m  |                             486.34970047  |      +ve      |  Ga(25, 0.05)\n",
      "  \u001b[1m[1]  \u001b[0;0m  |                             518.10512853  |      +ve      |  Ga(25, 0.05)\n",
      "  \u001b[1m[2]  \u001b[0;0m  |                             526.25908832  |      +ve      |  Ga(25, 0.05)\n",
      "conditional_idx: 1\n",
      "vols_pinchoff: [-1225.88486746  -130.15863648 -1020.25699019]\n",
      "detected: True\n",
      "r_vals: 1600.2060195386166\n",
      "============### ITERATION 79 of 100 ###============\n",
      "GPR: True GPC: True prune: False GPR1: True GPC1: True Optim: False\n",
      "(206, 3)\n",
      "(78, 3)\n",
      "START\n",
      "idx:  [1, 2]\n",
      "[-1254.17168629  -308.37232246  -676.02383424]\n",
      "True\n"
     ]
    },
    {
     "name": "stderr",
     "output_type": "stream",
     "text": [
      "17:25:12.505  {gp} [__init__] -- INFO: initializing Y\n",
      "17:25:12.506  {gp} [__init__] -- INFO: initializing inference method\n",
      "17:25:12.506  {gp} [__init__] -- INFO: adding kernel and likelihood as parameters\n",
      "17:25:12.512  {gp} [__init__] -- INFO: initializing Y\n",
      "17:25:12.513  {gp} [__init__] -- INFO: initializing inference method\n",
      "17:25:12.513  {gp} [__init__] -- INFO: adding kernel and likelihood as parameters\n",
      "17:25:12.541  {gp} [__init__] -- INFO: initializing Y\n",
      "17:25:12.541  {gp} [__init__] -- INFO: initializing inference method\n",
      "17:25:12.542  {gp} [__init__] -- INFO: adding kernel and likelihood as parameters\n"
     ]
    },
    {
     "name": "stdout",
     "output_type": "stream",
     "text": [
      "0.2140697183843671\n",
      "Score thresh:  0.6257514425030918\n",
      "STOP\n",
      "There are 79 training examples for model 0 and 72 are positive\n",
      "There are 72 training examples for model 1 and 49 are positive\n",
      "conditional_idx: 2\n",
      "vols_pinchoff: [-1254.17168629  -308.37232246  -676.02383424]\n",
      "detected: True\n",
      "r_vals: 1457.7545514950862\n",
      "============### ITERATION 80 of 100 ###============\n",
      "GPR: True GPC: True prune: False GPR1: True GPC1: True Optim: False\n",
      "(5625, 3)\n",
      "(79, 3)\n",
      "START\n",
      "idx:  [1, 2]\n",
      "[-1459.14582366  -133.52188267  -103.12898182]\n",
      "True\n"
     ]
    },
    {
     "name": "stderr",
     "output_type": "stream",
     "text": [
      "17:25:13.798  {gp} [__init__] -- INFO: initializing Y\n",
      "17:25:13.799  {gp} [__init__] -- INFO: initializing inference method\n",
      "17:25:13.799  {gp} [__init__] -- INFO: adding kernel and likelihood as parameters\n",
      "17:25:13.805  {gp} [__init__] -- INFO: initializing Y\n",
      "17:25:13.806  {gp} [__init__] -- INFO: initializing inference method\n",
      "17:25:13.806  {gp} [__init__] -- INFO: adding kernel and likelihood as parameters\n",
      "17:25:13.836  {gp} [__init__] -- INFO: initializing Y\n",
      "17:25:13.836  {gp} [__init__] -- INFO: initializing inference method\n",
      "17:25:13.837  {gp} [__init__] -- INFO: adding kernel and likelihood as parameters\n"
     ]
    },
    {
     "name": "stdout",
     "output_type": "stream",
     "text": [
      "0.25328446510395414\n",
      "Score thresh:  0.6217018951936591\n",
      "STOP\n",
      "There are 80 training examples for model 0 and 73 are positive\n",
      "There are 73 training examples for model 1 and 50 are positive\n",
      "conditional_idx: 2\n",
      "vols_pinchoff: [-1459.14582366  -133.52188267  -103.12898182]\n",
      "detected: True\n",
      "r_vals: 1468.8669833371089\n",
      "============### ITERATION 81 of 100 ###============\n",
      "GPR: True GPC: True prune: False GPR1: True GPC1: True Optim: False\n",
      "(5475, 3)\n",
      "(80, 3)\n",
      "START\n",
      "idx:  [1, 2]\n",
      "[-1238.48353931 -1053.59824024   -55.50778953]\n"
     ]
    },
    {
     "name": "stderr",
     "output_type": "stream",
     "text": [
      "17:25:14.041  {gp} [__init__] -- INFO: initializing Y\n",
      "17:25:14.043  {gp} [__init__] -- INFO: initializing inference method\n",
      "17:25:14.044  {gp} [__init__] -- INFO: adding kernel and likelihood as parameters\n",
      "17:25:14.050  {gp} [__init__] -- INFO: initializing Y\n",
      "17:25:14.052  {gp} [__init__] -- INFO: initializing inference method\n",
      "17:25:14.056  {gp} [__init__] -- INFO: adding kernel and likelihood as parameters\n",
      "17:25:14.088  {gp} [__init__] -- INFO: initializing Y\n",
      "17:25:14.090  {gp} [__init__] -- INFO: initializing inference method\n",
      "17:25:14.092  {gp} [__init__] -- INFO: adding kernel and likelihood as parameters\n"
     ]
    },
    {
     "name": "stdout",
     "output_type": "stream",
     "text": [
      "False\n",
      "STOP\n",
      "There are 81 training examples for model 0 and 74 are positive\n",
      "There are 74 training examples for model 1 and 50 are positive\n",
      "conditional_idx: 1\n",
      "vols_pinchoff: [-1238.48353931 -1053.59824024   -55.50778953]\n",
      "detected: True\n",
      "r_vals: 1626.9578493796776\n",
      "============### ITERATION 82 of 100 ###============\n",
      "GPR: True GPC: True prune: False GPR1: True GPC1: True Optim: False\n",
      "(256, 3)\n",
      "(81, 3)\n",
      "START\n",
      "idx:  [1, 2]\n",
      "[-1390.54541533  -164.00918089  -355.61669999]\n",
      "True\n"
     ]
    },
    {
     "name": "stderr",
     "output_type": "stream",
     "text": [
      "17:25:15.333  {gp} [__init__] -- INFO: initializing Y\n",
      "17:25:15.334  {gp} [__init__] -- INFO: initializing inference method\n",
      "17:25:15.334  {gp} [__init__] -- INFO: adding kernel and likelihood as parameters\n",
      "17:25:15.340  {gp} [__init__] -- INFO: initializing Y\n",
      "17:25:15.341  {gp} [__init__] -- INFO: initializing inference method\n",
      "17:25:15.341  {gp} [__init__] -- INFO: adding kernel and likelihood as parameters\n",
      "17:25:15.371  {gp} [__init__] -- INFO: initializing Y\n",
      "17:25:15.372  {gp} [__init__] -- INFO: initializing inference method\n",
      "17:25:15.372  {gp} [__init__] -- INFO: adding kernel and likelihood as parameters\n"
     ]
    },
    {
     "name": "stdout",
     "output_type": "stream",
     "text": [
      "0.2839297252686629\n",
      "Score thresh:  0.6176523478842266\n",
      "STOP\n",
      "There are 82 training examples for model 0 and 75 are positive\n",
      "There are 75 training examples for model 1 and 51 are positive\n",
      "conditional_idx: 2\n",
      "vols_pinchoff: [-1390.54541533  -164.00918089  -355.61669999]\n",
      "detected: True\n",
      "r_vals: 1444.6379480084345\n",
      "============### ITERATION 83 of 100 ###============\n",
      "GPR: True GPC: True prune: False GPR1: True GPC1: True Optim: False\n",
      "(5658, 3)\n",
      "(82, 3)\n",
      "START\n",
      "idx:  [1, 2]\n",
      "[-1446.26418434  -121.88594857  -115.86898185]\n",
      "True\n"
     ]
    },
    {
     "name": "stderr",
     "output_type": "stream",
     "text": [
      "17:25:16.629  {gp} [__init__] -- INFO: initializing Y\n",
      "17:25:16.630  {gp} [__init__] -- INFO: initializing inference method\n",
      "17:25:16.631  {gp} [__init__] -- INFO: adding kernel and likelihood as parameters\n",
      "17:25:16.638  {gp} [__init__] -- INFO: initializing Y\n",
      "17:25:16.638  {gp} [__init__] -- INFO: initializing inference method\n",
      "17:25:16.639  {gp} [__init__] -- INFO: adding kernel and likelihood as parameters\n",
      "17:25:16.667  {gp} [__init__] -- INFO: initializing Y\n",
      "17:25:16.668  {gp} [__init__] -- INFO: initializing inference method\n",
      "17:25:16.668  {gp} [__init__] -- INFO: adding kernel and likelihood as parameters\n"
     ]
    },
    {
     "name": "stdout",
     "output_type": "stream",
     "text": [
      "0.24925230062546863\n",
      "Score thresh:  0.613602800574794\n",
      "STOP\n",
      "There are 83 training examples for model 0 and 76 are positive\n",
      "There are 76 training examples for model 1 and 52 are positive\n",
      "conditional_idx: 2\n",
      "vols_pinchoff: [-1446.26418434  -121.88594857  -115.86898185]\n",
      "detected: True\n",
      "r_vals: 1456.0088929394392\n",
      "============### ITERATION 84 of 100 ###============\n",
      "GPR: True GPC: True prune: False GPR1: True GPC1: True Optim: False\n",
      "(5247, 3)\n",
      "(83, 3)\n",
      "START\n",
      "idx:  [1, 2]\n",
      "[-1390.52795677  -240.2004354   -198.64668204]\n",
      "True\n"
     ]
    },
    {
     "name": "stderr",
     "output_type": "stream",
     "text": [
      "17:25:17.927  {gp} [__init__] -- INFO: initializing Y\n",
      "17:25:17.928  {gp} [__init__] -- INFO: initializing inference method\n",
      "17:25:17.928  {gp} [__init__] -- INFO: adding kernel and likelihood as parameters\n",
      "17:25:17.935  {gp} [__init__] -- INFO: initializing Y\n",
      "17:25:17.936  {gp} [__init__] -- INFO: initializing inference method\n",
      "17:25:17.937  {gp} [__init__] -- INFO: adding kernel and likelihood as parameters\n",
      "17:25:17.973  {gp} [__init__] -- INFO: initializing Y\n",
      "17:25:17.973  {gp} [__init__] -- INFO: initializing inference method\n",
      "17:25:17.975  {gp} [__init__] -- INFO: adding kernel and likelihood as parameters\n"
     ]
    },
    {
     "name": "stdout",
     "output_type": "stream",
     "text": [
      "0.3776059794507022\n",
      "Score thresh:  0.6095532532653615\n",
      "STOP\n",
      "There are 84 training examples for model 0 and 77 are positive\n",
      "There are 77 training examples for model 1 and 53 are positive\n",
      "conditional_idx: 2\n",
      "vols_pinchoff: [-1390.52795677  -240.2004354   -198.64668204]\n",
      "detected: True\n",
      "r_vals: 1425.0350002766718\n",
      "============### ITERATION 85 of 100 ###============\n",
      "GPR: True GPC: True prune: False GPR1: True GPC1: True Optim: False\n",
      "(5134, 3)\n",
      "(84, 3)\n",
      "START\n",
      "idx:  [1, 2]\n",
      "[-1352.28402937  -468.5006149   -200.08852313]\n",
      "True\n",
      "1.694339348414597\n",
      "Score thresh:  0.6055037059559287\n"
     ]
    },
    {
     "name": "stderr",
     "output_type": "stream",
     "text": [
      "17:25:20.285  {gp} [__init__] -- INFO: initializing Y\n",
      "17:25:20.285  {gp} [__init__] -- INFO: initializing inference method\n",
      "17:25:20.286  {gp} [__init__] -- INFO: adding kernel and likelihood as parameters\n",
      "17:25:20.292  {gp} [__init__] -- INFO: initializing Y\n",
      "17:25:20.292  {gp} [__init__] -- INFO: initializing inference method\n",
      "17:25:20.293  {gp} [__init__] -- INFO: adding kernel and likelihood as parameters\n",
      "17:25:20.323  {gp} [__init__] -- INFO: initializing Y\n",
      "17:25:20.324  {gp} [__init__] -- INFO: initializing inference method\n",
      "17:25:20.324  {gp} [__init__] -- INFO: adding kernel and likelihood as parameters\n"
     ]
    },
    {
     "name": "stdout",
     "output_type": "stream",
     "text": [
      "STOP\n",
      "There are 85 training examples for model 0 and 78 are positive\n",
      "There are 78 training examples for model 1 and 54 are positive\n",
      "conditional_idx: 3\n",
      "vols_pinchoff: [-1352.28402937  -468.5006149   -200.08852313]\n",
      "detected: True\n",
      "r_vals: 1445.0606697774133\n",
      "============### ITERATION 86 of 100 ###============\n",
      "GPR: True GPC: True prune: False GPR1: True GPC1: True Optim: False\n",
      "(10000, 3)\n",
      "(85, 3)\n",
      "START\n",
      "idx:  [1, 2]\n",
      "[-1358.70523351   -85.5307263   -544.21232043]\n",
      "True\n"
     ]
    },
    {
     "name": "stderr",
     "output_type": "stream",
     "text": [
      "17:25:21.640  {gp} [__init__] -- INFO: initializing Y\n",
      "17:25:21.641  {gp} [__init__] -- INFO: initializing inference method\n",
      "17:25:21.641  {gp} [__init__] -- INFO: adding kernel and likelihood as parameters\n",
      "17:25:21.648  {gp} [__init__] -- INFO: initializing Y\n",
      "17:25:21.648  {gp} [__init__] -- INFO: initializing inference method\n",
      "17:25:21.648  {gp} [__init__] -- INFO: adding kernel and likelihood as parameters\n",
      "17:25:21.678  {gp} [__init__] -- INFO: initializing Y\n",
      "17:25:21.679  {gp} [__init__] -- INFO: initializing inference method\n",
      "17:25:21.679  {gp} [__init__] -- INFO: adding kernel and likelihood as parameters\n"
     ]
    },
    {
     "name": "stdout",
     "output_type": "stream",
     "text": [
      "0.19674305370865025\n",
      "Score thresh:  0.6339045601962255\n",
      "STOP\n",
      "There are 86 training examples for model 0 and 79 are positive\n",
      "There are 79 training examples for model 1 and 55 are positive\n",
      "conditional_idx: 2\n",
      "vols_pinchoff: [-1358.70523351   -85.5307263   -544.21232043]\n",
      "detected: True\n",
      "r_vals: 1466.138624552604\n",
      "============### ITERATION 87 of 100 ###============\n",
      "GPR: True GPC: True prune: False GPR1: True GPC1: True Optim: False\n",
      "(4909, 3)\n",
      "(86, 3)\n",
      "START\n",
      "idx:  [1, 2]\n",
      "[-1344.55597201   -49.097711    -580.13762861]\n",
      "True\n"
     ]
    },
    {
     "name": "stderr",
     "output_type": "stream",
     "text": [
      "17:25:22.938  {gp} [__init__] -- INFO: initializing Y\n",
      "17:25:22.939  {gp} [__init__] -- INFO: initializing inference method\n",
      "17:25:22.939  {gp} [__init__] -- INFO: adding kernel and likelihood as parameters\n",
      "17:25:22.945  {gp} [__init__] -- INFO: initializing Y\n",
      "17:25:22.946  {gp} [__init__] -- INFO: initializing inference method\n",
      "17:25:22.946  {gp} [__init__] -- INFO: adding kernel and likelihood as parameters\n",
      "17:25:22.977  {gp} [__init__] -- INFO: initializing Y\n",
      "17:25:22.977  {gp} [__init__] -- INFO: initializing inference method\n",
      "17:25:22.977  {gp} [__init__] -- INFO: adding kernel and likelihood as parameters\n"
     ]
    },
    {
     "name": "stdout",
     "output_type": "stream",
     "text": [
      "0.17894164098598805\n",
      "Score thresh:  0.6244015933999476\n",
      "STOP\n",
      "There are 87 training examples for model 0 and 80 are positive\n",
      "There are 80 training examples for model 1 and 56 are positive\n",
      "conditional_idx: 2\n",
      "vols_pinchoff: [-1344.55597201   -49.097711    -580.13762861]\n",
      "detected: True\n",
      "r_vals: 1465.1965790355623\n",
      "============### ITERATION 88 of 100 ###============\n",
      "GPR: True GPC: True prune: False GPR1: True GPC1: True Optim: False\n",
      "(5571, 3)\n",
      "(87, 3)\n",
      "START\n",
      "idx:  [1, 2]\n",
      "[-1197.54204979  -745.79050373  -536.51294893]\n",
      "True\n"
     ]
    },
    {
     "name": "stderr",
     "output_type": "stream",
     "text": [
      "17:25:24.255  {gp} [__init__] -- INFO: initializing Y\n",
      "17:25:24.256  {gp} [__init__] -- INFO: initializing inference method\n",
      "17:25:24.256  {gp} [__init__] -- INFO: adding kernel and likelihood as parameters\n",
      "17:25:24.263  {gp} [__init__] -- INFO: initializing Y\n",
      "17:25:24.263  {gp} [__init__] -- INFO: initializing inference method\n",
      "17:25:24.264  {gp} [__init__] -- INFO: adding kernel and likelihood as parameters\n",
      "17:25:24.296  {gp} [__init__] -- INFO: initializing Y\n",
      "17:25:24.297  {gp} [__init__] -- INFO: initializing inference method\n",
      "17:25:24.297  {gp} [__init__] -- INFO: adding kernel and likelihood as parameters\n"
     ]
    },
    {
     "name": "stdout",
     "output_type": "stream",
     "text": [
      "0.26490401606731545\n",
      "Score thresh:  0.620352046090515\n",
      "STOP\n",
      "There are 88 training examples for model 0 and 81 are positive\n",
      "There are 81 training examples for model 1 and 57 are positive\n",
      "conditional_idx: 2\n",
      "vols_pinchoff: [-1197.54204979  -745.79050373  -536.51294893]\n",
      "detected: True\n",
      "r_vals: 1509.3563465350724\n",
      "============### ITERATION 89 of 100 ###============\n",
      "GPR: True GPC: True prune: False GPR1: True GPC1: True Optim: True\n",
      "(5531, 3)\n",
      "(88, 3)\n",
      "START\n",
      "idx:  [1, 2]\n",
      "[-1319.84192357  -159.18767487  -638.66660299]\n",
      "True\n"
     ]
    },
    {
     "name": "stderr",
     "output_type": "stream",
     "text": [
      "17:25:25.556  {gp} [__init__] -- INFO: initializing Y\n",
      "17:25:25.557  {gp} [__init__] -- INFO: initializing inference method\n",
      "17:25:25.557  {gp} [__init__] -- INFO: adding kernel and likelihood as parameters\n",
      "17:25:25.654  {gp} [__init__] -- INFO: initializing Y\n",
      "17:25:25.654  {gp} [__init__] -- INFO: initializing inference method\n",
      "17:25:25.655  {gp} [__init__] -- INFO: adding kernel and likelihood as parameters\n"
     ]
    },
    {
     "name": "stdout",
     "output_type": "stream",
     "text": [
      "0.19345046180613687\n",
      "Score thresh:  0.6163024987810826\n",
      "STOP\n",
      "Optimization restart 1/5, f = 400.77477988496446\n",
      "Optimization restart 2/5, f = 400.77477988497543\n",
      "Optimization restart 3/5, f = 400.7747799873362\n",
      "Optimization restart 4/5, f = 400.7747798849478\n",
      "Optimization restart 5/5, f = 400.7747798849232\n",
      "  \u001b[1mbasic.     \u001b[0;0m  |              value  |  constraints  |    priors  \n",
      "  \u001b[1mvariance   \u001b[0;0m  |  749999.9999999999  |   +ve fixed   |            \n",
      "  \u001b[1mlengthscale\u001b[0;0m  |               (3,)  |      +ve      |  Ga(16, 40)\n",
      "  \u001b[1mindex\u001b[0;0m  |  GP_regression.basic.lengthscale  |  constraints  |    priors  \n",
      "  \u001b[1m[0]  \u001b[0;0m  |                       0.43420237  |      +ve      |  Ga(16, 40)\n",
      "  \u001b[1m[1]  \u001b[0;0m  |                       0.84091412  |      +ve      |  Ga(16, 40)\n",
      "  \u001b[1m[2]  \u001b[0;0m  |                       0.89333379  |      +ve      |  Ga(16, 40)\n",
      "  \u001b[1mindex\u001b[0;0m  |  GP_regression.basic.variance  |  constraints  |  priors\n",
      "  \u001b[1m[0]  \u001b[0;0m  |               750000.00000000  |   +ve fixed   |        \n",
      "There are 89 training examples for model 0 and 82 are positive\n"
     ]
    },
    {
     "name": "stderr",
     "output_type": "stream",
     "text": [
      "17:25:25.690  {gp} [__init__] -- INFO: initializing Y\n",
      "17:25:25.691  {gp} [__init__] -- INFO: initializing inference method\n",
      "17:25:25.691  {gp} [__init__] -- INFO: adding kernel and likelihood as parameters\n"
     ]
    },
    {
     "name": "stdout",
     "output_type": "stream",
     "text": [
      "There are 82 training examples for model 1 and 58 are positive\n",
      "  \u001b[1msum.             \u001b[0;0m  |                   value  |  constraints  |     priors    \n",
      "  \u001b[1mbasic.variance   \u001b[0;0m  |       43.36666944359019  |      +ve      |  Ga(6.2, 0.12)\n",
      "  \u001b[1mbasic.lengthscale\u001b[0;0m  |                    (3,)  |      +ve      |  Ga(25, 0.05) \n",
      "  \u001b[1mbias.variance    \u001b[0;0m  |  1.1414835589831594e-10  |      +ve      |               \n",
      "  \u001b[1mindex\u001b[0;0m  |  gp_classification.sum.basic.lengthscale  |  constraints  |     priors   \n",
      "  \u001b[1m[0]  \u001b[0;0m  |                             502.60191584  |      +ve      |  Ga(25, 0.05)\n",
      "  \u001b[1m[1]  \u001b[0;0m  |                             511.48810456  |      +ve      |  Ga(25, 0.05)\n",
      "  \u001b[1m[2]  \u001b[0;0m  |                             533.63528660  |      +ve      |  Ga(25, 0.05)\n",
      "  \u001b[1msum.             \u001b[0;0m  |                   value  |  constraints  |     priors    \n",
      "  \u001b[1mbasic.variance   \u001b[0;0m  |       41.91611551082938  |      +ve      |  Ga(6.2, 0.12)\n",
      "  \u001b[1mbasic.lengthscale\u001b[0;0m  |                    (3,)  |      +ve      |  Ga(25, 0.05) \n",
      "  \u001b[1mbias.variance    \u001b[0;0m  |  3.1140950160729833e-08  |      +ve      |               \n",
      "  \u001b[1mindex\u001b[0;0m  |  gp_classification.sum.basic.lengthscale  |  constraints  |     priors   \n",
      "  \u001b[1m[0]  \u001b[0;0m  |                             500.19589019  |      +ve      |  Ga(25, 0.05)\n",
      "  \u001b[1m[1]  \u001b[0;0m  |                             509.39467069  |      +ve      |  Ga(25, 0.05)\n",
      "  \u001b[1m[2]  \u001b[0;0m  |                             519.50336871  |      +ve      |  Ga(25, 0.05)\n",
      "conditional_idx: 2\n",
      "vols_pinchoff: [-1319.84192357  -159.18767487  -638.66660299]\n",
      "detected: True\n",
      "r_vals: 1474.8621796002167\n",
      "============### ITERATION 90 of 100 ###============\n",
      "GPR: True GPC: True prune: False GPR1: True GPC1: True Optim: False\n",
      "(5161, 3)\n",
      "(89, 3)\n",
      "START\n",
      "idx:  [1, 2]\n",
      "[-1187.72665402  -651.75107261  -599.97269287]\n",
      "True\n"
     ]
    },
    {
     "name": "stderr",
     "output_type": "stream",
     "text": [
      "17:25:27.176  {gp} [__init__] -- INFO: initializing Y\n",
      "17:25:27.176  {gp} [__init__] -- INFO: initializing inference method\n",
      "17:25:27.177  {gp} [__init__] -- INFO: adding kernel and likelihood as parameters\n",
      "17:25:27.183  {gp} [__init__] -- INFO: initializing Y\n",
      "17:25:27.185  {gp} [__init__] -- INFO: initializing inference method\n",
      "17:25:27.185  {gp} [__init__] -- INFO: adding kernel and likelihood as parameters\n",
      "17:25:27.217  {gp} [__init__] -- INFO: initializing Y\n",
      "17:25:27.217  {gp} [__init__] -- INFO: initializing inference method\n",
      "17:25:27.217  {gp} [__init__] -- INFO: adding kernel and likelihood as parameters\n"
     ]
    },
    {
     "name": "stdout",
     "output_type": "stream",
     "text": [
      "0.26215289820732024\n",
      "Score thresh:  0.6122529514716497\n",
      "STOP\n",
      "There are 90 training examples for model 0 and 83 are positive\n",
      "There are 83 training examples for model 1 and 59 are positive\n",
      "conditional_idx: 2\n",
      "vols_pinchoff: [-1187.72665402  -651.75107261  -599.97269287]\n",
      "detected: True\n",
      "r_vals: 1481.7021622143457\n",
      "============### ITERATION 91 of 100 ###============\n",
      "GPR: True GPC: True prune: False GPR1: True GPC1: True Optim: False\n",
      "(4918, 3)\n",
      "(90, 3)\n",
      "START\n",
      "idx:  [1, 2]\n",
      "[-1454.17457092   -28.62798968  -214.11458546]\n",
      "True\n"
     ]
    },
    {
     "name": "stderr",
     "output_type": "stream",
     "text": [
      "17:25:28.472  {gp} [__init__] -- INFO: initializing Y\n",
      "17:25:28.473  {gp} [__init__] -- INFO: initializing inference method\n",
      "17:25:28.473  {gp} [__init__] -- INFO: adding kernel and likelihood as parameters\n",
      "17:25:28.481  {gp} [__init__] -- INFO: initializing Y\n",
      "17:25:28.482  {gp} [__init__] -- INFO: initializing inference method\n",
      "17:25:28.482  {gp} [__init__] -- INFO: adding kernel and likelihood as parameters\n",
      "17:25:28.514  {gp} [__init__] -- INFO: initializing Y\n",
      "17:25:28.514  {gp} [__init__] -- INFO: initializing inference method\n",
      "17:25:28.514  {gp} [__init__] -- INFO: adding kernel and likelihood as parameters\n"
     ]
    },
    {
     "name": "stdout",
     "output_type": "stream",
     "text": [
      "0.2115345518385276\n",
      "Score thresh:  0.6082034041622172\n",
      "STOP\n",
      "There are 91 training examples for model 0 and 84 are positive\n",
      "There are 84 training examples for model 1 and 60 are positive\n",
      "conditional_idx: 2\n",
      "vols_pinchoff: [-1454.17457092   -28.62798968  -214.11458546]\n",
      "detected: True\n",
      "r_vals: 1470.132068963979\n",
      "============### ITERATION 92 of 100 ###============\n",
      "GPR: True GPC: True prune: False GPR1: True GPC1: True Optim: False\n",
      "(5022, 3)\n",
      "(91, 3)\n",
      "START\n",
      "idx:  [1, 2]\n",
      "[-1295.77152313  -176.43080632  -663.64824723]\n",
      "True\n"
     ]
    },
    {
     "name": "stderr",
     "output_type": "stream",
     "text": [
      "17:25:29.767  {gp} [__init__] -- INFO: initializing Y\n",
      "17:25:29.768  {gp} [__init__] -- INFO: initializing inference method\n",
      "17:25:29.769  {gp} [__init__] -- INFO: adding kernel and likelihood as parameters\n",
      "17:25:29.778  {gp} [__init__] -- INFO: initializing Y\n",
      "17:25:29.778  {gp} [__init__] -- INFO: initializing inference method\n",
      "17:25:29.778  {gp} [__init__] -- INFO: adding kernel and likelihood as parameters\n",
      "17:25:29.811  {gp} [__init__] -- INFO: initializing Y\n",
      "17:25:29.811  {gp} [__init__] -- INFO: initializing inference method\n",
      "17:25:29.811  {gp} [__init__] -- INFO: adding kernel and likelihood as parameters\n"
     ]
    },
    {
     "name": "stdout",
     "output_type": "stream",
     "text": [
      "0.19041509627524708\n",
      "Score thresh:  0.6041538568527846\n",
      "STOP\n",
      "There are 92 training examples for model 0 and 85 are positive\n",
      "There are 85 training examples for model 1 and 61 are positive\n",
      "conditional_idx: 2\n",
      "vols_pinchoff: [-1295.77152313  -176.43080632  -663.64824723]\n",
      "detected: True\n",
      "r_vals: 1466.4858218280888\n",
      "============### ITERATION 93 of 100 ###============\n",
      "GPR: True GPC: True prune: False GPR1: True GPC1: True Optim: False\n",
      "(4949, 3)\n",
      "(92, 3)\n",
      "START\n",
      "idx:  [1, 2]\n",
      "[-1181.89970136 -1024.3474991   -318.46835748]\n"
     ]
    },
    {
     "name": "stderr",
     "output_type": "stream",
     "text": [
      "17:25:30.011  {gp} [__init__] -- INFO: initializing Y\n",
      "17:25:30.014  {gp} [__init__] -- INFO: initializing inference method\n",
      "17:25:30.016  {gp} [__init__] -- INFO: adding kernel and likelihood as parameters\n",
      "17:25:30.026  {gp} [__init__] -- INFO: initializing Y\n",
      "17:25:30.029  {gp} [__init__] -- INFO: initializing inference method\n",
      "17:25:30.031  {gp} [__init__] -- INFO: adding kernel and likelihood as parameters\n",
      "17:25:30.074  {gp} [__init__] -- INFO: initializing Y\n",
      "17:25:30.076  {gp} [__init__] -- INFO: initializing inference method\n",
      "17:25:30.078  {gp} [__init__] -- INFO: adding kernel and likelihood as parameters\n"
     ]
    },
    {
     "name": "stdout",
     "output_type": "stream",
     "text": [
      "False\n",
      "STOP\n",
      "There are 93 training examples for model 0 and 86 are positive\n",
      "There are 86 training examples for model 1 and 61 are positive\n",
      "conditional_idx: 1\n",
      "vols_pinchoff: [-1181.89970136 -1024.3474991   -318.46835748]\n",
      "detected: True\n",
      "r_vals: 1596.1192930719226\n",
      "============### ITERATION 94 of 100 ###============\n",
      "GPR: True GPC: True prune: False GPR1: True GPC1: True Optim: False\n",
      "(173, 3)\n",
      "(93, 3)\n",
      "START\n",
      "idx:  [1, 2]\n",
      "[-1264.2037088   -162.3007745   -792.73726358]\n",
      "True\n"
     ]
    },
    {
     "name": "stderr",
     "output_type": "stream",
     "text": [
      "17:25:31.305  {gp} [__init__] -- INFO: initializing Y\n",
      "17:25:31.305  {gp} [__init__] -- INFO: initializing inference method\n",
      "17:25:31.305  {gp} [__init__] -- INFO: adding kernel and likelihood as parameters\n",
      "17:25:31.313  {gp} [__init__] -- INFO: initializing Y\n",
      "17:25:31.313  {gp} [__init__] -- INFO: initializing inference method\n",
      "17:25:31.314  {gp} [__init__] -- INFO: adding kernel and likelihood as parameters\n",
      "17:25:31.346  {gp} [__init__] -- INFO: initializing Y\n",
      "17:25:31.347  {gp} [__init__] -- INFO: initializing inference method\n",
      "17:25:31.347  {gp} [__init__] -- INFO: adding kernel and likelihood as parameters\n"
     ]
    },
    {
     "name": "stdout",
     "output_type": "stream",
     "text": [
      "0.1564402225671795\n",
      "Score thresh:  0.600104309543352\n",
      "STOP\n",
      "There are 94 training examples for model 0 and 87 are positive\n",
      "There are 87 training examples for model 1 and 62 are positive\n",
      "conditional_idx: 2\n",
      "vols_pinchoff: [-1264.2037088   -162.3007745   -792.73726358]\n",
      "detected: True\n",
      "r_vals: 1500.9946461639513\n",
      "============### ITERATION 95 of 100 ###============\n",
      "GPR: True GPC: True prune: False GPR1: True GPC1: True Optim: False\n",
      "(4983, 3)\n",
      "(94, 3)\n",
      "START\n",
      "idx:  [1, 2]\n",
      "[-1309.34090536  -344.40674941  -437.62216179]\n",
      "True\n"
     ]
    },
    {
     "name": "stderr",
     "output_type": "stream",
     "text": [
      "17:25:32.612  {gp} [__init__] -- INFO: initializing Y\n",
      "17:25:32.613  {gp} [__init__] -- INFO: initializing inference method\n",
      "17:25:32.613  {gp} [__init__] -- INFO: adding kernel and likelihood as parameters\n",
      "17:25:32.627  {gp} [__init__] -- INFO: initializing Y\n",
      "17:25:32.627  {gp} [__init__] -- INFO: initializing inference method\n",
      "17:25:32.628  {gp} [__init__] -- INFO: adding kernel and likelihood as parameters\n",
      "17:25:32.664  {gp} [__init__] -- INFO: initializing Y\n",
      "17:25:32.664  {gp} [__init__] -- INFO: initializing inference method\n",
      "17:25:32.665  {gp} [__init__] -- INFO: adding kernel and likelihood as parameters\n"
     ]
    },
    {
     "name": "stdout",
     "output_type": "stream",
     "text": [
      "0.41026582655280797\n",
      "Score thresh:  0.5927746871426665\n",
      "STOP\n",
      "There are 95 training examples for model 0 and 88 are positive\n",
      "There are 88 training examples for model 1 and 63 are positive\n",
      "conditional_idx: 2\n",
      "vols_pinchoff: [-1309.34090536  -344.40674941  -437.62216179]\n",
      "detected: True\n",
      "r_vals: 1422.8502282310153\n",
      "============### ITERATION 96 of 100 ###============\n",
      "GPR: True GPC: True prune: False GPR1: True GPC1: True Optim: False\n",
      "(5624, 3)\n",
      "(95, 3)\n",
      "START\n"
     ]
    },
    {
     "name": "stderr",
     "output_type": "stream",
     "text": [
      "17:25:32.784  {gp} [__init__] -- INFO: initializing Y\n",
      "17:25:32.785  {gp} [__init__] -- INFO: initializing inference method\n",
      "17:25:32.786  {gp} [__init__] -- INFO: adding kernel and likelihood as parameters\n",
      "17:25:32.791  {gp} [__init__] -- INFO: initializing Y\n",
      "17:25:32.792  {gp} [__init__] -- INFO: initializing inference method\n",
      "17:25:32.792  {gp} [__init__] -- INFO: adding kernel and likelihood as parameters\n",
      "17:25:32.826  {gp} [__init__] -- INFO: initializing Y\n",
      "17:25:32.827  {gp} [__init__] -- INFO: initializing inference method\n",
      "17:25:32.828  {gp} [__init__] -- INFO: adding kernel and likelihood as parameters\n"
     ]
    },
    {
     "name": "stdout",
     "output_type": "stream",
     "text": [
      "STOP\n",
      "There are 96 training examples for model 0 and 88 are positive\n",
      "There are 88 training examples for model 1 and 63 are positive\n",
      "conditional_idx: 0\n",
      "vols_pinchoff: [ -470.80228343 -1994.44481711 -1547.92782638]\n",
      "detected: False\n",
      "r_vals: 2568.179408504511\n",
      "============### ITERATION 97 of 100 ###============\n",
      "GPR: True GPC: True prune: False GPR1: True GPC1: True Optim: False\n",
      "WARNING: no boundary point is sampled\n",
      "START\n",
      "idx:  [1, 2]\n",
      "[-1172.01141976  -858.28326805  -511.21332507]\n",
      "True\n"
     ]
    },
    {
     "name": "stderr",
     "output_type": "stream",
     "text": [
      "17:25:34.074  {gp} [__init__] -- INFO: initializing Y\n",
      "17:25:34.074  {gp} [__init__] -- INFO: initializing inference method\n",
      "17:25:34.075  {gp} [__init__] -- INFO: adding kernel and likelihood as parameters\n",
      "17:25:34.082  {gp} [__init__] -- INFO: initializing Y\n",
      "17:25:34.082  {gp} [__init__] -- INFO: initializing inference method\n",
      "17:25:34.083  {gp} [__init__] -- INFO: adding kernel and likelihood as parameters\n",
      "17:25:34.118  {gp} [__init__] -- INFO: initializing Y\n",
      "17:25:34.118  {gp} [__init__] -- INFO: initializing inference method\n",
      "17:25:34.119  {gp} [__init__] -- INFO: adding kernel and likelihood as parameters\n"
     ]
    },
    {
     "name": "stdout",
     "output_type": "stream",
     "text": [
      "0.2255324381388244\n",
      "Score thresh:  0.5854450647419804\n",
      "STOP\n",
      "There are 97 training examples for model 0 and 89 are positive\n",
      "There are 89 training examples for model 1 and 64 are positive\n",
      "conditional_idx: 2\n",
      "vols_pinchoff: [-1172.01141976  -858.28326805  -511.21332507]\n",
      "detected: True\n",
      "r_vals: 1539.9999999999989\n",
      "============### ITERATION 98 of 100 ###============\n",
      "GPR: True GPC: True prune: False GPR1: True GPC1: True Optim: False\n",
      "(5101, 3)\n",
      "(97, 3)\n",
      "START\n"
     ]
    },
    {
     "name": "stderr",
     "output_type": "stream",
     "text": [
      "17:25:34.334  {gp} [__init__] -- INFO: initializing Y\n",
      "17:25:34.336  {gp} [__init__] -- INFO: initializing inference method\n",
      "17:25:34.337  {gp} [__init__] -- INFO: adding kernel and likelihood as parameters\n",
      "17:25:34.346  {gp} [__init__] -- INFO: initializing Y\n",
      "17:25:34.347  {gp} [__init__] -- INFO: initializing inference method\n",
      "17:25:34.349  {gp} [__init__] -- INFO: adding kernel and likelihood as parameters\n",
      "17:25:34.384  {gp} [__init__] -- INFO: initializing Y\n",
      "17:25:34.386  {gp} [__init__] -- INFO: initializing inference method\n",
      "17:25:34.387  {gp} [__init__] -- INFO: adding kernel and likelihood as parameters\n"
     ]
    },
    {
     "name": "stdout",
     "output_type": "stream",
     "text": [
      "idx:  [1, 2]\n",
      "[ -503.76404217 -1807.61403354   -74.29369839]\n",
      "False\n",
      "STOP\n",
      "There are 98 training examples for model 0 and 90 are positive\n",
      "There are 90 training examples for model 1 and 64 are positive\n",
      "conditional_idx: 1\n",
      "vols_pinchoff: [ -503.76404217 -1807.61403354   -74.29369839]\n",
      "detected: True\n",
      "r_vals: 1877.968652042484\n",
      "============### ITERATION 99 of 100 ###============\n",
      "GPR: True GPC: True prune: False GPR1: True GPC1: True Optim: False\n",
      "(140, 3)\n",
      "(98, 3)\n",
      "START\n"
     ]
    },
    {
     "name": "stderr",
     "output_type": "stream",
     "text": [
      "17:25:34.562  {gp} [__init__] -- INFO: initializing Y\n",
      "17:25:34.563  {gp} [__init__] -- INFO: initializing inference method\n",
      "17:25:34.565  {gp} [__init__] -- INFO: adding kernel and likelihood as parameters\n",
      "17:25:34.575  {gp} [__init__] -- INFO: initializing Y\n",
      "17:25:34.577  {gp} [__init__] -- INFO: initializing inference method\n",
      "17:25:34.578  {gp} [__init__] -- INFO: adding kernel and likelihood as parameters\n",
      "17:25:34.617  {gp} [__init__] -- INFO: initializing Y\n",
      "17:25:34.619  {gp} [__init__] -- INFO: initializing inference method\n",
      "17:25:34.620  {gp} [__init__] -- INFO: adding kernel and likelihood as parameters\n"
     ]
    },
    {
     "name": "stdout",
     "output_type": "stream",
     "text": [
      "idx:  [1, 2]\n",
      "[ -569.53098084 -1111.34734848  -992.20450529]\n",
      "False\n",
      "STOP\n",
      "There are 99 training examples for model 0 and 91 are positive\n",
      "There are 91 training examples for model 1 and 64 are positive\n",
      "conditional_idx: 1\n",
      "vols_pinchoff: [ -569.53098084 -1111.34734848  -992.20450529]\n",
      "detected: True\n",
      "r_vals: 1594.969669754535\n",
      "============### ITERATION 100 of 100 ###============\n",
      "GPR: True GPC: True prune: False GPR1: True GPC1: True Optim: True\n",
      "(87, 3)\n",
      "(99, 3)\n",
      "START\n",
      "idx:  [1, 2]\n",
      "[-1415.74623809   -18.9858331   -382.10905428]\n",
      "True\n"
     ]
    },
    {
     "name": "stderr",
     "output_type": "stream",
     "text": [
      "17:25:35.844  {gp} [__init__] -- INFO: initializing Y\n",
      "17:25:35.845  {gp} [__init__] -- INFO: initializing inference method\n",
      "17:25:35.845  {gp} [__init__] -- INFO: adding kernel and likelihood as parameters\n",
      "17:25:35.948  {gp} [__init__] -- INFO: initializing Y\n",
      "17:25:35.949  {gp} [__init__] -- INFO: initializing inference method\n",
      "17:25:35.949  {gp} [__init__] -- INFO: adding kernel and likelihood as parameters\n",
      "17:25:35.984  {gp} [__init__] -- INFO: initializing Y\n",
      "17:25:35.985  {gp} [__init__] -- INFO: initializing inference method\n",
      "17:25:35.985  {gp} [__init__] -- INFO: adding kernel and likelihood as parameters\n"
     ]
    },
    {
     "name": "stdout",
     "output_type": "stream",
     "text": [
      "0.2004706839839383\n",
      "Score thresh:  0.5781154423412949\n",
      "STOP\n",
      "Optimization restart 1/5, f = 443.5213830573217\n",
      "Optimization restart 2/5, f = 443.52138305718626\n",
      "Optimization restart 3/5, f = 443.52138305713834\n",
      "Optimization restart 4/5, f = 443.5213830571745\n",
      "Optimization restart 5/5, f = 443.52138306159617\n",
      "  \u001b[1mbasic.     \u001b[0;0m  |              value  |  constraints  |    priors  \n",
      "  \u001b[1mvariance   \u001b[0;0m  |  749999.9999999999  |   +ve fixed   |            \n",
      "  \u001b[1mlengthscale\u001b[0;0m  |               (3,)  |      +ve      |  Ga(16, 40)\n",
      "  \u001b[1mindex\u001b[0;0m  |  GP_regression.basic.lengthscale  |  constraints  |    priors  \n",
      "  \u001b[1m[0]  \u001b[0;0m  |                       0.41582037  |      +ve      |  Ga(16, 40)\n",
      "  \u001b[1m[1]  \u001b[0;0m  |                       0.84088529  |      +ve      |  Ga(16, 40)\n",
      "  \u001b[1m[2]  \u001b[0;0m  |                       0.90968828  |      +ve      |  Ga(16, 40)\n",
      "  \u001b[1mindex\u001b[0;0m  |  GP_regression.basic.variance  |  constraints  |  priors\n",
      "  \u001b[1m[0]  \u001b[0;0m  |               750000.00000000  |   +ve fixed   |        \n",
      "There are 100 training examples for model 0 and 92 are positive\n",
      "There are 92 training examples for model 1 and 65 are positive\n",
      "  \u001b[1msum.             \u001b[0;0m  |                   value  |  constraints  |     priors    \n",
      "  \u001b[1mbasic.variance   \u001b[0;0m  |      43.498059399728284  |      +ve      |  Ga(6.2, 0.12)\n",
      "  \u001b[1mbasic.lengthscale\u001b[0;0m  |                    (3,)  |      +ve      |  Ga(25, 0.05) \n",
      "  \u001b[1mbias.variance    \u001b[0;0m  |  1.1414835560991019e-10  |      +ve      |               \n",
      "  \u001b[1mindex\u001b[0;0m  |  gp_classification.sum.basic.lengthscale  |  constraints  |     priors   \n",
      "  \u001b[1m[0]  \u001b[0;0m  |                             501.44627089  |      +ve      |  Ga(25, 0.05)\n",
      "  \u001b[1m[1]  \u001b[0;0m  |                             516.88005717  |      +ve      |  Ga(25, 0.05)\n",
      "  \u001b[1m[2]  \u001b[0;0m  |                             535.83217855  |      +ve      |  Ga(25, 0.05)\n",
      "  \u001b[1msum.             \u001b[0;0m  |                  value  |  constraints  |     priors    \n",
      "  \u001b[1mbasic.variance   \u001b[0;0m  |      42.02708285286869  |      +ve      |  Ga(6.2, 0.12)\n",
      "  \u001b[1mbasic.lengthscale\u001b[0;0m  |                   (3,)  |      +ve      |  Ga(25, 0.05) \n",
      "  \u001b[1mbias.variance    \u001b[0;0m  |  3.114231128547355e-08  |      +ve      |               \n",
      "  \u001b[1mindex\u001b[0;0m  |  gp_classification.sum.basic.lengthscale  |  constraints  |     priors   \n",
      "  \u001b[1m[0]  \u001b[0;0m  |                             507.17079189  |      +ve      |  Ga(25, 0.05)\n",
      "  \u001b[1m[1]  \u001b[0;0m  |                             503.66048448  |      +ve      |  Ga(25, 0.05)\n",
      "  \u001b[1m[2]  \u001b[0;0m  |                             535.83468479  |      +ve      |  Ga(25, 0.05)\n",
      "conditional_idx: 2\n",
      "vols_pinchoff: [-1415.74623809   -18.9858331   -382.10905428]\n",
      "detected: True\n",
      "r_vals: 1466.5282819971715\n"
     ]
    },
    {
     "data": {
      "text/plain": [
       "({'conditional_idx': [2,\n",
       "   3,\n",
       "   1,\n",
       "   1,\n",
       "   0,\n",
       "   1,\n",
       "   1,\n",
       "   3,\n",
       "   1,\n",
       "   1,\n",
       "   3,\n",
       "   1,\n",
       "   0,\n",
       "   1,\n",
       "   1,\n",
       "   1,\n",
       "   3,\n",
       "   0,\n",
       "   0,\n",
       "   0,\n",
       "   0,\n",
       "   0,\n",
       "   1,\n",
       "   3,\n",
       "   1,\n",
       "   3,\n",
       "   3,\n",
       "   3,\n",
       "   3,\n",
       "   3,\n",
       "   3,\n",
       "   2,\n",
       "   1,\n",
       "   1,\n",
       "   2,\n",
       "   3,\n",
       "   1,\n",
       "   1,\n",
       "   3,\n",
       "   2,\n",
       "   2,\n",
       "   2,\n",
       "   3,\n",
       "   3,\n",
       "   2,\n",
       "   1,\n",
       "   2,\n",
       "   2,\n",
       "   1,\n",
       "   2,\n",
       "   3,\n",
       "   3,\n",
       "   1,\n",
       "   2,\n",
       "   3,\n",
       "   3,\n",
       "   3,\n",
       "   2,\n",
       "   1,\n",
       "   2,\n",
       "   2,\n",
       "   3,\n",
       "   2,\n",
       "   2,\n",
       "   2,\n",
       "   2,\n",
       "   2,\n",
       "   1,\n",
       "   3,\n",
       "   3,\n",
       "   2,\n",
       "   2,\n",
       "   2,\n",
       "   1,\n",
       "   2,\n",
       "   2,\n",
       "   2,\n",
       "   1,\n",
       "   2,\n",
       "   2,\n",
       "   1,\n",
       "   2,\n",
       "   2,\n",
       "   2,\n",
       "   3,\n",
       "   2,\n",
       "   2,\n",
       "   2,\n",
       "   2,\n",
       "   2,\n",
       "   2,\n",
       "   2,\n",
       "   1,\n",
       "   2,\n",
       "   2,\n",
       "   0,\n",
       "   2,\n",
       "   1,\n",
       "   1,\n",
       "   2],\n",
       "  'vols_pinchoff': [array([-1275.42752793,  -412.03876443,  -526.41112983]),\n",
       "   array([-1246.01335624,  -579.65535855,  -493.00140099]),\n",
       "   array([-1008.21709926, -1091.22519342,  -645.8528145 ]),\n",
       "   array([-1011.81789014, -1107.98701731,  -610.72852125]),\n",
       "   array([ -281.69640105,  -656.70097991, -1995.94362661]),\n",
       "   array([ -505.44361743, -1373.22420755,  -540.72361276]),\n",
       "   array([ -591.45894366, -1268.23202334,  -416.36985115]),\n",
       "   array([-1291.94924793,  -235.18739883,  -638.08622317]),\n",
       "   array([ -570.37808681, -1342.47901953,   -63.39495412]),\n",
       "   array([ -501.44852304, -1697.1493997 , -1561.3562354 ]),\n",
       "   array([-1172.52792863,  -721.00074324,  -596.10081768]),\n",
       "   array([ -565.77026903, -1134.50808763,  -909.06292509]),\n",
       "   array([ -272.16886044, -1999.96271866, -1911.66765819]),\n",
       "   array([ -565.5833924 , -1287.43490075,  -335.79642761]),\n",
       "   array([ -621.9583323 , -1299.03218502,  -203.5413571 ]),\n",
       "   array([ -500.69736329,  -728.34076707, -1315.10229156]),\n",
       "   array([-1176.82123634,  -311.23136209,  -996.57911479]),\n",
       "   array([  -44.51601952,  -205.58254857, -1989.34967834]),\n",
       "   array([ -379.48003557, -1983.29567053,  -297.81783425]),\n",
       "   array([ -499.45752548, -1990.33239449, -1346.58642962]),\n",
       "   array([ -364.71857041,  -848.57920769, -1996.34295111]),\n",
       "   array([  -79.52332143, -1981.04192804,  -628.92680075]),\n",
       "   array([ -501.66742331,  -834.37201518, -1567.44124808]),\n",
       "   array([-1179.5254611 ,  -976.11408757,  -363.55323666]),\n",
       "   array([ -992.49649381,  -822.65125052, -1060.43036036]),\n",
       "   array([-1179.30173296,  -632.2481777 ,  -671.15589326]),\n",
       "   array([-1314.41077986,  -261.05753667,  -549.03133804]),\n",
       "   array([-1217.86665761,  -517.45039335,  -691.25057848]),\n",
       "   array([-1225.54624839,  -519.47322203,  -625.33782719]),\n",
       "   array([-1449.95631447,   -91.82628427,  -148.06770557]),\n",
       "   array([-1264.80218989,  -645.51859571,  -358.32179902]),\n",
       "   array([-1195.98762631,  -983.1735109 ,  -270.88328043]),\n",
       "   array([ -890.69772207,  -504.56880801, -1155.00876077]),\n",
       "   array([-1146.80751374,  -431.90306668, -1003.53826836]),\n",
       "   array([-1231.31298577,  -527.56646509,  -555.87320957]),\n",
       "   array([-1384.61281914,  -248.85154848,  -253.78228037]),\n",
       "   array([ -503.60924826,  -403.30143934, -1305.62389146]),\n",
       "   array([ -501.86728175, -1013.92526288, -1823.69481704]),\n",
       "   array([-1335.54101753,  -570.15321624,  -139.32856121]),\n",
       "   array([-1330.53262034,  -182.42587447,  -500.90504558]),\n",
       "   array([-1224.3432137 ,  -521.37680504,  -586.11670253]),\n",
       "   array([-1139.06005316,  -920.96817818,  -526.82509768]),\n",
       "   array([-1334.22525555,  -377.63200162,  -293.45200256]),\n",
       "   array([-1317.74241664,  -560.2452804 ,  -219.24371589]),\n",
       "   array([-1443.18389254,  -240.04088831,   -25.32428398]),\n",
       "   array([ -939.51469344, -1106.85394209,  -643.43750521]),\n",
       "   array([-1358.03416408,  -158.64010269,  -427.12346526]),\n",
       "   array([-1204.81711963,  -912.27539988,  -330.48822805]),\n",
       "   array([ -504.32984567,  -284.57231228, -1458.34806427]),\n",
       "   array([-1233.82622604,  -772.29855106,  -371.0661182 ]),\n",
       "   array([-1389.42006392,  -461.64030665,   -52.54135282]),\n",
       "   array([-1306.24895828,  -664.52176194,  -168.01210762]),\n",
       "   array([ -934.81108313, -1250.23317561,  -140.00306043]),\n",
       "   array([-1243.95141528,  -357.4919031 ,  -679.65939121]),\n",
       "   array([-1266.3734654 ,  -654.65702043,  -312.04295315]),\n",
       "   array([-1288.72930822,  -495.98809107,  -409.41339659]),\n",
       "   array([-1286.36421341,  -610.34925296,  -262.18511807]),\n",
       "   array([-1276.65991985,  -793.25688184,  -128.32962035]),\n",
       "   array([-1027.65238913,  -954.64799534, -1002.60518863]),\n",
       "   array([-1335.0181011 ,  -326.7824348 ,  -399.44848279]),\n",
       "   array([-1207.90022357,  -554.61398485,  -619.981548  ]),\n",
       "   array([-1341.01183306,  -497.86790271,  -148.18932284]),\n",
       "   array([-1170.03203403,  -812.2463344 ,  -556.33613502]),\n",
       "   array([-1264.48809279,  -215.71306644,  -795.53816364]),\n",
       "   array([-1148.79909754,  -910.67053608,  -568.1463276 ]),\n",
       "   array([-1253.03163397,  -204.81322231,  -806.28099292]),\n",
       "   array([-1415.76846422,  -328.57080279,   -78.43190626]),\n",
       "   array([ -922.01490748, -1260.74817334,   -71.07787017]),\n",
       "   array([-1318.99264455,  -511.07841454,  -289.76637211]),\n",
       "   array([-1307.77912471,  -439.66293705,  -352.49675727]),\n",
       "   array([-1414.48559422,  -247.70597364,  -107.16548019]),\n",
       "   array([-1416.578059  ,  -281.23506619,   -69.75273058]),\n",
       "   array([-1179.7510315 ,  -811.6627613 ,  -475.33094988]),\n",
       "   array([-1053.87931271, -1062.95944415,  -729.42225749]),\n",
       "   array([-1.29147323e+03, -8.75053323e+02, -4.08498328e-01]),\n",
       "   array([-1408.45377862,  -104.46126247,  -302.44119969]),\n",
       "   array([-1118.31420629,  -867.20755497,  -672.01536019]),\n",
       "   array([-1225.88486746,  -130.15863648, -1020.25699019]),\n",
       "   array([-1254.17168629,  -308.37232246,  -676.02383424]),\n",
       "   array([-1459.14582366,  -133.52188267,  -103.12898182]),\n",
       "   array([-1238.48353931, -1053.59824024,   -55.50778953]),\n",
       "   array([-1390.54541533,  -164.00918089,  -355.61669999]),\n",
       "   array([-1446.26418434,  -121.88594857,  -115.86898185]),\n",
       "   array([-1390.52795677,  -240.2004354 ,  -198.64668204]),\n",
       "   array([-1352.28402937,  -468.5006149 ,  -200.08852313]),\n",
       "   array([-1358.70523351,   -85.5307263 ,  -544.21232043]),\n",
       "   array([-1344.55597201,   -49.097711  ,  -580.13762861]),\n",
       "   array([-1197.54204979,  -745.79050373,  -536.51294893]),\n",
       "   array([-1319.84192357,  -159.18767487,  -638.66660299]),\n",
       "   array([-1187.72665402,  -651.75107261,  -599.97269287]),\n",
       "   array([-1454.17457092,   -28.62798968,  -214.11458546]),\n",
       "   array([-1295.77152313,  -176.43080632,  -663.64824723]),\n",
       "   array([-1181.89970136, -1024.3474991 ,  -318.46835748]),\n",
       "   array([-1264.2037088 ,  -162.3007745 ,  -792.73726358]),\n",
       "   array([-1309.34090536,  -344.40674941,  -437.62216179]),\n",
       "   array([ -470.80228343, -1994.44481711, -1547.92782638]),\n",
       "   array([-1172.01141976,  -858.28326805,  -511.21332507]),\n",
       "   array([ -503.76404217, -1807.61403354,   -74.29369839]),\n",
       "   array([ -569.53098084, -1111.34734848,  -992.20450529]),\n",
       "   array([-1415.74623809,   -18.9858331 ,  -382.10905428])],\n",
       "  'detected': [True,\n",
       "   True,\n",
       "   True,\n",
       "   True,\n",
       "   False,\n",
       "   True,\n",
       "   True,\n",
       "   True,\n",
       "   True,\n",
       "   True,\n",
       "   True,\n",
       "   True,\n",
       "   False,\n",
       "   True,\n",
       "   True,\n",
       "   True,\n",
       "   True,\n",
       "   False,\n",
       "   False,\n",
       "   False,\n",
       "   False,\n",
       "   False,\n",
       "   True,\n",
       "   True,\n",
       "   True,\n",
       "   True,\n",
       "   True,\n",
       "   True,\n",
       "   True,\n",
       "   True,\n",
       "   True,\n",
       "   True,\n",
       "   True,\n",
       "   True,\n",
       "   True,\n",
       "   True,\n",
       "   True,\n",
       "   True,\n",
       "   True,\n",
       "   True,\n",
       "   True,\n",
       "   True,\n",
       "   True,\n",
       "   True,\n",
       "   True,\n",
       "   True,\n",
       "   True,\n",
       "   True,\n",
       "   True,\n",
       "   True,\n",
       "   True,\n",
       "   True,\n",
       "   True,\n",
       "   True,\n",
       "   True,\n",
       "   True,\n",
       "   True,\n",
       "   True,\n",
       "   True,\n",
       "   True,\n",
       "   True,\n",
       "   True,\n",
       "   True,\n",
       "   True,\n",
       "   True,\n",
       "   True,\n",
       "   True,\n",
       "   True,\n",
       "   True,\n",
       "   True,\n",
       "   True,\n",
       "   True,\n",
       "   True,\n",
       "   True,\n",
       "   True,\n",
       "   True,\n",
       "   True,\n",
       "   True,\n",
       "   True,\n",
       "   True,\n",
       "   True,\n",
       "   True,\n",
       "   True,\n",
       "   True,\n",
       "   True,\n",
       "   True,\n",
       "   True,\n",
       "   True,\n",
       "   True,\n",
       "   True,\n",
       "   True,\n",
       "   True,\n",
       "   True,\n",
       "   True,\n",
       "   True,\n",
       "   False,\n",
       "   True,\n",
       "   True,\n",
       "   True,\n",
       "   True],\n",
       "  'r_vals': [1440.0000000000007,\n",
       "   1460.0000000000014,\n",
       "   1619.9999999999984,\n",
       "   1620.0000000000016,\n",
       "   2119.9999999999973,\n",
       "   1559.9999999999998,\n",
       "   1460.0000000000007,\n",
       "   1460.0000000000002,\n",
       "   1459.9999999999998,\n",
       "   2360.0000000000014,\n",
       "   1500.0000000000002,\n",
       "   1560.0000000000007,\n",
       "   2780.0000000000064,\n",
       "   1445.7290334733996,\n",
       "   1454.5603696272167,\n",
       "   1584.5100693401864,\n",
       "   1573.1951929373083,\n",
       "   2000.439452462319,\n",
       "   2041.1178987327326,\n",
       "   2454.4196610856065,\n",
       "   2199.6571291384553,\n",
       "   2080.0000000000023,\n",
       "   1845.1880471933657,\n",
       "   1573.6104922247714,\n",
       "   1669.2264434119747,\n",
       "   1496.9771436593192,\n",
       "   1448.1927170823171,\n",
       "   1492.9104017105133,\n",
       "   1470.6676828830784,\n",
       "   1460.386738429943,\n",
       "   1464.5181284649818,\n",
       "   1571.7488051321538,\n",
       "   1543.365592327685,\n",
       "   1583.9181761162763,\n",
       "   1450.3286072952005,\n",
       "   1429.5052283744942,\n",
       "   1456.3406441635182,\n",
       "   2146.1076377714307,\n",
       "   1458.820395888034,\n",
       "   1433.3534519291147,\n",
       "   1454.0917669629498,\n",
       "   1556.6582391406641,\n",
       "   1417.3485947405504,\n",
       "   1448.581256877362,\n",
       "   1463.2295428592563,\n",
       "   1588.0256079236372,\n",
       "   1432.4307758358716,\n",
       "   1546.94963262265,\n",
       "   1569.1109172772638,\n",
       "   1502.1525462240986,\n",
       "   1465.046238353301,\n",
       "   1475.16222205786,\n",
       "   1567.3402985547255,\n",
       "   1461.9002949687988,\n",
       "   1459.3314814971325,\n",
       "   1440.2939789001557,\n",
       "   1447.7569327257795,\n",
       "   1508.504399396372,\n",
       "   1724.1343892423745,\n",
       "   1431.2998219668732,\n",
       "   1466.6276767296515,\n",
       "   1438.1047459612719,\n",
       "   1529.1268631243584,\n",
       "   1509.4181771920862,\n",
       "   1572.2119581506827,\n",
       "   1504.0364926761058,\n",
       "   1455.5104536344247,\n",
       "   1563.5374986935044,\n",
       "   1443.9208055089462,\n",
       "   1424.023771263677,\n",
       "   1440.0042311685893,\n",
       "   1445.9087118937912,\n",
       "   1508.8235305441103,\n",
       "   1665.112973761595,\n",
       "   1560.006923232634,\n",
       "   1444.3423697808107,\n",
       "   1566.6142638532162,\n",
       "   1600.2060195386166,\n",
       "   1457.7545514950862,\n",
       "   1468.8669833371089,\n",
       "   1626.9578493796776,\n",
       "   1444.6379480084345,\n",
       "   1456.0088929394392,\n",
       "   1425.0350002766718,\n",
       "   1445.0606697774133,\n",
       "   1466.138624552604,\n",
       "   1465.1965790355623,\n",
       "   1509.3563465350724,\n",
       "   1474.8621796002167,\n",
       "   1481.7021622143457,\n",
       "   1470.132068963979,\n",
       "   1466.4858218280888,\n",
       "   1596.1192930719226,\n",
       "   1500.9946461639513,\n",
       "   1422.8502282310153,\n",
       "   2568.179408504511,\n",
       "   1539.9999999999989,\n",
       "   1877.968652042484,\n",
       "   1594.969669754535,\n",
       "   1466.5282819971715]},\n",
       " <AutoDot.Sampler_factory.Paper_sampler at 0x7f36af4441d0>)"
      ]
     },
     "execution_count": 12,
     "metadata": {},
     "output_type": "execute_result"
    }
   ],
   "source": [
    "t(config_file)"
   ]
  },
  {
   "cell_type": "code",
   "execution_count": 15,
   "metadata": {},
   "outputs": [
    {
     "ename": "AttributeError",
     "evalue": "'function' object has no attribute '__file__'",
     "output_type": "error",
     "traceback": [
      "\u001b[0;31m---------------------------------------------------------------------------\u001b[0m",
      "\u001b[0;31mAttributeError\u001b[0m                            Traceback (most recent call last)",
      "\u001b[0;32m<ipython-input-15-c97a9c3fdd7e>\u001b[0m in \u001b[0;36m<module>\u001b[0;34m\u001b[0m\n\u001b[0;32m----> 1\u001b[0;31m \u001b[0mt\u001b[0m\u001b[0;34m.\u001b[0m\u001b[0m__file__\u001b[0m\u001b[0;34m\u001b[0m\u001b[0;34m\u001b[0m\u001b[0m\n\u001b[0m",
      "\u001b[0;31mAttributeError\u001b[0m: 'function' object has no attribute '__file__'"
     ]
    }
   ],
   "source": [
    "t.__file__"
   ]
  },
  {
   "cell_type": "code",
   "execution_count": 18,
   "metadata": {},
   "outputs": [
    {
     "data": {
      "text/plain": [
       "['C:\\\\Users\\\\Dominic\\\\Desktop\\\\MLdm\\\\dm-oxnm',\n",
       " '/home/joseph/PycharmProjects/AutoDot/notebooks',\n",
       " '/home/joseph/anaconda3/lib/python37.zip',\n",
       " '/home/joseph/anaconda3/lib/python3.7',\n",
       " '/home/joseph/anaconda3/lib/python3.7/lib-dynload',\n",
       " '',\n",
       " '/home/joseph/.local/lib/python3.7/site-packages',\n",
       " '/home/joseph/anaconda3/lib/python3.7/site-packages',\n",
       " '/home/joseph/anaconda3/lib/python3.7/site-packages/IPython/extensions',\n",
       " '/home/joseph/.ipython',\n",
       " '/home/joseph/PycharmProjects/',\n",
       " '/home/joseph/PycharmProjects/',\n",
       " '/home/joseph/PycharmProjects/']"
      ]
     },
     "execution_count": 18,
     "metadata": {},
     "output_type": "execute_result"
    }
   ],
   "source": [
    "sys.path"
   ]
  },
  {
   "cell_type": "code",
   "execution_count": null,
   "metadata": {},
   "outputs": [],
   "source": []
  }
 ],
 "metadata": {
  "kernelspec": {
   "display_name": "Python 3",
   "language": "python",
   "name": "python3"
  },
  "language_info": {
   "codemirror_mode": {
    "name": "ipython",
    "version": 3
   },
   "file_extension": ".py",
   "mimetype": "text/x-python",
   "name": "python",
   "nbconvert_exporter": "python",
   "pygments_lexer": "ipython3",
   "version": "3.7.6"
  }
 },
 "nbformat": 4,
 "nbformat_minor": 2
}
