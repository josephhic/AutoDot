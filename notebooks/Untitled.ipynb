{
 "cells": [
  {
   "cell_type": "code",
   "execution_count": 19,
   "metadata": {},
   "outputs": [],
   "source": [
    "import sys\n",
    "\n",
    "sys.path.append('/home/joseph/PycharmProjects/')\n",
    "\n"
   ]
  },
  {
   "cell_type": "code",
   "execution_count": 20,
   "metadata": {},
   "outputs": [],
   "source": [
    "from AutoDot.tune import tune_with_playground_from_file as t"
   ]
  },
  {
   "cell_type": "code",
   "execution_count": 21,
   "metadata": {},
   "outputs": [],
   "source": [
    "config_file = '/home/joseph/PycharmProjects/AutoDot/example_cs_characterisation_config.json'"
   ]
  },
  {
   "cell_type": "code",
   "execution_count": 22,
   "metadata": {},
   "outputs": [
    {
     "name": "stderr",
     "output_type": "stream",
     "text": [
      "17:30:46.533  {indexable} [_add_to_index_operations] -- WARNING: reconstraining parameters basic.lengthscale\n",
      "17:30:46.534  {indexable} [_add_to_index_operations] -- WARNING: reconstraining parameters basic.lengthscale\n",
      "17:30:46.535  {indexable} [_add_to_index_operations] -- WARNING: reconstraining parameters basic.lengthscale\n",
      "17:30:46.545  {indexable} [_add_to_index_operations] -- WARNING: reconstraining parameters sum.basic.lengthscale\n",
      "17:30:46.546  {indexable} [_add_to_index_operations] -- WARNING: reconstraining parameters sum.basic.lengthscale\n",
      "17:30:46.548  {indexable} [_add_to_index_operations] -- WARNING: reconstraining parameters sum.basic.lengthscale\n",
      "17:30:46.549  {indexable} [_add_to_index_operations] -- WARNING: reconstraining parameters sum.basic.variance\n",
      "17:30:46.558  {indexable} [_add_to_index_operations] -- WARNING: reconstraining parameters sum.basic.lengthscale\n",
      "17:30:46.560  {indexable} [_add_to_index_operations] -- WARNING: reconstraining parameters sum.basic.lengthscale\n",
      "17:30:46.561  {indexable} [_add_to_index_operations] -- WARNING: reconstraining parameters sum.basic.lengthscale\n",
      "17:30:46.562  {indexable} [_add_to_index_operations] -- WARNING: reconstraining parameters sum.basic.variance\n"
     ]
    },
    {
     "name": "stdout",
     "output_type": "stream",
     "text": [
      "============### ITERATION 1 of 100 ###============\n",
      "GPR: False GPC: False prune: False GPR1: False GPC1: False Optim: False\n",
      "WARNING: no boundary point is sampled\n",
      "idx:  [1, 2]\n",
      "[ -799.41139423  -848.91966125 -1095.57146345]\n",
      "False\n",
      "conditional_idx: 1\n",
      "vols_pinchoff: [ -799.41139423  -848.91966125 -1095.57146345]\n",
      "detected: True\n",
      "r_vals: 1599.999999999999\n",
      "============### ITERATION 2 of 100 ###============\n",
      "GPR: False GPC: False prune: False GPR1: False GPC1: False Optim: False\n",
      "WARNING: no boundary point is sampled\n",
      "idx:  [1, 2]\n",
      "[-1243.79048887  -147.25721223  -896.04717132]\n",
      "True\n",
      "0.13585596992986088\n",
      "Score thresh:  0.001\n",
      "conditional_idx: 3\n",
      "vols_pinchoff: [-1243.79048887  -147.25721223  -896.04717132]\n",
      "detected: True\n",
      "r_vals: 1539.9999999999984\n",
      "============### ITERATION 3 of 100 ###============\n",
      "GPR: False GPC: False prune: False GPR1: False GPC1: False Optim: False\n",
      "WARNING: no boundary point is sampled\n",
      "idx:  [1, 2]\n",
      "[ -501.5090253  -1470.56226377  -868.52479867]\n",
      "False\n",
      "conditional_idx: 1\n",
      "vols_pinchoff: [ -501.5090253  -1470.56226377  -868.52479867]\n",
      "detected: True\n",
      "r_vals: 1779.999999999998\n",
      "============### ITERATION 4 of 100 ###============\n",
      "GPR: False GPC: False prune: False GPR1: False GPC1: False Optim: False\n",
      "WARNING: no boundary point is sampled\n",
      "idx:  [1, 2]\n",
      "[ -845.63208148  -960.27413005 -1057.53485896]\n",
      "False\n",
      "conditional_idx: 1\n",
      "vols_pinchoff: [ -845.63208148  -960.27413005 -1057.53485896]\n",
      "detected: True\n",
      "r_vals: 1660.0000000000032\n",
      "============### ITERATION 5 of 100 ###============\n",
      "GPR: False GPC: False prune: False GPR1: False GPC1: False Optim: False\n",
      "WARNING: no boundary point is sampled\n",
      "conditional_idx: 0\n",
      "vols_pinchoff: [  -56.14909443 -1441.42154386 -1992.67438687]\n",
      "detected: False\n",
      "r_vals: 2459.999999999998\n",
      "============### ITERATION 6 of 100 ###============\n",
      "GPR: False GPC: False prune: False GPR1: False GPC1: False Optim: False\n",
      "WARNING: no boundary point is sampled\n",
      "idx:  [1, 2]\n",
      "[ -832.13982392 -1050.74282387  -979.32774469]\n",
      "False\n",
      "conditional_idx: 1\n",
      "vols_pinchoff: [ -832.13982392 -1050.74282387  -979.32774469]\n",
      "detected: True\n",
      "r_vals: 1660.0000000000002\n",
      "============### ITERATION 7 of 100 ###============\n",
      "GPR: False GPC: False prune: False GPR1: False GPC1: False Optim: False\n",
      "WARNING: no boundary point is sampled\n",
      "idx:  [1, 2]\n",
      "[-1198.06107152  -166.0126858  -1047.42038221]\n",
      "False\n",
      "conditional_idx: 1\n",
      "vols_pinchoff: [-1198.06107152  -166.0126858  -1047.42038221]\n",
      "detected: True\n",
      "r_vals: 1599.9999999999993\n",
      "============### ITERATION 8 of 100 ###============\n",
      "GPR: False GPC: False prune: False GPR1: False GPC1: False Optim: False\n",
      "WARNING: no boundary point is sampled\n",
      "idx:  [1, 2]\n",
      "[-1146.00800446  -457.72512078  -986.68808016]\n",
      "True\n",
      "0.13551970780695768\n",
      "Score thresh:  0.001\n",
      "conditional_idx: 3\n",
      "vols_pinchoff: [-1146.00800446  -457.72512078  -986.68808016]\n",
      "detected: True\n",
      "r_vals: 1579.999999999998\n",
      "============### ITERATION 9 of 100 ###============\n",
      "GPR: False GPC: False prune: False GPR1: False GPC1: False Optim: False\n",
      "WARNING: no boundary point is sampled\n",
      "idx:  [1, 2]\n",
      "[ -714.92568827 -1273.17037469  -241.49214741]\n",
      "False\n",
      "conditional_idx: 1\n",
      "vols_pinchoff: [ -714.92568827 -1273.17037469  -241.49214741]\n",
      "detected: True\n",
      "r_vals: 1479.9999999999984\n",
      "============### ITERATION 10 of 100 ###============\n",
      "GPR: False GPC: False prune: False GPR1: False GPC1: False Optim: False\n",
      "WARNING: no boundary point is sampled\n",
      "idx:  [1, 2]\n",
      "[-1285.37009926  -808.81043745   -63.63477187]\n",
      "True\n",
      "0.2772478716404115\n",
      "Score thresh:  0.001\n",
      "conditional_idx: 3\n",
      "vols_pinchoff: [-1285.37009926  -808.81043745   -63.63477187]\n",
      "detected: True\n",
      "r_vals: 1519.9999999999993\n",
      "============### ITERATION 11 of 100 ###============\n",
      "GPR: False GPC: False prune: False GPR1: False GPC1: False Optim: False\n",
      "WARNING: no boundary point is sampled\n",
      "idx:  [1, 2]\n",
      "[-1215.62755074   -89.09279424 -1067.10455527]\n",
      "False\n"
     ]
    },
    {
     "name": "stderr",
     "output_type": "stream",
     "text": [
      "17:30:54.400  {gp} [__init__] -- INFO: initializing Y\n",
      "17:30:54.402  {gp} [__init__] -- INFO: initializing inference method\n",
      "17:30:54.404  {gp} [__init__] -- INFO: adding kernel and likelihood as parameters\n"
     ]
    },
    {
     "name": "stdout",
     "output_type": "stream",
     "text": [
      "conditional_idx: 1\n",
      "vols_pinchoff: [-1215.62755074   -89.09279424 -1067.10455527]\n",
      "detected: True\n",
      "r_vals: 1620.0000000000002\n",
      "============### ITERATION 12 of 100 ###============\n",
      "GPR: True GPC: False prune: False GPR1: False GPC1: False Optim: True\n",
      "WARNING: no boundary point is sampled\n",
      "idx:  [1, 2]\n",
      "[ -639.58372333 -1331.54871853   -91.16288184]\n",
      "False\n",
      "Optimization restart 1/5, f = 73.48510134704271\n",
      "Optimization restart 2/5, f = 73.4851013470999\n",
      "Optimization restart 3/5, f = 73.48510134706058\n",
      "Optimization restart 4/5, f = 73.48510134704402\n",
      "Optimization restart 5/5, f = 73.48510134702963\n",
      "  \u001b[1mbasic.     \u001b[0;0m  |              value  |  constraints  |    priors  \n",
      "  \u001b[1mvariance   \u001b[0;0m  |  749999.9999999999  |   +ve fixed   |            \n",
      "  \u001b[1mlengthscale\u001b[0;0m  |               (3,)  |      +ve      |  Ga(16, 40)\n",
      "  \u001b[1mindex\u001b[0;0m  |  GP_regression.basic.lengthscale  |  constraints  |    priors  \n",
      "  \u001b[1m[0]  \u001b[0;0m  |                       0.44041187  |      +ve      |  Ga(16, 40)\n",
      "  \u001b[1m[1]  \u001b[0;0m  |                       0.49448058  |      +ve      |  Ga(16, 40)\n",
      "  \u001b[1m[2]  \u001b[0;0m  |                       0.46447146  |      +ve      |  Ga(16, 40)\n",
      "  \u001b[1mindex\u001b[0;0m  |  GP_regression.basic.variance  |  constraints  |  priors\n",
      "  \u001b[1m[0]  \u001b[0;0m  |               750000.00000000  |   +ve fixed   |        \n",
      "conditional_idx: 1\n",
      "vols_pinchoff: [ -639.58372333 -1331.54871853   -91.16288184]\n",
      "detected: True\n",
      "r_vals: 1479.9999999999998\n",
      "============### ITERATION 13 of 100 ###============\n",
      "GPR: True GPC: False prune: False GPR1: True GPC1: False Optim: False\n",
      "WARNING: no boundary point is sampled\n",
      "START\n"
     ]
    },
    {
     "name": "stderr",
     "output_type": "stream",
     "text": [
      "17:30:54.623  {gp} [__init__] -- INFO: initializing Y\n",
      "17:30:54.624  {gp} [__init__] -- INFO: initializing inference method\n",
      "17:30:54.626  {gp} [__init__] -- INFO: adding kernel and likelihood as parameters\n"
     ]
    },
    {
     "name": "stdout",
     "output_type": "stream",
     "text": [
      "STOP\n",
      "conditional_idx: 0\n",
      "vols_pinchoff: [  -36.21581718 -1982.75663361 -1125.06201894]\n",
      "detected: False\n",
      "r_vals: 2280.000000000002\n",
      "============### ITERATION 14 of 100 ###============\n",
      "GPR: True GPC: False prune: False GPR1: True GPC1: False Optim: False\n",
      "START\n"
     ]
    },
    {
     "name": "stderr",
     "output_type": "stream",
     "text": [
      "17:30:54.809  {gp} [__init__] -- INFO: initializing Y\n",
      "17:30:54.811  {gp} [__init__] -- INFO: initializing inference method\n",
      "17:30:54.813  {gp} [__init__] -- INFO: adding kernel and likelihood as parameters\n"
     ]
    },
    {
     "name": "stdout",
     "output_type": "stream",
     "text": [
      "idx:  [1, 2]\n",
      "[ -957.09711354 -1094.75561508  -664.86039288]\n",
      "False\n",
      "STOP\n",
      "conditional_idx: 1\n",
      "vols_pinchoff: [ -957.09711354 -1094.75561508  -664.86039288]\n",
      "detected: True\n",
      "r_vals: 1598.9259155822317\n",
      "============### ITERATION 15 of 100 ###============\n",
      "GPR: True GPC: False prune: False GPR1: True GPC1: False Optim: False\n",
      "START\n",
      "idx:  [1, 2]\n",
      "[ -946.76112497 -1095.47463166  -729.62482321]\n"
     ]
    },
    {
     "name": "stderr",
     "output_type": "stream",
     "text": [
      "17:30:55.007  {gp} [__init__] -- INFO: initializing Y\n",
      "17:30:55.008  {gp} [__init__] -- INFO: initializing inference method\n",
      "17:30:55.009  {gp} [__init__] -- INFO: adding kernel and likelihood as parameters\n"
     ]
    },
    {
     "name": "stdout",
     "output_type": "stream",
     "text": [
      "False\n",
      "STOP\n",
      "conditional_idx: 1\n",
      "vols_pinchoff: [ -946.76112497 -1095.47463166  -729.62482321]\n",
      "detected: True\n",
      "r_vals: 1621.3493389752834\n",
      "============### ITERATION 16 of 100 ###============\n",
      "GPR: True GPC: False prune: False GPR1: True GPC1: False Optim: False\n",
      "START\n",
      "idx:  [1, 2]\n",
      "[-1152.06574821  -540.98694484  -869.44560498]\n",
      "True\n",
      "0.1610824434681768\n",
      "Score thresh:  0.001\n"
     ]
    },
    {
     "name": "stderr",
     "output_type": "stream",
     "text": [
      "17:30:57.372  {gp} [__init__] -- INFO: initializing Y\n",
      "17:30:57.373  {gp} [__init__] -- INFO: initializing inference method\n",
      "17:30:57.373  {gp} [__init__] -- INFO: adding kernel and likelihood as parameters\n"
     ]
    },
    {
     "name": "stdout",
     "output_type": "stream",
     "text": [
      "STOP\n",
      "conditional_idx: 3\n",
      "vols_pinchoff: [-1152.06574821  -540.98694484  -869.44560498]\n",
      "detected: True\n",
      "r_vals: 1541.3818549321854\n",
      "============### ITERATION 17 of 100 ###============\n",
      "GPR: True GPC: False prune: False GPR1: True GPC1: False Optim: False\n",
      "START\n"
     ]
    },
    {
     "name": "stderr",
     "output_type": "stream",
     "text": [
      "17:30:57.526  {gp} [__init__] -- INFO: initializing Y\n",
      "17:30:57.528  {gp} [__init__] -- INFO: initializing inference method\n",
      "17:30:57.530  {gp} [__init__] -- INFO: adding kernel and likelihood as parameters\n"
     ]
    },
    {
     "name": "stdout",
     "output_type": "stream",
     "text": [
      "idx:  [1, 2]\n",
      "[ -615.64336121 -1151.27364659  -784.00740465]\n",
      "False\n",
      "STOP\n",
      "conditional_idx: 1\n",
      "vols_pinchoff: [ -615.64336121 -1151.27364659  -784.00740465]\n",
      "detected: True\n",
      "r_vals: 1522.8641988350482\n",
      "============### ITERATION 18 of 100 ###============\n",
      "GPR: True GPC: False prune: False GPR1: True GPC1: False Optim: False\n",
      "START\n",
      "idx:  [1, 2]\n",
      "[ -828.36251074 -1058.67020506  -938.14275897]\n"
     ]
    },
    {
     "name": "stderr",
     "output_type": "stream",
     "text": [
      "17:30:57.687  {gp} [__init__] -- INFO: initializing Y\n",
      "17:30:57.694  {gp} [__init__] -- INFO: initializing inference method\n",
      "17:30:57.697  {gp} [__init__] -- INFO: adding kernel and likelihood as parameters\n"
     ]
    },
    {
     "name": "stdout",
     "output_type": "stream",
     "text": [
      "False\n",
      "STOP\n",
      "conditional_idx: 1\n",
      "vols_pinchoff: [ -828.36251074 -1058.67020506  -938.14275897]\n",
      "detected: True\n",
      "r_vals: 1639.2311882336635\n",
      "============### ITERATION 19 of 100 ###============\n",
      "GPR: True GPC: False prune: False GPR1: True GPC1: False Optim: False\n",
      "START\n",
      "idx:  [1, 2]\n",
      "[-1006.74257797 -1175.3394402   -342.95048017]\n"
     ]
    },
    {
     "name": "stderr",
     "output_type": "stream",
     "text": [
      "17:30:57.861  {gp} [__init__] -- INFO: initializing Y\n",
      "17:30:57.864  {gp} [__init__] -- INFO: initializing inference method\n",
      "17:30:57.867  {gp} [__init__] -- INFO: adding kernel and likelihood as parameters\n"
     ]
    },
    {
     "name": "stdout",
     "output_type": "stream",
     "text": [
      "False\n",
      "STOP\n",
      "conditional_idx: 1\n",
      "vols_pinchoff: [-1006.74257797 -1175.3394402   -342.95048017]\n",
      "detected: True\n",
      "r_vals: 1585.1083400892571\n",
      "============### ITERATION 20 of 100 ###============\n",
      "GPR: True GPC: False prune: False GPR1: True GPC1: False Optim: False\n",
      "START\n",
      "idx:  [1, 2]\n",
      "[-1248.24588809  -920.93497093  -157.29854604]\n",
      "True\n",
      "0.23200681580421922\n",
      "Score thresh:  0.001\n"
     ]
    },
    {
     "name": "stderr",
     "output_type": "stream",
     "text": [
      "17:31:00.292  {gp} [__init__] -- INFO: initializing Y\n",
      "17:31:00.293  {gp} [__init__] -- INFO: initializing inference method\n",
      "17:31:00.294  {gp} [__init__] -- INFO: adding kernel and likelihood as parameters\n"
     ]
    },
    {
     "name": "stdout",
     "output_type": "stream",
     "text": [
      "STOP\n",
      "conditional_idx: 3\n",
      "vols_pinchoff: [-1248.24588809  -920.93497093  -157.29854604]\n",
      "detected: True\n",
      "r_vals: 1559.1606236646999\n",
      "============### ITERATION 21 of 100 ###============\n",
      "GPR: True GPC: False prune: False GPR1: True GPC1: False Optim: False\n",
      "START\n"
     ]
    },
    {
     "name": "stderr",
     "output_type": "stream",
     "text": [
      "17:31:00.450  {gp} [__init__] -- INFO: initializing Y\n",
      "17:31:00.451  {gp} [__init__] -- INFO: initializing inference method\n",
      "17:31:00.454  {gp} [__init__] -- INFO: adding kernel and likelihood as parameters\n"
     ]
    },
    {
     "name": "stdout",
     "output_type": "stream",
     "text": [
      "idx:  [1, 2]\n",
      "[ -643.8687145  -1290.42054046  -195.35838246]\n",
      "False\n",
      "STOP\n",
      "conditional_idx: 1\n",
      "vols_pinchoff: [ -643.8687145  -1290.42054046  -195.35838246]\n",
      "detected: True\n",
      "r_vals: 1455.3064936102205\n",
      "============### ITERATION 22 of 100 ###============\n",
      "GPR: True GPC: True prune: False GPR1: True GPC1: False Optim: False\n",
      "START\n"
     ]
    },
    {
     "name": "stderr",
     "output_type": "stream",
     "text": [
      "17:31:00.510  {gp} [__init__] -- INFO: initializing Y\n",
      "17:31:00.511  {gp} [__init__] -- INFO: initializing inference method\n",
      "17:31:00.512  {gp} [__init__] -- INFO: adding kernel and likelihood as parameters\n",
      "17:31:00.517  {gp} [__init__] -- INFO: initializing Y\n",
      "17:31:00.518  {gp} [__init__] -- INFO: initializing inference method\n",
      "17:31:00.518  {gp} [__init__] -- INFO: adding kernel and likelihood as parameters\n"
     ]
    },
    {
     "name": "stdout",
     "output_type": "stream",
     "text": [
      "STOP\n",
      "There are 22 training examples for model 0 and 19 are positive\n"
     ]
    },
    {
     "name": "stderr",
     "output_type": "stream",
     "text": [
      "17:31:00.530  {gp} [__init__] -- INFO: initializing Y\n",
      "17:31:00.532  {gp} [__init__] -- INFO: initializing inference method\n",
      "17:31:00.532  {gp} [__init__] -- INFO: adding kernel and likelihood as parameters\n"
     ]
    },
    {
     "name": "stdout",
     "output_type": "stream",
     "text": [
      "There are 19 training examples for model 1 and 5 are positive\n",
      "conditional_idx: 0\n",
      "vols_pinchoff: [  -59.00177906   -16.25083098 -1985.02945587]\n",
      "detected: False\n",
      "r_vals: 1985.972618163148\n",
      "============### ITERATION 23 of 100 ###============\n",
      "GPR: True GPC: True prune: False GPR1: True GPC1: True Optim: True\n",
      "(19, 3)\n",
      "(22, 3)\n",
      "START\n"
     ]
    },
    {
     "name": "stderr",
     "output_type": "stream",
     "text": [
      "17:31:00.705  {gp} [__init__] -- INFO: initializing Y\n",
      "17:31:00.706  {gp} [__init__] -- INFO: initializing inference method\n",
      "17:31:00.706  {gp} [__init__] -- INFO: adding kernel and likelihood as parameters\n"
     ]
    },
    {
     "name": "stdout",
     "output_type": "stream",
     "text": [
      "idx:  [1, 2]\n",
      "[ -995.31679547  -188.75879265 -1221.83513736]\n",
      "False\n",
      "STOP\n",
      "Optimization restart 1/5, f = 123.22524443289277\n",
      "Optimization restart 2/5, f = 123.22524443290375\n",
      "Optimization restart 3/5, f = 123.22524443295482\n",
      "Optimization restart 4/5, f = 123.22524443289133\n"
     ]
    },
    {
     "name": "stderr",
     "output_type": "stream",
     "text": [
      "17:31:00.788  {gp} [__init__] -- INFO: initializing Y\n",
      "17:31:00.789  {gp} [__init__] -- INFO: initializing inference method\n",
      "17:31:00.789  {gp} [__init__] -- INFO: adding kernel and likelihood as parameters\n",
      "17:31:00.800  {gp} [__init__] -- INFO: initializing Y\n",
      "17:31:00.801  {gp} [__init__] -- INFO: initializing inference method\n",
      "17:31:00.801  {gp} [__init__] -- INFO: adding kernel and likelihood as parameters\n"
     ]
    },
    {
     "name": "stdout",
     "output_type": "stream",
     "text": [
      "Optimization restart 5/5, f = 123.22524443289905\n",
      "  \u001b[1mbasic.     \u001b[0;0m  |              value  |  constraints  |    priors  \n",
      "  \u001b[1mvariance   \u001b[0;0m  |  749999.9999999999  |   +ve fixed   |            \n",
      "  \u001b[1mlengthscale\u001b[0;0m  |               (3,)  |      +ve      |  Ga(16, 40)\n",
      "  \u001b[1mindex\u001b[0;0m  |  GP_regression.basic.lengthscale  |  constraints  |    priors  \n",
      "  \u001b[1m[0]  \u001b[0;0m  |                       0.46740949  |      +ve      |  Ga(16, 40)\n",
      "  \u001b[1m[1]  \u001b[0;0m  |                       0.54667883  |      +ve      |  Ga(16, 40)\n",
      "  \u001b[1m[2]  \u001b[0;0m  |                       0.56360900  |      +ve      |  Ga(16, 40)\n",
      "  \u001b[1mindex\u001b[0;0m  |  GP_regression.basic.variance  |  constraints  |  priors\n",
      "  \u001b[1m[0]  \u001b[0;0m  |               750000.00000000  |   +ve fixed   |        \n",
      "There are 23 training examples for model 0 and 20 are positive\n",
      "There are 20 training examples for model 1 and 5 are positive\n",
      "  \u001b[1msum.             \u001b[0;0m  |                   value  |  constraints  |     priors    \n",
      "  \u001b[1mbasic.variance   \u001b[0;0m  |       41.85503671757182  |      +ve      |  Ga(6.2, 0.12)\n",
      "  \u001b[1mbasic.lengthscale\u001b[0;0m  |                    (3,)  |      +ve      |  Ga(25, 0.05) \n",
      "  \u001b[1mbias.variance    \u001b[0;0m  |  1.2600041487697942e-08  |      +ve      |               \n",
      "  \u001b[1mindex\u001b[0;0m  |  gp_classification.sum.basic.lengthscale  |  constraints  |     priors   \n",
      "  \u001b[1m[0]  \u001b[0;0m  |                             489.15752407  |      +ve      |  Ga(25, 0.05)\n",
      "  \u001b[1m[1]  \u001b[0;0m  |                             504.29821342  |      +ve      |  Ga(25, 0.05)\n",
      "  \u001b[1m[2]  \u001b[0;0m  |                             503.45784904  |      +ve      |  Ga(25, 0.05)\n",
      "  \u001b[1msum.             \u001b[0;0m  |                 value  |  constraints  |     priors    \n",
      "  \u001b[1mbasic.variance   \u001b[0;0m  |     42.61245281180025  |      +ve      |  Ga(6.2, 0.12)\n",
      "  \u001b[1mbasic.lengthscale\u001b[0;0m  |                  (3,)  |      +ve      |  Ga(25, 0.05) \n",
      "  \u001b[1mbias.variance    \u001b[0;0m  |  1.53620570517352e-06  |      +ve      |               \n",
      "  \u001b[1mindex\u001b[0;0m  |  gp_classification.sum.basic.lengthscale  |  constraints  |     priors   \n",
      "  \u001b[1m[0]  \u001b[0;0m  |                             479.34636704  |      +ve      |  Ga(25, 0.05)\n",
      "  \u001b[1m[1]  \u001b[0;0m  |                             477.13642551  |      +ve      |  Ga(25, 0.05)\n",
      "  \u001b[1m[2]  \u001b[0;0m  |                             490.45031688  |      +ve      |  Ga(25, 0.05)\n",
      "conditional_idx: 1\n",
      "vols_pinchoff: [ -995.31679547  -188.75879265 -1221.83513736]\n",
      "detected: True\n",
      "r_vals: 1587.1882396352553\n",
      "============### ITERATION 24 of 100 ###============\n",
      "GPR: True GPC: True prune: False GPR1: True GPC1: True Optim: False\n",
      "(376, 3)\n",
      "(23, 3)\n",
      "START\n",
      "idx:  [1, 2]\n",
      "[-1183.13340922  -926.99491248  -370.33141407]\n",
      "True\n",
      "0.22541494349097388\n",
      "Score thresh:  0.001\n"
     ]
    },
    {
     "name": "stderr",
     "output_type": "stream",
     "text": [
      "17:31:03.361  {gp} [__init__] -- INFO: initializing Y\n",
      "17:31:03.362  {gp} [__init__] -- INFO: initializing inference method\n",
      "17:31:03.363  {gp} [__init__] -- INFO: adding kernel and likelihood as parameters\n",
      "17:31:03.369  {gp} [__init__] -- INFO: initializing Y\n",
      "17:31:03.370  {gp} [__init__] -- INFO: initializing inference method\n",
      "17:31:03.370  {gp} [__init__] -- INFO: adding kernel and likelihood as parameters\n",
      "17:31:03.383  {gp} [__init__] -- INFO: initializing Y\n",
      "17:31:03.383  {gp} [__init__] -- INFO: initializing inference method\n",
      "17:31:03.384  {gp} [__init__] -- INFO: adding kernel and likelihood as parameters\n"
     ]
    },
    {
     "name": "stdout",
     "output_type": "stream",
     "text": [
      "STOP\n",
      "There are 24 training examples for model 0 and 21 are positive\n",
      "There are 21 training examples for model 1 and 6 are positive\n",
      "conditional_idx: 3\n",
      "vols_pinchoff: [-1183.13340922  -926.99491248  -370.33141407]\n",
      "detected: True\n",
      "r_vals: 1547.9888849837916\n",
      "============### ITERATION 25 of 100 ###============\n",
      "GPR: True GPC: True prune: False GPR1: True GPC1: True Optim: False\n",
      "(10000, 3)\n",
      "(24, 3)\n",
      "START\n",
      "idx:  [1, 2]\n",
      "[-1022.41229679  -727.10168982 -1076.26125445]\n",
      "False\n"
     ]
    },
    {
     "name": "stderr",
     "output_type": "stream",
     "text": [
      "17:31:03.576  {gp} [__init__] -- INFO: initializing Y\n",
      "17:31:03.580  {gp} [__init__] -- INFO: initializing inference method\n",
      "17:31:03.587  {gp} [__init__] -- INFO: adding kernel and likelihood as parameters\n",
      "17:31:03.594  {gp} [__init__] -- INFO: initializing Y\n",
      "17:31:03.596  {gp} [__init__] -- INFO: initializing inference method\n",
      "17:31:03.602  {gp} [__init__] -- INFO: adding kernel and likelihood as parameters\n",
      "17:31:03.621  {gp} [__init__] -- INFO: initializing Y\n",
      "17:31:03.625  {gp} [__init__] -- INFO: initializing inference method\n",
      "17:31:03.627  {gp} [__init__] -- INFO: adding kernel and likelihood as parameters\n"
     ]
    },
    {
     "name": "stdout",
     "output_type": "stream",
     "text": [
      "STOP\n",
      "There are 25 training examples for model 0 and 22 are positive\n",
      "There are 22 training examples for model 1 and 6 are positive\n",
      "conditional_idx: 1\n",
      "vols_pinchoff: [-1022.41229679  -727.10168982 -1076.26125445]\n",
      "detected: True\n",
      "r_vals: 1652.9797517814561\n",
      "============### ITERATION 26 of 100 ###============\n",
      "GPR: True GPC: True prune: False GPR1: True GPC1: True Optim: False\n",
      "(305, 3)\n",
      "(25, 3)\n",
      "START\n",
      "idx:  [1, 2]\n",
      "[-1350.19148797  -453.84772114  -178.22661664]\n",
      "True\n",
      "1.1719012630491303\n",
      "Score thresh:  0.001\n"
     ]
    },
    {
     "name": "stderr",
     "output_type": "stream",
     "text": [
      "17:31:05.922  {gp} [__init__] -- INFO: initializing Y\n",
      "17:31:05.922  {gp} [__init__] -- INFO: initializing inference method\n",
      "17:31:05.923  {gp} [__init__] -- INFO: adding kernel and likelihood as parameters\n",
      "17:31:05.928  {gp} [__init__] -- INFO: initializing Y\n",
      "17:31:05.929  {gp} [__init__] -- INFO: initializing inference method\n",
      "17:31:05.929  {gp} [__init__] -- INFO: adding kernel and likelihood as parameters\n",
      "17:31:05.942  {gp} [__init__] -- INFO: initializing Y\n",
      "17:31:05.943  {gp} [__init__] -- INFO: initializing inference method\n",
      "17:31:05.944  {gp} [__init__] -- INFO: adding kernel and likelihood as parameters\n"
     ]
    },
    {
     "name": "stdout",
     "output_type": "stream",
     "text": [
      "STOP\n",
      "There are 26 training examples for model 0 and 23 are positive\n",
      "There are 23 training examples for model 1 and 7 are positive\n",
      "conditional_idx: 3\n",
      "vols_pinchoff: [-1350.19148797  -453.84772114  -178.22661664]\n",
      "detected: True\n",
      "r_vals: 1435.5345816310785\n",
      "============### ITERATION 27 of 100 ###============\n",
      "GPR: True GPC: True prune: False GPR1: True GPC1: True Optim: False\n",
      "(10000, 3)\n",
      "(26, 3)\n",
      "START\n",
      "idx:  [1, 2]\n",
      "[-1261.59888883  -370.992838    -619.87769983]\n",
      "True\n",
      "0.25527789676533125\n",
      "Score thresh:  0.001\n"
     ]
    },
    {
     "name": "stderr",
     "output_type": "stream",
     "text": [
      "17:31:08.247  {gp} [__init__] -- INFO: initializing Y\n",
      "17:31:08.247  {gp} [__init__] -- INFO: initializing inference method\n",
      "17:31:08.248  {gp} [__init__] -- INFO: adding kernel and likelihood as parameters\n",
      "17:31:08.253  {gp} [__init__] -- INFO: initializing Y\n",
      "17:31:08.253  {gp} [__init__] -- INFO: initializing inference method\n",
      "17:31:08.254  {gp} [__init__] -- INFO: adding kernel and likelihood as parameters\n",
      "17:31:08.265  {gp} [__init__] -- INFO: initializing Y\n",
      "17:31:08.266  {gp} [__init__] -- INFO: initializing inference method\n",
      "17:31:08.267  {gp} [__init__] -- INFO: adding kernel and likelihood as parameters\n"
     ]
    },
    {
     "name": "stdout",
     "output_type": "stream",
     "text": [
      "STOP\n",
      "There are 27 training examples for model 0 and 24 are positive\n",
      "There are 24 training examples for model 1 and 8 are positive\n",
      "conditional_idx: 3\n",
      "vols_pinchoff: [-1261.59888883  -370.992838    -619.87769983]\n",
      "detected: True\n",
      "r_vals: 1453.7935908836569\n",
      "============### ITERATION 28 of 100 ###============\n",
      "GPR: True GPC: True prune: False GPR1: True GPC1: True Optim: False\n",
      "(10000, 3)\n",
      "(27, 3)\n",
      "START\n",
      "idx:  [1, 2]\n",
      "[ -504.05247286 -1087.05826517 -1217.99874604]\n"
     ]
    },
    {
     "name": "stderr",
     "output_type": "stream",
     "text": [
      "17:31:08.464  {gp} [__init__] -- INFO: initializing Y\n",
      "17:31:08.468  {gp} [__init__] -- INFO: initializing inference method\n",
      "17:31:08.470  {gp} [__init__] -- INFO: adding kernel and likelihood as parameters\n",
      "17:31:08.480  {gp} [__init__] -- INFO: initializing Y\n",
      "17:31:08.482  {gp} [__init__] -- INFO: initializing inference method\n",
      "17:31:08.483  {gp} [__init__] -- INFO: adding kernel and likelihood as parameters\n",
      "17:31:08.501  {gp} [__init__] -- INFO: initializing Y\n",
      "17:31:08.504  {gp} [__init__] -- INFO: initializing inference method\n",
      "17:31:08.506  {gp} [__init__] -- INFO: adding kernel and likelihood as parameters\n"
     ]
    },
    {
     "name": "stdout",
     "output_type": "stream",
     "text": [
      "False\n",
      "STOP\n",
      "There are 28 training examples for model 0 and 25 are positive\n",
      "There are 25 training examples for model 1 and 8 are positive\n",
      "conditional_idx: 1\n",
      "vols_pinchoff: [ -504.05247286 -1087.05826517 -1217.99874604]\n",
      "detected: True\n",
      "r_vals: 1708.591675224004\n",
      "============### ITERATION 29 of 100 ###============\n",
      "GPR: True GPC: True prune: False GPR1: True GPC1: True Optim: False\n",
      "(222, 3)\n",
      "(28, 3)\n",
      "START\n"
     ]
    },
    {
     "name": "stderr",
     "output_type": "stream",
     "text": [
      "17:31:08.574  {gp} [__init__] -- INFO: initializing Y\n",
      "17:31:08.575  {gp} [__init__] -- INFO: initializing inference method\n",
      "17:31:08.576  {gp} [__init__] -- INFO: adding kernel and likelihood as parameters\n",
      "17:31:08.584  {gp} [__init__] -- INFO: initializing Y\n",
      "17:31:08.585  {gp} [__init__] -- INFO: initializing inference method\n",
      "17:31:08.586  {gp} [__init__] -- INFO: adding kernel and likelihood as parameters\n",
      "17:31:08.600  {gp} [__init__] -- INFO: initializing Y\n",
      "17:31:08.600  {gp} [__init__] -- INFO: initializing inference method\n",
      "17:31:08.601  {gp} [__init__] -- INFO: adding kernel and likelihood as parameters\n"
     ]
    },
    {
     "name": "stdout",
     "output_type": "stream",
     "text": [
      "STOP\n",
      "There are 29 training examples for model 0 and 25 are positive\n",
      "There are 25 training examples for model 1 and 8 are positive\n",
      "conditional_idx: 0\n",
      "vols_pinchoff: [ -245.52137833  -569.93163789 -1988.24988171]\n",
      "detected: False\n",
      "r_vals: 2082.844307960578\n",
      "============### ITERATION 30 of 100 ###============\n",
      "GPR: True GPC: True prune: False GPR1: True GPC1: True Optim: False\n",
      "(3, 3)\n",
      "(29, 3)\n",
      "START\n",
      "idx:  [1, 2]\n",
      "[-1211.67039902  -616.60105426  -546.66740187]\n",
      "True\n",
      "0.3137165503310524\n",
      "Score thresh:  0.001\n"
     ]
    },
    {
     "name": "stderr",
     "output_type": "stream",
     "text": [
      "17:31:10.887  {gp} [__init__] -- INFO: initializing Y\n",
      "17:31:10.887  {gp} [__init__] -- INFO: initializing inference method\n",
      "17:31:10.888  {gp} [__init__] -- INFO: adding kernel and likelihood as parameters\n",
      "17:31:10.894  {gp} [__init__] -- INFO: initializing Y\n",
      "17:31:10.895  {gp} [__init__] -- INFO: initializing inference method\n",
      "17:31:10.895  {gp} [__init__] -- INFO: adding kernel and likelihood as parameters\n",
      "17:31:10.910  {gp} [__init__] -- INFO: initializing Y\n",
      "17:31:10.910  {gp} [__init__] -- INFO: initializing inference method\n",
      "17:31:10.910  {gp} [__init__] -- INFO: adding kernel and likelihood as parameters\n"
     ]
    },
    {
     "name": "stdout",
     "output_type": "stream",
     "text": [
      "STOP\n",
      "There are 30 training examples for model 0 and 26 are positive\n",
      "There are 26 training examples for model 1 and 9 are positive\n",
      "conditional_idx: 3\n",
      "vols_pinchoff: [-1211.67039902  -616.60105426  -546.66740187]\n",
      "detected: True\n",
      "r_vals: 1465.328381023624\n",
      "============### ITERATION 31 of 100 ###============\n",
      "GPR: True GPC: True prune: False GPR1: True GPC1: True Optim: False\n",
      "(10000, 3)\n",
      "(30, 3)\n",
      "START\n",
      "idx:  [1, 2]\n",
      "[-1207.1344266   -392.99424687  -835.43110047]\n",
      "True\n",
      "0.16803049353726138\n",
      "Score thresh:  0.001\n"
     ]
    },
    {
     "name": "stderr",
     "output_type": "stream",
     "text": [
      "17:31:13.236  {gp} [__init__] -- INFO: initializing Y\n",
      "17:31:13.237  {gp} [__init__] -- INFO: initializing inference method\n",
      "17:31:13.237  {gp} [__init__] -- INFO: adding kernel and likelihood as parameters\n",
      "17:31:13.243  {gp} [__init__] -- INFO: initializing Y\n",
      "17:31:13.244  {gp} [__init__] -- INFO: initializing inference method\n",
      "17:31:13.244  {gp} [__init__] -- INFO: adding kernel and likelihood as parameters\n",
      "17:31:13.258  {gp} [__init__] -- INFO: initializing Y\n",
      "17:31:13.259  {gp} [__init__] -- INFO: initializing inference method\n",
      "17:31:13.259  {gp} [__init__] -- INFO: adding kernel and likelihood as parameters\n"
     ]
    },
    {
     "name": "stdout",
     "output_type": "stream",
     "text": [
      "STOP\n",
      "There are 31 training examples for model 0 and 27 are positive\n",
      "There are 27 training examples for model 1 and 10 are positive\n",
      "conditional_idx: 3\n",
      "vols_pinchoff: [-1207.1344266   -392.99424687  -835.43110047]\n",
      "detected: True\n",
      "r_vals: 1519.7246874292246\n",
      "============### ITERATION 32 of 100 ###============\n",
      "GPR: True GPC: True prune: False GPR1: True GPC1: True Optim: False\n",
      "(10000, 3)\n",
      "(31, 3)\n",
      "START\n",
      "idx:  [1, 2]\n",
      "[-1231.58183244  -452.99018056  -693.85806364]\n",
      "True\n",
      "0.22404416466550717\n",
      "Score thresh:  0.001\n"
     ]
    },
    {
     "name": "stderr",
     "output_type": "stream",
     "text": [
      "17:31:15.569  {gp} [__init__] -- INFO: initializing Y\n",
      "17:31:15.570  {gp} [__init__] -- INFO: initializing inference method\n",
      "17:31:15.570  {gp} [__init__] -- INFO: adding kernel and likelihood as parameters\n",
      "17:31:15.575  {gp} [__init__] -- INFO: initializing Y\n",
      "17:31:15.576  {gp} [__init__] -- INFO: initializing inference method\n",
      "17:31:15.576  {gp} [__init__] -- INFO: adding kernel and likelihood as parameters\n",
      "17:31:15.590  {gp} [__init__] -- INFO: initializing Y\n",
      "17:31:15.591  {gp} [__init__] -- INFO: initializing inference method\n",
      "17:31:15.591  {gp} [__init__] -- INFO: adding kernel and likelihood as parameters\n"
     ]
    },
    {
     "name": "stdout",
     "output_type": "stream",
     "text": [
      "STOP\n",
      "There are 32 training examples for model 0 and 28 are positive\n",
      "There are 28 training examples for model 1 and 11 are positive\n",
      "conditional_idx: 3\n",
      "vols_pinchoff: [-1231.58183244  -452.99018056  -693.85806364]\n",
      "detected: True\n",
      "r_vals: 1484.3964854957476\n",
      "============### ITERATION 33 of 100 ###============\n",
      "GPR: True GPC: True prune: False GPR1: True GPC1: True Optim: False\n",
      "(10000, 3)\n",
      "(32, 3)\n",
      "START\n",
      "idx:  [1, 2]\n",
      "[-1316.27651498  -460.42627271  -342.33128679]\n",
      "True\n",
      "0.9954735983821672\n",
      "Score thresh:  0.2954822109857319\n"
     ]
    },
    {
     "name": "stderr",
     "output_type": "stream",
     "text": [
      "17:31:17.907  {gp} [__init__] -- INFO: initializing Y\n",
      "17:31:17.907  {gp} [__init__] -- INFO: initializing inference method\n",
      "17:31:17.908  {gp} [__init__] -- INFO: adding kernel and likelihood as parameters\n",
      "17:31:17.914  {gp} [__init__] -- INFO: initializing Y\n",
      "17:31:17.914  {gp} [__init__] -- INFO: initializing inference method\n",
      "17:31:17.914  {gp} [__init__] -- INFO: adding kernel and likelihood as parameters\n",
      "17:31:17.932  {gp} [__init__] -- INFO: initializing Y\n",
      "17:31:17.933  {gp} [__init__] -- INFO: initializing inference method\n",
      "17:31:17.933  {gp} [__init__] -- INFO: adding kernel and likelihood as parameters\n"
     ]
    },
    {
     "name": "stdout",
     "output_type": "stream",
     "text": [
      "STOP\n",
      "There are 33 training examples for model 0 and 29 are positive\n",
      "There are 29 training examples for model 1 and 12 are positive\n",
      "conditional_idx: 3\n",
      "vols_pinchoff: [-1316.27651498  -460.42627271  -342.33128679]\n",
      "detected: True\n",
      "r_vals: 1435.8854154833712\n",
      "============### ITERATION 34 of 100 ###============\n",
      "GPR: True GPC: True prune: False GPR1: True GPC1: True Optim: True\n",
      "(10000, 3)\n",
      "(33, 3)\n",
      "START\n",
      "idx:  [1, 2]\n",
      "[-1277.09110979   -49.58374499  -851.29207676]\n",
      "True\n"
     ]
    },
    {
     "name": "stderr",
     "output_type": "stream",
     "text": [
      "17:31:19.215  {gp} [__init__] -- INFO: initializing Y\n",
      "17:31:19.215  {gp} [__init__] -- INFO: initializing inference method\n",
      "17:31:19.216  {gp} [__init__] -- INFO: adding kernel and likelihood as parameters\n",
      "17:31:19.292  {gp} [__init__] -- INFO: initializing Y\n",
      "17:31:19.292  {gp} [__init__] -- INFO: initializing inference method\n",
      "17:31:19.293  {gp} [__init__] -- INFO: adding kernel and likelihood as parameters\n",
      "17:31:19.308  {gp} [__init__] -- INFO: initializing Y\n",
      "17:31:19.309  {gp} [__init__] -- INFO: initializing inference method\n",
      "17:31:19.309  {gp} [__init__] -- INFO: adding kernel and likelihood as parameters\n"
     ]
    },
    {
     "name": "stdout",
     "output_type": "stream",
     "text": [
      "0.13310553747909562\n",
      "Score thresh:  0.5523315171489424\n",
      "STOP\n",
      "Optimization restart 1/5, f = 176.72922857816644\n",
      "Optimization restart 2/5, f = 176.72922857816107\n",
      "Optimization restart 3/5, f = 176.72922857838407\n",
      "Optimization restart 4/5, f = 176.7292285782634\n",
      "Optimization restart 5/5, f = 176.7292285781574\n",
      "  \u001b[1mbasic.     \u001b[0;0m  |              value  |  constraints  |    priors  \n",
      "  \u001b[1mvariance   \u001b[0;0m  |  749999.9999999999  |   +ve fixed   |            \n",
      "  \u001b[1mlengthscale\u001b[0;0m  |               (3,)  |      +ve      |  Ga(16, 40)\n",
      "  \u001b[1mindex\u001b[0;0m  |  GP_regression.basic.lengthscale  |  constraints  |    priors  \n",
      "  \u001b[1m[0]  \u001b[0;0m  |                       0.50249899  |      +ve      |  Ga(16, 40)\n",
      "  \u001b[1m[1]  \u001b[0;0m  |                       0.65914690  |      +ve      |  Ga(16, 40)\n",
      "  \u001b[1m[2]  \u001b[0;0m  |                       0.68178047  |      +ve      |  Ga(16, 40)\n",
      "  \u001b[1mindex\u001b[0;0m  |  GP_regression.basic.variance  |  constraints  |  priors\n",
      "  \u001b[1m[0]  \u001b[0;0m  |               750000.00000000  |   +ve fixed   |        \n",
      "There are 34 training examples for model 0 and 30 are positive\n",
      "There are 30 training examples for model 1 and 13 are positive\n",
      "  \u001b[1msum.             \u001b[0;0m  |                   value  |  constraints  |     priors    \n",
      "  \u001b[1mbasic.variance   \u001b[0;0m  |      42.851789793758954  |      +ve      |  Ga(6.2, 0.12)\n",
      "  \u001b[1mbasic.lengthscale\u001b[0;0m  |                    (3,)  |      +ve      |  Ga(25, 0.05) \n",
      "  \u001b[1mbias.variance    \u001b[0;0m  |  1.2599880686483095e-08  |      +ve      |               \n",
      "  \u001b[1mindex\u001b[0;0m  |  gp_classification.sum.basic.lengthscale  |  constraints  |     priors   \n",
      "  \u001b[1m[0]  \u001b[0;0m  |                             492.22536595  |      +ve      |  Ga(25, 0.05)\n",
      "  \u001b[1m[1]  \u001b[0;0m  |                             520.07417066  |      +ve      |  Ga(25, 0.05)\n",
      "  \u001b[1m[2]  \u001b[0;0m  |                             510.32868665  |      +ve      |  Ga(25, 0.05)\n",
      "  \u001b[1msum.             \u001b[0;0m  |                   value  |  constraints  |     priors    \n",
      "  \u001b[1mbasic.variance   \u001b[0;0m  |      43.888290393500974  |      +ve      |  Ga(6.2, 0.12)\n",
      "  \u001b[1mbasic.lengthscale\u001b[0;0m  |                    (3,)  |      +ve      |  Ga(25, 0.05) \n",
      "  \u001b[1mbias.variance    \u001b[0;0m  |  1.5343283355127726e-06  |      +ve      |               \n",
      "  \u001b[1mindex\u001b[0;0m  |  gp_classification.sum.basic.lengthscale  |  constraints  |     priors   \n",
      "  \u001b[1m[0]  \u001b[0;0m  |                             480.85692614  |      +ve      |  Ga(25, 0.05)\n",
      "  \u001b[1m[1]  \u001b[0;0m  |                             494.04886426  |      +ve      |  Ga(25, 0.05)\n",
      "  \u001b[1m[2]  \u001b[0;0m  |                             497.81962282  |      +ve      |  Ga(25, 0.05)\n",
      "conditional_idx: 2\n",
      "vols_pinchoff: [-1277.09110979   -49.58374499  -851.29207676]\n",
      "detected: True\n",
      "r_vals: 1535.616635238383\n",
      "============### ITERATION 35 of 100 ###============\n",
      "GPR: True GPC: True prune: False GPR1: True GPC1: True Optim: False\n",
      "(6634, 3)\n",
      "(34, 3)\n",
      "START\n",
      "idx:  [1, 2]\n",
      "[-1266.35585915  -601.43817653  -402.11845787]\n",
      "True\n",
      "0.5469323008304677\n",
      "Score thresh:  0.4500679599412749\n"
     ]
    },
    {
     "name": "stderr",
     "output_type": "stream",
     "text": [
      "17:31:21.773  {gp} [__init__] -- INFO: initializing Y\n",
      "17:31:21.774  {gp} [__init__] -- INFO: initializing inference method\n",
      "17:31:21.774  {gp} [__init__] -- INFO: adding kernel and likelihood as parameters\n",
      "17:31:21.780  {gp} [__init__] -- INFO: initializing Y\n",
      "17:31:21.780  {gp} [__init__] -- INFO: initializing inference method\n",
      "17:31:21.780  {gp} [__init__] -- INFO: adding kernel and likelihood as parameters\n",
      "17:31:21.794  {gp} [__init__] -- INFO: initializing Y\n",
      "17:31:21.795  {gp} [__init__] -- INFO: initializing inference method\n",
      "17:31:21.795  {gp} [__init__] -- INFO: adding kernel and likelihood as parameters\n"
     ]
    },
    {
     "name": "stdout",
     "output_type": "stream",
     "text": [
      "STOP\n",
      "There are 35 training examples for model 0 and 31 are positive\n",
      "There are 31 training examples for model 1 and 14 are positive\n",
      "conditional_idx: 3\n",
      "vols_pinchoff: [-1266.35585915  -601.43817653  -402.11845787]\n",
      "detected: True\n",
      "r_vals: 1458.4527062403279\n",
      "============### ITERATION 36 of 100 ###============\n",
      "GPR: True GPC: True prune: False GPR1: True GPC1: True Optim: False\n",
      "(10000, 3)\n",
      "(35, 3)\n",
      "START\n",
      "idx:  [1, 2]\n",
      "[ -500.76779038  -216.31959001 -1327.27877274]\n",
      "False\n"
     ]
    },
    {
     "name": "stderr",
     "output_type": "stream",
     "text": [
      "17:31:21.986  {gp} [__init__] -- INFO: initializing Y\n",
      "17:31:21.989  {gp} [__init__] -- INFO: initializing inference method\n",
      "17:31:21.991  {gp} [__init__] -- INFO: adding kernel and likelihood as parameters\n",
      "17:31:22.000  {gp} [__init__] -- INFO: initializing Y\n",
      "17:31:22.002  {gp} [__init__] -- INFO: initializing inference method\n",
      "17:31:22.004  {gp} [__init__] -- INFO: adding kernel and likelihood as parameters\n",
      "17:31:22.021  {gp} [__init__] -- INFO: initializing Y\n",
      "17:31:22.024  {gp} [__init__] -- INFO: initializing inference method\n",
      "17:31:22.029  {gp} [__init__] -- INFO: adding kernel and likelihood as parameters\n"
     ]
    },
    {
     "name": "stdout",
     "output_type": "stream",
     "text": [
      "STOP\n",
      "There are 36 training examples for model 0 and 32 are positive\n",
      "There are 32 training examples for model 1 and 14 are positive\n",
      "conditional_idx: 1\n",
      "vols_pinchoff: [ -500.76779038  -216.31959001 -1327.27877274]\n",
      "detected: True\n",
      "r_vals: 1435.0022597394352\n",
      "============### ITERATION 37 of 100 ###============\n",
      "GPR: True GPC: True prune: False GPR1: True GPC1: True Optim: False\n",
      "(342, 3)\n",
      "(36, 3)\n",
      "START\n",
      "idx:  [1, 2]\n",
      "[-1206.08420689  -740.48693717  -506.64103821]\n",
      "True\n"
     ]
    },
    {
     "name": "stderr",
     "output_type": "stream",
     "text": [
      "17:31:23.268  {gp} [__init__] -- INFO: initializing Y\n",
      "17:31:23.268  {gp} [__init__] -- INFO: initializing inference method\n",
      "17:31:23.269  {gp} [__init__] -- INFO: adding kernel and likelihood as parameters\n",
      "17:31:23.274  {gp} [__init__] -- INFO: initializing Y\n",
      "17:31:23.275  {gp} [__init__] -- INFO: initializing inference method\n",
      "17:31:23.275  {gp} [__init__] -- INFO: adding kernel and likelihood as parameters\n",
      "17:31:23.297  {gp} [__init__] -- INFO: initializing Y\n",
      "17:31:23.298  {gp} [__init__] -- INFO: initializing inference method\n",
      "17:31:23.298  {gp} [__init__] -- INFO: adding kernel and likelihood as parameters\n"
     ]
    },
    {
     "name": "stdout",
     "output_type": "stream",
     "text": [
      "0.28432668812098566\n",
      "Score thresh:  0.5693593657080522\n",
      "STOP\n",
      "There are 37 training examples for model 0 and 33 are positive\n",
      "There are 33 training examples for model 1 and 15 are positive\n",
      "conditional_idx: 2\n",
      "vols_pinchoff: [-1206.08420689  -740.48693717  -506.64103821]\n",
      "detected: True\n",
      "r_vals: 1503.2116151192095\n",
      "============### ITERATION 38 of 100 ###============\n",
      "GPR: True GPC: True prune: False GPR1: True GPC1: True Optim: False\n",
      "(6819, 3)\n",
      "(37, 3)\n",
      "START\n",
      "idx:  [1, 2]\n",
      "[-1246.181904    -355.73037679  -660.863889  ]\n",
      "True\n"
     ]
    },
    {
     "name": "stderr",
     "output_type": "stream",
     "text": [
      "17:31:24.556  {gp} [__init__] -- INFO: initializing Y\n",
      "17:31:24.556  {gp} [__init__] -- INFO: initializing inference method\n",
      "17:31:24.557  {gp} [__init__] -- INFO: adding kernel and likelihood as parameters\n",
      "17:31:24.562  {gp} [__init__] -- INFO: initializing Y\n",
      "17:31:24.562  {gp} [__init__] -- INFO: initializing inference method\n",
      "17:31:24.563  {gp} [__init__] -- INFO: adding kernel and likelihood as parameters\n",
      "17:31:24.589  {gp} [__init__] -- INFO: initializing Y\n",
      "17:31:24.589  {gp} [__init__] -- INFO: initializing inference method\n",
      "17:31:24.590  {gp} [__init__] -- INFO: adding kernel and likelihood as parameters\n"
     ]
    },
    {
     "name": "stdout",
     "output_type": "stream",
     "text": [
      "0.22964376279899099\n",
      "Score thresh:  0.5236107257805263\n",
      "STOP\n",
      "There are 38 training examples for model 0 and 34 are positive\n",
      "There are 34 training examples for model 1 and 16 are positive\n",
      "conditional_idx: 2\n",
      "vols_pinchoff: [-1246.181904    -355.73037679  -660.863889  ]\n",
      "detected: True\n",
      "r_vals: 1454.7352056719162\n",
      "============### ITERATION 39 of 100 ###============\n",
      "GPR: True GPC: True prune: False GPR1: True GPC1: True Optim: False\n",
      "(7194, 3)\n",
      "(38, 3)\n",
      "START\n",
      "idx:  [1, 2]\n",
      "[-1446.42800821  -106.37220623  -130.38934517]\n",
      "True\n",
      "0.24307273087807363\n",
      "Score thresh:  0.4886283632056139\n",
      "STOP\n"
     ]
    },
    {
     "name": "stderr",
     "output_type": "stream",
     "text": [
      "17:31:25.976  {gp} [__init__] -- INFO: initializing Y\n",
      "17:31:25.978  {gp} [__init__] -- INFO: initializing inference method\n",
      "17:31:25.979  {gp} [__init__] -- INFO: adding kernel and likelihood as parameters\n",
      "17:31:25.991  {gp} [__init__] -- INFO: initializing Y\n",
      "17:31:25.993  {gp} [__init__] -- INFO: initializing inference method\n",
      "17:31:25.994  {gp} [__init__] -- INFO: adding kernel and likelihood as parameters\n",
      "17:31:26.021  {gp} [__init__] -- INFO: initializing Y\n",
      "17:31:26.024  {gp} [__init__] -- INFO: initializing inference method\n",
      "17:31:26.027  {gp} [__init__] -- INFO: adding kernel and likelihood as parameters\n"
     ]
    },
    {
     "name": "stdout",
     "output_type": "stream",
     "text": [
      "There are 39 training examples for model 0 and 35 are positive\n",
      "There are 35 training examples for model 1 and 17 are positive\n",
      "conditional_idx: 2\n",
      "vols_pinchoff: [-1446.42800821  -106.37220623  -130.38934517]\n",
      "detected: True\n",
      "r_vals: 1456.1835085357548\n",
      "============### ITERATION 40 of 100 ###============\n",
      "GPR: True GPC: True prune: False GPR1: True GPC1: True Optim: False\n",
      "(7297, 3)\n",
      "(39, 3)\n",
      "START\n",
      "idx:  [1, 2]\n",
      "[-1247.92425559  -192.19845322  -840.4210942 ]\n",
      "True\n"
     ]
    },
    {
     "name": "stderr",
     "output_type": "stream",
     "text": [
      "17:31:27.333  {gp} [__init__] -- INFO: initializing Y\n",
      "17:31:27.334  {gp} [__init__] -- INFO: initializing inference method\n",
      "17:31:27.334  {gp} [__init__] -- INFO: adding kernel and likelihood as parameters\n",
      "17:31:27.340  {gp} [__init__] -- INFO: initializing Y\n",
      "17:31:27.341  {gp} [__init__] -- INFO: initializing inference method\n",
      "17:31:27.341  {gp} [__init__] -- INFO: adding kernel and likelihood as parameters\n",
      "17:31:27.358  {gp} [__init__] -- INFO: initializing Y\n",
      "17:31:27.358  {gp} [__init__] -- INFO: initializing inference method\n",
      "17:31:27.358  {gp} [__init__] -- INFO: adding kernel and likelihood as parameters\n"
     ]
    },
    {
     "name": "stdout",
     "output_type": "stream",
     "text": [
      "0.1501869160573144\n",
      "Score thresh:  0.4536460006307015\n",
      "STOP\n",
      "There are 40 training examples for model 0 and 36 are positive\n",
      "There are 36 training examples for model 1 and 18 are positive\n",
      "conditional_idx: 2\n",
      "vols_pinchoff: [-1247.92425559  -192.19845322  -840.4210942 ]\n",
      "detected: True\n",
      "r_vals: 1516.7606299937386\n",
      "============### ITERATION 41 of 100 ###============\n",
      "GPR: True GPC: True prune: False GPR1: True GPC1: True Optim: False\n",
      "(6193, 3)\n",
      "(40, 3)\n",
      "START\n",
      "idx:  [1, 2]\n",
      "[-1195.84403596  -244.90708214 -1018.05320388]\n"
     ]
    },
    {
     "name": "stderr",
     "output_type": "stream",
     "text": [
      "17:31:27.544  {gp} [__init__] -- INFO: initializing Y\n",
      "17:31:27.549  {gp} [__init__] -- INFO: initializing inference method\n",
      "17:31:27.554  {gp} [__init__] -- INFO: adding kernel and likelihood as parameters\n",
      "17:31:27.562  {gp} [__init__] -- INFO: initializing Y\n",
      "17:31:27.566  {gp} [__init__] -- INFO: initializing inference method\n",
      "17:31:27.568  {gp} [__init__] -- INFO: adding kernel and likelihood as parameters\n",
      "17:31:27.596  {gp} [__init__] -- INFO: initializing Y\n",
      "17:31:27.599  {gp} [__init__] -- INFO: initializing inference method\n",
      "17:31:27.601  {gp} [__init__] -- INFO: adding kernel and likelihood as parameters\n"
     ]
    },
    {
     "name": "stdout",
     "output_type": "stream",
     "text": [
      "False\n",
      "STOP\n",
      "There are 41 training examples for model 0 and 37 are positive\n",
      "There are 37 training examples for model 1 and 18 are positive\n",
      "conditional_idx: 1\n",
      "vols_pinchoff: [-1195.84403596  -244.90708214 -1018.05320388]\n",
      "detected: True\n",
      "r_vals: 1589.4825457225456\n",
      "============### ITERATION 42 of 100 ###============\n",
      "GPR: True GPC: True prune: False GPR1: True GPC1: True Optim: False\n",
      "(160, 3)\n",
      "(41, 3)\n",
      "START\n",
      "idx:  [1, 2]\n",
      "[-1258.23898789  -859.20372854  -185.56149301]\n",
      "True\n"
     ]
    },
    {
     "name": "stderr",
     "output_type": "stream",
     "text": [
      "17:31:28.855  {gp} [__init__] -- INFO: initializing Y\n",
      "17:31:28.856  {gp} [__init__] -- INFO: initializing inference method\n",
      "17:31:28.856  {gp} [__init__] -- INFO: adding kernel and likelihood as parameters\n",
      "17:31:28.862  {gp} [__init__] -- INFO: initializing Y\n",
      "17:31:28.862  {gp} [__init__] -- INFO: initializing inference method\n",
      "17:31:28.863  {gp} [__init__] -- INFO: adding kernel and likelihood as parameters\n",
      "17:31:28.883  {gp} [__init__] -- INFO: initializing Y\n",
      "17:31:28.884  {gp} [__init__] -- INFO: initializing inference method\n",
      "17:31:28.884  {gp} [__init__] -- INFO: adding kernel and likelihood as parameters\n"
     ]
    },
    {
     "name": "stdout",
     "output_type": "stream",
     "text": [
      "0.2740192555164458\n",
      "Score thresh:  0.4186636380557891\n",
      "STOP\n",
      "There are 42 training examples for model 0 and 38 are positive\n",
      "There are 38 training examples for model 1 and 19 are positive\n",
      "conditional_idx: 2\n",
      "vols_pinchoff: [-1258.23898789  -859.20372854  -185.56149301]\n",
      "detected: True\n",
      "r_vals: 1534.871155984103\n",
      "============### ITERATION 43 of 100 ###============\n",
      "GPR: True GPC: True prune: False GPR1: True GPC1: True Optim: False\n",
      "(6328, 3)\n",
      "(42, 3)\n",
      "START\n",
      "idx:  [1, 2]\n",
      "[-1159.77882052  -773.92691261  -616.60571813]\n",
      "True\n"
     ]
    },
    {
     "name": "stderr",
     "output_type": "stream",
     "text": [
      "17:31:30.136  {gp} [__init__] -- INFO: initializing Y\n",
      "17:31:30.137  {gp} [__init__] -- INFO: initializing inference method\n",
      "17:31:30.137  {gp} [__init__] -- INFO: adding kernel and likelihood as parameters\n",
      "17:31:30.143  {gp} [__init__] -- INFO: initializing Y\n",
      "17:31:30.143  {gp} [__init__] -- INFO: initializing inference method\n",
      "17:31:30.144  {gp} [__init__] -- INFO: adding kernel and likelihood as parameters\n",
      "17:31:30.161  {gp} [__init__] -- INFO: initializing Y\n",
      "17:31:30.161  {gp} [__init__] -- INFO: initializing inference method\n",
      "17:31:30.162  {gp} [__init__] -- INFO: adding kernel and likelihood as parameters\n"
     ]
    },
    {
     "name": "stdout",
     "output_type": "stream",
     "text": [
      "0.21851167063273907\n",
      "Score thresh:  0.3836812754808767\n",
      "STOP\n",
      "There are 43 training examples for model 0 and 39 are positive\n",
      "There are 39 training examples for model 1 and 20 are positive\n",
      "conditional_idx: 2\n",
      "vols_pinchoff: [-1159.77882052  -773.92691261  -616.60571813]\n",
      "detected: True\n",
      "r_vals: 1524.549897577466\n",
      "============### ITERATION 44 of 100 ###============\n",
      "GPR: True GPC: True prune: False GPR1: True GPC1: True Optim: False\n",
      "(6741, 3)\n",
      "(43, 3)\n",
      "START\n",
      "idx:  [1, 2]\n",
      "[-1319.40573395  -526.3170868   -269.05549786]\n",
      "True\n",
      "3.0777229423822754\n",
      "Score thresh:  0.34869891290596433\n"
     ]
    },
    {
     "name": "stderr",
     "output_type": "stream",
     "text": [
      "17:31:32.453  {gp} [__init__] -- INFO: initializing Y\n",
      "17:31:32.453  {gp} [__init__] -- INFO: initializing inference method\n",
      "17:31:32.454  {gp} [__init__] -- INFO: adding kernel and likelihood as parameters\n",
      "17:31:32.461  {gp} [__init__] -- INFO: initializing Y\n",
      "17:31:32.462  {gp} [__init__] -- INFO: initializing inference method\n",
      "17:31:32.462  {gp} [__init__] -- INFO: adding kernel and likelihood as parameters\n",
      "17:31:32.480  {gp} [__init__] -- INFO: initializing Y\n",
      "17:31:32.480  {gp} [__init__] -- INFO: initializing inference method\n",
      "17:31:32.480  {gp} [__init__] -- INFO: adding kernel and likelihood as parameters\n"
     ]
    },
    {
     "name": "stdout",
     "output_type": "stream",
     "text": [
      "STOP\n",
      "There are 44 training examples for model 0 and 40 are positive\n",
      "There are 40 training examples for model 1 and 21 are positive\n",
      "conditional_idx: 3\n",
      "vols_pinchoff: [-1319.40573395  -526.3170868   -269.05549786]\n",
      "detected: True\n",
      "r_vals: 1445.7634756666282\n",
      "============### ITERATION 45 of 100 ###============\n",
      "GPR: True GPC: True prune: False GPR1: True GPC1: True Optim: True\n",
      "(10000, 3)\n",
      "(44, 3)\n",
      "START\n"
     ]
    },
    {
     "name": "stderr",
     "output_type": "stream",
     "text": [
      "17:31:32.593  {gp} [__init__] -- INFO: initializing Y\n",
      "17:31:32.594  {gp} [__init__] -- INFO: initializing inference method\n",
      "17:31:32.595  {gp} [__init__] -- INFO: adding kernel and likelihood as parameters\n"
     ]
    },
    {
     "name": "stdout",
     "output_type": "stream",
     "text": [
      "STOP\n",
      "Optimization restart 1/5, f = 222.21232495512805\n",
      "Optimization restart 2/5, f = 222.2123249551303\n",
      "Optimization restart 3/5, f = 222.21232495516062\n"
     ]
    },
    {
     "name": "stderr",
     "output_type": "stream",
     "text": [
      "17:31:32.683  {gp} [__init__] -- INFO: initializing Y\n",
      "17:31:32.684  {gp} [__init__] -- INFO: initializing inference method\n",
      "17:31:32.684  {gp} [__init__] -- INFO: adding kernel and likelihood as parameters\n",
      "17:31:32.701  {gp} [__init__] -- INFO: initializing Y\n",
      "17:31:32.702  {gp} [__init__] -- INFO: initializing inference method\n",
      "17:31:32.702  {gp} [__init__] -- INFO: adding kernel and likelihood as parameters\n"
     ]
    },
    {
     "name": "stdout",
     "output_type": "stream",
     "text": [
      "Optimization restart 4/5, f = 222.21232495513667\n",
      "Optimization restart 5/5, f = 222.2123249553987\n",
      "  \u001b[1mbasic.     \u001b[0;0m  |              value  |  constraints  |    priors  \n",
      "  \u001b[1mvariance   \u001b[0;0m  |  749999.9999999999  |   +ve fixed   |            \n",
      "  \u001b[1mlengthscale\u001b[0;0m  |               (3,)  |      +ve      |  Ga(16, 40)\n",
      "  \u001b[1mindex\u001b[0;0m  |  GP_regression.basic.lengthscale  |  constraints  |    priors  \n",
      "  \u001b[1m[0]  \u001b[0;0m  |                       0.52293097  |      +ve      |  Ga(16, 40)\n",
      "  \u001b[1m[1]  \u001b[0;0m  |                       0.73660233  |      +ve      |  Ga(16, 40)\n",
      "  \u001b[1m[2]  \u001b[0;0m  |                       0.74450034  |      +ve      |  Ga(16, 40)\n",
      "  \u001b[1mindex\u001b[0;0m  |  GP_regression.basic.variance  |  constraints  |  priors\n",
      "  \u001b[1m[0]  \u001b[0;0m  |               750000.00000000  |   +ve fixed   |        \n",
      "There are 45 training examples for model 0 and 40 are positive\n",
      "There are 40 training examples for model 1 and 21 are positive\n",
      "  \u001b[1msum.             \u001b[0;0m  |                   value  |  constraints  |     priors    \n",
      "  \u001b[1mbasic.variance   \u001b[0;0m  |       42.98279005916179  |      +ve      |  Ga(6.2, 0.12)\n",
      "  \u001b[1mbasic.lengthscale\u001b[0;0m  |                    (3,)  |      +ve      |  Ga(25, 0.05) \n",
      "  \u001b[1mbias.variance    \u001b[0;0m  |  1.2599711607300446e-08  |      +ve      |               \n",
      "  \u001b[1mindex\u001b[0;0m  |  gp_classification.sum.basic.lengthscale  |  constraints  |     priors   \n",
      "  \u001b[1m[0]  \u001b[0;0m  |                             499.97639357  |      +ve      |  Ga(25, 0.05)\n",
      "  \u001b[1m[1]  \u001b[0;0m  |                             531.57390016  |      +ve      |  Ga(25, 0.05)\n",
      "  \u001b[1m[2]  \u001b[0;0m  |                             510.51593218  |      +ve      |  Ga(25, 0.05)\n",
      "  \u001b[1msum.             \u001b[0;0m  |                   value  |  constraints  |     priors    \n",
      "  \u001b[1mbasic.variance   \u001b[0;0m  |       44.31187487968012  |      +ve      |  Ga(6.2, 0.12)\n",
      "  \u001b[1mbasic.lengthscale\u001b[0;0m  |                    (3,)  |      +ve      |  Ga(25, 0.05) \n",
      "  \u001b[1mbias.variance    \u001b[0;0m  |  1.5331804988983546e-06  |      +ve      |               \n",
      "  \u001b[1mindex\u001b[0;0m  |  gp_classification.sum.basic.lengthscale  |  constraints  |     priors   \n",
      "  \u001b[1m[0]  \u001b[0;0m  |                             485.16909834  |      +ve      |  Ga(25, 0.05)\n",
      "  \u001b[1m[1]  \u001b[0;0m  |                             504.52156530  |      +ve      |  Ga(25, 0.05)\n",
      "  \u001b[1m[2]  \u001b[0;0m  |                             500.01367271  |      +ve      |  Ga(25, 0.05)\n",
      "conditional_idx: 0\n",
      "vols_pinchoff: [ -296.45677995 -1928.8546308  -1997.93639278]\n",
      "detected: False\n",
      "r_vals: 2792.8688903553675\n",
      "============### ITERATION 46 of 100 ###============\n",
      "GPR: True GPC: True prune: False GPR1: True GPC1: True Optim: False\n",
      "(8, 3)\n",
      "(45, 3)\n",
      "START\n",
      "idx:  [1, 2]\n",
      "[-1230.46485858  -533.44527617  -614.25826792]\n",
      "True\n"
     ]
    },
    {
     "name": "stderr",
     "output_type": "stream",
     "text": [
      "17:31:34.090  {gp} [__init__] -- INFO: initializing Y\n",
      "17:31:34.091  {gp} [__init__] -- INFO: initializing inference method\n",
      "17:31:34.091  {gp} [__init__] -- INFO: adding kernel and likelihood as parameters\n",
      "17:31:34.097  {gp} [__init__] -- INFO: initializing Y\n",
      "17:31:34.097  {gp} [__init__] -- INFO: initializing inference method\n",
      "17:31:34.098  {gp} [__init__] -- INFO: adding kernel and likelihood as parameters\n",
      "17:31:34.116  {gp} [__init__] -- INFO: initializing Y\n",
      "17:31:34.117  {gp} [__init__] -- INFO: initializing inference method\n",
      "17:31:34.117  {gp} [__init__] -- INFO: adding kernel and likelihood as parameters\n"
     ]
    },
    {
     "name": "stdout",
     "output_type": "stream",
     "text": [
      "0.2733805459468756\n",
      "Score thresh:  0.5469323008304677\n",
      "STOP\n",
      "There are 46 training examples for model 0 and 41 are positive\n",
      "There are 41 training examples for model 1 and 22 are positive\n",
      "conditional_idx: 2\n",
      "vols_pinchoff: [-1230.46485858  -533.44527617  -614.25826792]\n",
      "detected: True\n",
      "r_vals: 1475.100284923285\n",
      "============### ITERATION 47 of 100 ###============\n",
      "GPR: True GPC: True prune: False GPR1: True GPC1: True Optim: False\n",
      "(5724, 3)\n",
      "(46, 3)\n",
      "START\n"
     ]
    },
    {
     "name": "stderr",
     "output_type": "stream",
     "text": [
      "17:31:34.198  {gp} [__init__] -- INFO: initializing Y\n",
      "17:31:34.198  {gp} [__init__] -- INFO: initializing inference method\n",
      "17:31:34.199  {gp} [__init__] -- INFO: adding kernel and likelihood as parameters\n",
      "17:31:34.204  {gp} [__init__] -- INFO: initializing Y\n",
      "17:31:34.205  {gp} [__init__] -- INFO: initializing inference method\n",
      "17:31:34.205  {gp} [__init__] -- INFO: adding kernel and likelihood as parameters\n"
     ]
    },
    {
     "name": "stdout",
     "output_type": "stream",
     "text": [
      "STOP\n",
      "There are 47 training examples for model 0 and 41 are positive\n"
     ]
    },
    {
     "name": "stderr",
     "output_type": "stream",
     "text": [
      "17:31:34.226  {gp} [__init__] -- INFO: initializing Y\n",
      "17:31:34.226  {gp} [__init__] -- INFO: initializing inference method\n",
      "17:31:34.227  {gp} [__init__] -- INFO: adding kernel and likelihood as parameters\n"
     ]
    },
    {
     "name": "stdout",
     "output_type": "stream",
     "text": [
      "There are 41 training examples for model 1 and 22 are positive\n",
      "conditional_idx: 0\n",
      "vols_pinchoff: [ -372.93373856 -1999.98799602 -1006.9780643 ]\n",
      "detected: False\n",
      "r_vals: 2270.0300393467064\n",
      "============### ITERATION 48 of 100 ###============\n",
      "GPR: True GPC: True prune: False GPR1: True GPC1: True Optim: False\n",
      "(5, 3)\n",
      "(47, 3)\n",
      "START\n",
      "idx:  [1, 2]\n",
      "[-1125.36036658  -803.34575266  -748.79114717]\n",
      "True\n"
     ]
    },
    {
     "name": "stderr",
     "output_type": "stream",
     "text": [
      "17:31:35.472  {gp} [__init__] -- INFO: initializing Y\n",
      "17:31:35.473  {gp} [__init__] -- INFO: initializing inference method\n",
      "17:31:35.473  {gp} [__init__] -- INFO: adding kernel and likelihood as parameters\n",
      "17:31:35.479  {gp} [__init__] -- INFO: initializing Y\n",
      "17:31:35.480  {gp} [__init__] -- INFO: initializing inference method\n",
      "17:31:35.480  {gp} [__init__] -- INFO: adding kernel and likelihood as parameters\n",
      "17:31:35.501  {gp} [__init__] -- INFO: initializing Y\n",
      "17:31:35.501  {gp} [__init__] -- INFO: initializing inference method\n",
      "17:31:35.502  {gp} [__init__] -- INFO: adding kernel and likelihood as parameters\n"
     ]
    },
    {
     "name": "stdout",
     "output_type": "stream",
     "text": [
      "0.17129434917580647\n",
      "Score thresh:  0.5119499382555549\n",
      "STOP\n",
      "There are 48 training examples for model 0 and 42 are positive\n",
      "There are 42 training examples for model 1 and 23 are positive\n",
      "conditional_idx: 2\n",
      "vols_pinchoff: [-1125.36036658  -803.34575266  -748.79114717]\n",
      "detected: True\n",
      "r_vals: 1572.414873707473\n",
      "============### ITERATION 49 of 100 ###============\n",
      "GPR: True GPC: True prune: False GPR1: True GPC1: True Optim: False\n",
      "(7535, 3)\n",
      "(48, 3)\n",
      "START\n"
     ]
    },
    {
     "name": "stderr",
     "output_type": "stream",
     "text": [
      "17:31:35.583  {gp} [__init__] -- INFO: initializing Y\n"
     ]
    },
    {
     "name": "stdout",
     "output_type": "stream",
     "text": [
      "STOP\n"
     ]
    },
    {
     "name": "stderr",
     "output_type": "stream",
     "text": [
      "17:31:35.584  {gp} [__init__] -- INFO: initializing inference method\n",
      "17:31:35.585  {gp} [__init__] -- INFO: adding kernel and likelihood as parameters\n",
      "17:31:35.590  {gp} [__init__] -- INFO: initializing Y\n",
      "17:31:35.591  {gp} [__init__] -- INFO: initializing inference method\n",
      "17:31:35.591  {gp} [__init__] -- INFO: adding kernel and likelihood as parameters\n",
      "17:31:35.611  {gp} [__init__] -- INFO: initializing Y\n",
      "17:31:35.612  {gp} [__init__] -- INFO: initializing inference method\n",
      "17:31:35.612  {gp} [__init__] -- INFO: adding kernel and likelihood as parameters\n"
     ]
    },
    {
     "name": "stdout",
     "output_type": "stream",
     "text": [
      "There are 49 training examples for model 0 and 42 are positive\n",
      "There are 42 training examples for model 1 and 23 are positive\n",
      "conditional_idx: 0\n",
      "vols_pinchoff: [ -117.3774599  -1995.38506748   -23.78563866]\n",
      "detected: False\n",
      "r_vals: 1998.9759358819977\n",
      "============### ITERATION 50 of 100 ###============\n",
      "GPR: True GPC: True prune: False GPR1: True GPC1: True Optim: False\n",
      "(3, 3)\n",
      "(49, 3)\n",
      "START\n",
      "idx:  [1, 2]\n",
      "[-1355.16378504  -159.20315088  -446.26432865]\n",
      "True\n"
     ]
    },
    {
     "name": "stderr",
     "output_type": "stream",
     "text": [
      "17:31:36.857  {gp} [__init__] -- INFO: initializing Y\n",
      "17:31:36.857  {gp} [__init__] -- INFO: initializing inference method\n",
      "17:31:36.857  {gp} [__init__] -- INFO: adding kernel and likelihood as parameters\n",
      "17:31:36.863  {gp} [__init__] -- INFO: initializing Y\n",
      "17:31:36.864  {gp} [__init__] -- INFO: initializing inference method\n",
      "17:31:36.864  {gp} [__init__] -- INFO: adding kernel and likelihood as parameters\n",
      "17:31:36.885  {gp} [__init__] -- INFO: initializing Y\n",
      "17:31:36.885  {gp} [__init__] -- INFO: initializing inference method\n",
      "17:31:36.885  {gp} [__init__] -- INFO: adding kernel and likelihood as parameters\n"
     ]
    },
    {
     "name": "stdout",
     "output_type": "stream",
     "text": [
      "0.25427750276766387\n",
      "Score thresh:  0.47696757568064296\n",
      "STOP\n",
      "There are 50 training examples for model 0 and 43 are positive\n",
      "There are 43 training examples for model 1 and 24 are positive\n",
      "conditional_idx: 2\n",
      "vols_pinchoff: [-1355.16378504  -159.20315088  -446.26432865]\n",
      "detected: True\n",
      "r_vals: 1435.6066238939356\n",
      "============### ITERATION 51 of 100 ###============\n",
      "GPR: True GPC: True prune: False GPR1: True GPC1: True Optim: False\n",
      "(7839, 3)\n",
      "(50, 3)\n",
      "START\n"
     ]
    },
    {
     "name": "stderr",
     "output_type": "stream",
     "text": [
      "17:31:36.970  {gp} [__init__] -- INFO: initializing Y\n",
      "17:31:36.971  {gp} [__init__] -- INFO: initializing inference method\n",
      "17:31:36.971  {gp} [__init__] -- INFO: adding kernel and likelihood as parameters\n",
      "17:31:36.980  {gp} [__init__] -- INFO: initializing Y\n",
      "17:31:36.981  {gp} [__init__] -- INFO: initializing inference method\n",
      "17:31:36.981  {gp} [__init__] -- INFO: adding kernel and likelihood as parameters\n",
      "17:31:37.003  {gp} [__init__] -- INFO: initializing Y\n",
      "17:31:37.003  {gp} [__init__] -- INFO: initializing inference method\n",
      "17:31:37.004  {gp} [__init__] -- INFO: adding kernel and likelihood as parameters\n"
     ]
    },
    {
     "name": "stdout",
     "output_type": "stream",
     "text": [
      "STOP\n",
      "There are 51 training examples for model 0 and 43 are positive\n",
      "There are 43 training examples for model 1 and 24 are positive\n",
      "conditional_idx: 0\n",
      "vols_pinchoff: [ -399.58703649 -1996.57687134  -175.96029393]\n",
      "detected: False\n",
      "r_vals: 2043.759043508695\n",
      "============### ITERATION 52 of 100 ###============\n",
      "GPR: True GPC: True prune: False GPR1: True GPC1: True Optim: False\n",
      "(2, 3)\n",
      "(51, 3)\n",
      "START\n"
     ]
    },
    {
     "name": "stderr",
     "output_type": "stream",
     "text": [
      "17:31:37.063  {gp} [__init__] -- INFO: initializing Y\n",
      "17:31:37.063  {gp} [__init__] -- INFO: initializing inference method\n",
      "17:31:37.064  {gp} [__init__] -- INFO: adding kernel and likelihood as parameters\n",
      "17:31:37.070  {gp} [__init__] -- INFO: initializing Y\n",
      "17:31:37.071  {gp} [__init__] -- INFO: initializing inference method\n",
      "17:31:37.071  {gp} [__init__] -- INFO: adding kernel and likelihood as parameters\n",
      "17:31:37.096  {gp} [__init__] -- INFO: initializing Y\n",
      "17:31:37.096  {gp} [__init__] -- INFO: initializing inference method\n",
      "17:31:37.097  {gp} [__init__] -- INFO: adding kernel and likelihood as parameters\n"
     ]
    },
    {
     "name": "stdout",
     "output_type": "stream",
     "text": [
      "STOP\n",
      "There are 52 training examples for model 0 and 43 are positive\n",
      "There are 43 training examples for model 1 and 24 are positive\n",
      "conditional_idx: 0\n",
      "vols_pinchoff: [ -133.33162518 -1285.47007406 -1998.99499558]\n",
      "detected: False\n",
      "r_vals: 2380.376362247057\n",
      "============### ITERATION 53 of 100 ###============\n",
      "GPR: True GPC: True prune: False GPR1: True GPC1: True Optim: False\n",
      "(2, 3)\n",
      "(52, 3)\n",
      "START\n",
      "idx:  [1, 2]\n",
      "[-1362.41823885  -528.81559763   -34.13338502]\n",
      "True\n",
      "0.4591760557899187\n",
      "Score thresh:  0.441985213105731\n"
     ]
    },
    {
     "name": "stderr",
     "output_type": "stream",
     "text": [
      "17:31:39.373  {gp} [__init__] -- INFO: initializing Y\n",
      "17:31:39.373  {gp} [__init__] -- INFO: initializing inference method\n",
      "17:31:39.373  {gp} [__init__] -- INFO: adding kernel and likelihood as parameters\n",
      "17:31:39.380  {gp} [__init__] -- INFO: initializing Y\n",
      "17:31:39.380  {gp} [__init__] -- INFO: initializing inference method\n",
      "17:31:39.381  {gp} [__init__] -- INFO: adding kernel and likelihood as parameters\n",
      "17:31:39.400  {gp} [__init__] -- INFO: initializing Y\n",
      "17:31:39.400  {gp} [__init__] -- INFO: initializing inference method\n",
      "17:31:39.401  {gp} [__init__] -- INFO: adding kernel and likelihood as parameters\n"
     ]
    },
    {
     "name": "stdout",
     "output_type": "stream",
     "text": [
      "STOP\n",
      "There are 53 training examples for model 0 and 44 are positive\n",
      "There are 44 training examples for model 1 and 25 are positive\n",
      "conditional_idx: 3\n",
      "vols_pinchoff: [-1362.41823885  -528.81559763   -34.13338502]\n",
      "detected: True\n",
      "r_vals: 1461.846257932275\n",
      "============### ITERATION 54 of 100 ###============\n",
      "GPR: True GPC: True prune: False GPR1: True GPC1: True Optim: False\n",
      "(10000, 3)\n",
      "(53, 3)\n",
      "START\n"
     ]
    },
    {
     "name": "stderr",
     "output_type": "stream",
     "text": [
      "17:31:39.503  {gp} [__init__] -- INFO: initializing Y\n",
      "17:31:39.504  {gp} [__init__] -- INFO: initializing inference method\n",
      "17:31:39.505  {gp} [__init__] -- INFO: adding kernel and likelihood as parameters\n",
      "17:31:39.510  {gp} [__init__] -- INFO: initializing Y\n",
      "17:31:39.511  {gp} [__init__] -- INFO: initializing inference method\n",
      "17:31:39.511  {gp} [__init__] -- INFO: adding kernel and likelihood as parameters\n",
      "17:31:39.532  {gp} [__init__] -- INFO: initializing Y\n",
      "17:31:39.532  {gp} [__init__] -- INFO: initializing inference method\n",
      "17:31:39.533  {gp} [__init__] -- INFO: adding kernel and likelihood as parameters\n"
     ]
    },
    {
     "name": "stdout",
     "output_type": "stream",
     "text": [
      "STOP\n",
      "There are 54 training examples for model 0 and 44 are positive\n",
      "There are 44 training examples for model 1 and 25 are positive\n",
      "conditional_idx: 0\n",
      "vols_pinchoff: [ -103.12311372  -782.12591332 -1993.98785054]\n",
      "detected: False\n",
      "r_vals: 2144.374703486328\n",
      "============### ITERATION 55 of 100 ###============\n",
      "GPR: True GPC: True prune: False GPR1: True GPC1: True Optim: False\n",
      "(3, 3)\n",
      "(54, 3)\n",
      "START\n",
      "idx:  [1, 2]\n",
      "[-1389.9992329   -286.993502    -237.01529014]\n",
      "True\n"
     ]
    },
    {
     "name": "stderr",
     "output_type": "stream",
     "text": [
      "17:31:40.766  {gp} [__init__] -- INFO: initializing Y\n",
      "17:31:40.767  {gp} [__init__] -- INFO: initializing inference method\n",
      "17:31:40.767  {gp} [__init__] -- INFO: adding kernel and likelihood as parameters\n",
      "17:31:40.773  {gp} [__init__] -- INFO: initializing Y\n",
      "17:31:40.773  {gp} [__init__] -- INFO: initializing inference method\n",
      "17:31:40.773  {gp} [__init__] -- INFO: adding kernel and likelihood as parameters\n",
      "17:31:40.795  {gp} [__init__] -- INFO: initializing Y\n",
      "17:31:40.795  {gp} [__init__] -- INFO: initializing inference method\n",
      "17:31:40.796  {gp} [__init__] -- INFO: adding kernel and likelihood as parameters\n"
     ]
    },
    {
     "name": "stdout",
     "output_type": "stream",
     "text": [
      "0.46859938945249924\n",
      "Score thresh:  0.4942785538061382\n",
      "STOP\n",
      "There are 55 training examples for model 0 and 45 are positive\n",
      "There are 45 training examples for model 1 and 26 are positive\n",
      "conditional_idx: 2\n",
      "vols_pinchoff: [-1389.9992329   -286.993502    -237.01529014]\n",
      "detected: True\n",
      "r_vals: 1438.971641633008\n",
      "============### ITERATION 56 of 100 ###============\n",
      "GPR: True GPC: True prune: False GPR1: True GPC1: True Optim: True\n",
      "(6813, 3)\n",
      "(55, 3)\n",
      "START\n",
      "idx:  [1, 2]\n",
      "[-1182.40961348  -840.76152856  -440.10491725]\n",
      "True\n"
     ]
    },
    {
     "name": "stderr",
     "output_type": "stream",
     "text": [
      "17:31:42.058  {gp} [__init__] -- INFO: initializing Y\n",
      "17:31:42.059  {gp} [__init__] -- INFO: initializing inference method\n",
      "17:31:42.059  {gp} [__init__] -- INFO: adding kernel and likelihood as parameters\n",
      "17:31:42.130  {gp} [__init__] -- INFO: initializing Y\n",
      "17:31:42.130  {gp} [__init__] -- INFO: initializing inference method\n",
      "17:31:42.131  {gp} [__init__] -- INFO: adding kernel and likelihood as parameters\n",
      "17:31:42.152  {gp} [__init__] -- INFO: initializing Y\n",
      "17:31:42.153  {gp} [__init__] -- INFO: initializing inference method\n",
      "17:31:42.153  {gp} [__init__] -- INFO: adding kernel and likelihood as parameters\n"
     ]
    },
    {
     "name": "stdout",
     "output_type": "stream",
     "text": [
      "0.25627693027898824\n",
      "Score thresh:  0.4881826172969913\n",
      "STOP\n",
      "Optimization restart 1/5, f = 248.34109004958535\n",
      "Optimization restart 2/5, f = 248.34109004959615\n",
      "Optimization restart 3/5, f = 248.34109004960965\n",
      "Optimization restart 4/5, f = 248.3410900495712\n",
      "Optimization restart 5/5, f = 248.34109005070079\n",
      "  \u001b[1mbasic.     \u001b[0;0m  |              value  |  constraints  |    priors  \n",
      "  \u001b[1mvariance   \u001b[0;0m  |  749999.9999999999  |   +ve fixed   |            \n",
      "  \u001b[1mlengthscale\u001b[0;0m  |               (3,)  |      +ve      |  Ga(16, 40)\n",
      "  \u001b[1mindex\u001b[0;0m  |  GP_regression.basic.lengthscale  |  constraints  |    priors  \n",
      "  \u001b[1m[0]  \u001b[0;0m  |                       0.52930246  |      +ve      |  Ga(16, 40)\n",
      "  \u001b[1m[1]  \u001b[0;0m  |                       0.78220760  |      +ve      |  Ga(16, 40)\n",
      "  \u001b[1m[2]  \u001b[0;0m  |                       0.78472520  |      +ve      |  Ga(16, 40)\n",
      "  \u001b[1mindex\u001b[0;0m  |  GP_regression.basic.variance  |  constraints  |  priors\n",
      "  \u001b[1m[0]  \u001b[0;0m  |               750000.00000000  |   +ve fixed   |        \n",
      "There are 56 training examples for model 0 and 46 are positive\n",
      "There are 46 training examples for model 1 and 27 are positive\n",
      "  \u001b[1msum.             \u001b[0;0m  |                   value  |  constraints  |     priors    \n",
      "  \u001b[1mbasic.variance   \u001b[0;0m  |      43.326989331935955  |      +ve      |  Ga(6.2, 0.12)\n",
      "  \u001b[1mbasic.lengthscale\u001b[0;0m  |                    (3,)  |      +ve      |  Ga(25, 0.05) \n",
      "  \u001b[1mbias.variance    \u001b[0;0m  |  1.2599292400206545e-08  |      +ve      |               \n",
      "  \u001b[1mindex\u001b[0;0m  |  gp_classification.sum.basic.lengthscale  |  constraints  |     priors   \n",
      "  \u001b[1m[0]  \u001b[0;0m  |                             506.25373909  |      +ve      |  Ga(25, 0.05)\n",
      "  \u001b[1m[1]  \u001b[0;0m  |                             525.39220568  |      +ve      |  Ga(25, 0.05)\n",
      "  \u001b[1m[2]  \u001b[0;0m  |                             522.72696535  |      +ve      |  Ga(25, 0.05)\n",
      "  \u001b[1msum.             \u001b[0;0m  |                   value  |  constraints  |     priors    \n",
      "  \u001b[1mbasic.variance   \u001b[0;0m  |      44.489971370184016  |      +ve      |  Ga(6.2, 0.12)\n",
      "  \u001b[1mbasic.lengthscale\u001b[0;0m  |                    (3,)  |      +ve      |  Ga(25, 0.05) \n",
      "  \u001b[1mbias.variance    \u001b[0;0m  |  1.5323432074860782e-06  |      +ve      |               \n",
      "  \u001b[1mindex\u001b[0;0m  |  gp_classification.sum.basic.lengthscale  |  constraints  |     priors   \n",
      "  \u001b[1m[0]  \u001b[0;0m  |                             483.80433185  |      +ve      |  Ga(25, 0.05)\n",
      "  \u001b[1m[1]  \u001b[0;0m  |                             509.92905802  |      +ve      |  Ga(25, 0.05)\n",
      "  \u001b[1m[2]  \u001b[0;0m  |                             502.60532114  |      +ve      |  Ga(25, 0.05)\n",
      "conditional_idx: 2\n",
      "vols_pinchoff: [-1182.40961348  -840.76152856  -440.10491725]\n",
      "detected: True\n",
      "r_vals: 1516.1348159545528\n",
      "============### ITERATION 57 of 100 ###============\n",
      "GPR: True GPC: True prune: False GPR1: True GPC1: True Optim: False\n",
      "(6971, 3)\n",
      "(56, 3)\n",
      "START\n",
      "idx:  [1, 2]\n",
      "[-1169.52883736  -930.16297763  -426.48685635]\n",
      "True\n"
     ]
    },
    {
     "name": "stderr",
     "output_type": "stream",
     "text": [
      "17:31:43.654  {gp} [__init__] -- INFO: initializing Y\n",
      "17:31:43.655  {gp} [__init__] -- INFO: initializing inference method\n",
      "17:31:43.655  {gp} [__init__] -- INFO: adding kernel and likelihood as parameters\n",
      "17:31:43.661  {gp} [__init__] -- INFO: initializing Y\n",
      "17:31:43.661  {gp} [__init__] -- INFO: initializing inference method\n",
      "17:31:43.662  {gp} [__init__] -- INFO: adding kernel and likelihood as parameters\n",
      "17:31:43.683  {gp} [__init__] -- INFO: initializing Y\n",
      "17:31:43.683  {gp} [__init__] -- INFO: initializing inference method\n",
      "17:31:43.683  {gp} [__init__] -- INFO: adding kernel and likelihood as parameters\n"
     ]
    },
    {
     "name": "stdout",
     "output_type": "stream",
     "text": [
      "0.2150722661760263\n",
      "Score thresh:  0.4764326805902959\n",
      "STOP\n",
      "There are 57 training examples for model 0 and 47 are positive\n",
      "There are 47 training examples for model 1 and 28 are positive\n",
      "conditional_idx: 2\n",
      "vols_pinchoff: [-1169.52883736  -930.16297763  -426.48685635]\n",
      "detected: True\n",
      "r_vals: 1553.9922474078953\n",
      "============### ITERATION 58 of 100 ###============\n",
      "GPR: True GPC: True prune: False GPR1: True GPC1: True Optim: False\n",
      "(6946, 3)\n",
      "(57, 3)\n",
      "START\n",
      "idx:  [1, 2]\n",
      "[-1439.34263249  -177.20218554  -116.92467129]\n",
      "True\n"
     ]
    },
    {
     "name": "stderr",
     "output_type": "stream",
     "text": [
      "17:31:44.950  {gp} [__init__] -- INFO: initializing Y\n",
      "17:31:44.951  {gp} [__init__] -- INFO: initializing inference method\n",
      "17:31:44.951  {gp} [__init__] -- INFO: adding kernel and likelihood as parameters\n",
      "17:31:44.957  {gp} [__init__] -- INFO: initializing Y\n",
      "17:31:44.958  {gp} [__init__] -- INFO: initializing inference method\n",
      "17:31:44.958  {gp} [__init__] -- INFO: adding kernel and likelihood as parameters\n",
      "17:31:44.979  {gp} [__init__] -- INFO: initializing Y\n",
      "17:31:44.979  {gp} [__init__] -- INFO: initializing inference method\n",
      "17:31:44.979  {gp} [__init__] -- INFO: adding kernel and likelihood as parameters\n"
     ]
    },
    {
     "name": "stdout",
     "output_type": "stream",
     "text": [
      "0.2864077971972284\n",
      "Score thresh:  0.4681282227693702\n",
      "STOP\n",
      "There are 58 training examples for model 0 and 48 are positive\n",
      "There are 48 training examples for model 1 and 29 are positive\n",
      "conditional_idx: 2\n",
      "vols_pinchoff: [-1439.34263249  -177.20218554  -116.92467129]\n",
      "detected: True\n",
      "r_vals: 1454.9155326057767\n",
      "============### ITERATION 59 of 100 ###============\n",
      "GPR: True GPC: True prune: False GPR1: True GPC1: True Optim: False\n",
      "(7246, 3)\n",
      "(58, 3)\n",
      "START\n",
      "idx:  [1, 2]\n",
      "[-1140.76206865  -522.64100903  -974.99161996]\n",
      "True\n"
     ]
    },
    {
     "name": "stderr",
     "output_type": "stream",
     "text": [
      "17:31:46.267  {gp} [__init__] -- INFO: initializing Y\n",
      "17:31:46.268  {gp} [__init__] -- INFO: initializing inference method\n",
      "17:31:46.268  {gp} [__init__] -- INFO: adding kernel and likelihood as parameters\n",
      "17:31:46.273  {gp} [__init__] -- INFO: initializing Y\n",
      "17:31:46.274  {gp} [__init__] -- INFO: initializing inference method\n",
      "17:31:46.275  {gp} [__init__] -- INFO: adding kernel and likelihood as parameters\n",
      "17:31:46.296  {gp} [__init__] -- INFO: initializing Y\n",
      "17:31:46.296  {gp} [__init__] -- INFO: initializing inference method\n",
      "17:31:46.296  {gp} [__init__] -- INFO: adding kernel and likelihood as parameters\n"
     ]
    },
    {
     "name": "stdout",
     "output_type": "stream",
     "text": [
      "0.1378654170712673\n",
      "Score thresh:  0.46671472271998315\n",
      "STOP\n",
      "There are 59 training examples for model 0 and 49 are positive\n",
      "There are 49 training examples for model 1 and 30 are positive\n",
      "conditional_idx: 2\n",
      "vols_pinchoff: [-1140.76206865  -522.64100903  -974.99161996]\n",
      "detected: True\n",
      "r_vals: 1589.0564434847504\n",
      "============### ITERATION 60 of 100 ###============\n",
      "GPR: True GPC: True prune: False GPR1: True GPC1: True Optim: False\n",
      "(7623, 3)\n",
      "(59, 3)\n",
      "START\n",
      "idx:  [1, 2]\n",
      "[-1335.27790072  -377.3059944   -305.04046056]\n",
      "True\n",
      "0.7436378745420131\n",
      "Score thresh:  0.46530122267059604\n"
     ]
    },
    {
     "name": "stderr",
     "output_type": "stream",
     "text": [
      "17:31:48.672  {gp} [__init__] -- INFO: initializing Y\n",
      "17:31:48.672  {gp} [__init__] -- INFO: initializing inference method\n",
      "17:31:48.672  {gp} [__init__] -- INFO: adding kernel and likelihood as parameters\n",
      "17:31:48.678  {gp} [__init__] -- INFO: initializing Y\n",
      "17:31:48.679  {gp} [__init__] -- INFO: initializing inference method\n",
      "17:31:48.679  {gp} [__init__] -- INFO: adding kernel and likelihood as parameters\n",
      "17:31:48.701  {gp} [__init__] -- INFO: initializing Y\n",
      "17:31:48.701  {gp} [__init__] -- INFO: initializing inference method\n",
      "17:31:48.702  {gp} [__init__] -- INFO: adding kernel and likelihood as parameters\n"
     ]
    },
    {
     "name": "stdout",
     "output_type": "stream",
     "text": [
      "STOP\n",
      "There are 60 training examples for model 0 and 50 are positive\n",
      "There are 50 training examples for model 1 and 31 are positive\n",
      "conditional_idx: 3\n",
      "vols_pinchoff: [-1335.27790072  -377.3059944   -305.04046056]\n",
      "detected: True\n",
      "r_vals: 1420.6958042227302\n",
      "============### ITERATION 61 of 100 ###============\n",
      "GPR: True GPC: True prune: False GPR1: True GPC1: True Optim: False\n",
      "(10000, 3)\n",
      "(60, 3)\n",
      "START\n",
      "idx:  [1, 2]\n",
      "[-1209.1536058  -1149.39759403   -71.39738964]\n"
     ]
    },
    {
     "name": "stderr",
     "output_type": "stream",
     "text": [
      "17:31:48.919  {gp} [__init__] -- INFO: initializing Y\n",
      "17:31:48.921  {gp} [__init__] -- INFO: initializing inference method\n",
      "17:31:48.922  {gp} [__init__] -- INFO: adding kernel and likelihood as parameters\n",
      "17:31:48.929  {gp} [__init__] -- INFO: initializing Y\n",
      "17:31:48.931  {gp} [__init__] -- INFO: initializing inference method\n",
      "17:31:48.939  {gp} [__init__] -- INFO: adding kernel and likelihood as parameters\n",
      "17:31:48.964  {gp} [__init__] -- INFO: initializing Y\n",
      "17:31:48.966  {gp} [__init__] -- INFO: initializing inference method\n",
      "17:31:48.968  {gp} [__init__] -- INFO: adding kernel and likelihood as parameters\n"
     ]
    },
    {
     "name": "stdout",
     "output_type": "stream",
     "text": [
      "False\n",
      "STOP\n",
      "There are 61 training examples for model 0 and 51 are positive\n",
      "There are 51 training examples for model 1 and 31 are positive\n",
      "conditional_idx: 1\n",
      "vols_pinchoff: [-1209.1536058  -1149.39759403   -71.39738964]\n",
      "detected: True\n",
      "r_vals: 1669.8098271431738\n",
      "============### ITERATION 62 of 100 ###============\n",
      "GPR: True GPC: True prune: False GPR1: True GPC1: True Optim: False\n",
      "(332, 3)\n",
      "(61, 3)\n",
      "START\n",
      "idx:  [1, 2]\n",
      "[-1292.15182407  -588.57111359  -263.86154111]\n",
      "True\n",
      "1.1154585457060782\n",
      "Score thresh:  0.5077658451414835\n"
     ]
    },
    {
     "name": "stderr",
     "output_type": "stream",
     "text": [
      "17:31:51.312  {gp} [__init__] -- INFO: initializing Y\n",
      "17:31:51.313  {gp} [__init__] -- INFO: initializing inference method\n",
      "17:31:51.313  {gp} [__init__] -- INFO: adding kernel and likelihood as parameters\n",
      "17:31:51.319  {gp} [__init__] -- INFO: initializing Y\n",
      "17:31:51.319  {gp} [__init__] -- INFO: initializing inference method\n",
      "17:31:51.320  {gp} [__init__] -- INFO: adding kernel and likelihood as parameters\n",
      "17:31:51.346  {gp} [__init__] -- INFO: initializing Y\n",
      "17:31:51.346  {gp} [__init__] -- INFO: initializing inference method\n",
      "17:31:51.346  {gp} [__init__] -- INFO: adding kernel and likelihood as parameters\n"
     ]
    },
    {
     "name": "stdout",
     "output_type": "stream",
     "text": [
      "STOP\n",
      "There are 62 training examples for model 0 and 52 are positive\n",
      "There are 52 training examples for model 1 and 32 are positive\n",
      "conditional_idx: 3\n",
      "vols_pinchoff: [-1292.15182407  -588.57111359  -263.86154111]\n",
      "detected: True\n",
      "r_vals: 1444.1936175829617\n",
      "============### ITERATION 63 of 100 ###============\n",
      "GPR: True GPC: True prune: False GPR1: True GPC1: True Optim: False\n",
      "(10000, 3)\n",
      "(62, 3)\n",
      "START\n",
      "idx:  [1, 2]\n",
      "[-1216.15377126  -237.91249109  -912.23347739]\n",
      "True\n"
     ]
    },
    {
     "name": "stderr",
     "output_type": "stream",
     "text": [
      "17:31:52.671  {gp} [__init__] -- INFO: initializing Y\n",
      "17:31:52.671  {gp} [__init__] -- INFO: initializing inference method\n",
      "17:31:52.672  {gp} [__init__] -- INFO: adding kernel and likelihood as parameters\n",
      "17:31:52.677  {gp} [__init__] -- INFO: initializing Y\n",
      "17:31:52.677  {gp} [__init__] -- INFO: initializing inference method\n",
      "17:31:52.678  {gp} [__init__] -- INFO: adding kernel and likelihood as parameters\n",
      "17:31:52.699  {gp} [__init__] -- INFO: initializing Y\n",
      "17:31:52.700  {gp} [__init__] -- INFO: initializing inference method\n",
      "17:31:52.700  {gp} [__init__] -- INFO: adding kernel and likelihood as parameters\n"
     ]
    },
    {
     "name": "stdout",
     "output_type": "stream",
     "text": [
      "0.14040803170066612\n",
      "Score thresh:  0.6157792516295082\n",
      "STOP\n",
      "There are 63 training examples for model 0 and 53 are positive\n",
      "There are 53 training examples for model 1 and 33 are positive\n",
      "conditional_idx: 2\n",
      "vols_pinchoff: [-1216.15377126  -237.91249109  -912.23347739]\n",
      "detected: True\n",
      "r_vals: 1538.7664754771383\n",
      "============### ITERATION 64 of 100 ###============\n",
      "GPR: True GPC: True prune: False GPR1: True GPC1: True Optim: False\n",
      "(6506, 3)\n",
      "(63, 3)\n",
      "START\n"
     ]
    },
    {
     "name": "stderr",
     "output_type": "stream",
     "text": [
      "17:31:52.894  {gp} [__init__] -- INFO: initializing Y\n",
      "17:31:52.895  {gp} [__init__] -- INFO: initializing inference method\n",
      "17:31:52.896  {gp} [__init__] -- INFO: adding kernel and likelihood as parameters\n",
      "17:31:52.902  {gp} [__init__] -- INFO: initializing Y\n",
      "17:31:52.903  {gp} [__init__] -- INFO: initializing inference method\n",
      "17:31:52.903  {gp} [__init__] -- INFO: adding kernel and likelihood as parameters\n",
      "17:31:52.932  {gp} [__init__] -- INFO: initializing Y\n",
      "17:31:52.933  {gp} [__init__] -- INFO: initializing inference method\n",
      "17:31:52.933  {gp} [__init__] -- INFO: adding kernel and likelihood as parameters\n"
     ]
    },
    {
     "name": "stdout",
     "output_type": "stream",
     "text": [
      "idx:  [1, 2]\n",
      "[-1169.62574938 -1052.57122128  -343.02200553]\n",
      "False\n",
      "STOP\n",
      "There are 64 training examples for model 0 and 54 are positive\n",
      "There are 54 training examples for model 1 and 33 are positive\n",
      "conditional_idx: 1\n",
      "vols_pinchoff: [-1169.62574938 -1052.57122128  -343.02200553]\n",
      "detected: True\n",
      "r_vals: 1610.4641150234581\n",
      "============### ITERATION 65 of 100 ###============\n",
      "GPR: True GPC: True prune: False GPR1: True GPC1: True Optim: False\n",
      "(173, 3)\n",
      "(64, 3)\n",
      "START\n",
      "idx:  [1, 2]\n",
      "[-1316.02121005  -277.52472671  -489.13721911]\n",
      "True\n"
     ]
    },
    {
     "name": "stderr",
     "output_type": "stream",
     "text": [
      "17:31:54.179  {gp} [__init__] -- INFO: initializing Y\n",
      "17:31:54.179  {gp} [__init__] -- INFO: initializing inference method\n",
      "17:31:54.180  {gp} [__init__] -- INFO: adding kernel and likelihood as parameters\n",
      "17:31:54.186  {gp} [__init__] -- INFO: initializing Y\n",
      "17:31:54.186  {gp} [__init__] -- INFO: initializing inference method\n",
      "17:31:54.187  {gp} [__init__] -- INFO: adding kernel and likelihood as parameters\n",
      "17:31:54.211  {gp} [__init__] -- INFO: initializing Y\n",
      "17:31:54.212  {gp} [__init__] -- INFO: initializing inference method\n",
      "17:31:54.212  {gp} [__init__] -- INFO: adding kernel and likelihood as parameters\n"
     ]
    },
    {
     "name": "stdout",
     "output_type": "stream",
     "text": [
      "0.3061644185789837\n",
      "Score thresh:  0.5862734155727767\n",
      "STOP\n",
      "There are 65 training examples for model 0 and 55 are positive\n",
      "There are 55 training examples for model 1 and 34 are positive\n",
      "conditional_idx: 2\n",
      "vols_pinchoff: [-1316.02121005  -277.52472671  -489.13721911]\n",
      "detected: True\n",
      "r_vals: 1431.148845631775\n",
      "============### ITERATION 66 of 100 ###============\n",
      "GPR: True GPC: True prune: False GPR1: True GPC1: True Optim: False\n",
      "(7263, 3)\n",
      "(65, 3)\n",
      "START\n",
      "idx:  [1, 2]\n",
      "[-1080.24460289  -768.75431906  -935.06843529]\n",
      "True\n"
     ]
    },
    {
     "name": "stderr",
     "output_type": "stream",
     "text": [
      "17:31:55.503  {gp} [__init__] -- INFO: initializing Y\n",
      "17:31:55.504  {gp} [__init__] -- INFO: initializing inference method\n",
      "17:31:55.505  {gp} [__init__] -- INFO: adding kernel and likelihood as parameters\n",
      "17:31:55.511  {gp} [__init__] -- INFO: initializing Y\n",
      "17:31:55.511  {gp} [__init__] -- INFO: initializing inference method\n",
      "17:31:55.511  {gp} [__init__] -- INFO: adding kernel and likelihood as parameters\n",
      "17:31:55.537  {gp} [__init__] -- INFO: initializing Y\n",
      "17:31:55.538  {gp} [__init__] -- INFO: initializing inference method\n",
      "17:31:55.538  {gp} [__init__] -- INFO: adding kernel and likelihood as parameters\n"
     ]
    },
    {
     "name": "stdout",
     "output_type": "stream",
     "text": [
      "0.1358881744233636\n",
      "Score thresh:  0.5567675795160452\n",
      "STOP\n",
      "There are 66 training examples for model 0 and 56 are positive\n",
      "There are 56 training examples for model 1 and 35 are positive\n",
      "conditional_idx: 2\n",
      "vols_pinchoff: [-1080.24460289  -768.75431906  -935.06843529]\n",
      "detected: True\n",
      "r_vals: 1622.425524892284\n",
      "============### ITERATION 67 of 100 ###============\n",
      "GPR: True GPC: True prune: False GPR1: True GPC1: True Optim: True\n",
      "(7231, 3)\n",
      "(66, 3)\n",
      "START\n",
      "idx:  [1, 2]\n",
      "[-1183.88537303  -634.13183572  -691.82622904]\n",
      "True\n"
     ]
    },
    {
     "name": "stderr",
     "output_type": "stream",
     "text": [
      "17:31:56.813  {gp} [__init__] -- INFO: initializing Y\n",
      "17:31:56.814  {gp} [__init__] -- INFO: initializing inference method\n",
      "17:31:56.814  {gp} [__init__] -- INFO: adding kernel and likelihood as parameters\n",
      "17:31:56.894  {gp} [__init__] -- INFO: initializing Y\n",
      "17:31:56.894  {gp} [__init__] -- INFO: initializing inference method\n",
      "17:31:56.895  {gp} [__init__] -- INFO: adding kernel and likelihood as parameters\n",
      "17:31:56.918  {gp} [__init__] -- INFO: initializing Y\n",
      "17:31:56.919  {gp} [__init__] -- INFO: initializing inference method\n",
      "17:31:56.919  {gp} [__init__] -- INFO: adding kernel and likelihood as parameters\n"
     ]
    },
    {
     "name": "stdout",
     "output_type": "stream",
     "text": [
      "0.21657314393031155\n",
      "Score thresh:  0.5390990096926708\n",
      "STOP\n",
      "Optimization restart 1/5, f = 293.286062204422\n",
      "Optimization restart 2/5, f = 293.28606220443083\n",
      "Optimization restart 3/5, f = 293.2860622049671\n",
      "Optimization restart 4/5, f = 293.2860622044898\n",
      "Optimization restart 5/5, f = 293.2860622045186\n",
      "  \u001b[1mbasic.     \u001b[0;0m  |              value  |  constraints  |    priors  \n",
      "  \u001b[1mvariance   \u001b[0;0m  |  749999.9999999999  |   +ve fixed   |            \n",
      "  \u001b[1mlengthscale\u001b[0;0m  |               (3,)  |      +ve      |  Ga(16, 40)\n",
      "  \u001b[1mindex\u001b[0;0m  |  GP_regression.basic.lengthscale  |  constraints  |    priors  \n",
      "  \u001b[1m[0]  \u001b[0;0m  |                       0.53101112  |      +ve      |  Ga(16, 40)\n",
      "  \u001b[1m[1]  \u001b[0;0m  |                       0.81794477  |      +ve      |  Ga(16, 40)\n",
      "  \u001b[1m[2]  \u001b[0;0m  |                       0.82360440  |      +ve      |  Ga(16, 40)\n",
      "  \u001b[1mindex\u001b[0;0m  |  GP_regression.basic.variance  |  constraints  |  priors\n",
      "  \u001b[1m[0]  \u001b[0;0m  |               750000.00000000  |   +ve fixed   |        \n",
      "There are 67 training examples for model 0 and 57 are positive\n",
      "There are 57 training examples for model 1 and 36 are positive\n",
      "  \u001b[1msum.             \u001b[0;0m  |                   value  |  constraints  |     priors    \n",
      "  \u001b[1mbasic.variance   \u001b[0;0m  |       43.41676322944289  |      +ve      |  Ga(6.2, 0.12)\n",
      "  \u001b[1mbasic.lengthscale\u001b[0;0m  |                    (3,)  |      +ve      |  Ga(25, 0.05) \n",
      "  \u001b[1mbias.variance    \u001b[0;0m  |  1.2599176809294403e-08  |      +ve      |               \n",
      "  \u001b[1mindex\u001b[0;0m  |  gp_classification.sum.basic.lengthscale  |  constraints  |     priors   \n",
      "  \u001b[1m[0]  \u001b[0;0m  |                             507.83037442  |      +ve      |  Ga(25, 0.05)\n",
      "  \u001b[1m[1]  \u001b[0;0m  |                             527.98743304  |      +ve      |  Ga(25, 0.05)\n",
      "  \u001b[1m[2]  \u001b[0;0m  |                             524.46932857  |      +ve      |  Ga(25, 0.05)\n",
      "  \u001b[1msum.             \u001b[0;0m  |                   value  |  constraints  |     priors    \n",
      "  \u001b[1mbasic.variance   \u001b[0;0m  |       45.84738540057713  |      +ve      |  Ga(6.2, 0.12)\n",
      "  \u001b[1mbasic.lengthscale\u001b[0;0m  |                    (3,)  |      +ve      |  Ga(25, 0.05) \n",
      "  \u001b[1mbias.variance    \u001b[0;0m  |  1.5302219870028583e-06  |      +ve      |               \n",
      "  \u001b[1mindex\u001b[0;0m  |  gp_classification.sum.basic.lengthscale  |  constraints  |     priors   \n",
      "  \u001b[1m[0]  \u001b[0;0m  |                             495.93358952  |      +ve      |  Ga(25, 0.05)\n",
      "  \u001b[1m[1]  \u001b[0;0m  |                             495.90041640  |      +ve      |  Ga(25, 0.05)\n",
      "  \u001b[1m[2]  \u001b[0;0m  |                             508.57903624  |      +ve      |  Ga(25, 0.05)\n",
      "conditional_idx: 2\n",
      "vols_pinchoff: [-1183.88537303  -634.13183572  -691.82622904]\n",
      "detected: True\n",
      "r_vals: 1510.738657989897\n",
      "============### ITERATION 68 of 100 ###============\n",
      "GPR: True GPC: True prune: False GPR1: True GPC1: True Optim: False\n",
      "(7199, 3)\n",
      "(67, 3)\n",
      "START\n",
      "idx:  [1, 2]\n",
      "[-1262.91523907  -170.88356176  -832.31458443]\n",
      "True\n"
     ]
    },
    {
     "name": "stderr",
     "output_type": "stream",
     "text": [
      "17:31:58.407  {gp} [__init__] -- INFO: initializing Y\n",
      "17:31:58.408  {gp} [__init__] -- INFO: initializing inference method\n",
      "17:31:58.408  {gp} [__init__] -- INFO: adding kernel and likelihood as parameters\n",
      "17:31:58.413  {gp} [__init__] -- INFO: initializing Y\n",
      "17:31:58.414  {gp} [__init__] -- INFO: initializing inference method\n",
      "17:31:58.415  {gp} [__init__] -- INFO: adding kernel and likelihood as parameters\n",
      "17:31:58.440  {gp} [__init__] -- INFO: initializing Y\n",
      "17:31:58.440  {gp} [__init__] -- INFO: initializing inference method\n",
      "17:31:58.440  {gp} [__init__] -- INFO: adding kernel and likelihood as parameters\n"
     ]
    },
    {
     "name": "stdout",
     "output_type": "stream",
     "text": [
      "0.14950240302824994\n",
      "Score thresh:  0.5273490729859757\n",
      "STOP\n",
      "There are 68 training examples for model 0 and 58 are positive\n",
      "There are 58 training examples for model 1 and 37 are positive\n",
      "conditional_idx: 2\n",
      "vols_pinchoff: [-1262.91523907  -170.88356176  -832.31458443]\n",
      "detected: True\n",
      "r_vals: 1522.1378584765466\n",
      "============### ITERATION 69 of 100 ###============\n",
      "GPR: True GPC: True prune: False GPR1: True GPC1: True Optim: False\n",
      "(7368, 3)\n",
      "(68, 3)\n",
      "START\n",
      "idx:  [1, 2]\n",
      "[-1196.38224504  -636.2816441   -598.33725833]\n",
      "True\n"
     ]
    },
    {
     "name": "stderr",
     "output_type": "stream",
     "text": [
      "17:31:59.735  {gp} [__init__] -- INFO: initializing Y\n",
      "17:31:59.736  {gp} [__init__] -- INFO: initializing inference method\n",
      "17:31:59.736  {gp} [__init__] -- INFO: adding kernel and likelihood as parameters\n",
      "17:31:59.742  {gp} [__init__] -- INFO: initializing Y\n",
      "17:31:59.743  {gp} [__init__] -- INFO: initializing inference method\n",
      "17:31:59.743  {gp} [__init__] -- INFO: adding kernel and likelihood as parameters\n",
      "17:31:59.770  {gp} [__init__] -- INFO: initializing Y\n",
      "17:31:59.771  {gp} [__init__] -- INFO: initializing inference method\n",
      "17:31:59.771  {gp} [__init__] -- INFO: adding kernel and likelihood as parameters\n"
     ]
    },
    {
     "name": "stdout",
     "output_type": "stream",
     "text": [
      "0.26734572499186277\n",
      "Score thresh:  0.5155991362792802\n",
      "STOP\n",
      "There are 69 training examples for model 0 and 59 are positive\n",
      "There are 59 training examples for model 1 and 38 are positive\n",
      "conditional_idx: 2\n",
      "vols_pinchoff: [-1196.38224504  -636.2816441   -598.33725833]\n",
      "detected: True\n",
      "r_vals: 1481.2806221551295\n",
      "============### ITERATION 70 of 100 ###============\n",
      "GPR: True GPC: True prune: False GPR1: True GPC1: True Optim: False\n",
      "(7515, 3)\n",
      "(69, 3)\n",
      "START\n",
      "idx:  [1, 2]\n",
      "[-1237.67334488  -624.57325165  -442.92892689]\n",
      "True\n"
     ]
    },
    {
     "name": "stderr",
     "output_type": "stream",
     "text": [
      "17:32:01.087  {gp} [__init__] -- INFO: initializing Y\n",
      "17:32:01.087  {gp} [__init__] -- INFO: initializing inference method\n",
      "17:32:01.087  {gp} [__init__] -- INFO: adding kernel and likelihood as parameters\n",
      "17:32:01.093  {gp} [__init__] -- INFO: initializing Y\n",
      "17:32:01.094  {gp} [__init__] -- INFO: initializing inference method\n",
      "17:32:01.094  {gp} [__init__] -- INFO: adding kernel and likelihood as parameters\n",
      "17:32:01.120  {gp} [__init__] -- INFO: initializing Y\n",
      "17:32:01.120  {gp} [__init__] -- INFO: initializing inference method\n",
      "17:32:01.120  {gp} [__init__] -- INFO: adding kernel and likelihood as parameters\n"
     ]
    },
    {
     "name": "stdout",
     "output_type": "stream",
     "text": [
      "0.43544134835448034\n",
      "Score thresh:  0.503849199572585\n",
      "STOP\n",
      "There are 70 training examples for model 0 and 60 are positive\n",
      "There are 60 training examples for model 1 and 39 are positive\n",
      "conditional_idx: 2\n",
      "vols_pinchoff: [-1237.67334488  -624.57325165  -442.92892689]\n",
      "detected: True\n",
      "r_vals: 1455.3738659096305\n",
      "============### ITERATION 71 of 100 ###============\n",
      "GPR: True GPC: True prune: False GPR1: True GPC1: True Optim: False\n",
      "(7315, 3)\n",
      "(70, 3)\n",
      "START\n",
      "idx:  [1, 2]\n",
      "[-1160.43182188  -728.00596776  -641.57792624]\n",
      "True\n"
     ]
    },
    {
     "name": "stderr",
     "output_type": "stream",
     "text": [
      "17:32:02.410  {gp} [__init__] -- INFO: initializing Y\n",
      "17:32:02.411  {gp} [__init__] -- INFO: initializing inference method\n",
      "17:32:02.411  {gp} [__init__] -- INFO: adding kernel and likelihood as parameters\n",
      "17:32:02.417  {gp} [__init__] -- INFO: initializing Y\n",
      "17:32:02.417  {gp} [__init__] -- INFO: initializing inference method\n",
      "17:32:02.418  {gp} [__init__] -- INFO: adding kernel and likelihood as parameters\n",
      "17:32:02.446  {gp} [__init__] -- INFO: initializing Y\n",
      "17:32:02.447  {gp} [__init__] -- INFO: initializing inference method\n",
      "17:32:02.447  {gp} [__init__] -- INFO: adding kernel and likelihood as parameters\n"
     ]
    },
    {
     "name": "stdout",
     "output_type": "stream",
     "text": [
      "0.22069087619414635\n",
      "Score thresh:  0.49209926286588956\n",
      "STOP\n",
      "There are 71 training examples for model 0 and 61 are positive\n",
      "There are 61 training examples for model 1 and 40 are positive\n",
      "conditional_idx: 2\n",
      "vols_pinchoff: [-1160.43182188  -728.00596776  -641.57792624]\n",
      "detected: True\n",
      "r_vals: 1512.6853399722804\n",
      "============### ITERATION 72 of 100 ###============\n",
      "GPR: True GPC: True prune: False GPR1: True GPC1: True Optim: False\n",
      "(6641, 3)\n",
      "(71, 3)\n",
      "START\n",
      "idx:  [1, 2]\n",
      "[-1205.05253975  -377.47801153  -817.89964417]\n",
      "True\n"
     ]
    },
    {
     "name": "stderr",
     "output_type": "stream",
     "text": [
      "17:32:03.714  {gp} [__init__] -- INFO: initializing Y\n",
      "17:32:03.714  {gp} [__init__] -- INFO: initializing inference method\n",
      "17:32:03.715  {gp} [__init__] -- INFO: adding kernel and likelihood as parameters\n",
      "17:32:03.720  {gp} [__init__] -- INFO: initializing Y\n",
      "17:32:03.721  {gp} [__init__] -- INFO: initializing inference method\n",
      "17:32:03.721  {gp} [__init__] -- INFO: adding kernel and likelihood as parameters\n",
      "17:32:03.749  {gp} [__init__] -- INFO: initializing Y\n",
      "17:32:03.749  {gp} [__init__] -- INFO: initializing inference method\n",
      "17:32:03.750  {gp} [__init__] -- INFO: adding kernel and likelihood as parameters\n"
     ]
    },
    {
     "name": "stdout",
     "output_type": "stream",
     "text": [
      "0.17212707409305353\n",
      "Score thresh:  0.48034932615919435\n",
      "STOP\n",
      "There are 72 training examples for model 0 and 62 are positive\n",
      "There are 62 training examples for model 1 and 41 are positive\n",
      "conditional_idx: 2\n",
      "vols_pinchoff: [-1205.05253975  -377.47801153  -817.89964417]\n",
      "detected: True\n",
      "r_vals: 1504.5268693733249\n",
      "============### ITERATION 73 of 100 ###============\n",
      "GPR: True GPC: True prune: False GPR1: True GPC1: True Optim: False\n",
      "(6046, 3)\n",
      "(72, 3)\n",
      "START\n",
      "idx:  [1, 2]\n",
      "[-1281.41424099  -554.59600317  -347.0308491 ]\n",
      "True\n",
      "0.898181922157371\n",
      "Score thresh:  0.46859938945249924\n"
     ]
    },
    {
     "name": "stderr",
     "output_type": "stream",
     "text": [
      "17:32:06.062  {gp} [__init__] -- INFO: initializing Y\n",
      "17:32:06.063  {gp} [__init__] -- INFO: initializing inference method\n",
      "17:32:06.063  {gp} [__init__] -- INFO: adding kernel and likelihood as parameters\n",
      "17:32:06.069  {gp} [__init__] -- INFO: initializing Y\n",
      "17:32:06.069  {gp} [__init__] -- INFO: initializing inference method\n",
      "17:32:06.070  {gp} [__init__] -- INFO: adding kernel and likelihood as parameters\n",
      "17:32:06.096  {gp} [__init__] -- INFO: initializing Y\n",
      "17:32:06.096  {gp} [__init__] -- INFO: initializing inference method\n",
      "17:32:06.096  {gp} [__init__] -- INFO: adding kernel and likelihood as parameters\n"
     ]
    },
    {
     "name": "stdout",
     "output_type": "stream",
     "text": [
      "STOP\n",
      "There are 73 training examples for model 0 and 63 are positive\n",
      "There are 63 training examples for model 1 and 42 are positive\n",
      "conditional_idx: 3\n",
      "vols_pinchoff: [-1281.41424099  -554.59600317  -347.0308491 ]\n",
      "detected: True\n",
      "r_vals: 1438.75974157158\n",
      "============### ITERATION 74 of 100 ###============\n",
      "GPR: True GPC: True prune: False GPR1: True GPC1: True Optim: False\n",
      "(10000, 3)\n",
      "(73, 3)\n",
      "START\n",
      "idx:  [1, 2]\n",
      "[ -543.75603705  -911.78064587 -1138.75687239]\n"
     ]
    },
    {
     "name": "stderr",
     "output_type": "stream",
     "text": [
      "17:32:06.333  {gp} [__init__] -- INFO: initializing Y\n",
      "17:32:06.335  {gp} [__init__] -- INFO: initializing inference method\n",
      "17:32:06.336  {gp} [__init__] -- INFO: adding kernel and likelihood as parameters\n",
      "17:32:06.343  {gp} [__init__] -- INFO: initializing Y\n",
      "17:32:06.345  {gp} [__init__] -- INFO: initializing inference method\n",
      "17:32:06.347  {gp} [__init__] -- INFO: adding kernel and likelihood as parameters\n",
      "17:32:06.374  {gp} [__init__] -- INFO: initializing Y\n",
      "17:32:06.376  {gp} [__init__] -- INFO: initializing inference method\n",
      "17:32:06.378  {gp} [__init__] -- INFO: adding kernel and likelihood as parameters\n"
     ]
    },
    {
     "name": "stdout",
     "output_type": "stream",
     "text": [
      "False\n",
      "STOP\n",
      "There are 74 training examples for model 0 and 64 are positive\n",
      "There are 64 training examples for model 1 and 42 are positive\n",
      "conditional_idx: 1\n",
      "vols_pinchoff: [ -543.75603705  -911.78064587 -1138.75687239]\n",
      "detected: True\n",
      "r_vals: 1556.8499569429305\n",
      "============### ITERATION 75 of 100 ###============\n",
      "GPR: True GPC: True prune: False GPR1: True GPC1: True Optim: False\n",
      "(410, 3)\n",
      "(74, 3)\n",
      "START\n",
      "idx:  [1, 2]\n",
      "[-1273.50733755  -701.70244995  -265.14651204]\n",
      "True\n"
     ]
    },
    {
     "name": "stderr",
     "output_type": "stream",
     "text": [
      "17:32:07.626  {gp} [__init__] -- INFO: initializing Y\n",
      "17:32:07.627  {gp} [__init__] -- INFO: initializing inference method\n",
      "17:32:07.627  {gp} [__init__] -- INFO: adding kernel and likelihood as parameters\n",
      "17:32:07.634  {gp} [__init__] -- INFO: initializing Y\n",
      "17:32:07.634  {gp} [__init__] -- INFO: initializing inference method\n",
      "17:32:07.635  {gp} [__init__] -- INFO: adding kernel and likelihood as parameters\n",
      "17:32:07.662  {gp} [__init__] -- INFO: initializing Y\n",
      "17:32:07.663  {gp} [__init__] -- INFO: initializing inference method\n",
      "17:32:07.663  {gp} [__init__] -- INFO: adding kernel and likelihood as parameters\n"
     ]
    },
    {
     "name": "stdout",
     "output_type": "stream",
     "text": [
      "0.4943878289704247\n",
      "Score thresh:  0.5351823641237726\n",
      "STOP\n",
      "There are 75 training examples for model 0 and 65 are positive\n",
      "There are 65 training examples for model 1 and 43 are positive\n",
      "conditional_idx: 2\n",
      "vols_pinchoff: [-1273.50733755  -701.70244995  -265.14651204]\n",
      "detected: True\n",
      "r_vals: 1478.008775311933\n",
      "============### ITERATION 76 of 100 ###============\n",
      "GPR: True GPC: True prune: False GPR1: True GPC1: True Optim: False\n",
      "(6280, 3)\n",
      "(75, 3)\n",
      "START\n",
      "idx:  [1, 2]\n",
      "[-1103.92548515  -731.8560892   -863.27795192]\n",
      "True\n"
     ]
    },
    {
     "name": "stderr",
     "output_type": "stream",
     "text": [
      "17:32:08.947  {gp} [__init__] -- INFO: initializing Y\n",
      "17:32:08.947  {gp} [__init__] -- INFO: initializing inference method\n",
      "17:32:08.948  {gp} [__init__] -- INFO: adding kernel and likelihood as parameters\n",
      "17:32:08.954  {gp} [__init__] -- INFO: initializing Y\n",
      "17:32:08.954  {gp} [__init__] -- INFO: initializing inference method\n",
      "17:32:08.956  {gp} [__init__] -- INFO: adding kernel and likelihood as parameters\n",
      "17:32:08.984  {gp} [__init__] -- INFO: initializing Y\n",
      "17:32:08.984  {gp} [__init__] -- INFO: initializing inference method\n",
      "17:32:08.985  {gp} [__init__] -- INFO: adding kernel and likelihood as parameters\n"
     ]
    },
    {
     "name": "stdout",
     "output_type": "stream",
     "text": [
      "0.1525221434930422\n",
      "Score thresh:  0.5311689592724547\n",
      "STOP\n",
      "There are 76 training examples for model 0 and 66 are positive\n",
      "There are 66 training examples for model 1 and 44 are positive\n",
      "conditional_idx: 2\n",
      "vols_pinchoff: [-1103.92548515  -731.8560892   -863.27795192]\n",
      "detected: True\n",
      "r_vals: 1580.9850202720177\n",
      "============### ITERATION 77 of 100 ###============\n",
      "GPR: True GPC: True prune: False GPR1: True GPC1: True Optim: False\n",
      "(7363, 3)\n",
      "(76, 3)\n",
      "START\n",
      "idx:  [1, 2]\n",
      "[-1172.55739823  -909.95545413  -470.36420109]\n",
      "True\n"
     ]
    },
    {
     "name": "stderr",
     "output_type": "stream",
     "text": [
      "17:32:10.296  {gp} [__init__] -- INFO: initializing Y\n",
      "17:32:10.297  {gp} [__init__] -- INFO: initializing inference method\n",
      "17:32:10.297  {gp} [__init__] -- INFO: adding kernel and likelihood as parameters\n",
      "17:32:10.303  {gp} [__init__] -- INFO: initializing Y\n",
      "17:32:10.303  {gp} [__init__] -- INFO: initializing inference method\n",
      "17:32:10.304  {gp} [__init__] -- INFO: adding kernel and likelihood as parameters\n",
      "17:32:10.331  {gp} [__init__] -- INFO: initializing Y\n",
      "17:32:10.331  {gp} [__init__] -- INFO: initializing inference method\n",
      "17:32:10.332  {gp} [__init__] -- INFO: adding kernel and likelihood as parameters\n"
     ]
    },
    {
     "name": "stdout",
     "output_type": "stream",
     "text": [
      "0.21485568993186357\n",
      "Score thresh:  0.5232872884934482\n",
      "STOP\n",
      "There are 77 training examples for model 0 and 67 are positive\n",
      "There are 67 training examples for model 1 and 45 are positive\n",
      "conditional_idx: 2\n",
      "vols_pinchoff: [-1172.55739823  -909.95545413  -470.36420109]\n",
      "detected: True\n",
      "r_vals: 1556.9689342803797\n",
      "============### ITERATION 78 of 100 ###============\n",
      "GPR: True GPC: True prune: False GPR1: True GPC1: True Optim: True\n",
      "(7215, 3)\n",
      "(77, 3)\n",
      "START\n",
      "idx:  [1, 2]\n",
      "[-1323.39164225  -427.9836527   -299.98459603]\n",
      "True\n",
      "1.140731190425591\n",
      "Score thresh:  0.5154056177144418\n"
     ]
    },
    {
     "name": "stderr",
     "output_type": "stream",
     "text": [
      "17:32:12.660  {gp} [__init__] -- INFO: initializing Y\n",
      "17:32:12.661  {gp} [__init__] -- INFO: initializing inference method\n",
      "17:32:12.661  {gp} [__init__] -- INFO: adding kernel and likelihood as parameters\n",
      "17:32:12.746  {gp} [__init__] -- INFO: initializing Y\n",
      "17:32:12.746  {gp} [__init__] -- INFO: initializing inference method\n",
      "17:32:12.746  {gp} [__init__] -- INFO: adding kernel and likelihood as parameters\n",
      "17:32:12.774  {gp} [__init__] -- INFO: initializing Y\n",
      "17:32:12.774  {gp} [__init__] -- INFO: initializing inference method\n",
      "17:32:12.776  {gp} [__init__] -- INFO: adding kernel and likelihood as parameters\n"
     ]
    },
    {
     "name": "stdout",
     "output_type": "stream",
     "text": [
      "STOP\n",
      "Optimization restart 1/5, f = 335.2746944443575\n",
      "Optimization restart 2/5, f = 335.2746944443895\n",
      "Optimization restart 3/5, f = 335.27469444437605\n",
      "Optimization restart 4/5, f = 335.27469444439816\n",
      "Optimization restart 5/5, f = 335.27469444442806\n",
      "  \u001b[1mbasic.     \u001b[0;0m  |              value  |  constraints  |    priors  \n",
      "  \u001b[1mvariance   \u001b[0;0m  |  749999.9999999999  |   +ve fixed   |            \n",
      "  \u001b[1mlengthscale\u001b[0;0m  |               (3,)  |      +ve      |  Ga(16, 40)\n",
      "  \u001b[1mindex\u001b[0;0m  |  GP_regression.basic.lengthscale  |  constraints  |    priors  \n",
      "  \u001b[1m[0]  \u001b[0;0m  |                       0.52683798  |      +ve      |  Ga(16, 40)\n",
      "  \u001b[1m[1]  \u001b[0;0m  |                       0.83342043  |      +ve      |  Ga(16, 40)\n",
      "  \u001b[1m[2]  \u001b[0;0m  |                       0.83946664  |      +ve      |  Ga(16, 40)\n",
      "  \u001b[1mindex\u001b[0;0m  |  GP_regression.basic.variance  |  constraints  |  priors\n",
      "  \u001b[1m[0]  \u001b[0;0m  |               750000.00000000  |   +ve fixed   |        \n",
      "There are 78 training examples for model 0 and 68 are positive\n",
      "There are 68 training examples for model 1 and 46 are positive\n",
      "  \u001b[1msum.             \u001b[0;0m  |                   value  |  constraints  |     priors    \n",
      "  \u001b[1mbasic.variance   \u001b[0;0m  |      43.477998492652475  |      +ve      |  Ga(6.2, 0.12)\n",
      "  \u001b[1mbasic.lengthscale\u001b[0;0m  |                    (3,)  |      +ve      |  Ga(25, 0.05) \n",
      "  \u001b[1mbias.variance    \u001b[0;0m  |  1.2599034410707405e-08  |      +ve      |               \n",
      "  \u001b[1mindex\u001b[0;0m  |  gp_classification.sum.basic.lengthscale  |  constraints  |     priors   \n",
      "  \u001b[1m[0]  \u001b[0;0m  |                             508.40712261  |      +ve      |  Ga(25, 0.05)\n",
      "  \u001b[1m[1]  \u001b[0;0m  |                             529.73910045  |      +ve      |  Ga(25, 0.05)\n",
      "  \u001b[1m[2]  \u001b[0;0m  |                             524.82066069  |      +ve      |  Ga(25, 0.05)\n",
      "  \u001b[1msum.             \u001b[0;0m  |                   value  |  constraints  |     priors    \n",
      "  \u001b[1mbasic.variance   \u001b[0;0m  |      46.279886688264675  |      +ve      |  Ga(6.2, 0.12)\n",
      "  \u001b[1mbasic.lengthscale\u001b[0;0m  |                    (3,)  |      +ve      |  Ga(25, 0.05) \n",
      "  \u001b[1mbias.variance    \u001b[0;0m  |  1.5297339472098822e-06  |      +ve      |               \n",
      "  \u001b[1mindex\u001b[0;0m  |  gp_classification.sum.basic.lengthscale  |  constraints  |     priors   \n",
      "  \u001b[1m[0]  \u001b[0;0m  |                             496.13140711  |      +ve      |  Ga(25, 0.05)\n",
      "  \u001b[1m[1]  \u001b[0;0m  |                             496.91789442  |      +ve      |  Ga(25, 0.05)\n",
      "  \u001b[1m[2]  \u001b[0;0m  |                             509.09626059  |      +ve      |  Ga(25, 0.05)\n",
      "conditional_idx: 3\n",
      "vols_pinchoff: [-1323.39164225  -427.9836527   -299.98459603]\n",
      "detected: True\n",
      "r_vals: 1422.8584622518067\n",
      "============### ITERATION 79 of 100 ###============\n",
      "GPR: True GPC: True prune: False GPR1: True GPC1: True Optim: False\n",
      "(10000, 3)\n",
      "(78, 3)\n",
      "START\n",
      "idx:  [1, 2]\n",
      "[-1344.09940314   -50.16871695  -601.14427678]\n",
      "True\n"
     ]
    },
    {
     "name": "stderr",
     "output_type": "stream",
     "text": [
      "17:32:14.297  {gp} [__init__] -- INFO: initializing Y\n",
      "17:32:14.298  {gp} [__init__] -- INFO: initializing inference method\n",
      "17:32:14.299  {gp} [__init__] -- INFO: adding kernel and likelihood as parameters\n",
      "17:32:14.305  {gp} [__init__] -- INFO: initializing Y\n",
      "17:32:14.305  {gp} [__init__] -- INFO: initializing inference method\n",
      "17:32:14.305  {gp} [__init__] -- INFO: adding kernel and likelihood as parameters\n",
      "17:32:14.336  {gp} [__init__] -- INFO: initializing Y\n",
      "17:32:14.337  {gp} [__init__] -- INFO: initializing inference method\n",
      "17:32:14.337  {gp} [__init__] -- INFO: adding kernel and likelihood as parameters\n"
     ]
    },
    {
     "name": "stdout",
     "output_type": "stream",
     "text": [
      "0.17523632408773285\n",
      "Score thresh:  0.5961086942583541\n",
      "STOP\n",
      "There are 79 training examples for model 0 and 69 are positive\n",
      "There are 69 training examples for model 1 and 47 are positive\n",
      "conditional_idx: 2\n",
      "vols_pinchoff: [-1344.09940314   -50.16871695  -601.14427678]\n",
      "detected: True\n",
      "r_vals: 1473.2598369566397\n",
      "============### ITERATION 80 of 100 ###============\n",
      "GPR: True GPC: True prune: False GPR1: True GPC1: True Optim: False\n",
      "(6920, 3)\n",
      "(79, 3)\n",
      "START\n",
      "idx:  [1, 2]\n",
      "[-1362.272133    -312.10189573  -264.22298977]\n",
      "True\n"
     ]
    },
    {
     "name": "stderr",
     "output_type": "stream",
     "text": [
      "17:32:15.638  {gp} [__init__] -- INFO: initializing Y\n",
      "17:32:15.639  {gp} [__init__] -- INFO: initializing inference method\n",
      "17:32:15.639  {gp} [__init__] -- INFO: adding kernel and likelihood as parameters\n",
      "17:32:15.645  {gp} [__init__] -- INFO: initializing Y\n",
      "17:32:15.645  {gp} [__init__] -- INFO: initializing inference method\n",
      "17:32:15.646  {gp} [__init__] -- INFO: adding kernel and likelihood as parameters\n",
      "17:32:15.675  {gp} [__init__] -- INFO: initializing Y\n",
      "17:32:15.677  {gp} [__init__] -- INFO: initializing inference method\n",
      "17:32:15.677  {gp} [__init__] -- INFO: adding kernel and likelihood as parameters\n"
     ]
    },
    {
     "name": "stdout",
     "output_type": "stream",
     "text": [
      "0.530685167360471\n",
      "Score thresh:  0.5666028582016226\n",
      "STOP\n",
      "There are 80 training examples for model 0 and 70 are positive\n",
      "There are 70 training examples for model 1 and 48 are positive\n",
      "conditional_idx: 2\n",
      "vols_pinchoff: [-1362.272133    -312.10189573  -264.22298977]\n",
      "detected: True\n",
      "r_vals: 1422.324416578267\n",
      "============### ITERATION 81 of 100 ###============\n",
      "GPR: True GPC: True prune: False GPR1: True GPC1: True Optim: False\n",
      "(5969, 3)\n",
      "(80, 3)\n",
      "START\n"
     ]
    },
    {
     "name": "stderr",
     "output_type": "stream",
     "text": [
      "17:32:15.901  {gp} [__init__] -- INFO: initializing Y\n",
      "17:32:15.904  {gp} [__init__] -- INFO: initializing inference method\n",
      "17:32:15.909  {gp} [__init__] -- INFO: adding kernel and likelihood as parameters\n",
      "17:32:15.917  {gp} [__init__] -- INFO: initializing Y\n",
      "17:32:15.919  {gp} [__init__] -- INFO: initializing inference method\n",
      "17:32:15.921  {gp} [__init__] -- INFO: adding kernel and likelihood as parameters\n",
      "17:32:15.962  {gp} [__init__] -- INFO: initializing Y\n",
      "17:32:15.964  {gp} [__init__] -- INFO: initializing inference method\n",
      "17:32:15.965  {gp} [__init__] -- INFO: adding kernel and likelihood as parameters\n"
     ]
    },
    {
     "name": "stdout",
     "output_type": "stream",
     "text": [
      "idx:  [1, 2]\n",
      "[ -504.67013678 -1849.39029461  -588.9379137 ]\n",
      "False\n",
      "STOP\n",
      "There are 81 training examples for model 0 and 71 are positive\n",
      "There are 71 training examples for model 1 and 48 are positive\n",
      "conditional_idx: 1\n",
      "vols_pinchoff: [ -504.67013678 -1849.39029461  -588.9379137 ]\n",
      "detected: True\n",
      "r_vals: 2005.438673941219\n",
      "============### ITERATION 82 of 100 ###============\n",
      "GPR: True GPC: True prune: False GPR1: True GPC1: True Optim: False\n",
      "(329, 3)\n",
      "(81, 3)\n",
      "START\n",
      "idx:  [1, 2]\n",
      "[-1219.08217526  -523.2846527   -629.32311635]\n",
      "True\n"
     ]
    },
    {
     "name": "stderr",
     "output_type": "stream",
     "text": [
      "17:32:17.251  {gp} [__init__] -- INFO: initializing Y\n",
      "17:32:17.253  {gp} [__init__] -- INFO: initializing inference method\n",
      "17:32:17.255  {gp} [__init__] -- INFO: adding kernel and likelihood as parameters\n",
      "17:32:17.263  {gp} [__init__] -- INFO: initializing Y\n",
      "17:32:17.265  {gp} [__init__] -- INFO: initializing inference method\n",
      "17:32:17.266  {gp} [__init__] -- INFO: adding kernel and likelihood as parameters\n",
      "17:32:17.299  {gp} [__init__] -- INFO: initializing Y\n",
      "17:32:17.300  {gp} [__init__] -- INFO: initializing inference method\n",
      "17:32:17.301  {gp} [__init__] -- INFO: adding kernel and likelihood as parameters\n"
     ]
    },
    {
     "name": "stdout",
     "output_type": "stream",
     "text": [
      "0.26313220083299865\n",
      "Score thresh:  0.5461199441569679\n",
      "STOP\n",
      "There are 82 training examples for model 0 and 72 are positive\n",
      "There are 72 training examples for model 1 and 49 are positive\n",
      "conditional_idx: 2\n",
      "vols_pinchoff: [-1219.08217526  -523.2846527   -629.32311635]\n",
      "detected: True\n",
      "r_vals: 1468.3445653363717\n",
      "============### ITERATION 83 of 100 ###============\n",
      "GPR: True GPC: True prune: False GPR1: True GPC1: True Optim: False\n",
      "(5060, 3)\n",
      "(82, 3)\n",
      "START\n",
      "idx:  [1, 2]\n",
      "[-1145.51479054  -800.45478437  -624.91843665]\n",
      "True\n"
     ]
    },
    {
     "name": "stderr",
     "output_type": "stream",
     "text": [
      "17:32:18.573  {gp} [__init__] -- INFO: initializing Y\n",
      "17:32:18.573  {gp} [__init__] -- INFO: initializing inference method\n",
      "17:32:18.574  {gp} [__init__] -- INFO: adding kernel and likelihood as parameters\n",
      "17:32:18.580  {gp} [__init__] -- INFO: initializing Y\n",
      "17:32:18.580  {gp} [__init__] -- INFO: initializing inference method\n",
      "17:32:18.581  {gp} [__init__] -- INFO: adding kernel and likelihood as parameters\n",
      "17:32:18.616  {gp} [__init__] -- INFO: initializing Y\n",
      "17:32:18.617  {gp} [__init__] -- INFO: initializing inference method\n",
      "17:32:18.618  {gp} [__init__] -- INFO: adding kernel and likelihood as parameters\n"
     ]
    },
    {
     "name": "stdout",
     "output_type": "stream",
     "text": [
      "0.2081360807387887\n",
      "Score thresh:  0.5436828741364683\n",
      "STOP\n",
      "There are 83 training examples for model 0 and 73 are positive\n",
      "There are 73 training examples for model 1 and 50 are positive\n",
      "conditional_idx: 2\n",
      "vols_pinchoff: [-1145.51479054  -800.45478437  -624.91843665]\n",
      "detected: True\n",
      "r_vals: 1530.8347558218168\n",
      "============### ITERATION 84 of 100 ###============\n",
      "GPR: True GPC: True prune: False GPR1: True GPC1: True Optim: False\n",
      "(4043, 3)\n",
      "(83, 3)\n",
      "START\n"
     ]
    },
    {
     "name": "stderr",
     "output_type": "stream",
     "text": [
      "17:32:18.960  {gp} [__init__] -- INFO: initializing Y\n",
      "17:32:18.963  {gp} [__init__] -- INFO: initializing inference method\n",
      "17:32:18.966  {gp} [__init__] -- INFO: adding kernel and likelihood as parameters\n",
      "17:32:18.975  {gp} [__init__] -- INFO: initializing Y\n",
      "17:32:18.978  {gp} [__init__] -- INFO: initializing inference method\n"
     ]
    },
    {
     "name": "stdout",
     "output_type": "stream",
     "text": [
      "idx:  [1, 2]\n",
      "[ -505.07785361  -518.45457202 -1494.07154024]\n",
      "False\n",
      "STOP\n",
      "There are 84 training examples for model 0 and 74 are positive\n"
     ]
    },
    {
     "name": "stderr",
     "output_type": "stream",
     "text": [
      "17:32:18.983  {gp} [__init__] -- INFO: adding kernel and likelihood as parameters\n",
      "17:32:19.025  {gp} [__init__] -- INFO: initializing Y\n",
      "17:32:19.028  {gp} [__init__] -- INFO: initializing inference method\n",
      "17:32:19.031  {gp} [__init__] -- INFO: adding kernel and likelihood as parameters\n"
     ]
    },
    {
     "name": "stdout",
     "output_type": "stream",
     "text": [
      "There are 74 training examples for model 1 and 50 are positive\n",
      "conditional_idx: 1\n",
      "vols_pinchoff: [ -505.07785361  -518.45457202 -1494.07154024]\n",
      "detected: True\n",
      "r_vals: 1660.1652173210607\n",
      "============### ITERATION 85 of 100 ###============\n",
      "GPR: True GPC: True prune: False GPR1: True GPC1: True Optim: False\n",
      "(262, 3)\n",
      "(84, 3)\n",
      "START\n",
      "idx:  [1, 2]\n",
      "[-1141.40858785  -764.64330451  -674.05391624]\n",
      "True\n"
     ]
    },
    {
     "name": "stderr",
     "output_type": "stream",
     "text": [
      "17:32:20.265  {gp} [__init__] -- INFO: initializing Y\n",
      "17:32:20.265  {gp} [__init__] -- INFO: initializing inference method\n",
      "17:32:20.266  {gp} [__init__] -- INFO: adding kernel and likelihood as parameters\n",
      "17:32:20.271  {gp} [__init__] -- INFO: initializing Y\n",
      "17:32:20.272  {gp} [__init__] -- INFO: initializing inference method\n",
      "17:32:20.272  {gp} [__init__] -- INFO: adding kernel and likelihood as parameters\n",
      "17:32:20.312  {gp} [__init__] -- INFO: initializing Y\n",
      "17:32:20.313  {gp} [__init__] -- INFO: initializing inference method\n",
      "17:32:20.313  {gp} [__init__] -- INFO: adding kernel and likelihood as parameters\n"
     ]
    },
    {
     "name": "stdout",
     "output_type": "stream",
     "text": [
      "0.20005690327384157\n",
      "Score thresh:  0.5412458041159688\n",
      "STOP\n",
      "There are 85 training examples for model 0 and 75 are positive\n",
      "There are 75 training examples for model 1 and 51 are positive\n",
      "conditional_idx: 2\n",
      "vols_pinchoff: [-1141.40858785  -764.64330451  -674.05391624]\n",
      "detected: True\n",
      "r_vals: 1530.3076911369237\n",
      "============### ITERATION 86 of 100 ###============\n",
      "GPR: True GPC: True prune: False GPR1: True GPC1: True Optim: False\n",
      "(3377, 3)\n",
      "(85, 3)\n",
      "START\n",
      "idx:  [1, 2]\n",
      "[-1307.47158418  -720.07076852   -93.89102883]\n",
      "True\n"
     ]
    },
    {
     "name": "stderr",
     "output_type": "stream",
     "text": [
      "17:32:21.612  {gp} [__init__] -- INFO: initializing Y\n",
      "17:32:21.613  {gp} [__init__] -- INFO: initializing inference method\n",
      "17:32:21.613  {gp} [__init__] -- INFO: adding kernel and likelihood as parameters\n",
      "17:32:21.619  {gp} [__init__] -- INFO: initializing Y\n",
      "17:32:21.620  {gp} [__init__] -- INFO: initializing inference method\n",
      "17:32:21.620  {gp} [__init__] -- INFO: adding kernel and likelihood as parameters\n",
      "17:32:21.653  {gp} [__init__] -- INFO: initializing Y\n",
      "17:32:21.654  {gp} [__init__] -- INFO: initializing inference method\n",
      "17:32:21.654  {gp} [__init__] -- INFO: adding kernel and likelihood as parameters\n"
     ]
    },
    {
     "name": "stdout",
     "output_type": "stream",
     "text": [
      "0.37062172077179306\n",
      "Score thresh:  0.5388087340954694\n",
      "STOP\n",
      "There are 86 training examples for model 0 and 76 are positive\n",
      "There are 76 training examples for model 1 and 52 are positive\n",
      "conditional_idx: 2\n",
      "vols_pinchoff: [-1307.47158418  -720.07076852   -93.89102883]\n",
      "detected: True\n",
      "r_vals: 1495.593320529891\n",
      "============### ITERATION 87 of 100 ###============\n",
      "GPR: True GPC: True prune: False GPR1: True GPC1: True Optim: False\n",
      "(3225, 3)\n",
      "(86, 3)\n",
      "START\n"
     ]
    },
    {
     "name": "stderr",
     "output_type": "stream",
     "text": [
      "17:32:21.752  {gp} [__init__] -- INFO: initializing Y\n",
      "17:32:21.753  {gp} [__init__] -- INFO: initializing inference method\n",
      "17:32:21.754  {gp} [__init__] -- INFO: adding kernel and likelihood as parameters\n",
      "17:32:21.760  {gp} [__init__] -- INFO: initializing Y\n",
      "17:32:21.761  {gp} [__init__] -- INFO: initializing inference method\n",
      "17:32:21.761  {gp} [__init__] -- INFO: adding kernel and likelihood as parameters\n"
     ]
    },
    {
     "name": "stdout",
     "output_type": "stream",
     "text": [
      "STOP\n",
      "There are 87 training examples for model 0 and 76 are positive\n"
     ]
    },
    {
     "name": "stderr",
     "output_type": "stream",
     "text": [
      "17:32:21.798  {gp} [__init__] -- INFO: initializing Y\n",
      "17:32:21.799  {gp} [__init__] -- INFO: initializing inference method\n",
      "17:32:21.800  {gp} [__init__] -- INFO: adding kernel and likelihood as parameters\n"
     ]
    },
    {
     "name": "stdout",
     "output_type": "stream",
     "text": [
      "There are 76 training examples for model 1 and 52 are positive\n",
      "conditional_idx: 0\n",
      "vols_pinchoff: [ -458.78839827 -1673.08248709 -1987.23452354]\n",
      "detected: False\n",
      "r_vals: 2637.9523980877802\n",
      "============### ITERATION 88 of 100 ###============\n",
      "GPR: True GPC: True prune: False GPR1: True GPC1: True Optim: False\n",
      "WARNING: no boundary point is sampled\n",
      "START\n",
      "idx:  [1, 2]\n",
      "[-1346.26508245  -199.52470624  -470.48934033]\n",
      "True\n"
     ]
    },
    {
     "name": "stderr",
     "output_type": "stream",
     "text": [
      "17:32:23.048  {gp} [__init__] -- INFO: initializing Y\n",
      "17:32:23.049  {gp} [__init__] -- INFO: initializing inference method\n",
      "17:32:23.049  {gp} [__init__] -- INFO: adding kernel and likelihood as parameters\n",
      "17:32:23.058  {gp} [__init__] -- INFO: initializing Y\n",
      "17:32:23.058  {gp} [__init__] -- INFO: initializing inference method\n",
      "17:32:23.058  {gp} [__init__] -- INFO: adding kernel and likelihood as parameters\n",
      "17:32:23.090  {gp} [__init__] -- INFO: initializing Y\n",
      "17:32:23.091  {gp} [__init__] -- INFO: initializing inference method\n",
      "17:32:23.091  {gp} [__init__] -- INFO: adding kernel and likelihood as parameters\n"
     ]
    },
    {
     "name": "stdout",
     "output_type": "stream",
     "text": [
      "0.26831650593841583\n",
      "Score thresh:  0.5363716640749698\n",
      "STOP\n",
      "There are 88 training examples for model 0 and 77 are positive\n",
      "There are 77 training examples for model 1 and 53 are positive\n",
      "conditional_idx: 2\n",
      "vols_pinchoff: [-1346.26508245  -199.52470624  -470.48934033]\n",
      "detected: True\n",
      "r_vals: 1439.9999999999995\n",
      "============### ITERATION 89 of 100 ###============\n",
      "GPR: True GPC: True prune: False GPR1: True GPC1: True Optim: True\n",
      "(5117, 3)\n",
      "(88, 3)\n",
      "START\n",
      "idx:  [1, 2]\n",
      "[-1341.58593662  -471.96608507  -166.63900124]\n",
      "True\n",
      "1.137027744949784\n",
      "Score thresh:  0.5339345940544703\n"
     ]
    },
    {
     "name": "stderr",
     "output_type": "stream",
     "text": [
      "17:32:25.393  {gp} [__init__] -- INFO: initializing Y\n",
      "17:32:25.393  {gp} [__init__] -- INFO: initializing inference method\n",
      "17:32:25.394  {gp} [__init__] -- INFO: adding kernel and likelihood as parameters\n",
      "17:32:25.532  {gp} [__init__] -- INFO: initializing Y\n",
      "17:32:25.533  {gp} [__init__] -- INFO: initializing inference method\n",
      "17:32:25.533  {gp} [__init__] -- INFO: adding kernel and likelihood as parameters\n",
      "17:32:25.575  {gp} [__init__] -- INFO: initializing Y\n",
      "17:32:25.576  {gp} [__init__] -- INFO: initializing inference method\n",
      "17:32:25.577  {gp} [__init__] -- INFO: adding kernel and likelihood as parameters\n"
     ]
    },
    {
     "name": "stdout",
     "output_type": "stream",
     "text": [
      "STOP\n",
      "Optimization restart 1/5, f = 380.18007841913527\n",
      "Optimization restart 2/5, f = 380.18007841902806\n",
      "Optimization restart 3/5, f = 380.18007841969904\n",
      "Optimization restart 4/5, f = 380.18007841910116\n",
      "Optimization restart 5/5, f = 380.18007841909093\n",
      "  \u001b[1mbasic.     \u001b[0;0m  |              value  |  constraints  |    priors  \n",
      "  \u001b[1mvariance   \u001b[0;0m  |  749999.9999999999  |   +ve fixed   |            \n",
      "  \u001b[1mlengthscale\u001b[0;0m  |               (3,)  |      +ve      |  Ga(16, 40)\n",
      "  \u001b[1mindex\u001b[0;0m  |  GP_regression.basic.lengthscale  |  constraints  |    priors  \n",
      "  \u001b[1m[0]  \u001b[0;0m  |                       0.47556632  |      +ve      |  Ga(16, 40)\n",
      "  \u001b[1m[1]  \u001b[0;0m  |                       0.88431325  |      +ve      |  Ga(16, 40)\n",
      "  \u001b[1m[2]  \u001b[0;0m  |                       0.88336341  |      +ve      |  Ga(16, 40)\n",
      "  \u001b[1mindex\u001b[0;0m  |  GP_regression.basic.variance  |  constraints  |  priors\n",
      "  \u001b[1m[0]  \u001b[0;0m  |               750000.00000000  |   +ve fixed   |        \n",
      "There are 89 training examples for model 0 and 78 are positive\n",
      "There are 78 training examples for model 1 and 54 are positive\n",
      "  \u001b[1msum.             \u001b[0;0m  |                   value  |  constraints  |     priors    \n",
      "  \u001b[1mbasic.variance   \u001b[0;0m  |       43.51871291893532  |      +ve      |  Ga(6.2, 0.12)\n",
      "  \u001b[1mbasic.lengthscale\u001b[0;0m  |                    (3,)  |      +ve      |  Ga(25, 0.05) \n",
      "  \u001b[1mbias.variance    \u001b[0;0m  |  1.2598666961868433e-08  |      +ve      |               \n",
      "  \u001b[1mindex\u001b[0;0m  |  gp_classification.sum.basic.lengthscale  |  constraints  |     priors   \n",
      "  \u001b[1m[0]  \u001b[0;0m  |                             507.30147124  |      +ve      |  Ga(25, 0.05)\n",
      "  \u001b[1m[1]  \u001b[0;0m  |                             544.40923922  |      +ve      |  Ga(25, 0.05)\n",
      "  \u001b[1m[2]  \u001b[0;0m  |                             514.22451472  |      +ve      |  Ga(25, 0.05)\n",
      "  \u001b[1msum.             \u001b[0;0m  |                  value  |  constraints  |     priors    \n",
      "  \u001b[1mbasic.variance   \u001b[0;0m  |     46.466993820840734  |      +ve      |  Ga(6.2, 0.12)\n",
      "  \u001b[1mbasic.lengthscale\u001b[0;0m  |                   (3,)  |      +ve      |  Ga(25, 0.05) \n",
      "  \u001b[1mbias.variance    \u001b[0;0m  |  1.529720511637788e-06  |      +ve      |               \n",
      "  \u001b[1mindex\u001b[0;0m  |  gp_classification.sum.basic.lengthscale  |  constraints  |     priors   \n",
      "  \u001b[1m[0]  \u001b[0;0m  |                             497.56571576  |      +ve      |  Ga(25, 0.05)\n",
      "  \u001b[1m[1]  \u001b[0;0m  |                             505.32133250  |      +ve      |  Ga(25, 0.05)\n",
      "  \u001b[1m[2]  \u001b[0;0m  |                             512.81119612  |      +ve      |  Ga(25, 0.05)\n",
      "conditional_idx: 3\n",
      "vols_pinchoff: [-1341.58593662  -471.96608507  -166.63900124]\n",
      "detected: True\n",
      "r_vals: 1431.91248599219\n",
      "============### ITERATION 90 of 100 ###============\n",
      "GPR: True GPC: True prune: False GPR1: True GPC1: True Optim: False\n",
      "(8551, 3)\n",
      "(89, 3)\n",
      "START\n",
      "idx:  [1, 2]\n",
      "[-1424.71731031  -155.36357102  -227.3024935 ]\n",
      "True\n"
     ]
    },
    {
     "name": "stderr",
     "output_type": "stream",
     "text": [
      "17:32:27.172  {gp} [__init__] -- INFO: initializing Y\n",
      "17:32:27.173  {gp} [__init__] -- INFO: initializing inference method\n",
      "17:32:27.173  {gp} [__init__] -- INFO: adding kernel and likelihood as parameters\n",
      "17:32:27.179  {gp} [__init__] -- INFO: initializing Y\n",
      "17:32:27.180  {gp} [__init__] -- INFO: initializing inference method\n",
      "17:32:27.181  {gp} [__init__] -- INFO: adding kernel and likelihood as parameters\n",
      "17:32:27.219  {gp} [__init__] -- INFO: initializing Y\n",
      "17:32:27.219  {gp} [__init__] -- INFO: initializing inference method\n",
      "17:32:27.220  {gp} [__init__] -- INFO: adding kernel and likelihood as parameters\n"
     ]
    },
    {
     "name": "stdout",
     "output_type": "stream",
     "text": [
      "0.28953361381793413\n",
      "Score thresh:  0.5567675795160445\n",
      "STOP\n",
      "There are 90 training examples for model 0 and 79 are positive\n",
      "There are 79 training examples for model 1 and 55 are positive\n",
      "conditional_idx: 2\n",
      "vols_pinchoff: [-1424.71731031  -155.36357102  -227.3024935 ]\n",
      "detected: True\n",
      "r_vals: 1451.0767302452184\n",
      "============### ITERATION 91 of 100 ###============\n",
      "GPR: True GPC: True prune: False GPR1: True GPC1: True Optim: False\n",
      "(5028, 3)\n",
      "(90, 3)\n",
      "START\n",
      "idx:  [1, 2]\n",
      "[-1287.96735569  -509.70866997  -358.64854694]\n",
      "True\n",
      "0.9167460679453643\n",
      "Score thresh:  0.5453075874834681\n"
     ]
    },
    {
     "name": "stderr",
     "output_type": "stream",
     "text": [
      "17:32:29.569  {gp} [__init__] -- INFO: initializing Y\n",
      "17:32:29.570  {gp} [__init__] -- INFO: initializing inference method\n",
      "17:32:29.570  {gp} [__init__] -- INFO: adding kernel and likelihood as parameters\n",
      "17:32:29.576  {gp} [__init__] -- INFO: initializing Y\n",
      "17:32:29.577  {gp} [__init__] -- INFO: initializing inference method\n",
      "17:32:29.577  {gp} [__init__] -- INFO: adding kernel and likelihood as parameters\n",
      "17:32:29.609  {gp} [__init__] -- INFO: initializing Y\n",
      "17:32:29.610  {gp} [__init__] -- INFO: initializing inference method\n",
      "17:32:29.610  {gp} [__init__] -- INFO: adding kernel and likelihood as parameters\n"
     ]
    },
    {
     "name": "stdout",
     "output_type": "stream",
     "text": [
      "STOP\n",
      "There are 91 training examples for model 0 and 80 are positive\n",
      "There are 80 training examples for model 1 and 56 are positive\n",
      "conditional_idx: 3\n",
      "vols_pinchoff: [-1287.96735569  -509.70866997  -358.64854694]\n",
      "detected: True\n",
      "r_vals: 1430.8359856379482\n",
      "============### ITERATION 92 of 100 ###============\n",
      "GPR: True GPC: True prune: False GPR1: True GPC1: True Optim: False\n",
      "(8477, 3)\n",
      "(91, 3)\n",
      "START\n",
      "idx:  [1, 2]\n",
      "[-1285.5524583   -774.46331623   -90.22222747]\n",
      "True\n"
     ]
    },
    {
     "name": "stderr",
     "output_type": "stream",
     "text": [
      "17:32:30.957  {gp} [__init__] -- INFO: initializing Y\n",
      "17:32:30.958  {gp} [__init__] -- INFO: initializing inference method\n",
      "17:32:30.958  {gp} [__init__] -- INFO: adding kernel and likelihood as parameters\n",
      "17:32:30.965  {gp} [__init__] -- INFO: initializing Y\n",
      "17:32:30.965  {gp} [__init__] -- INFO: initializing inference method\n",
      "17:32:30.966  {gp} [__init__] -- INFO: adding kernel and likelihood as parameters\n",
      "17:32:31.002  {gp} [__init__] -- INFO: initializing Y\n",
      "17:32:31.003  {gp} [__init__] -- INFO: initializing inference method\n",
      "17:32:31.004  {gp} [__init__] -- INFO: adding kernel and likelihood as parameters\n"
     ]
    },
    {
     "name": "stdout",
     "output_type": "stream",
     "text": [
      "0.31487817999377377\n",
      "Score thresh:  0.6944614811141268\n",
      "STOP\n",
      "There are 92 training examples for model 0 and 81 are positive\n",
      "There are 81 training examples for model 1 and 57 are positive\n",
      "conditional_idx: 2\n",
      "vols_pinchoff: [-1285.5524583   -774.46331623   -90.22222747]\n",
      "detected: True\n",
      "r_vals: 1503.5220655387102\n",
      "============### ITERATION 93 of 100 ###============\n",
      "GPR: True GPC: True prune: False GPR1: True GPC1: True Optim: False\n",
      "(5118, 3)\n",
      "(92, 3)\n",
      "START\n",
      "idx:  [1, 2]\n",
      "[-1299.16948253  -444.62283992  -367.54543606]\n",
      "True\n",
      "0.7696052027346669\n",
      "Score thresh:  0.6649556450573952\n"
     ]
    },
    {
     "name": "stderr",
     "output_type": "stream",
     "text": [
      "17:32:33.367  {gp} [__init__] -- INFO: initializing Y\n",
      "17:32:33.368  {gp} [__init__] -- INFO: initializing inference method\n",
      "17:32:33.369  {gp} [__init__] -- INFO: adding kernel and likelihood as parameters\n",
      "17:32:33.376  {gp} [__init__] -- INFO: initializing Y\n",
      "17:32:33.377  {gp} [__init__] -- INFO: initializing inference method\n",
      "17:32:33.377  {gp} [__init__] -- INFO: adding kernel and likelihood as parameters\n",
      "17:32:33.415  {gp} [__init__] -- INFO: initializing Y\n",
      "17:32:33.415  {gp} [__init__] -- INFO: initializing inference method\n",
      "17:32:33.415  {gp} [__init__] -- INFO: adding kernel and likelihood as parameters\n"
     ]
    },
    {
     "name": "stdout",
     "output_type": "stream",
     "text": [
      "STOP\n",
      "There are 93 training examples for model 0 and 82 are positive\n",
      "There are 82 training examples for model 1 and 58 are positive\n",
      "conditional_idx: 3\n",
      "vols_pinchoff: [-1299.16948253  -444.62283992  -367.54543606]\n",
      "detected: True\n",
      "r_vals: 1421.4853012604256\n",
      "============### ITERATION 94 of 100 ###============\n",
      "GPR: True GPC: True prune: False GPR1: True GPC1: True Optim: False\n",
      "(10000, 3)\n",
      "(93, 3)\n",
      "START\n",
      "idx:  [1, 2]\n",
      "[-1331.15603415    -8.97660538  -699.56821206]\n",
      "True\n"
     ]
    },
    {
     "name": "stderr",
     "output_type": "stream",
     "text": [
      "17:32:34.731  {gp} [__init__] -- INFO: initializing Y\n",
      "17:32:34.732  {gp} [__init__] -- INFO: initializing inference method\n",
      "17:32:34.732  {gp} [__init__] -- INFO: adding kernel and likelihood as parameters\n",
      "17:32:34.739  {gp} [__init__] -- INFO: initializing Y\n",
      "17:32:34.739  {gp} [__init__] -- INFO: initializing inference method\n",
      "17:32:34.740  {gp} [__init__] -- INFO: adding kernel and likelihood as parameters\n",
      "17:32:34.776  {gp} [__init__] -- INFO: initializing Y\n",
      "17:32:34.776  {gp} [__init__] -- INFO: initializing inference method\n",
      "17:32:34.777  {gp} [__init__] -- INFO: adding kernel and likelihood as parameters\n"
     ]
    },
    {
     "name": "stdout",
     "output_type": "stream",
     "text": [
      "0.15020780674832515\n",
      "Score thresh:  0.7553231722287073\n",
      "STOP\n",
      "There are 94 training examples for model 0 and 83 are positive\n",
      "There are 83 training examples for model 1 and 59 are positive\n",
      "conditional_idx: 2\n",
      "vols_pinchoff: [-1331.15603415    -8.97660538  -699.56821206]\n",
      "detected: True\n",
      "r_vals: 1503.8127044334096\n",
      "============### ITERATION 95 of 100 ###============\n",
      "GPR: True GPC: True prune: False GPR1: True GPC1: True Optim: False\n",
      "(4411, 3)\n",
      "(94, 3)\n",
      "START\n",
      "idx:  [1, 2]\n",
      "[-1234.33552083  -666.85637555  -408.08363406]\n",
      "True\n"
     ]
    },
    {
     "name": "stderr",
     "output_type": "stream",
     "text": [
      "17:32:36.043  {gp} [__init__] -- INFO: initializing Y\n",
      "17:32:36.044  {gp} [__init__] -- INFO: initializing inference method\n",
      "17:32:36.044  {gp} [__init__] -- INFO: adding kernel and likelihood as parameters\n",
      "17:32:36.053  {gp} [__init__] -- INFO: initializing Y\n",
      "17:32:36.053  {gp} [__init__] -- INFO: initializing inference method\n",
      "17:32:36.053  {gp} [__init__] -- INFO: adding kernel and likelihood as parameters\n",
      "17:32:36.088  {gp} [__init__] -- INFO: initializing Y\n",
      "17:32:36.089  {gp} [__init__] -- INFO: initializing inference method\n",
      "17:32:36.089  {gp} [__init__] -- INFO: adding kernel and likelihood as parameters\n"
     ]
    },
    {
     "name": "stdout",
     "output_type": "stream",
     "text": [
      "0.4350644415469905\n",
      "Score thresh:  0.7514280729998092\n",
      "STOP\n",
      "There are 95 training examples for model 0 and 84 are positive\n",
      "There are 84 training examples for model 1 and 60 are positive\n",
      "conditional_idx: 2\n",
      "vols_pinchoff: [-1234.33552083  -666.85637555  -408.08363406]\n",
      "detected: True\n",
      "r_vals: 1461.10022105987\n",
      "============### ITERATION 96 of 100 ###============\n",
      "GPR: True GPC: True prune: False GPR1: True GPC1: True Optim: False\n",
      "(4723, 3)\n",
      "(95, 3)\n",
      "START\n",
      "idx:  [1, 2]\n",
      "[-1256.36610736  -875.69673782  -131.0455084 ]\n",
      "True\n"
     ]
    },
    {
     "name": "stderr",
     "output_type": "stream",
     "text": [
      "17:32:37.354  {gp} [__init__] -- INFO: initializing Y\n",
      "17:32:37.355  {gp} [__init__] -- INFO: initializing inference method\n",
      "17:32:37.355  {gp} [__init__] -- INFO: adding kernel and likelihood as parameters\n",
      "17:32:37.362  {gp} [__init__] -- INFO: initializing Y\n",
      "17:32:37.362  {gp} [__init__] -- INFO: initializing inference method\n",
      "17:32:37.363  {gp} [__init__] -- INFO: adding kernel and likelihood as parameters\n",
      "17:32:37.402  {gp} [__init__] -- INFO: initializing Y\n",
      "17:32:37.402  {gp} [__init__] -- INFO: initializing inference method\n",
      "17:32:37.402  {gp} [__init__] -- INFO: adding kernel and likelihood as parameters\n"
     ]
    },
    {
     "name": "stdout",
     "output_type": "stream",
     "text": [
      "0.2537562660506722\n",
      "Score thresh:  0.7475329737709111\n",
      "STOP\n",
      "There are 96 training examples for model 0 and 85 are positive\n",
      "There are 85 training examples for model 1 and 61 are positive\n",
      "conditional_idx: 2\n",
      "vols_pinchoff: [-1256.36610736  -875.69673782  -131.0455084 ]\n",
      "detected: True\n",
      "r_vals: 1537.0339936489117\n",
      "============### ITERATION 97 of 100 ###============\n",
      "GPR: True GPC: True prune: False GPR1: True GPC1: True Optim: False\n",
      "(5438, 3)\n",
      "(96, 3)\n",
      "START\n"
     ]
    },
    {
     "name": "stderr",
     "output_type": "stream",
     "text": [
      "17:32:37.538  {gp} [__init__] -- INFO: initializing Y\n",
      "17:32:37.539  {gp} [__init__] -- INFO: initializing inference method\n",
      "17:32:37.540  {gp} [__init__] -- INFO: adding kernel and likelihood as parameters\n",
      "17:32:37.546  {gp} [__init__] -- INFO: initializing Y\n",
      "17:32:37.547  {gp} [__init__] -- INFO: initializing inference method\n",
      "17:32:37.547  {gp} [__init__] -- INFO: adding kernel and likelihood as parameters\n",
      "17:32:37.587  {gp} [__init__] -- INFO: initializing Y\n",
      "17:32:37.587  {gp} [__init__] -- INFO: initializing inference method\n",
      "17:32:37.588  {gp} [__init__] -- INFO: adding kernel and likelihood as parameters\n"
     ]
    },
    {
     "name": "stdout",
     "output_type": "stream",
     "text": [
      "STOP\n",
      "There are 97 training examples for model 0 and 85 are positive\n",
      "There are 85 training examples for model 1 and 61 are positive\n",
      "conditional_idx: 0\n",
      "vols_pinchoff: [ -496.62507241 -1996.05271814  -824.24341406]\n",
      "detected: False\n",
      "r_vals: 2215.9061626750126\n",
      "============### ITERATION 98 of 100 ###============\n",
      "GPR: True GPC: True prune: False GPR1: True GPC1: True Optim: False\n",
      "(2, 3)\n",
      "(97, 3)\n",
      "START\n"
     ]
    },
    {
     "name": "stderr",
     "output_type": "stream",
     "text": [
      "17:32:37.674  {gp} [__init__] -- INFO: initializing Y\n",
      "17:32:37.675  {gp} [__init__] -- INFO: initializing inference method\n",
      "17:32:37.675  {gp} [__init__] -- INFO: adding kernel and likelihood as parameters\n",
      "17:32:37.682  {gp} [__init__] -- INFO: initializing Y\n",
      "17:32:37.682  {gp} [__init__] -- INFO: initializing inference method\n",
      "17:32:37.683  {gp} [__init__] -- INFO: adding kernel and likelihood as parameters\n"
     ]
    },
    {
     "name": "stdout",
     "output_type": "stream",
     "text": [
      "STOP\n",
      "There are 98 training examples for model 0 and 85 are positive\n"
     ]
    },
    {
     "name": "stderr",
     "output_type": "stream",
     "text": [
      "17:32:37.727  {gp} [__init__] -- INFO: initializing Y\n",
      "17:32:37.728  {gp} [__init__] -- INFO: initializing inference method\n",
      "17:32:37.728  {gp} [__init__] -- INFO: adding kernel and likelihood as parameters\n"
     ]
    },
    {
     "name": "stdout",
     "output_type": "stream",
     "text": [
      "There are 85 training examples for model 1 and 61 are positive\n",
      "conditional_idx: 0\n",
      "vols_pinchoff: [ -355.46093465  -324.85097958 -1998.78354199]\n",
      "detected: False\n",
      "r_vals: 2055.970885668715\n",
      "============### ITERATION 99 of 100 ###============\n",
      "GPR: True GPC: True prune: False GPR1: True GPC1: True Optim: False\n",
      "(5, 3)\n",
      "(98, 3)\n",
      "START\n",
      "idx:  [1, 2]\n",
      "[ -668.47747046 -1248.51629056  -341.68033707]\n"
     ]
    },
    {
     "name": "stderr",
     "output_type": "stream",
     "text": [
      "17:32:37.907  {gp} [__init__] -- INFO: initializing Y\n",
      "17:32:37.910  {gp} [__init__] -- INFO: initializing inference method\n",
      "17:32:37.913  {gp} [__init__] -- INFO: adding kernel and likelihood as parameters\n"
     ]
    },
    {
     "name": "stdout",
     "output_type": "stream",
     "text": [
      "False\n",
      "STOP\n",
      "There are 99 training examples for model 0 and 86 are positive\n"
     ]
    },
    {
     "name": "stderr",
     "output_type": "stream",
     "text": [
      "17:32:37.927  {gp} [__init__] -- INFO: initializing Y\n",
      "17:32:37.931  {gp} [__init__] -- INFO: initializing inference method\n",
      "17:32:37.933  {gp} [__init__] -- INFO: adding kernel and likelihood as parameters\n",
      "17:32:37.978  {gp} [__init__] -- INFO: initializing Y\n",
      "17:32:37.980  {gp} [__init__] -- INFO: initializing inference method\n",
      "17:32:37.981  {gp} [__init__] -- INFO: adding kernel and likelihood as parameters\n"
     ]
    },
    {
     "name": "stdout",
     "output_type": "stream",
     "text": [
      "There are 86 training examples for model 1 and 61 are positive\n",
      "conditional_idx: 1\n",
      "vols_pinchoff: [ -668.47747046 -1248.51629056  -341.68033707]\n",
      "detected: True\n",
      "r_vals: 1456.846082823646\n",
      "============### ITERATION 100 of 100 ###============\n",
      "GPR: True GPC: True prune: False GPR1: True GPC1: True Optim: True\n",
      "(308, 3)\n",
      "(99, 3)\n",
      "START\n",
      "idx:  [1, 2]\n",
      "[-1121.02568571  -951.79918138  -579.24760722]\n",
      "True\n"
     ]
    },
    {
     "name": "stderr",
     "output_type": "stream",
     "text": [
      "17:32:39.292  {gp} [__init__] -- INFO: initializing Y\n",
      "17:32:39.293  {gp} [__init__] -- INFO: initializing inference method\n",
      "17:32:39.293  {gp} [__init__] -- INFO: adding kernel and likelihood as parameters\n",
      "17:32:39.403  {gp} [__init__] -- INFO: initializing Y\n",
      "17:32:39.403  {gp} [__init__] -- INFO: initializing inference method\n",
      "17:32:39.404  {gp} [__init__] -- INFO: adding kernel and likelihood as parameters\n"
     ]
    },
    {
     "name": "stdout",
     "output_type": "stream",
     "text": [
      "0.17887785761419442\n",
      "Score thresh:  0.7436378745420131\n",
      "STOP\n",
      "Optimization restart 1/5, f = 413.6431744766019\n",
      "Optimization restart 2/5, f = 413.64317446767365\n",
      "Optimization restart 3/5, f = 413.6431744677457\n",
      "Optimization restart 4/5, f = 413.6431744677792\n",
      "Optimization restart 5/5, f = 413.64317446797446\n",
      "  \u001b[1mbasic.     \u001b[0;0m  |              value  |  constraints  |    priors  \n",
      "  \u001b[1mvariance   \u001b[0;0m  |  749999.9999999999  |   +ve fixed   |            \n",
      "  \u001b[1mlengthscale\u001b[0;0m  |               (3,)  |      +ve      |  Ga(16, 40)\n",
      "  \u001b[1mindex\u001b[0;0m  |  GP_regression.basic.lengthscale  |  constraints  |    priors  \n",
      "  \u001b[1m[0]  \u001b[0;0m  |                       0.47873152  |      +ve      |  Ga(16, 40)\n",
      "  \u001b[1m[1]  \u001b[0;0m  |                       0.89910611  |      +ve      |  Ga(16, 40)\n",
      "  \u001b[1m[2]  \u001b[0;0m  |                       0.91491640  |      +ve      |  Ga(16, 40)\n",
      "  \u001b[1mindex\u001b[0;0m  |  GP_regression.basic.variance  |  constraints  |  priors\n",
      "  \u001b[1m[0]  \u001b[0;0m  |               750000.00000000  |   +ve fixed   |        \n",
      "There are 100 training examples for model 0 and 87 are positive\n"
     ]
    },
    {
     "name": "stderr",
     "output_type": "stream",
     "text": [
      "17:32:39.452  {gp} [__init__] -- INFO: initializing Y\n",
      "17:32:39.453  {gp} [__init__] -- INFO: initializing inference method\n",
      "17:32:39.454  {gp} [__init__] -- INFO: adding kernel and likelihood as parameters\n"
     ]
    },
    {
     "name": "stdout",
     "output_type": "stream",
     "text": [
      "There are 87 training examples for model 1 and 62 are positive\n",
      "  \u001b[1msum.             \u001b[0;0m  |                   value  |  constraints  |     priors    \n",
      "  \u001b[1mbasic.variance   \u001b[0;0m  |       43.61653397500677  |      +ve      |  Ga(6.2, 0.12)\n",
      "  \u001b[1mbasic.lengthscale\u001b[0;0m  |                    (3,)  |      +ve      |  Ga(25, 0.05) \n",
      "  \u001b[1mbias.variance    \u001b[0;0m  |  1.2598498770478816e-08  |      +ve      |               \n",
      "  \u001b[1mindex\u001b[0;0m  |  gp_classification.sum.basic.lengthscale  |  constraints  |     priors   \n",
      "  \u001b[1m[0]  \u001b[0;0m  |                             514.93438647  |      +ve      |  Ga(25, 0.05)\n",
      "  \u001b[1m[1]  \u001b[0;0m  |                             541.57006065  |      +ve      |  Ga(25, 0.05)\n",
      "  \u001b[1m[2]  \u001b[0;0m  |                             516.97291505  |      +ve      |  Ga(25, 0.05)\n",
      "  \u001b[1msum.             \u001b[0;0m  |                  value  |  constraints  |     priors    \n",
      "  \u001b[1mbasic.variance   \u001b[0;0m  |     46.665822105781665  |      +ve      |  Ga(6.2, 0.12)\n",
      "  \u001b[1mbasic.lengthscale\u001b[0;0m  |                   (3,)  |      +ve      |  Ga(25, 0.05) \n",
      "  \u001b[1mbias.variance    \u001b[0;0m  |  1.529590600783085e-06  |      +ve      |               \n",
      "  \u001b[1mindex\u001b[0;0m  |  gp_classification.sum.basic.lengthscale  |  constraints  |     priors   \n",
      "  \u001b[1m[0]  \u001b[0;0m  |                             497.56204735  |      +ve      |  Ga(25, 0.05)\n",
      "  \u001b[1m[1]  \u001b[0;0m  |                             508.40880580  |      +ve      |  Ga(25, 0.05)\n",
      "  \u001b[1m[2]  \u001b[0;0m  |                             511.85870011  |      +ve      |  Ga(25, 0.05)\n",
      "conditional_idx: 2\n",
      "vols_pinchoff: [-1121.02568571  -951.79918138  -579.24760722]\n",
      "detected: True\n",
      "r_vals: 1580.5530867927318\n"
     ]
    },
    {
     "data": {
      "text/plain": [
       "({'conditional_idx': [1,\n",
       "   3,\n",
       "   1,\n",
       "   1,\n",
       "   0,\n",
       "   1,\n",
       "   1,\n",
       "   3,\n",
       "   1,\n",
       "   3,\n",
       "   1,\n",
       "   1,\n",
       "   0,\n",
       "   1,\n",
       "   1,\n",
       "   3,\n",
       "   1,\n",
       "   1,\n",
       "   1,\n",
       "   3,\n",
       "   1,\n",
       "   0,\n",
       "   1,\n",
       "   3,\n",
       "   1,\n",
       "   3,\n",
       "   3,\n",
       "   1,\n",
       "   0,\n",
       "   3,\n",
       "   3,\n",
       "   3,\n",
       "   3,\n",
       "   2,\n",
       "   3,\n",
       "   1,\n",
       "   2,\n",
       "   2,\n",
       "   2,\n",
       "   2,\n",
       "   1,\n",
       "   2,\n",
       "   2,\n",
       "   3,\n",
       "   0,\n",
       "   2,\n",
       "   0,\n",
       "   2,\n",
       "   0,\n",
       "   2,\n",
       "   0,\n",
       "   0,\n",
       "   3,\n",
       "   0,\n",
       "   2,\n",
       "   2,\n",
       "   2,\n",
       "   2,\n",
       "   2,\n",
       "   3,\n",
       "   1,\n",
       "   3,\n",
       "   2,\n",
       "   1,\n",
       "   2,\n",
       "   2,\n",
       "   2,\n",
       "   2,\n",
       "   2,\n",
       "   2,\n",
       "   2,\n",
       "   2,\n",
       "   3,\n",
       "   1,\n",
       "   2,\n",
       "   2,\n",
       "   2,\n",
       "   3,\n",
       "   2,\n",
       "   2,\n",
       "   1,\n",
       "   2,\n",
       "   2,\n",
       "   1,\n",
       "   2,\n",
       "   2,\n",
       "   0,\n",
       "   2,\n",
       "   3,\n",
       "   2,\n",
       "   3,\n",
       "   2,\n",
       "   3,\n",
       "   2,\n",
       "   2,\n",
       "   2,\n",
       "   0,\n",
       "   0,\n",
       "   1,\n",
       "   2],\n",
       "  'vols_pinchoff': [array([ -799.41139423,  -848.91966125, -1095.57146345]),\n",
       "   array([-1243.79048887,  -147.25721223,  -896.04717132]),\n",
       "   array([ -501.5090253 , -1470.56226377,  -868.52479867]),\n",
       "   array([ -845.63208148,  -960.27413005, -1057.53485896]),\n",
       "   array([  -56.14909443, -1441.42154386, -1992.67438687]),\n",
       "   array([ -832.13982392, -1050.74282387,  -979.32774469]),\n",
       "   array([-1198.06107152,  -166.0126858 , -1047.42038221]),\n",
       "   array([-1146.00800446,  -457.72512078,  -986.68808016]),\n",
       "   array([ -714.92568827, -1273.17037469,  -241.49214741]),\n",
       "   array([-1285.37009926,  -808.81043745,   -63.63477187]),\n",
       "   array([-1215.62755074,   -89.09279424, -1067.10455527]),\n",
       "   array([ -639.58372333, -1331.54871853,   -91.16288184]),\n",
       "   array([  -36.21581718, -1982.75663361, -1125.06201894]),\n",
       "   array([ -957.09711354, -1094.75561508,  -664.86039288]),\n",
       "   array([ -946.76112497, -1095.47463166,  -729.62482321]),\n",
       "   array([-1152.06574821,  -540.98694484,  -869.44560498]),\n",
       "   array([ -615.64336121, -1151.27364659,  -784.00740465]),\n",
       "   array([ -828.36251074, -1058.67020506,  -938.14275897]),\n",
       "   array([-1006.74257797, -1175.3394402 ,  -342.95048017]),\n",
       "   array([-1248.24588809,  -920.93497093,  -157.29854604]),\n",
       "   array([ -643.8687145 , -1290.42054046,  -195.35838246]),\n",
       "   array([  -59.00177906,   -16.25083098, -1985.02945587]),\n",
       "   array([ -995.31679547,  -188.75879265, -1221.83513736]),\n",
       "   array([-1183.13340922,  -926.99491248,  -370.33141407]),\n",
       "   array([-1022.41229679,  -727.10168982, -1076.26125445]),\n",
       "   array([-1350.19148797,  -453.84772114,  -178.22661664]),\n",
       "   array([-1261.59888883,  -370.992838  ,  -619.87769983]),\n",
       "   array([ -504.05247286, -1087.05826517, -1217.99874604]),\n",
       "   array([ -245.52137833,  -569.93163789, -1988.24988171]),\n",
       "   array([-1211.67039902,  -616.60105426,  -546.66740187]),\n",
       "   array([-1207.1344266 ,  -392.99424687,  -835.43110047]),\n",
       "   array([-1231.58183244,  -452.99018056,  -693.85806364]),\n",
       "   array([-1316.27651498,  -460.42627271,  -342.33128679]),\n",
       "   array([-1277.09110979,   -49.58374499,  -851.29207676]),\n",
       "   array([-1266.35585915,  -601.43817653,  -402.11845787]),\n",
       "   array([ -500.76779038,  -216.31959001, -1327.27877274]),\n",
       "   array([-1206.08420689,  -740.48693717,  -506.64103821]),\n",
       "   array([-1246.181904  ,  -355.73037679,  -660.863889  ]),\n",
       "   array([-1446.42800821,  -106.37220623,  -130.38934517]),\n",
       "   array([-1247.92425559,  -192.19845322,  -840.4210942 ]),\n",
       "   array([-1195.84403596,  -244.90708214, -1018.05320388]),\n",
       "   array([-1258.23898789,  -859.20372854,  -185.56149301]),\n",
       "   array([-1159.77882052,  -773.92691261,  -616.60571813]),\n",
       "   array([-1319.40573395,  -526.3170868 ,  -269.05549786]),\n",
       "   array([ -296.45677995, -1928.8546308 , -1997.93639278]),\n",
       "   array([-1230.46485858,  -533.44527617,  -614.25826792]),\n",
       "   array([ -372.93373856, -1999.98799602, -1006.9780643 ]),\n",
       "   array([-1125.36036658,  -803.34575266,  -748.79114717]),\n",
       "   array([ -117.3774599 , -1995.38506748,   -23.78563866]),\n",
       "   array([-1355.16378504,  -159.20315088,  -446.26432865]),\n",
       "   array([ -399.58703649, -1996.57687134,  -175.96029393]),\n",
       "   array([ -133.33162518, -1285.47007406, -1998.99499558]),\n",
       "   array([-1362.41823885,  -528.81559763,   -34.13338502]),\n",
       "   array([ -103.12311372,  -782.12591332, -1993.98785054]),\n",
       "   array([-1389.9992329 ,  -286.993502  ,  -237.01529014]),\n",
       "   array([-1182.40961348,  -840.76152856,  -440.10491725]),\n",
       "   array([-1169.52883736,  -930.16297763,  -426.48685635]),\n",
       "   array([-1439.34263249,  -177.20218554,  -116.92467129]),\n",
       "   array([-1140.76206865,  -522.64100903,  -974.99161996]),\n",
       "   array([-1335.27790072,  -377.3059944 ,  -305.04046056]),\n",
       "   array([-1209.1536058 , -1149.39759403,   -71.39738964]),\n",
       "   array([-1292.15182407,  -588.57111359,  -263.86154111]),\n",
       "   array([-1216.15377126,  -237.91249109,  -912.23347739]),\n",
       "   array([-1169.62574938, -1052.57122128,  -343.02200553]),\n",
       "   array([-1316.02121005,  -277.52472671,  -489.13721911]),\n",
       "   array([-1080.24460289,  -768.75431906,  -935.06843529]),\n",
       "   array([-1183.88537303,  -634.13183572,  -691.82622904]),\n",
       "   array([-1262.91523907,  -170.88356176,  -832.31458443]),\n",
       "   array([-1196.38224504,  -636.2816441 ,  -598.33725833]),\n",
       "   array([-1237.67334488,  -624.57325165,  -442.92892689]),\n",
       "   array([-1160.43182188,  -728.00596776,  -641.57792624]),\n",
       "   array([-1205.05253975,  -377.47801153,  -817.89964417]),\n",
       "   array([-1281.41424099,  -554.59600317,  -347.0308491 ]),\n",
       "   array([ -543.75603705,  -911.78064587, -1138.75687239]),\n",
       "   array([-1273.50733755,  -701.70244995,  -265.14651204]),\n",
       "   array([-1103.92548515,  -731.8560892 ,  -863.27795192]),\n",
       "   array([-1172.55739823,  -909.95545413,  -470.36420109]),\n",
       "   array([-1323.39164225,  -427.9836527 ,  -299.98459603]),\n",
       "   array([-1344.09940314,   -50.16871695,  -601.14427678]),\n",
       "   array([-1362.272133  ,  -312.10189573,  -264.22298977]),\n",
       "   array([ -504.67013678, -1849.39029461,  -588.9379137 ]),\n",
       "   array([-1219.08217526,  -523.2846527 ,  -629.32311635]),\n",
       "   array([-1145.51479054,  -800.45478437,  -624.91843665]),\n",
       "   array([ -505.07785361,  -518.45457202, -1494.07154024]),\n",
       "   array([-1141.40858785,  -764.64330451,  -674.05391624]),\n",
       "   array([-1307.47158418,  -720.07076852,   -93.89102883]),\n",
       "   array([ -458.78839827, -1673.08248709, -1987.23452354]),\n",
       "   array([-1346.26508245,  -199.52470624,  -470.48934033]),\n",
       "   array([-1341.58593662,  -471.96608507,  -166.63900124]),\n",
       "   array([-1424.71731031,  -155.36357102,  -227.3024935 ]),\n",
       "   array([-1287.96735569,  -509.70866997,  -358.64854694]),\n",
       "   array([-1285.5524583 ,  -774.46331623,   -90.22222747]),\n",
       "   array([-1299.16948253,  -444.62283992,  -367.54543606]),\n",
       "   array([-1331.15603415,    -8.97660538,  -699.56821206]),\n",
       "   array([-1234.33552083,  -666.85637555,  -408.08363406]),\n",
       "   array([-1256.36610736,  -875.69673782,  -131.0455084 ]),\n",
       "   array([ -496.62507241, -1996.05271814,  -824.24341406]),\n",
       "   array([ -355.46093465,  -324.85097958, -1998.78354199]),\n",
       "   array([ -668.47747046, -1248.51629056,  -341.68033707]),\n",
       "   array([-1121.02568571,  -951.79918138,  -579.24760722])],\n",
       "  'detected': [True,\n",
       "   True,\n",
       "   True,\n",
       "   True,\n",
       "   False,\n",
       "   True,\n",
       "   True,\n",
       "   True,\n",
       "   True,\n",
       "   True,\n",
       "   True,\n",
       "   True,\n",
       "   False,\n",
       "   True,\n",
       "   True,\n",
       "   True,\n",
       "   True,\n",
       "   True,\n",
       "   True,\n",
       "   True,\n",
       "   True,\n",
       "   False,\n",
       "   True,\n",
       "   True,\n",
       "   True,\n",
       "   True,\n",
       "   True,\n",
       "   True,\n",
       "   False,\n",
       "   True,\n",
       "   True,\n",
       "   True,\n",
       "   True,\n",
       "   True,\n",
       "   True,\n",
       "   True,\n",
       "   True,\n",
       "   True,\n",
       "   True,\n",
       "   True,\n",
       "   True,\n",
       "   True,\n",
       "   True,\n",
       "   True,\n",
       "   False,\n",
       "   True,\n",
       "   False,\n",
       "   True,\n",
       "   False,\n",
       "   True,\n",
       "   False,\n",
       "   False,\n",
       "   True,\n",
       "   False,\n",
       "   True,\n",
       "   True,\n",
       "   True,\n",
       "   True,\n",
       "   True,\n",
       "   True,\n",
       "   True,\n",
       "   True,\n",
       "   True,\n",
       "   True,\n",
       "   True,\n",
       "   True,\n",
       "   True,\n",
       "   True,\n",
       "   True,\n",
       "   True,\n",
       "   True,\n",
       "   True,\n",
       "   True,\n",
       "   True,\n",
       "   True,\n",
       "   True,\n",
       "   True,\n",
       "   True,\n",
       "   True,\n",
       "   True,\n",
       "   True,\n",
       "   True,\n",
       "   True,\n",
       "   True,\n",
       "   True,\n",
       "   True,\n",
       "   False,\n",
       "   True,\n",
       "   True,\n",
       "   True,\n",
       "   True,\n",
       "   True,\n",
       "   True,\n",
       "   True,\n",
       "   True,\n",
       "   True,\n",
       "   False,\n",
       "   False,\n",
       "   True,\n",
       "   True],\n",
       "  'r_vals': [1599.999999999999,\n",
       "   1539.9999999999984,\n",
       "   1779.999999999998,\n",
       "   1660.0000000000032,\n",
       "   2459.999999999998,\n",
       "   1660.0000000000002,\n",
       "   1599.9999999999993,\n",
       "   1579.999999999998,\n",
       "   1479.9999999999984,\n",
       "   1519.9999999999993,\n",
       "   1620.0000000000002,\n",
       "   1479.9999999999998,\n",
       "   2280.000000000002,\n",
       "   1598.9259155822317,\n",
       "   1621.3493389752834,\n",
       "   1541.3818549321854,\n",
       "   1522.8641988350482,\n",
       "   1639.2311882336635,\n",
       "   1585.1083400892571,\n",
       "   1559.1606236646999,\n",
       "   1455.3064936102205,\n",
       "   1985.972618163148,\n",
       "   1587.1882396352553,\n",
       "   1547.9888849837916,\n",
       "   1652.9797517814561,\n",
       "   1435.5345816310785,\n",
       "   1453.7935908836569,\n",
       "   1708.591675224004,\n",
       "   2082.844307960578,\n",
       "   1465.328381023624,\n",
       "   1519.7246874292246,\n",
       "   1484.3964854957476,\n",
       "   1435.8854154833712,\n",
       "   1535.616635238383,\n",
       "   1458.4527062403279,\n",
       "   1435.0022597394352,\n",
       "   1503.2116151192095,\n",
       "   1454.7352056719162,\n",
       "   1456.1835085357548,\n",
       "   1516.7606299937386,\n",
       "   1589.4825457225456,\n",
       "   1534.871155984103,\n",
       "   1524.549897577466,\n",
       "   1445.7634756666282,\n",
       "   2792.8688903553675,\n",
       "   1475.100284923285,\n",
       "   2270.0300393467064,\n",
       "   1572.414873707473,\n",
       "   1998.9759358819977,\n",
       "   1435.6066238939356,\n",
       "   2043.759043508695,\n",
       "   2380.376362247057,\n",
       "   1461.846257932275,\n",
       "   2144.374703486328,\n",
       "   1438.971641633008,\n",
       "   1516.1348159545528,\n",
       "   1553.9922474078953,\n",
       "   1454.9155326057767,\n",
       "   1589.0564434847504,\n",
       "   1420.6958042227302,\n",
       "   1669.8098271431738,\n",
       "   1444.1936175829617,\n",
       "   1538.7664754771383,\n",
       "   1610.4641150234581,\n",
       "   1431.148845631775,\n",
       "   1622.425524892284,\n",
       "   1510.738657989897,\n",
       "   1522.1378584765466,\n",
       "   1481.2806221551295,\n",
       "   1455.3738659096305,\n",
       "   1512.6853399722804,\n",
       "   1504.5268693733249,\n",
       "   1438.75974157158,\n",
       "   1556.8499569429305,\n",
       "   1478.008775311933,\n",
       "   1580.9850202720177,\n",
       "   1556.9689342803797,\n",
       "   1422.8584622518067,\n",
       "   1473.2598369566397,\n",
       "   1422.324416578267,\n",
       "   2005.438673941219,\n",
       "   1468.3445653363717,\n",
       "   1530.8347558218168,\n",
       "   1660.1652173210607,\n",
       "   1530.3076911369237,\n",
       "   1495.593320529891,\n",
       "   2637.9523980877802,\n",
       "   1439.9999999999995,\n",
       "   1431.91248599219,\n",
       "   1451.0767302452184,\n",
       "   1430.8359856379482,\n",
       "   1503.5220655387102,\n",
       "   1421.4853012604256,\n",
       "   1503.8127044334096,\n",
       "   1461.10022105987,\n",
       "   1537.0339936489117,\n",
       "   2215.9061626750126,\n",
       "   2055.970885668715,\n",
       "   1456.846082823646,\n",
       "   1580.5530867927318]},\n",
       " <AutoDot.Sampler_factory.Paper_sampler at 0x7f36af48f590>)"
      ]
     },
     "execution_count": 22,
     "metadata": {},
     "output_type": "execute_result"
    }
   ],
   "source": [
    "t(config_file)"
   ]
  },
  {
   "cell_type": "code",
   "execution_count": 15,
   "metadata": {},
   "outputs": [
    {
     "ename": "AttributeError",
     "evalue": "'function' object has no attribute '__file__'",
     "output_type": "error",
     "traceback": [
      "\u001b[0;31m---------------------------------------------------------------------------\u001b[0m",
      "\u001b[0;31mAttributeError\u001b[0m                            Traceback (most recent call last)",
      "\u001b[0;32m<ipython-input-15-c97a9c3fdd7e>\u001b[0m in \u001b[0;36m<module>\u001b[0;34m\u001b[0m\n\u001b[0;32m----> 1\u001b[0;31m \u001b[0mt\u001b[0m\u001b[0;34m.\u001b[0m\u001b[0m__file__\u001b[0m\u001b[0;34m\u001b[0m\u001b[0;34m\u001b[0m\u001b[0m\n\u001b[0m",
      "\u001b[0;31mAttributeError\u001b[0m: 'function' object has no attribute '__file__'"
     ]
    }
   ],
   "source": [
    "t.__file__"
   ]
  },
  {
   "cell_type": "code",
   "execution_count": 18,
   "metadata": {},
   "outputs": [
    {
     "data": {
      "text/plain": [
       "['C:\\\\Users\\\\Dominic\\\\Desktop\\\\MLdm\\\\dm-oxnm',\n",
       " '/home/joseph/PycharmProjects/AutoDot/notebooks',\n",
       " '/home/joseph/anaconda3/lib/python37.zip',\n",
       " '/home/joseph/anaconda3/lib/python3.7',\n",
       " '/home/joseph/anaconda3/lib/python3.7/lib-dynload',\n",
       " '',\n",
       " '/home/joseph/.local/lib/python3.7/site-packages',\n",
       " '/home/joseph/anaconda3/lib/python3.7/site-packages',\n",
       " '/home/joseph/anaconda3/lib/python3.7/site-packages/IPython/extensions',\n",
       " '/home/joseph/.ipython',\n",
       " '/home/joseph/PycharmProjects/',\n",
       " '/home/joseph/PycharmProjects/',\n",
       " '/home/joseph/PycharmProjects/']"
      ]
     },
     "execution_count": 18,
     "metadata": {},
     "output_type": "execute_result"
    }
   ],
   "source": [
    "sys.path"
   ]
  },
  {
   "cell_type": "code",
   "execution_count": null,
   "metadata": {},
   "outputs": [],
   "source": []
  }
 ],
 "metadata": {
  "kernelspec": {
   "display_name": "Python 3",
   "language": "python",
   "name": "python3"
  },
  "language_info": {
   "codemirror_mode": {
    "name": "ipython",
    "version": 3
   },
   "file_extension": ".py",
   "mimetype": "text/x-python",
   "name": "python",
   "nbconvert_exporter": "python",
   "pygments_lexer": "ipython3",
   "version": "3.7.6"
  }
 },
 "nbformat": 4,
 "nbformat_minor": 2
}
