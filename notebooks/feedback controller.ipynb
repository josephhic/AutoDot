{
 "cells": [
  {
   "cell_type": "code",
   "execution_count": 2,
   "metadata": {},
   "outputs": [],
   "source": [
    "import control"
   ]
  },
  {
   "cell_type": "code",
   "execution_count": 5,
   "metadata": {},
   "outputs": [
    {
     "name": "stdout",
     "output_type": "stream",
     "text": [
      "Help on package control:\n",
      "\n",
      "NAME\n",
      "    control\n",
      "\n",
      "DESCRIPTION\n",
      "    The Python Control Systems Library :mod:`control` provides common functions\n",
      "    for analyzing and designing feedback control systems.\n",
      "\n",
      "PACKAGE CONTENTS\n",
      "    _version\n",
      "    bdalg\n",
      "    canonical\n",
      "    config\n",
      "    ctrlutil\n",
      "    delay\n",
      "    dtime\n",
      "    exception\n",
      "    flatsys (package)\n",
      "    frdata\n",
      "    freqplot\n",
      "    grid\n",
      "    iosys\n",
      "    lti\n",
      "    margins\n",
      "    mateqn\n",
      "    matlab (package)\n",
      "    modelsimp\n",
      "    nichols\n",
      "    phaseplot\n",
      "    pzmap\n",
      "    rlocus\n",
      "    robust\n",
      "    setup\n",
      "    sisotool\n",
      "    statefbk\n",
      "    statesp\n",
      "    tests (package)\n",
      "    timeresp\n",
      "    xferfcn\n",
      "\n",
      "DATA\n",
      "    __commit__ = 'g319a756'\n",
      "    defaults = {'bode.Hz': False, 'bode.dB': False, 'bode.deg': True, 'bod...\n",
      "\n",
      "VERSION\n",
      "    0.8.3\n",
      "\n",
      "FILE\n",
      "    /home/joseph/anaconda3/envs/array_env/lib/python3.8/site-packages/control/__init__.py\n",
      "\n",
      "\n"
     ]
    }
   ],
   "source": [
    "help(control)"
   ]
  },
  {
   "cell_type": "code",
   "execution_count": 138,
   "metadata": {},
   "outputs": [],
   "source": [
    "import numpy as np\n",
    "import matplotlib.pyplot as plt\n",
    "\n",
    "def f(x): \n",
    "    out = 1.6 if x%8 == 0 else 0 \n",
    "    return out\n",
    "\n",
    "\n",
    "a = range(0, 100)\n",
    "b = np.array(list(map(f, a)))\n",
    "\n",
    "\n",
    "data = np.random.random([1, 100]) + np.linspace(0, 10, 100) + b - 1/np.linspace(0.5, 20, 100)"
   ]
  },
  {
   "cell_type": "code",
   "execution_count": 161,
   "metadata": {},
   "outputs": [
    {
     "ename": "IndexError",
     "evalue": "index 1 is out of bounds for axis 0 with size 1",
     "output_type": "error",
     "traceback": [
      "\u001b[0;31m---------------------------------------------------------------------------\u001b[0m",
      "\u001b[0;31mIndexError\u001b[0m                                Traceback (most recent call last)",
      "\u001b[0;32m<ipython-input-161-c402bf503b75>\u001b[0m in \u001b[0;36m<module>\u001b[0;34m\u001b[0m\n\u001b[0;32m----> 1\u001b[0;31m \u001b[0mdata\u001b[0m\u001b[0;34m[\u001b[0m\u001b[0;36m1\u001b[0m\u001b[0;34m]\u001b[0m\u001b[0;34m\u001b[0m\u001b[0;34m\u001b[0m\u001b[0m\n\u001b[0m",
      "\u001b[0;31mIndexError\u001b[0m: index 1 is out of bounds for axis 0 with size 1"
     ]
    }
   ],
   "source": [
    "data[1]"
   ]
  },
  {
   "cell_type": "code",
   "execution_count": 176,
   "metadata": {},
   "outputs": [],
   "source": [
    "class controller: \n",
    "    \n",
    "    def __init__(self, init_vps, ac, beta, gamma, delta_vpd, config_file, plunger=\"c5\", device_plunger=\"c8\", cs_channel=0):\n",
    "        \n",
    "        self.vps = pygor.getval(plunger)\n",
    "        self.ac = ac\n",
    "        \n",
    "        self.beta = beta\n",
    "        self.gamma - gamma\n",
    "        self.config_file = config_file\n",
    "        \n",
    "        # readout channel for cs \n",
    "        self.cs_channel = cs_channel\n",
    "                        \n",
    "        # delta_vpd = plunger gate jump size\n",
    "        self.delta_vpd = delta_vpd\n",
    "        \n",
    "        # cs current set point\n",
    "        self.i_zero = self.current()\n",
    "        \n",
    "        \n",
    "        \n",
    "    def iterate(self): \n",
    "        \n",
    "        self.vps = self.vps - (self.beta * self.current()) - (self.delta_vpd - self.ac) \n",
    "        self.ac = self.ac + (self.gamma/self.delta_vpd) \n",
    "        \n",
    "    def current(self):\n",
    "        return pygor.do0d()[self.cs_channel]\n",
    "    \n",
    "    def set_beta(self, beta): \n",
    "        self.beta = beta\n",
    "    \n",
    "    def set_gamma(self, gamma): \n",
    "        self.gamma = gamma\n",
    "    \n",
    "    def get_beta(self): \n",
    "        return self.beta\n",
    "    \n",
    "    def get_gamma(self): \n",
    "        return self.gamma\n",
    "\n",
    "        \n",
    "        "
   ]
  },
  {
   "cell_type": "code",
   "execution_count": 172,
   "metadata": {},
   "outputs": [],
   "source": [
    "control = controller(10, 1.02, 0, 1, 1, data)"
   ]
  },
  {
   "cell_type": "code",
   "execution_count": 173,
   "metadata": {
    "scrolled": true
   },
   "outputs": [],
   "source": [
    "while control.i < 100: \n",
    "    control.iterate()"
   ]
  },
  {
   "cell_type": "code",
   "execution_count": 174,
   "metadata": {},
   "outputs": [
    {
     "data": {
      "text/plain": [
       "[<matplotlib.lines.Line2D at 0x7f0b3444a190>]"
      ]
     },
     "execution_count": 174,
     "metadata": {},
     "output_type": "execute_result"
    },
    {
     "data": {
      "image/png": "[encoded data removed]",
      "text/plain": [
       "<Figure size 432x288 with 1 Axes>"
      ]
     },
     "metadata": {
      "needs_background": "light"
     },
     "output_type": "display_data"
    }
   ],
   "source": [
    "plt.plot(control.vps_tracker)"
   ]
  }
 ],
 "metadata": {
  "kernelspec": {
   "display_name": "Python 3",
   "language": "python",
   "name": "python3"
  },
  "language_info": {
   "codemirror_mode": {
    "name": "ipython",
    "version": 3
   },
   "file_extension": ".py",
   "mimetype": "text/x-python",
   "name": "python",
   "nbconvert_exporter": "python",
   "pygments_lexer": "ipython3",
   "version": "3.8.3"
  }
 },
 "nbformat": 4,
 "nbformat_minor": 4
}
